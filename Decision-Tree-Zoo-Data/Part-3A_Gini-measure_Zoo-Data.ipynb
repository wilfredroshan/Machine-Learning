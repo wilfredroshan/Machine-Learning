{
 "cells": [
  {
   "cell_type": "markdown",
   "metadata": {},
   "source": [
    "### Data analysis and a simple decision tree example using data from https://www.kaggle.com/uciml/zoo-animal-classification"
   ]
  },
  {
   "cell_type": "code",
   "execution_count": 1,
   "metadata": {},
   "outputs": [],
   "source": [
    "import pandas as pd\n",
    "from collections import Counter\n",
    "from imblearn.over_sampling import SMOTE"
   ]
  },
  {
   "cell_type": "markdown",
   "metadata": {},
   "source": [
    "Read the data file"
   ]
  },
  {
   "cell_type": "code",
   "execution_count": 2,
   "metadata": {},
   "outputs": [],
   "source": [
    "zoo_df = pd.read_csv(\"data\\Decision-Tree_Zoo-Data\\zoo-animal-classification\\zoo.csv\")\n",
    "zoo_df = zoo_df.drop('animal_name', axis=1)"
   ]
  },
  {
   "cell_type": "code",
   "execution_count": 3,
   "metadata": {},
   "outputs": [],
   "source": [
    "# assumes x and y are categorical data\n",
    "def calc_gini_value(y_actual):\n",
    "    class_counter = Counter(y_actual)\n",
    "    total_count = float(len(y_actual))\n",
    "    gini_sum = 0;\n",
    "    for clas, count in class_counter.items():\n",
    "        gini_sum = gini_sum + (count/total_count)**2\n",
    "    gini_value = 1 - gini_sum\n",
    "    print(\"Gini Value: \", gini_value)\n",
    "    return gini_value\n",
    "\n",
    "def calc_gini_index(input_x, y_actual):\n",
    "    total_count = float(len(y_actual))\n",
    "    # divide the input_x column into k partitions\n",
    "    partitions = Counter(input_x)\n",
    "    gini_split_quality = 0;\n",
    "    print(partitions.items())\n",
    "    for partition_key, count in partitions.items():\n",
    "        mask = input_x == partition_key\n",
    "        gini_split_quality = gini_split_quality + (count/total_count) * calc_gini_value(y_actual[mask])\n",
    "    return gini_split_quality"
   ]
  },
  {
   "cell_type": "code",
   "execution_count": 4,
   "metadata": {},
   "outputs": [
    {
     "name": "stdout",
     "output_type": "stream",
     "text": [
      "Gini Value:  0.7593373198706009\n",
      "0.7593373198706009\n"
     ]
    }
   ],
   "source": [
    "print(calc_gini_value(zoo_df['class_type']))"
   ]
  },
  {
   "cell_type": "code",
   "execution_count": 5,
   "metadata": {},
   "outputs": [
    {
     "name": "stdout",
     "output_type": "stream",
     "text": [
      "dict_items([(1, 43), (0, 58)])\n",
      "Gini Value:  0.1687398593834506\n",
      "Gini Value:  0.7829964328180736\n",
      "0.5214812579894718\n"
     ]
    }
   ],
   "source": [
    "print(calc_gini_index(zoo_df['hair'], zoo_df['class_type']))"
   ]
  },
  {
   "cell_type": "code",
   "execution_count": 6,
   "metadata": {},
   "outputs": [],
   "source": [
    "# copy X columns\n",
    "X = zoo_df.loc[:, zoo_df.columns != 'class_type']\n",
    "y = zoo_df['class_type']\n",
    "\n",
    "oversampled = SMOTE(k_neighbors=1)\n",
    "X, y = oversampled.fit_resample(X, y)"
   ]
  },
  {
   "cell_type": "code",
   "execution_count": 7,
   "metadata": {},
   "outputs": [
    {
     "name": "stdout",
     "output_type": "stream",
     "text": [
      "hair\n",
      "dict_items([(1, 57), (0, 230)])\n",
      "Gini Value:  0.43213296398891965\n",
      "Gini Value:  0.831039697542533\n",
      "feathers\n",
      "dict_items([(0, 246), (1, 41)])\n",
      "Gini Value:  0.8333333333333333\n",
      "Gini Value:  0.0\n",
      "eggs\n",
      "dict_items([(0, 54), (1, 233)])\n",
      "Gini Value:  0.40672153635116604\n",
      "Gini Value:  0.832949584630404\n",
      "milk\n",
      "dict_items([(1, 41), (0, 246)])\n",
      "Gini Value:  0.0\n",
      "Gini Value:  0.8333333333333333\n",
      "airborne\n",
      "dict_items([(0, 227), (1, 60)])\n",
      "Gini Value:  0.8337829183566536\n",
      "Gini Value:  0.5227777777777777\n",
      "aquatic\n",
      "dict_items([(0, 164), (1, 123)])\n",
      "Gini Value:  0.7869571683521713\n",
      "Gini Value:  0.7323682992927489\n",
      "predator\n",
      "dict_items([(1, 161), (0, 126)])\n",
      "Gini Value:  0.829366150997261\n",
      "Gini Value:  0.8117913832199547\n",
      "toothed\n",
      "dict_items([(1, 149), (0, 138)])\n",
      "Gini Value:  0.7436601954866898\n",
      "Gini Value:  0.7248477210670028\n",
      "backbone\n",
      "dict_items([(1, 205), (0, 82)])\n",
      "Gini Value:  0.7999999999999999\n",
      "Gini Value:  0.5\n",
      "breathes\n",
      "dict_items([(1, 204), (0, 83)])\n",
      "Gini Value:  0.814398308342945\n",
      "Gini Value:  0.5989258237770358\n",
      "venomous\n",
      "dict_items([(0, 263), (1, 24)])\n",
      "Gini Value:  0.8552386184562448\n",
      "Gini Value:  0.6284722222222223\n",
      "fins\n",
      "dict_items([(0, 242), (1, 45)])\n",
      "Gini Value:  0.833105662181545\n",
      "Gini Value:  0.1619753086419753\n",
      "legs\n",
      "dict_items([(4, 92), (0, 86), (2, 48), (6, 55), (8, 4), (5, 1), (7, 1)])\n",
      "Gini Value:  0.6583175803402647\n",
      "Gini Value:  0.6454840454299622\n",
      "Gini Value:  0.24913194444444442\n",
      "Gini Value:  0.379504132231405\n",
      "Gini Value:  0.0\n",
      "Gini Value:  0.0\n",
      "Gini Value:  0.0\n",
      "tail\n",
      "dict_items([(0, 127), (1, 160)])\n",
      "Gini Value:  0.6951453902907806\n",
      "Gini Value:  0.755078125\n",
      "domestic\n",
      "dict_items([(0, 270), (1, 17)])\n",
      "Gini Value:  0.8561316872427984\n",
      "Gini Value:  0.6020761245674741\n",
      "catsize\n",
      "dict_items([(1, 59), (0, 228)])\n",
      "Gini Value:  0.6038494685435218\n",
      "Gini Value:  0.840181594336719\n"
     ]
    }
   ],
   "source": [
    "gini_indexes = list()\n",
    "for column_index in range(X.shape[1]):\n",
    "    print(zoo_df.columns[column_index])\n",
    "    gini_index = calc_gini_index(X[:,column_index], y)\n",
    "    gini_indexes.append((zoo_df.columns[column_index], gini_index))\n",
    "\n",
    "def index(tup):\n",
    "    return tup[1]\n",
    "gini_indexes.sort(key=index)"
   ]
  },
  {
   "cell_type": "code",
   "execution_count": 8,
   "metadata": {},
   "outputs": [
    {
     "name": "stdout",
     "output_type": "stream",
     "text": [
      "[('legs', 0.5188428777154763), ('feathers', 0.7142857142857142), ('milk', 0.7142857142857142), ('backbone', 0.7142857142857142), ('fins', 0.7278761642398006), ('tail', 0.7285573678290214), ('toothed', 0.7346144760793141), ('hair', 0.7518143184047074), ('breathes', 0.7520839661165671), ('eggs', 0.7527533664872722), ('aquatic', 0.7635619387552759), ('airborne', 0.7687644220683869), ('catsize', 0.7915976381632046), ('predator', 0.8216503992901509), ('venomous', 0.8362755748687307), ('domestic', 0.8410830999066294)]\n"
     ]
    }
   ],
   "source": [
    "print(gini_indexes)"
   ]
  },
  {
   "cell_type": "code",
   "execution_count": 9,
   "metadata": {},
   "outputs": [
    {
     "data": {
      "text/html": [
       "<div>\n",
       "<style scoped>\n",
       "    .dataframe tbody tr th:only-of-type {\n",
       "        vertical-align: middle;\n",
       "    }\n",
       "\n",
       "    .dataframe tbody tr th {\n",
       "        vertical-align: top;\n",
       "    }\n",
       "\n",
       "    .dataframe thead th {\n",
       "        text-align: right;\n",
       "    }\n",
       "</style>\n",
       "<table border=\"1\" class=\"dataframe\">\n",
       "  <thead>\n",
       "    <tr style=\"text-align: right;\">\n",
       "      <th></th>\n",
       "      <th>legs</th>\n",
       "      <th>class_type</th>\n",
       "    </tr>\n",
       "  </thead>\n",
       "  <tbody>\n",
       "    <tr>\n",
       "      <td>0</td>\n",
       "      <td>4</td>\n",
       "      <td>1</td>\n",
       "    </tr>\n",
       "    <tr>\n",
       "      <td>1</td>\n",
       "      <td>4</td>\n",
       "      <td>1</td>\n",
       "    </tr>\n",
       "    <tr>\n",
       "      <td>2</td>\n",
       "      <td>0</td>\n",
       "      <td>4</td>\n",
       "    </tr>\n",
       "    <tr>\n",
       "      <td>3</td>\n",
       "      <td>4</td>\n",
       "      <td>1</td>\n",
       "    </tr>\n",
       "    <tr>\n",
       "      <td>4</td>\n",
       "      <td>4</td>\n",
       "      <td>1</td>\n",
       "    </tr>\n",
       "    <tr>\n",
       "      <td>5</td>\n",
       "      <td>4</td>\n",
       "      <td>1</td>\n",
       "    </tr>\n",
       "    <tr>\n",
       "      <td>6</td>\n",
       "      <td>4</td>\n",
       "      <td>1</td>\n",
       "    </tr>\n",
       "    <tr>\n",
       "      <td>7</td>\n",
       "      <td>0</td>\n",
       "      <td>4</td>\n",
       "    </tr>\n",
       "    <tr>\n",
       "      <td>8</td>\n",
       "      <td>0</td>\n",
       "      <td>4</td>\n",
       "    </tr>\n",
       "    <tr>\n",
       "      <td>9</td>\n",
       "      <td>4</td>\n",
       "      <td>1</td>\n",
       "    </tr>\n",
       "    <tr>\n",
       "      <td>10</td>\n",
       "      <td>4</td>\n",
       "      <td>1</td>\n",
       "    </tr>\n",
       "    <tr>\n",
       "      <td>11</td>\n",
       "      <td>2</td>\n",
       "      <td>2</td>\n",
       "    </tr>\n",
       "    <tr>\n",
       "      <td>12</td>\n",
       "      <td>0</td>\n",
       "      <td>4</td>\n",
       "    </tr>\n",
       "    <tr>\n",
       "      <td>13</td>\n",
       "      <td>0</td>\n",
       "      <td>7</td>\n",
       "    </tr>\n",
       "    <tr>\n",
       "      <td>14</td>\n",
       "      <td>4</td>\n",
       "      <td>7</td>\n",
       "    </tr>\n",
       "    <tr>\n",
       "      <td>15</td>\n",
       "      <td>6</td>\n",
       "      <td>7</td>\n",
       "    </tr>\n",
       "    <tr>\n",
       "      <td>16</td>\n",
       "      <td>2</td>\n",
       "      <td>2</td>\n",
       "    </tr>\n",
       "    <tr>\n",
       "      <td>17</td>\n",
       "      <td>4</td>\n",
       "      <td>1</td>\n",
       "    </tr>\n",
       "    <tr>\n",
       "      <td>18</td>\n",
       "      <td>0</td>\n",
       "      <td>4</td>\n",
       "    </tr>\n",
       "    <tr>\n",
       "      <td>19</td>\n",
       "      <td>0</td>\n",
       "      <td>1</td>\n",
       "    </tr>\n",
       "  </tbody>\n",
       "</table>\n",
       "</div>"
      ],
      "text/plain": [
       "    legs  class_type\n",
       "0      4           1\n",
       "1      4           1\n",
       "2      0           4\n",
       "3      4           1\n",
       "4      4           1\n",
       "5      4           1\n",
       "6      4           1\n",
       "7      0           4\n",
       "8      0           4\n",
       "9      4           1\n",
       "10     4           1\n",
       "11     2           2\n",
       "12     0           4\n",
       "13     0           7\n",
       "14     4           7\n",
       "15     6           7\n",
       "16     2           2\n",
       "17     4           1\n",
       "18     0           4\n",
       "19     0           1"
      ]
     },
     "execution_count": 9,
     "metadata": {},
     "output_type": "execute_result"
    }
   ],
   "source": [
    "zoo_df[['legs', 'class_type']][:20]"
   ]
  },
  {
   "cell_type": "code",
   "execution_count": null,
   "metadata": {},
   "outputs": [],
   "source": []
  }
 ],
 "metadata": {
  "kernelspec": {
   "display_name": "Python 3",
   "language": "python",
   "name": "python3"
  },
  "language_info": {
   "codemirror_mode": {
    "name": "ipython",
    "version": 3
   },
   "file_extension": ".py",
   "mimetype": "text/x-python",
   "name": "python",
   "nbconvert_exporter": "python",
   "pygments_lexer": "ipython3",
   "version": "3.7.4"
  }
 },
 "nbformat": 4,
 "nbformat_minor": 2
}
