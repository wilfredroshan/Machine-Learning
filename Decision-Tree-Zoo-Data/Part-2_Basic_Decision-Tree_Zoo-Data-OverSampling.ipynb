{
 "cells": [
  {
   "cell_type": "markdown",
   "metadata": {},
   "source": [
    "### Data analysis and a simple decision tree example using data from https://www.kaggle.com/uciml/zoo-animal-classification"
   ]
  },
  {
   "cell_type": "code",
   "execution_count": 1,
   "metadata": {},
   "outputs": [],
   "source": [
    "import pandas as pd\n",
    "from imblearn.over_sampling import SMOTE\n",
    "from collections import Counter"
   ]
  },
  {
   "cell_type": "markdown",
   "metadata": {},
   "source": [
    "Read the data file"
   ]
  },
  {
   "cell_type": "code",
   "execution_count": 2,
   "metadata": {},
   "outputs": [],
   "source": [
    "zoo_df = pd.read_csv(\"data\\Decision-Tree_Zoo-Data\\zoo-animal-classification\\zoo.csv\")"
   ]
  },
  {
   "cell_type": "markdown",
   "metadata": {},
   "source": [
    "animal_name is not useful in classification. remove it from data set"
   ]
  },
  {
   "cell_type": "code",
   "execution_count": 3,
   "metadata": {},
   "outputs": [
    {
     "name": "stdout",
     "output_type": "stream",
     "text": [
      "['aardvark', 'antelope', 'bass', 'bear', 'boar', 'buffalo', 'calf', 'carp', 'catfish', 'cavy', 'cheetah', 'chicken', 'chub', 'clam', 'crab', 'crayfish', 'crow', 'deer', 'dogfish', 'dolphin', 'dove', 'duck', 'elephant', 'flamingo', 'flea', 'frog', 'frog', 'fruitbat', 'giraffe', 'girl', 'gnat', 'goat', 'gorilla', 'gull', 'haddock', 'hamster', 'hare', 'hawk', 'herring', 'honeybee', 'housefly', 'kiwi', 'ladybird', 'lark', 'leopard', 'lion', 'lobster', 'lynx', 'mink', 'mole', 'mongoose', 'moth', 'newt', 'octopus', 'opossum', 'oryx', 'ostrich', 'parakeet', 'penguin', 'pheasant', 'pike', 'piranha', 'pitviper', 'platypus', 'polecat', 'pony', 'porpoise', 'puma', 'pussycat', 'raccoon', 'reindeer', 'rhea', 'scorpion', 'seahorse', 'seal', 'sealion', 'seasnake', 'seawasp', 'skimmer', 'skua', 'slowworm', 'slug', 'sole', 'sparrow', 'squirrel', 'starfish', 'stingray', 'swan', 'termite', 'toad', 'tortoise', 'tuatara', 'tuna', 'vampire', 'vole', 'vulture', 'wallaby', 'wasp', 'wolf', 'worm', 'wren']\n"
     ]
    }
   ],
   "source": [
    "animal_names = zoo_df['animal_name'].to_list()\n",
    "print(animal_names)\n",
    "zoo_df = zoo_df.drop('animal_name', axis=1)"
   ]
  },
  {
   "cell_type": "code",
   "execution_count": 4,
   "metadata": {},
   "outputs": [],
   "source": [
    "for column in zoo_df.columns:\n",
    "    zoo_df[column] = zoo_df[column].astype(\"category\")"
   ]
  },
  {
   "cell_type": "code",
   "execution_count": 5,
   "metadata": {},
   "outputs": [],
   "source": [
    "# copy X columns\n",
    "X = zoo_df.loc[:, zoo_df.columns != 'class_type']\n",
    "# copy Y column (class)\n",
    "y = zoo_df['class_type']\n",
    "column_names = X.columns"
   ]
  },
  {
   "cell_type": "code",
   "execution_count": 6,
   "metadata": {},
   "outputs": [
    {
     "name": "stdout",
     "output_type": "stream",
     "text": [
      "Counter({1: 41, 2: 20, 4: 13, 7: 10, 6: 8, 3: 5, 5: 4})\n"
     ]
    }
   ],
   "source": [
    "y_counter = Counter(y)\n",
    "print(y_counter)"
   ]
  },
  {
   "cell_type": "code",
   "execution_count": 7,
   "metadata": {},
   "outputs": [],
   "source": [
    "oversampler = SMOTE(k_neighbors=1)\n",
    "X, y = oversampler.fit_resample(X, y)"
   ]
  },
  {
   "cell_type": "code",
   "execution_count": 8,
   "metadata": {},
   "outputs": [
    {
     "name": "stdout",
     "output_type": "stream",
     "text": [
      "Counter({1: 41, 4: 41, 2: 41, 7: 41, 6: 41, 5: 41, 3: 41})\n"
     ]
    }
   ],
   "source": [
    "y_counter = Counter(y)\n",
    "print(y_counter)"
   ]
  },
  {
   "cell_type": "markdown",
   "metadata": {},
   "source": [
    "## Split the data into training and testing sets"
   ]
  },
  {
   "cell_type": "code",
   "execution_count": 9,
   "metadata": {},
   "outputs": [],
   "source": [
    "from sklearn.model_selection import train_test_split"
   ]
  },
  {
   "cell_type": "code",
   "execution_count": 10,
   "metadata": {},
   "outputs": [],
   "source": [
    "# split the data (70-30 split)\n",
    "train_X, test_X, train_Y, test_Y = train_test_split(X, y, test_size = 0.30, stratify = y)"
   ]
  },
  {
   "cell_type": "markdown",
   "metadata": {},
   "source": [
    "Build the machine learning model"
   ]
  },
  {
   "cell_type": "code",
   "execution_count": 11,
   "metadata": {},
   "outputs": [],
   "source": [
    "from sklearn.tree import DecisionTreeClassifier"
   ]
  },
  {
   "cell_type": "code",
   "execution_count": 12,
   "metadata": {},
   "outputs": [
    {
     "data": {
      "text/plain": [
       "DecisionTreeClassifier(class_weight=None, criterion='gini', max_depth=None,\n",
       "                       max_features=None, max_leaf_nodes=None,\n",
       "                       min_impurity_decrease=0.0, min_impurity_split=None,\n",
       "                       min_samples_leaf=1, min_samples_split=2,\n",
       "                       min_weight_fraction_leaf=0.0, presort=False,\n",
       "                       random_state=None, splitter='best')"
      ]
     },
     "execution_count": 12,
     "metadata": {},
     "output_type": "execute_result"
    }
   ],
   "source": [
    "model = DecisionTreeClassifier()\n",
    "model.fit(train_X, train_Y)"
   ]
  },
  {
   "cell_type": "markdown",
   "metadata": {},
   "source": [
    "Predict the class of test data"
   ]
  },
  {
   "cell_type": "code",
   "execution_count": 13,
   "metadata": {},
   "outputs": [],
   "source": [
    "y_predicted = model.predict(test_X)"
   ]
  },
  {
   "cell_type": "markdown",
   "metadata": {},
   "source": [
    "How good is the model?\n",
    "check accuracy"
   ]
  },
  {
   "cell_type": "code",
   "execution_count": 14,
   "metadata": {},
   "outputs": [],
   "source": [
    "from sklearn.metrics import accuracy_score"
   ]
  },
  {
   "cell_type": "code",
   "execution_count": 15,
   "metadata": {},
   "outputs": [
    {
     "name": "stdout",
     "output_type": "stream",
     "text": [
      "0.9655172413793104\n"
     ]
    }
   ],
   "source": [
    "print(accuracy_score(test_Y, y_predicted))"
   ]
  },
  {
   "cell_type": "markdown",
   "metadata": {},
   "source": [
    "Build confusion matrix"
   ]
  },
  {
   "cell_type": "code",
   "execution_count": 16,
   "metadata": {},
   "outputs": [],
   "source": [
    "from sklearn.metrics import confusion_matrix"
   ]
  },
  {
   "cell_type": "code",
   "execution_count": 17,
   "metadata": {},
   "outputs": [
    {
     "name": "stdout",
     "output_type": "stream",
     "text": [
      "[[12  0  0  0  0  0  0]\n",
      " [ 0 13  0  0  0  0  0]\n",
      " [ 0  3 10  0  0  0  0]\n",
      " [ 0  0  0 12  0  0  0]\n",
      " [ 0  0  0  0 12  0  0]\n",
      " [ 0  0  0  0  0 12  0]\n",
      " [ 0  0  0  0  0  0 13]]\n"
     ]
    }
   ],
   "source": [
    "c_matrix = confusion_matrix(test_Y, y_predicted)\n",
    "print(c_matrix)"
   ]
  },
  {
   "cell_type": "code",
   "execution_count": 18,
   "metadata": {},
   "outputs": [],
   "source": [
    "from collections import Counter"
   ]
  },
  {
   "cell_type": "code",
   "execution_count": 19,
   "metadata": {},
   "outputs": [
    {
     "name": "stdout",
     "output_type": "stream",
     "text": [
      "Counter({3: 13, 7: 13, 2: 13, 6: 12, 4: 12, 1: 12, 5: 12})\n"
     ]
    }
   ],
   "source": [
    "print(Counter(test_Y))"
   ]
  },
  {
   "cell_type": "code",
   "execution_count": 20,
   "metadata": {},
   "outputs": [
    {
     "name": "stdout",
     "output_type": "stream",
     "text": [
      "Counter({2: 16, 7: 13, 6: 12, 4: 12, 1: 12, 5: 12, 3: 10})\n"
     ]
    }
   ],
   "source": [
    "print(Counter(y_predicted))"
   ]
  },
  {
   "cell_type": "code",
   "execution_count": 21,
   "metadata": {},
   "outputs": [
    {
     "data": {
      "image/svg+xml": [
       "<?xml version=\"1.0\" encoding=\"UTF-8\" standalone=\"no\"?>\r\n",
       "<!DOCTYPE svg PUBLIC \"-//W3C//DTD SVG 1.1//EN\"\r\n",
       " \"http://www.w3.org/Graphics/SVG/1.1/DTD/svg11.dtd\">\r\n",
       "<!-- Generated by graphviz version 2.38.0 (20140413.2041)\r\n",
       " -->\r\n",
       "<!-- Title: Tree Pages: 1 -->\r\n",
       "<svg width=\"1101pt\" height=\"789pt\"\r\n",
       " viewBox=\"0.00 0.00 1101.00 789.00\" xmlns=\"http://www.w3.org/2000/svg\" xmlns:xlink=\"http://www.w3.org/1999/xlink\">\r\n",
       "<g id=\"graph0\" class=\"graph\" transform=\"scale(1 1) rotate(0) translate(4 785)\">\r\n",
       "<title>Tree</title>\r\n",
       "<polygon fill=\"white\" stroke=\"none\" points=\"-4,4 -4,-785 1097,-785 1097,4 -4,4\"/>\r\n",
       "<!-- 0 -->\r\n",
       "<g id=\"node1\" class=\"node\"><title>0</title>\r\n",
       "<path fill=\"#ffffff\" stroke=\"black\" d=\"M827.5,-781C827.5,-781 618.5,-781 618.5,-781 612.5,-781 606.5,-775 606.5,-769 606.5,-769 606.5,-725 606.5,-725 606.5,-719 612.5,-713 618.5,-713 618.5,-713 827.5,-713 827.5,-713 833.5,-713 839.5,-719 839.5,-725 839.5,-725 839.5,-769 839.5,-769 839.5,-775 833.5,-781 827.5,-781\"/>\r\n",
       "<text text-anchor=\"start\" x=\"692.5\" y=\"-765.8\" font-family=\"Helvetica,sans-Serif\" font-size=\"14.00\">milk ≤ 0.5</text>\r\n",
       "<text text-anchor=\"start\" x=\"685.5\" y=\"-750.8\" font-family=\"Helvetica,sans-Serif\" font-size=\"14.00\">gini = 0.857</text>\r\n",
       "<text text-anchor=\"start\" x=\"675.5\" y=\"-735.8\" font-family=\"Helvetica,sans-Serif\" font-size=\"14.00\">samples = 200</text>\r\n",
       "<text text-anchor=\"start\" x=\"614.5\" y=\"-720.8\" font-family=\"Helvetica,sans-Serif\" font-size=\"14.00\">value = [29, 28, 28, 29, 29, 29, 28]</text>\r\n",
       "</g>\r\n",
       "<!-- 1 -->\r\n",
       "<g id=\"node2\" class=\"node\"><title>1</title>\r\n",
       "<path fill=\"#ffffff\" stroke=\"black\" d=\"M712.5,-677C712.5,-677 511.5,-677 511.5,-677 505.5,-677 499.5,-671 499.5,-665 499.5,-665 499.5,-621 499.5,-621 499.5,-615 505.5,-609 511.5,-609 511.5,-609 712.5,-609 712.5,-609 718.5,-609 724.5,-615 724.5,-621 724.5,-621 724.5,-665 724.5,-665 724.5,-671 718.5,-677 712.5,-677\"/>\r\n",
       "<text text-anchor=\"start\" x=\"583\" y=\"-661.8\" font-family=\"Helvetica,sans-Serif\" font-size=\"14.00\">fins ≤ 0.5</text>\r\n",
       "<text text-anchor=\"start\" x=\"574.5\" y=\"-646.8\" font-family=\"Helvetica,sans-Serif\" font-size=\"14.00\">gini = 0.833</text>\r\n",
       "<text text-anchor=\"start\" x=\"564.5\" y=\"-631.8\" font-family=\"Helvetica,sans-Serif\" font-size=\"14.00\">samples = 171</text>\r\n",
       "<text text-anchor=\"start\" x=\"507.5\" y=\"-616.8\" font-family=\"Helvetica,sans-Serif\" font-size=\"14.00\">value = [0, 28, 28, 29, 29, 29, 28]</text>\r\n",
       "</g>\r\n",
       "<!-- 0&#45;&gt;1 -->\r\n",
       "<g id=\"edge1\" class=\"edge\"><title>0&#45;&gt;1</title>\r\n",
       "<path fill=\"none\" stroke=\"black\" d=\"M686.961,-712.884C676.977,-703.709 666.031,-693.65 655.663,-684.123\"/>\r\n",
       "<polygon fill=\"black\" stroke=\"black\" points=\"657.969,-681.488 648.238,-677.299 653.233,-686.643 657.969,-681.488\"/>\r\n",
       "<text text-anchor=\"middle\" x=\"649.293\" y=\"-698.577\" font-family=\"Helvetica,sans-Serif\" font-size=\"14.00\">True</text>\r\n",
       "</g>\r\n",
       "<!-- 20 -->\r\n",
       "<g id=\"node21\" class=\"node\"><title>20</title>\r\n",
       "<path fill=\"#e58139\" stroke=\"black\" d=\"M915,-669.5C915,-669.5 755,-669.5 755,-669.5 749,-669.5 743,-663.5 743,-657.5 743,-657.5 743,-628.5 743,-628.5 743,-622.5 749,-616.5 755,-616.5 755,-616.5 915,-616.5 915,-616.5 921,-616.5 927,-622.5 927,-628.5 927,-628.5 927,-657.5 927,-657.5 927,-663.5 921,-669.5 915,-669.5\"/>\r\n",
       "<text text-anchor=\"start\" x=\"806\" y=\"-654.3\" font-family=\"Helvetica,sans-Serif\" font-size=\"14.00\">gini = 0.0</text>\r\n",
       "<text text-anchor=\"start\" x=\"791.5\" y=\"-639.3\" font-family=\"Helvetica,sans-Serif\" font-size=\"14.00\">samples = 29</text>\r\n",
       "<text text-anchor=\"start\" x=\"751\" y=\"-624.3\" font-family=\"Helvetica,sans-Serif\" font-size=\"14.00\">value = [29, 0, 0, 0, 0, 0, 0]</text>\r\n",
       "</g>\r\n",
       "<!-- 0&#45;&gt;20 -->\r\n",
       "<g id=\"edge20\" class=\"edge\"><title>0&#45;&gt;20</title>\r\n",
       "<path fill=\"none\" stroke=\"black\" d=\"M759.363,-712.884C772.164,-701.226 786.532,-688.141 799.279,-676.532\"/>\r\n",
       "<polygon fill=\"black\" stroke=\"black\" points=\"801.941,-678.841 806.978,-669.52 797.228,-673.666 801.941,-678.841\"/>\r\n",
       "<text text-anchor=\"middle\" x=\"805.811\" y=\"-690.793\" font-family=\"Helvetica,sans-Serif\" font-size=\"14.00\">False</text>\r\n",
       "</g>\r\n",
       "<!-- 2 -->\r\n",
       "<g id=\"node3\" class=\"node\"><title>2</title>\r\n",
       "<path fill=\"#ffffff\" stroke=\"black\" d=\"M599.5,-573C599.5,-573 406.5,-573 406.5,-573 400.5,-573 394.5,-567 394.5,-561 394.5,-561 394.5,-517 394.5,-517 394.5,-511 400.5,-505 406.5,-505 406.5,-505 599.5,-505 599.5,-505 605.5,-505 611.5,-511 611.5,-517 611.5,-517 611.5,-561 611.5,-561 611.5,-567 605.5,-573 599.5,-573\"/>\r\n",
       "<text text-anchor=\"start\" x=\"453\" y=\"-557.8\" font-family=\"Helvetica,sans-Serif\" font-size=\"14.00\">toothed ≤ 0.037</text>\r\n",
       "<text text-anchor=\"start\" x=\"474\" y=\"-542.8\" font-family=\"Helvetica,sans-Serif\" font-size=\"14.00\">gini = 0.8</text>\r\n",
       "<text text-anchor=\"start\" x=\"455.5\" y=\"-527.8\" font-family=\"Helvetica,sans-Serif\" font-size=\"14.00\">samples = 142</text>\r\n",
       "<text text-anchor=\"start\" x=\"402.5\" y=\"-512.8\" font-family=\"Helvetica,sans-Serif\" font-size=\"14.00\">value = [0, 28, 28, 0, 29, 29, 28]</text>\r\n",
       "</g>\r\n",
       "<!-- 1&#45;&gt;2 -->\r\n",
       "<g id=\"edge2\" class=\"edge\"><title>1&#45;&gt;2</title>\r\n",
       "<path fill=\"none\" stroke=\"black\" d=\"M576.611,-608.884C566.902,-599.798 556.266,-589.845 546.173,-580.4\"/>\r\n",
       "<polygon fill=\"black\" stroke=\"black\" points=\"548.278,-577.577 538.585,-573.299 543.495,-582.688 548.278,-577.577\"/>\r\n",
       "</g>\r\n",
       "<!-- 19 -->\r\n",
       "<g id=\"node20\" class=\"node\"><title>19</title>\r\n",
       "<path fill=\"#39e5e2\" stroke=\"black\" d=\"M802,-565.5C802,-565.5 642,-565.5 642,-565.5 636,-565.5 630,-559.5 630,-553.5 630,-553.5 630,-524.5 630,-524.5 630,-518.5 636,-512.5 642,-512.5 642,-512.5 802,-512.5 802,-512.5 808,-512.5 814,-518.5 814,-524.5 814,-524.5 814,-553.5 814,-553.5 814,-559.5 808,-565.5 802,-565.5\"/>\r\n",
       "<text text-anchor=\"start\" x=\"693\" y=\"-550.3\" font-family=\"Helvetica,sans-Serif\" font-size=\"14.00\">gini = 0.0</text>\r\n",
       "<text text-anchor=\"start\" x=\"678.5\" y=\"-535.3\" font-family=\"Helvetica,sans-Serif\" font-size=\"14.00\">samples = 29</text>\r\n",
       "<text text-anchor=\"start\" x=\"638\" y=\"-520.3\" font-family=\"Helvetica,sans-Serif\" font-size=\"14.00\">value = [0, 0, 0, 29, 0, 0, 0]</text>\r\n",
       "</g>\r\n",
       "<!-- 1&#45;&gt;19 -->\r\n",
       "<g id=\"edge19\" class=\"edge\"><title>1&#45;&gt;19</title>\r\n",
       "<path fill=\"none\" stroke=\"black\" d=\"M647.714,-608.884C660.286,-597.226 674.397,-584.141 686.917,-572.532\"/>\r\n",
       "<polygon fill=\"black\" stroke=\"black\" points=\"689.526,-574.886 694.479,-565.52 684.766,-569.753 689.526,-574.886\"/>\r\n",
       "</g>\r\n",
       "<!-- 3 -->\r\n",
       "<g id=\"node4\" class=\"node\"><title>3</title>\r\n",
       "<path fill=\"#fefcff\" stroke=\"black\" d=\"M484,-469C484,-469 308,-469 308,-469 302,-469 296,-463 296,-457 296,-457 296,-413 296,-413 296,-407 302,-401 308,-401 308,-401 484,-401 484,-401 490,-401 496,-407 496,-413 496,-413 496,-457 496,-457 496,-463 490,-469 484,-469\"/>\r\n",
       "<text text-anchor=\"start\" x=\"347\" y=\"-453.8\" font-family=\"Helvetica,sans-Serif\" font-size=\"14.00\">backbone ≤ 0.5</text>\r\n",
       "<text text-anchor=\"start\" x=\"358.5\" y=\"-438.8\" font-family=\"Helvetica,sans-Serif\" font-size=\"14.00\">gini = 0.667</text>\r\n",
       "<text text-anchor=\"start\" x=\"352.5\" y=\"-423.8\" font-family=\"Helvetica,sans-Serif\" font-size=\"14.00\">samples = 85</text>\r\n",
       "<text text-anchor=\"start\" x=\"304\" y=\"-408.8\" font-family=\"Helvetica,sans-Serif\" font-size=\"14.00\">value = [0, 28, 0, 0, 0, 29, 28]</text>\r\n",
       "</g>\r\n",
       "<!-- 2&#45;&gt;3 -->\r\n",
       "<g id=\"edge3\" class=\"edge\"><title>2&#45;&gt;3</title>\r\n",
       "<path fill=\"none\" stroke=\"black\" d=\"M468.26,-504.884C458.729,-495.798 448.289,-485.845 438.381,-476.4\"/>\r\n",
       "<polygon fill=\"black\" stroke=\"black\" points=\"440.585,-473.666 430.932,-469.299 435.755,-478.733 440.585,-473.666\"/>\r\n",
       "</g>\r\n",
       "<!-- 12 -->\r\n",
       "<g id=\"node13\" class=\"node\"><title>12</title>\r\n",
       "<path fill=\"#f8f9fe\" stroke=\"black\" d=\"M694,-469C694,-469 526,-469 526,-469 520,-469 514,-463 514,-457 514,-457 514,-413 514,-413 514,-407 520,-401 526,-401 526,-401 694,-401 694,-401 700,-401 706,-407 706,-413 706,-413 706,-457 706,-457 706,-463 700,-469 694,-469\"/>\r\n",
       "<text text-anchor=\"start\" x=\"575\" y=\"-453.8\" font-family=\"Helvetica,sans-Serif\" font-size=\"14.00\">tail ≤ 0.807</text>\r\n",
       "<text text-anchor=\"start\" x=\"581\" y=\"-438.8\" font-family=\"Helvetica,sans-Serif\" font-size=\"14.00\">gini = 0.5</text>\r\n",
       "<text text-anchor=\"start\" x=\"566.5\" y=\"-423.8\" font-family=\"Helvetica,sans-Serif\" font-size=\"14.00\">samples = 57</text>\r\n",
       "<text text-anchor=\"start\" x=\"522\" y=\"-408.8\" font-family=\"Helvetica,sans-Serif\" font-size=\"14.00\">value = [0, 0, 28, 0, 29, 0, 0]</text>\r\n",
       "</g>\r\n",
       "<!-- 2&#45;&gt;12 -->\r\n",
       "<g id=\"edge12\" class=\"edge\"><title>2&#45;&gt;12</title>\r\n",
       "<path fill=\"none\" stroke=\"black\" d=\"M537.74,-504.884C547.271,-495.798 557.711,-485.845 567.619,-476.4\"/>\r\n",
       "<polygon fill=\"black\" stroke=\"black\" points=\"570.245,-478.733 575.068,-469.299 565.415,-473.666 570.245,-478.733\"/>\r\n",
       "</g>\r\n",
       "<!-- 4 -->\r\n",
       "<g id=\"node5\" class=\"node\"><title>4</title>\r\n",
       "<path fill=\"#fcf8fe\" stroke=\"black\" d=\"M277,-365C277,-365 109,-365 109,-365 103,-365 97,-359 97,-353 97,-353 97,-309 97,-309 97,-303 103,-297 109,-297 109,-297 277,-297 277,-297 283,-297 289,-303 289,-309 289,-309 289,-353 289,-353 289,-359 283,-365 277,-365\"/>\r\n",
       "<text text-anchor=\"start\" x=\"139\" y=\"-349.8\" font-family=\"Helvetica,sans-Serif\" font-size=\"14.00\">breathes ≤ 0.893</text>\r\n",
       "<text text-anchor=\"start\" x=\"164\" y=\"-334.8\" font-family=\"Helvetica,sans-Serif\" font-size=\"14.00\">gini = 0.5</text>\r\n",
       "<text text-anchor=\"start\" x=\"149.5\" y=\"-319.8\" font-family=\"Helvetica,sans-Serif\" font-size=\"14.00\">samples = 57</text>\r\n",
       "<text text-anchor=\"start\" x=\"105\" y=\"-304.8\" font-family=\"Helvetica,sans-Serif\" font-size=\"14.00\">value = [0, 0, 0, 0, 0, 29, 28]</text>\r\n",
       "</g>\r\n",
       "<!-- 3&#45;&gt;4 -->\r\n",
       "<g id=\"edge4\" class=\"edge\"><title>3&#45;&gt;4</title>\r\n",
       "<path fill=\"none\" stroke=\"black\" d=\"M330.092,-400.884C310.225,-390.901 288.275,-379.872 267.87,-369.619\"/>\r\n",
       "<polygon fill=\"black\" stroke=\"black\" points=\"269.432,-366.487 258.925,-365.125 266.289,-372.742 269.432,-366.487\"/>\r\n",
       "</g>\r\n",
       "<!-- 11 -->\r\n",
       "<g id=\"node12\" class=\"node\"><title>11</title>\r\n",
       "<path fill=\"#b7e539\" stroke=\"black\" d=\"M479,-357.5C479,-357.5 319,-357.5 319,-357.5 313,-357.5 307,-351.5 307,-345.5 307,-345.5 307,-316.5 307,-316.5 307,-310.5 313,-304.5 319,-304.5 319,-304.5 479,-304.5 479,-304.5 485,-304.5 491,-310.5 491,-316.5 491,-316.5 491,-345.5 491,-345.5 491,-351.5 485,-357.5 479,-357.5\"/>\r\n",
       "<text text-anchor=\"start\" x=\"370\" y=\"-342.3\" font-family=\"Helvetica,sans-Serif\" font-size=\"14.00\">gini = 0.0</text>\r\n",
       "<text text-anchor=\"start\" x=\"355.5\" y=\"-327.3\" font-family=\"Helvetica,sans-Serif\" font-size=\"14.00\">samples = 28</text>\r\n",
       "<text text-anchor=\"start\" x=\"315\" y=\"-312.3\" font-family=\"Helvetica,sans-Serif\" font-size=\"14.00\">value = [0, 28, 0, 0, 0, 0, 0]</text>\r\n",
       "</g>\r\n",
       "<!-- 3&#45;&gt;11 -->\r\n",
       "<g id=\"edge11\" class=\"edge\"><title>3&#45;&gt;11</title>\r\n",
       "<path fill=\"none\" stroke=\"black\" d=\"M396.974,-400.884C397.288,-390.216 397.637,-378.352 397.955,-367.519\"/>\r\n",
       "<polygon fill=\"black\" stroke=\"black\" points=\"401.454,-367.619 398.249,-357.52 394.457,-367.413 401.454,-367.619\"/>\r\n",
       "</g>\r\n",
       "<!-- 5 -->\r\n",
       "<g id=\"node6\" class=\"node\"><title>5</title>\r\n",
       "<path fill=\"#e53986\" stroke=\"black\" d=\"M172,-253.5C172,-253.5 12,-253.5 12,-253.5 6,-253.5 0,-247.5 0,-241.5 0,-241.5 0,-212.5 0,-212.5 0,-206.5 6,-200.5 12,-200.5 12,-200.5 172,-200.5 172,-200.5 178,-200.5 184,-206.5 184,-212.5 184,-212.5 184,-241.5 184,-241.5 184,-247.5 178,-253.5 172,-253.5\"/>\r\n",
       "<text text-anchor=\"start\" x=\"63\" y=\"-238.3\" font-family=\"Helvetica,sans-Serif\" font-size=\"14.00\">gini = 0.0</text>\r\n",
       "<text text-anchor=\"start\" x=\"48.5\" y=\"-223.3\" font-family=\"Helvetica,sans-Serif\" font-size=\"14.00\">samples = 23</text>\r\n",
       "<text text-anchor=\"start\" x=\"8\" y=\"-208.3\" font-family=\"Helvetica,sans-Serif\" font-size=\"14.00\">value = [0, 0, 0, 0, 0, 0, 23]</text>\r\n",
       "</g>\r\n",
       "<!-- 4&#45;&gt;5 -->\r\n",
       "<g id=\"edge5\" class=\"edge\"><title>4&#45;&gt;5</title>\r\n",
       "<path fill=\"none\" stroke=\"black\" d=\"M160.208,-296.884C148.774,-285.336 135.952,-272.387 124.538,-260.86\"/>\r\n",
       "<polygon fill=\"black\" stroke=\"black\" points=\"126.793,-258.163 117.27,-253.52 121.819,-263.088 126.793,-258.163\"/>\r\n",
       "</g>\r\n",
       "<!-- 6 -->\r\n",
       "<g id=\"node7\" class=\"node\"><title>6</title>\r\n",
       "<path fill=\"#be5be9\" stroke=\"black\" d=\"M374,-261C374,-261 214,-261 214,-261 208,-261 202,-255 202,-249 202,-249 202,-205 202,-205 202,-199 208,-193 214,-193 214,-193 374,-193 374,-193 380,-193 386,-199 386,-205 386,-205 386,-249 386,-249 386,-255 380,-261 374,-261\"/>\r\n",
       "<text text-anchor=\"start\" x=\"262.5\" y=\"-245.8\" font-family=\"Helvetica,sans-Serif\" font-size=\"14.00\">legs ≤ 3.0</text>\r\n",
       "<text text-anchor=\"start\" x=\"256.5\" y=\"-230.8\" font-family=\"Helvetica,sans-Serif\" font-size=\"14.00\">gini = 0.251</text>\r\n",
       "<text text-anchor=\"start\" x=\"250.5\" y=\"-215.8\" font-family=\"Helvetica,sans-Serif\" font-size=\"14.00\">samples = 34</text>\r\n",
       "<text text-anchor=\"start\" x=\"210\" y=\"-200.8\" font-family=\"Helvetica,sans-Serif\" font-size=\"14.00\">value = [0, 0, 0, 0, 0, 29, 5]</text>\r\n",
       "</g>\r\n",
       "<!-- 4&#45;&gt;6 -->\r\n",
       "<g id=\"edge6\" class=\"edge\"><title>4&#45;&gt;6</title>\r\n",
       "<path fill=\"none\" stroke=\"black\" d=\"M225.792,-296.884C234.7,-287.887 244.45,-278.041 253.72,-268.678\"/>\r\n",
       "<polygon fill=\"black\" stroke=\"black\" points=\"256.478,-270.868 261.027,-261.299 251.504,-265.943 256.478,-270.868\"/>\r\n",
       "</g>\r\n",
       "<!-- 7 -->\r\n",
       "<g id=\"node8\" class=\"node\"><title>7</title>\r\n",
       "<path fill=\"#e53986\" stroke=\"black\" d=\"M228,-149.5C228,-149.5 76,-149.5 76,-149.5 70,-149.5 64,-143.5 64,-137.5 64,-137.5 64,-108.5 64,-108.5 64,-102.5 70,-96.5 76,-96.5 76,-96.5 228,-96.5 228,-96.5 234,-96.5 240,-102.5 240,-108.5 240,-108.5 240,-137.5 240,-137.5 240,-143.5 234,-149.5 228,-149.5\"/>\r\n",
       "<text text-anchor=\"start\" x=\"123\" y=\"-134.3\" font-family=\"Helvetica,sans-Serif\" font-size=\"14.00\">gini = 0.0</text>\r\n",
       "<text text-anchor=\"start\" x=\"112.5\" y=\"-119.3\" font-family=\"Helvetica,sans-Serif\" font-size=\"14.00\">samples = 4</text>\r\n",
       "<text text-anchor=\"start\" x=\"72\" y=\"-104.3\" font-family=\"Helvetica,sans-Serif\" font-size=\"14.00\">value = [0, 0, 0, 0, 0, 0, 4]</text>\r\n",
       "</g>\r\n",
       "<!-- 6&#45;&gt;7 -->\r\n",
       "<g id=\"edge7\" class=\"edge\"><title>6&#45;&gt;7</title>\r\n",
       "<path fill=\"none\" stroke=\"black\" d=\"M247.897,-192.884C231.208,-180.896 212.418,-167.399 195.922,-155.549\"/>\r\n",
       "<polygon fill=\"black\" stroke=\"black\" points=\"197.692,-152.511 187.528,-149.52 193.608,-158.197 197.692,-152.511\"/>\r\n",
       "</g>\r\n",
       "<!-- 8 -->\r\n",
       "<g id=\"node9\" class=\"node\"><title>8</title>\r\n",
       "<path fill=\"#b440e6\" stroke=\"black\" d=\"M430,-157C430,-157 270,-157 270,-157 264,-157 258,-151 258,-145 258,-145 258,-101 258,-101 258,-95 264,-89 270,-89 270,-89 430,-89 430,-89 436,-89 442,-95 442,-101 442,-101 442,-145 442,-145 442,-151 436,-157 430,-157\"/>\r\n",
       "<text text-anchor=\"start\" x=\"316\" y=\"-141.8\" font-family=\"Helvetica,sans-Serif\" font-size=\"14.00\">eggs ≤ 0.5</text>\r\n",
       "<text text-anchor=\"start\" x=\"312.5\" y=\"-126.8\" font-family=\"Helvetica,sans-Serif\" font-size=\"14.00\">gini = 0.064</text>\r\n",
       "<text text-anchor=\"start\" x=\"306.5\" y=\"-111.8\" font-family=\"Helvetica,sans-Serif\" font-size=\"14.00\">samples = 30</text>\r\n",
       "<text text-anchor=\"start\" x=\"266\" y=\"-96.8\" font-family=\"Helvetica,sans-Serif\" font-size=\"14.00\">value = [0, 0, 0, 0, 0, 29, 1]</text>\r\n",
       "</g>\r\n",
       "<!-- 6&#45;&gt;8 -->\r\n",
       "<g id=\"edge8\" class=\"edge\"><title>6&#45;&gt;8</title>\r\n",
       "<path fill=\"none\" stroke=\"black\" d=\"M312.182,-192.884C316.876,-184.332 321.993,-175.013 326.902,-166.072\"/>\r\n",
       "<polygon fill=\"black\" stroke=\"black\" points=\"329.973,-167.75 331.718,-157.299 323.837,-164.381 329.973,-167.75\"/>\r\n",
       "</g>\r\n",
       "<!-- 9 -->\r\n",
       "<g id=\"node10\" class=\"node\"><title>9</title>\r\n",
       "<path fill=\"#e53986\" stroke=\"black\" d=\"M327,-53C327,-53 175,-53 175,-53 169,-53 163,-47 163,-41 163,-41 163,-12 163,-12 163,-6 169,-0 175,-0 175,-0 327,-0 327,-0 333,-0 339,-6 339,-12 339,-12 339,-41 339,-41 339,-47 333,-53 327,-53\"/>\r\n",
       "<text text-anchor=\"start\" x=\"222\" y=\"-37.8\" font-family=\"Helvetica,sans-Serif\" font-size=\"14.00\">gini = 0.0</text>\r\n",
       "<text text-anchor=\"start\" x=\"211.5\" y=\"-22.8\" font-family=\"Helvetica,sans-Serif\" font-size=\"14.00\">samples = 1</text>\r\n",
       "<text text-anchor=\"start\" x=\"171\" y=\"-7.8\" font-family=\"Helvetica,sans-Serif\" font-size=\"14.00\">value = [0, 0, 0, 0, 0, 0, 1]</text>\r\n",
       "</g>\r\n",
       "<!-- 8&#45;&gt;9 -->\r\n",
       "<g id=\"edge9\" class=\"edge\"><title>8&#45;&gt;9</title>\r\n",
       "<path fill=\"none\" stroke=\"black\" d=\"M315.375,-88.9485C305.599,-79.6175 294.971,-69.4722 285.22,-60.1641\"/>\r\n",
       "<polygon fill=\"black\" stroke=\"black\" points=\"287.613,-57.6097 277.962,-53.2367 282.779,-62.6732 287.613,-57.6097\"/>\r\n",
       "</g>\r\n",
       "<!-- 10 -->\r\n",
       "<g id=\"node11\" class=\"node\"><title>10</title>\r\n",
       "<path fill=\"#b139e5\" stroke=\"black\" d=\"M529,-53C529,-53 369,-53 369,-53 363,-53 357,-47 357,-41 357,-41 357,-12 357,-12 357,-6 363,-0 369,-0 369,-0 529,-0 529,-0 535,-0 541,-6 541,-12 541,-12 541,-41 541,-41 541,-47 535,-53 529,-53\"/>\r\n",
       "<text text-anchor=\"start\" x=\"420\" y=\"-37.8\" font-family=\"Helvetica,sans-Serif\" font-size=\"14.00\">gini = 0.0</text>\r\n",
       "<text text-anchor=\"start\" x=\"405.5\" y=\"-22.8\" font-family=\"Helvetica,sans-Serif\" font-size=\"14.00\">samples = 29</text>\r\n",
       "<text text-anchor=\"start\" x=\"365\" y=\"-7.8\" font-family=\"Helvetica,sans-Serif\" font-size=\"14.00\">value = [0, 0, 0, 0, 0, 29, 0]</text>\r\n",
       "</g>\r\n",
       "<!-- 8&#45;&gt;10 -->\r\n",
       "<g id=\"edge10\" class=\"edge\"><title>8&#45;&gt;10</title>\r\n",
       "<path fill=\"none\" stroke=\"black\" d=\"M384.625,-88.9485C394.401,-79.6175 405.029,-69.4722 414.78,-60.1641\"/>\r\n",
       "<polygon fill=\"black\" stroke=\"black\" points=\"417.221,-62.6732 422.038,-53.2367 412.387,-57.6097 417.221,-62.6732\"/>\r\n",
       "</g>\r\n",
       "<!-- 13 -->\r\n",
       "<g id=\"node14\" class=\"node\"><title>13</title>\r\n",
       "<path fill=\"#3956e5\" stroke=\"black\" d=\"M687,-357.5C687,-357.5 527,-357.5 527,-357.5 521,-357.5 515,-351.5 515,-345.5 515,-345.5 515,-316.5 515,-316.5 515,-310.5 521,-304.5 527,-304.5 527,-304.5 687,-304.5 687,-304.5 693,-304.5 699,-310.5 699,-316.5 699,-316.5 699,-345.5 699,-345.5 699,-351.5 693,-357.5 687,-357.5\"/>\r\n",
       "<text text-anchor=\"start\" x=\"578\" y=\"-342.3\" font-family=\"Helvetica,sans-Serif\" font-size=\"14.00\">gini = 0.0</text>\r\n",
       "<text text-anchor=\"start\" x=\"563.5\" y=\"-327.3\" font-family=\"Helvetica,sans-Serif\" font-size=\"14.00\">samples = 28</text>\r\n",
       "<text text-anchor=\"start\" x=\"523\" y=\"-312.3\" font-family=\"Helvetica,sans-Serif\" font-size=\"14.00\">value = [0, 0, 0, 0, 28, 0, 0]</text>\r\n",
       "</g>\r\n",
       "<!-- 12&#45;&gt;13 -->\r\n",
       "<g id=\"edge13\" class=\"edge\"><title>12&#45;&gt;13</title>\r\n",
       "<path fill=\"none\" stroke=\"black\" d=\"M609.026,-400.884C608.712,-390.216 608.363,-378.352 608.045,-367.519\"/>\r\n",
       "<polygon fill=\"black\" stroke=\"black\" points=\"611.543,-367.413 607.751,-357.52 604.546,-367.619 611.543,-367.413\"/>\r\n",
       "</g>\r\n",
       "<!-- 14 -->\r\n",
       "<g id=\"node15\" class=\"node\"><title>14</title>\r\n",
       "<path fill=\"#40e653\" stroke=\"black\" d=\"M889,-365C889,-365 729,-365 729,-365 723,-365 717,-359 717,-353 717,-353 717,-309 717,-309 717,-303 723,-297 729,-297 729,-297 889,-297 889,-297 895,-297 901,-303 901,-309 901,-309 901,-353 901,-353 901,-359 895,-365 889,-365\"/>\r\n",
       "<text text-anchor=\"start\" x=\"760.5\" y=\"-349.8\" font-family=\"Helvetica,sans-Serif\" font-size=\"14.00\">aquatic ≤ 0.967</text>\r\n",
       "<text text-anchor=\"start\" x=\"771.5\" y=\"-334.8\" font-family=\"Helvetica,sans-Serif\" font-size=\"14.00\">gini = 0.067</text>\r\n",
       "<text text-anchor=\"start\" x=\"765.5\" y=\"-319.8\" font-family=\"Helvetica,sans-Serif\" font-size=\"14.00\">samples = 29</text>\r\n",
       "<text text-anchor=\"start\" x=\"725\" y=\"-304.8\" font-family=\"Helvetica,sans-Serif\" font-size=\"14.00\">value = [0, 0, 28, 0, 1, 0, 0]</text>\r\n",
       "</g>\r\n",
       "<!-- 12&#45;&gt;14 -->\r\n",
       "<g id=\"edge14\" class=\"edge\"><title>12&#45;&gt;14</title>\r\n",
       "<path fill=\"none\" stroke=\"black\" d=\"M674.61,-400.884C693.998,-390.946 715.41,-379.971 735.336,-369.757\"/>\r\n",
       "<polygon fill=\"black\" stroke=\"black\" points=\"737.072,-372.801 744.374,-365.125 733.879,-366.571 737.072,-372.801\"/>\r\n",
       "</g>\r\n",
       "<!-- 15 -->\r\n",
       "<g id=\"node16\" class=\"node\"><title>15</title>\r\n",
       "<path fill=\"#39e54d\" stroke=\"black\" d=\"M790,-253.5C790,-253.5 630,-253.5 630,-253.5 624,-253.5 618,-247.5 618,-241.5 618,-241.5 618,-212.5 618,-212.5 618,-206.5 624,-200.5 630,-200.5 630,-200.5 790,-200.5 790,-200.5 796,-200.5 802,-206.5 802,-212.5 802,-212.5 802,-241.5 802,-241.5 802,-247.5 796,-253.5 790,-253.5\"/>\r\n",
       "<text text-anchor=\"start\" x=\"681\" y=\"-238.3\" font-family=\"Helvetica,sans-Serif\" font-size=\"14.00\">gini = 0.0</text>\r\n",
       "<text text-anchor=\"start\" x=\"666.5\" y=\"-223.3\" font-family=\"Helvetica,sans-Serif\" font-size=\"14.00\">samples = 27</text>\r\n",
       "<text text-anchor=\"start\" x=\"626\" y=\"-208.3\" font-family=\"Helvetica,sans-Serif\" font-size=\"14.00\">value = [0, 0, 27, 0, 0, 0, 0]</text>\r\n",
       "</g>\r\n",
       "<!-- 14&#45;&gt;15 -->\r\n",
       "<g id=\"edge15\" class=\"edge\"><title>14&#45;&gt;15</title>\r\n",
       "<path fill=\"none\" stroke=\"black\" d=\"M776.858,-296.884C765.649,-285.336 753.082,-272.387 741.894,-260.86\"/>\r\n",
       "<polygon fill=\"black\" stroke=\"black\" points=\"744.246,-258.258 734.769,-253.52 739.223,-263.133 744.246,-258.258\"/>\r\n",
       "</g>\r\n",
       "<!-- 16 -->\r\n",
       "<g id=\"node17\" class=\"node\"><title>16</title>\r\n",
       "<path fill=\"#ffffff\" stroke=\"black\" d=\"M984,-261C984,-261 832,-261 832,-261 826,-261 820,-255 820,-249 820,-249 820,-205 820,-205 820,-199 826,-193 832,-193 832,-193 984,-193 984,-193 990,-193 996,-199 996,-205 996,-205 996,-249 996,-249 996,-255 990,-261 984,-261\"/>\r\n",
       "<text text-anchor=\"start\" x=\"876.5\" y=\"-245.8\" font-family=\"Helvetica,sans-Serif\" font-size=\"14.00\">legs ≤ 2.0</text>\r\n",
       "<text text-anchor=\"start\" x=\"879\" y=\"-230.8\" font-family=\"Helvetica,sans-Serif\" font-size=\"14.00\">gini = 0.5</text>\r\n",
       "<text text-anchor=\"start\" x=\"868.5\" y=\"-215.8\" font-family=\"Helvetica,sans-Serif\" font-size=\"14.00\">samples = 2</text>\r\n",
       "<text text-anchor=\"start\" x=\"828\" y=\"-200.8\" font-family=\"Helvetica,sans-Serif\" font-size=\"14.00\">value = [0, 0, 1, 0, 1, 0, 0]</text>\r\n",
       "</g>\r\n",
       "<!-- 14&#45;&gt;16 -->\r\n",
       "<g id=\"edge16\" class=\"edge\"><title>14&#45;&gt;16</title>\r\n",
       "<path fill=\"none\" stroke=\"black\" d=\"M841.142,-296.884C849.874,-287.887 859.431,-278.041 868.518,-268.678\"/>\r\n",
       "<polygon fill=\"black\" stroke=\"black\" points=\"871.227,-270.913 875.68,-261.299 866.204,-266.038 871.227,-270.913\"/>\r\n",
       "</g>\r\n",
       "<!-- 17 -->\r\n",
       "<g id=\"node18\" class=\"node\"><title>17</title>\r\n",
       "<path fill=\"#39e54d\" stroke=\"black\" d=\"M887,-149.5C887,-149.5 735,-149.5 735,-149.5 729,-149.5 723,-143.5 723,-137.5 723,-137.5 723,-108.5 723,-108.5 723,-102.5 729,-96.5 735,-96.5 735,-96.5 887,-96.5 887,-96.5 893,-96.5 899,-102.5 899,-108.5 899,-108.5 899,-137.5 899,-137.5 899,-143.5 893,-149.5 887,-149.5\"/>\r\n",
       "<text text-anchor=\"start\" x=\"782\" y=\"-134.3\" font-family=\"Helvetica,sans-Serif\" font-size=\"14.00\">gini = 0.0</text>\r\n",
       "<text text-anchor=\"start\" x=\"771.5\" y=\"-119.3\" font-family=\"Helvetica,sans-Serif\" font-size=\"14.00\">samples = 1</text>\r\n",
       "<text text-anchor=\"start\" x=\"731\" y=\"-104.3\" font-family=\"Helvetica,sans-Serif\" font-size=\"14.00\">value = [0, 0, 1, 0, 0, 0, 0]</text>\r\n",
       "</g>\r\n",
       "<!-- 16&#45;&gt;17 -->\r\n",
       "<g id=\"edge17\" class=\"edge\"><title>16&#45;&gt;17</title>\r\n",
       "<path fill=\"none\" stroke=\"black\" d=\"M876.507,-192.884C865.525,-181.336 853.212,-168.387 842.25,-156.86\"/>\r\n",
       "<polygon fill=\"black\" stroke=\"black\" points=\"844.696,-154.354 835.269,-149.52 839.624,-159.178 844.696,-154.354\"/>\r\n",
       "</g>\r\n",
       "<!-- 18 -->\r\n",
       "<g id=\"node19\" class=\"node\"><title>18</title>\r\n",
       "<path fill=\"#3956e5\" stroke=\"black\" d=\"M1081,-149.5C1081,-149.5 929,-149.5 929,-149.5 923,-149.5 917,-143.5 917,-137.5 917,-137.5 917,-108.5 917,-108.5 917,-102.5 923,-96.5 929,-96.5 929,-96.5 1081,-96.5 1081,-96.5 1087,-96.5 1093,-102.5 1093,-108.5 1093,-108.5 1093,-137.5 1093,-137.5 1093,-143.5 1087,-149.5 1081,-149.5\"/>\r\n",
       "<text text-anchor=\"start\" x=\"976\" y=\"-134.3\" font-family=\"Helvetica,sans-Serif\" font-size=\"14.00\">gini = 0.0</text>\r\n",
       "<text text-anchor=\"start\" x=\"965.5\" y=\"-119.3\" font-family=\"Helvetica,sans-Serif\" font-size=\"14.00\">samples = 1</text>\r\n",
       "<text text-anchor=\"start\" x=\"925\" y=\"-104.3\" font-family=\"Helvetica,sans-Serif\" font-size=\"14.00\">value = [0, 0, 0, 0, 1, 0, 0]</text>\r\n",
       "</g>\r\n",
       "<!-- 16&#45;&gt;18 -->\r\n",
       "<g id=\"edge18\" class=\"edge\"><title>16&#45;&gt;18</title>\r\n",
       "<path fill=\"none\" stroke=\"black\" d=\"M939.493,-192.884C950.475,-181.336 962.788,-168.387 973.75,-156.86\"/>\r\n",
       "<polygon fill=\"black\" stroke=\"black\" points=\"976.376,-159.178 980.731,-149.52 971.304,-154.354 976.376,-159.178\"/>\r\n",
       "</g>\r\n",
       "</g>\r\n",
       "</svg>\r\n"
      ],
      "text/plain": [
       "<graphviz.files.Source at 0x2beb0874b08>"
      ]
     },
     "execution_count": 21,
     "metadata": {},
     "output_type": "execute_result"
    }
   ],
   "source": [
    "# plot the tree\n",
    "# for graphing the tree\n",
    "import graphviz as gv\n",
    "from sklearn import tree\n",
    "\n",
    "dot_data = tree.export_graphviz(model, out_file=None, filled=True, rounded = True, special_characters = True\n",
    "                               , feature_names = column_names)\n",
    "graph = gv.Source(dot_data)\n",
    "graph"
   ]
  },
  {
   "cell_type": "code",
   "execution_count": null,
   "metadata": {},
   "outputs": [],
   "source": []
  }
 ],
 "metadata": {
  "kernelspec": {
   "display_name": "Python 3",
   "language": "python",
   "name": "python3"
  },
  "language_info": {
   "codemirror_mode": {
    "name": "ipython",
    "version": 3
   },
   "file_extension": ".py",
   "mimetype": "text/x-python",
   "name": "python",
   "nbconvert_exporter": "python",
   "pygments_lexer": "ipython3",
   "version": "3.7.4"
  }
 },
 "nbformat": 4,
 "nbformat_minor": 2
}
