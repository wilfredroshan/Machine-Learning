{
 "cells": [
  {
   "cell_type": "markdown",
   "metadata": {},
   "source": [
    "### Data analysis and a simple decision tree example using data from https://www.kaggle.com/uciml/zoo-animal-classification\n",
    "\n",
    "### from Part-2 analysis, we know the gini index scores. Based on that we select following columns only.\n"
   ]
  },
  {
   "cell_type": "code",
   "execution_count": 1,
   "metadata": {},
   "outputs": [],
   "source": [
    "import pandas as pd\n",
    "from sklearn.preprocessing import OneHotEncoder\n",
    "import numpy as np\n",
    "from collections import Counter\n",
    "import math as math\n",
    "from imblearn.over_sampling import SMOTE\n",
    "from imblearn.over_sampling import RandomOverSampler"
   ]
  },
  {
   "cell_type": "markdown",
   "metadata": {},
   "source": [
    "Read the data file"
   ]
  },
  {
   "cell_type": "code",
   "execution_count": 2,
   "metadata": {},
   "outputs": [],
   "source": [
    "zoo_df = pd.read_csv(\"data\\Decision-Tree_Zoo-Data\\zoo-animal-classification\\zoo.csv\")"
   ]
  },
  {
   "cell_type": "markdown",
   "metadata": {},
   "source": [
    "Check if we are missing any data"
   ]
  },
  {
   "cell_type": "code",
   "execution_count": 3,
   "metadata": {},
   "outputs": [
    {
     "name": "stdout",
     "output_type": "stream",
     "text": [
      "<class 'pandas.core.frame.DataFrame'>\n",
      "RangeIndex: 101 entries, 0 to 100\n",
      "Data columns (total 18 columns):\n",
      "animal_name    101 non-null object\n",
      "hair           101 non-null int64\n",
      "feathers       101 non-null int64\n",
      "eggs           101 non-null int64\n",
      "milk           101 non-null int64\n",
      "airborne       101 non-null int64\n",
      "aquatic        101 non-null int64\n",
      "predator       101 non-null int64\n",
      "toothed        101 non-null int64\n",
      "backbone       101 non-null int64\n",
      "breathes       101 non-null int64\n",
      "venomous       101 non-null int64\n",
      "fins           101 non-null int64\n",
      "legs           101 non-null int64\n",
      "tail           101 non-null int64\n",
      "domestic       101 non-null int64\n",
      "catsize        101 non-null int64\n",
      "class_type     101 non-null int64\n",
      "dtypes: int64(17), object(1)\n",
      "memory usage: 14.3+ KB\n"
     ]
    }
   ],
   "source": [
    "zoo_df.info()"
   ]
  },
  {
   "cell_type": "markdown",
   "metadata": {},
   "source": [
    "animal_name is not useful in classification. remove it from data set"
   ]
  },
  {
   "cell_type": "code",
   "execution_count": 4,
   "metadata": {},
   "outputs": [
    {
     "name": "stdout",
     "output_type": "stream",
     "text": [
      "['aardvark', 'antelope', 'bass', 'bear', 'boar', 'buffalo', 'calf', 'carp', 'catfish', 'cavy', 'cheetah', 'chicken', 'chub', 'clam', 'crab', 'crayfish', 'crow', 'deer', 'dogfish', 'dolphin', 'dove', 'duck', 'elephant', 'flamingo', 'flea', 'frog', 'frog', 'fruitbat', 'giraffe', 'girl', 'gnat', 'goat', 'gorilla', 'gull', 'haddock', 'hamster', 'hare', 'hawk', 'herring', 'honeybee', 'housefly', 'kiwi', 'ladybird', 'lark', 'leopard', 'lion', 'lobster', 'lynx', 'mink', 'mole', 'mongoose', 'moth', 'newt', 'octopus', 'opossum', 'oryx', 'ostrich', 'parakeet', 'penguin', 'pheasant', 'pike', 'piranha', 'pitviper', 'platypus', 'polecat', 'pony', 'porpoise', 'puma', 'pussycat', 'raccoon', 'reindeer', 'rhea', 'scorpion', 'seahorse', 'seal', 'sealion', 'seasnake', 'seawasp', 'skimmer', 'skua', 'slowworm', 'slug', 'sole', 'sparrow', 'squirrel', 'starfish', 'stingray', 'swan', 'termite', 'toad', 'tortoise', 'tuatara', 'tuna', 'vampire', 'vole', 'vulture', 'wallaby', 'wasp', 'wolf', 'worm', 'wren']\n"
     ]
    }
   ],
   "source": [
    "animal_names = zoo_df['animal_name'].to_list()\n",
    "print(animal_names)\n",
    "zoo_df = zoo_df.drop('animal_name', axis=1)"
   ]
  },
  {
   "cell_type": "code",
   "execution_count": 5,
   "metadata": {},
   "outputs": [],
   "source": [
    "#One-of-K Encode the \"legs\" column data\n",
    "onehot_encoder = OneHotEncoder(sparse=False, categories = \"auto\", dtype=np.int)\n",
    "onehot_encoded = onehot_encoder.fit_transform(zoo_df[\"legs\"].values.reshape(-1,1))\n",
    "\n",
    "# prepare column names\n",
    "legs_clm_names = list()\n",
    "col_index = 0\n",
    "for name in onehot_encoder.categories_[0]:\n",
    "    zoo_df[\"legs\" + str(name)] = onehot_encoded[:, col_index]\n",
    "    col_index = col_index + 1\n",
    "zoo_df = zoo_df.drop(\"legs\", axis=1)"
   ]
  },
  {
   "cell_type": "code",
   "execution_count": 6,
   "metadata": {},
   "outputs": [],
   "source": [
    "for column in zoo_df.columns:\n",
    "    zoo_df[column] = zoo_df[column].astype(\"category\")"
   ]
  },
  {
   "cell_type": "code",
   "execution_count": 7,
   "metadata": {
    "scrolled": true
   },
   "outputs": [],
   "source": [
    "# assumes x and y are categorical data\n",
    "def calc_entropy(y_actual):\n",
    "    class_counter = Counter(y_actual)\n",
    "    total_count = float(len(y_actual))\n",
    "    entropy = 0;\n",
    "    for clas, count in class_counter.items():\n",
    "        probability = count/total_count\n",
    "        entropy = entropy - (probability * math.log2(probability))\n",
    "    print(\"Entropy Value: \", entropy)\n",
    "    return entropy\n",
    "\n",
    "def calc_information_gain(input_x, y_actual):\n",
    "    total_count = float(len(y_actual))\n",
    "    # divide the input_x column into k partitions\n",
    "    partitions = Counter(input_x)\n",
    "    sum_of_partition_entropies = 0;\n",
    "    print(partitions.items())\n",
    "    for partition_key, count in partitions.items():\n",
    "        mask = input_x == partition_key\n",
    "        sum_of_partition_entropies = sum_of_partition_entropies + ((count/total_count)*calc_entropy(y_actual[mask]))\n",
    "    info_gain = calc_entropy(y_actual) - sum_of_partition_entropies\n",
    "    return info_gain"
   ]
  },
  {
   "cell_type": "code",
   "execution_count": 8,
   "metadata": {},
   "outputs": [
    {
     "name": "stdout",
     "output_type": "stream",
     "text": [
      "['hair', 'feathers', 'eggs', 'milk', 'airborne', 'aquatic', 'predator', 'toothed', 'backbone', 'breathes', 'venomous', 'fins', 'tail', 'domestic', 'catsize', 'legs0', 'legs2', 'legs4', 'legs5', 'legs6', 'legs8']\n"
     ]
    }
   ],
   "source": [
    "columns= list(zoo_df.columns)\n",
    "columns.remove(\"class_type\")\n",
    "print(columns)"
   ]
  },
  {
   "cell_type": "code",
   "execution_count": 9,
   "metadata": {},
   "outputs": [
    {
     "name": "stdout",
     "output_type": "stream",
     "text": [
      "hair\n",
      "dict_items([(1, 43), (0, 58)])\n",
      "Entropy Value:  0.446481346896803\n",
      "Entropy Value:  2.4549947941466774\n",
      "Entropy Value:  2.390559682294039\n",
      "feathers\n",
      "dict_items([(0, 81), (1, 20)])\n",
      "Entropy Value:  2.085599756607019\n",
      "Entropy Value:  0.0\n",
      "Entropy Value:  2.390559682294039\n",
      "eggs\n",
      "dict_items([(0, 42), (1, 59)])\n",
      "Entropy Value:  0.3238144752669867\n",
      "Entropy Value:  2.440717570606548\n",
      "Entropy Value:  2.390559682294039\n",
      "milk\n",
      "dict_items([(1, 41), (0, 60)])\n",
      "Entropy Value:  0.0\n",
      "Entropy Value:  2.3840039346603206\n",
      "Entropy Value:  2.390559682294039\n",
      "airborne\n",
      "dict_items([(0, 77), (1, 24)])\n",
      "Entropy Value:  2.1490550563472093\n",
      "Entropy Value:  1.188721875540867\n",
      "Entropy Value:  2.390559682294039\n",
      "aquatic\n",
      "dict_items([(0, 65), (1, 36)])\n",
      "Entropy Value:  1.8250158976149118\n",
      "Entropy Value:  2.3189516306418954\n",
      "Entropy Value:  2.390559682294039\n",
      "predator\n",
      "dict_items([(1, 56), (0, 45)])\n",
      "Entropy Value:  2.380193616019289\n",
      "Entropy Value:  2.19372298488875\n",
      "Entropy Value:  2.390559682294039\n",
      "toothed\n",
      "dict_items([(1, 61), (0, 40)])\n",
      "Entropy Value:  1.3900350403279897\n",
      "Entropy Value:  1.7304820237218403\n",
      "Entropy Value:  2.390559682294039\n",
      "backbone\n",
      "dict_items([(1, 83), (0, 18)])\n",
      "Entropy Value:  1.8712617096919888\n",
      "Entropy Value:  0.9910760598382222\n",
      "Entropy Value:  2.390559682294039\n",
      "breathes\n",
      "dict_items([(1, 80), (0, 21)])\n",
      "Entropy Value:  1.9362645750217105\n",
      "Entropy Value:  1.1657840518150733\n",
      "Entropy Value:  2.390559682294039\n",
      "venomous\n",
      "dict_items([(0, 93), (1, 8)])\n",
      "Entropy Value:  2.2581126379424785\n",
      "Entropy Value:  2.25\n",
      "Entropy Value:  2.390559682294039\n",
      "fins\n",
      "dict_items([(0, 84), (1, 17)])\n",
      "Entropy Value:  2.1540167340962744\n",
      "Entropy Value:  0.7871265862012691\n",
      "Entropy Value:  2.390559682294039\n",
      "tail\n",
      "dict_items([(0, 26), (1, 75)])\n",
      "Entropy Value:  1.9006709673921995\n",
      "Entropy Value:  1.8864343664813197\n",
      "Entropy Value:  2.390559682294039\n",
      "domestic\n",
      "dict_items([(0, 88), (1, 13)])\n",
      "Entropy Value:  2.4656608217457943\n",
      "Entropy Value:  1.4885252948977485\n",
      "Entropy Value:  2.390559682294039\n",
      "catsize\n",
      "dict_items([(1, 44), (0, 57)])\n",
      "Entropy Value:  1.2887549139935035\n",
      "Entropy Value:  2.6944524010463393\n",
      "Entropy Value:  2.390559682294039\n",
      "legs0\n",
      "dict_items([(0, 78), (1, 23)])\n",
      "Entropy Value:  1.9857921879272427\n",
      "Entropy Value:  1.6707145064847897\n",
      "Entropy Value:  2.390559682294039\n",
      "legs2\n",
      "dict_items([(0, 74), (1, 27)])\n",
      "Entropy Value:  2.1836645229038667\n",
      "Entropy Value:  0.8256265261578954\n",
      "Entropy Value:  2.390559682294039\n",
      "legs4\n",
      "dict_items([(1, 38), (0, 63)])\n",
      "Entropy Value:  0.9431884181279768\n",
      "Entropy Value:  2.4050930711570695\n",
      "Entropy Value:  2.390559682294039\n",
      "legs5\n",
      "dict_items([(0, 100), (1, 1)])\n",
      "Entropy Value:  2.3804274306713196\n",
      "Entropy Value:  0.0\n",
      "Entropy Value:  2.390559682294039\n",
      "legs6\n",
      "dict_items([(0, 91), (1, 10)])\n",
      "Entropy Value:  2.1362171578101283\n",
      "Entropy Value:  0.7219280948873623\n",
      "Entropy Value:  2.390559682294039\n",
      "legs8\n",
      "dict_items([(0, 99), (1, 2)])\n",
      "Entropy Value:  2.368613681722441\n",
      "Entropy Value:  0.0\n",
      "Entropy Value:  2.390559682294039\n"
     ]
    }
   ],
   "source": [
    "# copy X columns\n",
    "X = zoo_df.loc[:, zoo_df.columns != 'class_type']\n",
    "y = zoo_df['class_type']\n",
    "\n",
    "info_gains = list()\n",
    "for column_index in range(X.shape[1]):\n",
    "    print(columns[column_index])\n",
    "    info_gain = calc_information_gain(X[columns[column_index]], y)\n",
    "    info_gains.append((columns[column_index], info_gain))\n",
    "\n",
    "def index(tup):\n",
    "    return tup[1]\n",
    "info_gains.sort(key=index, reverse=True)"
   ]
  },
  {
   "cell_type": "code",
   "execution_count": 10,
   "metadata": {},
   "outputs": [
    {
     "name": "stdout",
     "output_type": "stream",
     "text": [
      "[('milk', 0.9743197211096903), ('toothed', 0.8656941534932372), ('eggs', 0.8301384483633483), ('hair', 0.7906745736101797), ('feathers', 0.717949976500291), ('backbone', 0.6761627418829197), ('breathes', 0.6144940279390552), ('legs2', 0.5699350199064221), ('legs4', 0.5354901439597965), ('tail', 0.5004604482515029), ('legs0', 0.47651785746755304), ('airborne', 0.4697026095047725), ('fins', 0.4666135671503897), ('legs6', 0.3943711445752738), ('aquatic', 0.3894874837982223), ('catsize', 0.30849034491428196), ('venomous', 0.13308962953512316), ('predator', 0.09344704054083186), ('legs8', 0.06884924179382468), ('domestic', 0.05066877984551832), ('legs5', 0.033700840045208125)]\n"
     ]
    }
   ],
   "source": [
    "print(info_gains)"
   ]
  },
  {
   "cell_type": "markdown",
   "metadata": {},
   "source": [
    "## Split the data into training and testing sets"
   ]
  },
  {
   "cell_type": "code",
   "execution_count": 11,
   "metadata": {},
   "outputs": [],
   "source": [
    "from sklearn.model_selection import train_test_split\n",
    "from imblearn.over_sampling import SMOTE\n",
    "from imblearn.over_sampling import RandomOverSampler"
   ]
  },
  {
   "cell_type": "code",
   "execution_count": 12,
   "metadata": {},
   "outputs": [],
   "source": [
    "# copy first N columns\n",
    "num_features_to_use = 13\n",
    "features = []\n",
    "count = 0\n",
    "for feature, score in info_gains:\n",
    "    features.append(feature)\n",
    "    count+=1\n",
    "    if count == num_features_to_use:\n",
    "        break\n",
    "#print(features)\n",
    "#columns = [\"toothed\", \"tail\", \"backbone\", \"legs4\", \"breathes\", \"legs0\", \"aquatic\", \"venomous\", \"hair\", \"eggs\", \"feathers\", \"milk\"]\n",
    "X = zoo_df[features]\n",
    "# copy Y column (class)\n",
    "y = zoo_df['class_type']"
   ]
  },
  {
   "cell_type": "code",
   "execution_count": 13,
   "metadata": {},
   "outputs": [],
   "source": [
    "#oversampler = SMOTE(k_neighbors=1)\n",
    "oversampler = RandomOverSampler()\n",
    "X, y = oversampler.fit_resample(X, y)"
   ]
  },
  {
   "cell_type": "code",
   "execution_count": 14,
   "metadata": {},
   "outputs": [],
   "source": [
    "# split the data (70-30 split)\n",
    "train_X, test_X, train_Y, test_Y = train_test_split(X, y, test_size = 0.30, stratify = y)"
   ]
  },
  {
   "cell_type": "markdown",
   "metadata": {},
   "source": [
    "Build the machine learning model"
   ]
  },
  {
   "cell_type": "code",
   "execution_count": 15,
   "metadata": {},
   "outputs": [],
   "source": [
    "from sklearn.tree import DecisionTreeClassifier"
   ]
  },
  {
   "cell_type": "code",
   "execution_count": 16,
   "metadata": {},
   "outputs": [
    {
     "data": {
      "text/plain": [
       "DecisionTreeClassifier(class_weight=None, criterion='entropy', max_depth=None,\n",
       "                       max_features=None, max_leaf_nodes=None,\n",
       "                       min_impurity_decrease=0.0, min_impurity_split=None,\n",
       "                       min_samples_leaf=1, min_samples_split=2,\n",
       "                       min_weight_fraction_leaf=0.0, presort=False,\n",
       "                       random_state=None, splitter='best')"
      ]
     },
     "execution_count": 16,
     "metadata": {},
     "output_type": "execute_result"
    }
   ],
   "source": [
    "model = DecisionTreeClassifier(criterion=\"entropy\")\n",
    "model.fit(train_X, train_Y)"
   ]
  },
  {
   "cell_type": "markdown",
   "metadata": {},
   "source": [
    "Predict the class of test data"
   ]
  },
  {
   "cell_type": "code",
   "execution_count": 17,
   "metadata": {},
   "outputs": [],
   "source": [
    "y_predicted = model.predict(test_X)"
   ]
  },
  {
   "cell_type": "markdown",
   "metadata": {},
   "source": [
    "How good is the model?\n",
    "check accuracy"
   ]
  },
  {
   "cell_type": "code",
   "execution_count": 18,
   "metadata": {},
   "outputs": [],
   "source": [
    "from sklearn.metrics import accuracy_score"
   ]
  },
  {
   "cell_type": "code",
   "execution_count": 19,
   "metadata": {},
   "outputs": [
    {
     "name": "stdout",
     "output_type": "stream",
     "text": [
      "1.0\n"
     ]
    }
   ],
   "source": [
    "print(accuracy_score(test_Y, y_predicted))"
   ]
  },
  {
   "cell_type": "markdown",
   "metadata": {},
   "source": [
    "Build confusion matrix"
   ]
  },
  {
   "cell_type": "code",
   "execution_count": 20,
   "metadata": {},
   "outputs": [],
   "source": [
    "from sklearn.metrics import confusion_matrix"
   ]
  },
  {
   "cell_type": "code",
   "execution_count": 21,
   "metadata": {},
   "outputs": [
    {
     "name": "stdout",
     "output_type": "stream",
     "text": [
      "[[13  0  0  0  0  0  0]\n",
      " [ 0 12  0  0  0  0  0]\n",
      " [ 0  0 12  0  0  0  0]\n",
      " [ 0  0  0 13  0  0  0]\n",
      " [ 0  0  0  0 13  0  0]\n",
      " [ 0  0  0  0  0 12  0]\n",
      " [ 0  0  0  0  0  0 12]]\n"
     ]
    }
   ],
   "source": [
    "c_matrix = confusion_matrix(test_Y, y_predicted, labels=[1, 2, 3, 4, 5, 6, 7])\n",
    "print(c_matrix)"
   ]
  },
  {
   "cell_type": "code",
   "execution_count": 22,
   "metadata": {},
   "outputs": [],
   "source": [
    "from collections import Counter"
   ]
  },
  {
   "cell_type": "code",
   "execution_count": 23,
   "metadata": {},
   "outputs": [
    {
     "name": "stdout",
     "output_type": "stream",
     "text": [
      "Counter({5: 13, 4: 13, 1: 13, 7: 12, 3: 12, 6: 12, 2: 12})\n"
     ]
    }
   ],
   "source": [
    "print(Counter(test_Y))"
   ]
  },
  {
   "cell_type": "code",
   "execution_count": 24,
   "metadata": {},
   "outputs": [
    {
     "name": "stdout",
     "output_type": "stream",
     "text": [
      "Counter({5: 13, 4: 13, 1: 13, 7: 12, 3: 12, 6: 12, 2: 12})\n"
     ]
    }
   ],
   "source": [
    "print(Counter(y_predicted))"
   ]
  },
  {
   "cell_type": "code",
   "execution_count": 25,
   "metadata": {},
   "outputs": [
    {
     "data": {
      "image/svg+xml": [
       "<?xml version=\"1.0\" encoding=\"UTF-8\" standalone=\"no\"?>\r\n",
       "<!DOCTYPE svg PUBLIC \"-//W3C//DTD SVG 1.1//EN\"\r\n",
       " \"http://www.w3.org/Graphics/SVG/1.1/DTD/svg11.dtd\">\r\n",
       "<!-- Generated by graphviz version 2.38.0 (20140413.2041)\r\n",
       " -->\r\n",
       "<!-- Title: Tree Pages: 1 -->\r\n",
       "<svg width=\"1301pt\" height=\"685pt\"\r\n",
       " viewBox=\"0.00 0.00 1301.00 685.00\" xmlns=\"http://www.w3.org/2000/svg\" xmlns:xlink=\"http://www.w3.org/1999/xlink\">\r\n",
       "<g id=\"graph0\" class=\"graph\" transform=\"scale(1 1) rotate(0) translate(4 681)\">\r\n",
       "<title>Tree</title>\r\n",
       "<polygon fill=\"white\" stroke=\"none\" points=\"-4,4 -4,-681 1297,-681 1297,4 -4,4\"/>\r\n",
       "<!-- 0 -->\r\n",
       "<g id=\"node1\" class=\"node\"><title>0</title>\r\n",
       "<path fill=\"#ffffff\" stroke=\"black\" d=\"M940.5,-677C940.5,-677 731.5,-677 731.5,-677 725.5,-677 719.5,-671 719.5,-665 719.5,-665 719.5,-621 719.5,-621 719.5,-615 725.5,-609 731.5,-609 731.5,-609 940.5,-609 940.5,-609 946.5,-609 952.5,-615 952.5,-621 952.5,-621 952.5,-665 952.5,-665 952.5,-671 946.5,-677 940.5,-677\"/>\r\n",
       "<text text-anchor=\"start\" x=\"794\" y=\"-661.8\" font-family=\"Helvetica,sans-Serif\" font-size=\"14.00\">toothed ≤ 0.5</text>\r\n",
       "<text text-anchor=\"start\" x=\"786\" y=\"-646.8\" font-family=\"Helvetica,sans-Serif\" font-size=\"14.00\">entropy = 2.807</text>\r\n",
       "<text text-anchor=\"start\" x=\"788.5\" y=\"-631.8\" font-family=\"Helvetica,sans-Serif\" font-size=\"14.00\">samples = 200</text>\r\n",
       "<text text-anchor=\"start\" x=\"727.5\" y=\"-616.8\" font-family=\"Helvetica,sans-Serif\" font-size=\"14.00\">value = [28, 29, 29, 28, 28, 29, 29]</text>\r\n",
       "</g>\r\n",
       "<!-- 1 -->\r\n",
       "<g id=\"node2\" class=\"node\"><title>1</title>\r\n",
       "<path fill=\"#ffffff\" stroke=\"black\" d=\"M770,-573C770,-573 594,-573 594,-573 588,-573 582,-567 582,-561 582,-561 582,-517 582,-517 582,-511 588,-505 594,-505 594,-505 770,-505 770,-505 776,-505 782,-511 782,-517 782,-517 782,-561 782,-561 782,-567 776,-573 770,-573\"/>\r\n",
       "<text text-anchor=\"start\" x=\"633\" y=\"-557.8\" font-family=\"Helvetica,sans-Serif\" font-size=\"14.00\">backbone ≤ 0.5</text>\r\n",
       "<text text-anchor=\"start\" x=\"636\" y=\"-542.8\" font-family=\"Helvetica,sans-Serif\" font-size=\"14.00\">entropy = 1.87</text>\r\n",
       "<text text-anchor=\"start\" x=\"638.5\" y=\"-527.8\" font-family=\"Helvetica,sans-Serif\" font-size=\"14.00\">samples = 93</text>\r\n",
       "<text text-anchor=\"start\" x=\"590\" y=\"-512.8\" font-family=\"Helvetica,sans-Serif\" font-size=\"14.00\">value = [1, 29, 5, 0, 0, 29, 29]</text>\r\n",
       "</g>\r\n",
       "<!-- 0&#45;&gt;1 -->\r\n",
       "<g id=\"edge1\" class=\"edge\"><title>0&#45;&gt;1</title>\r\n",
       "<path fill=\"none\" stroke=\"black\" d=\"M786.001,-608.884C771.537,-599.304 755.619,-588.761 740.678,-578.864\"/>\r\n",
       "<polygon fill=\"black\" stroke=\"black\" points=\"742.282,-575.729 732.012,-573.125 738.416,-581.565 742.282,-575.729\"/>\r\n",
       "<text text-anchor=\"middle\" x=\"736.988\" y=\"-593.924\" font-family=\"Helvetica,sans-Serif\" font-size=\"14.00\">True</text>\r\n",
       "</g>\r\n",
       "<!-- 16 -->\r\n",
       "<g id=\"node17\" class=\"node\"><title>16</title>\r\n",
       "<path fill=\"#ffffff\" stroke=\"black\" d=\"M1083.5,-573C1083.5,-573 898.5,-573 898.5,-573 892.5,-573 886.5,-567 886.5,-561 886.5,-561 886.5,-517 886.5,-517 886.5,-511 892.5,-505 898.5,-505 898.5,-505 1083.5,-505 1083.5,-505 1089.5,-505 1095.5,-511 1095.5,-517 1095.5,-517 1095.5,-561 1095.5,-561 1095.5,-567 1089.5,-573 1083.5,-573\"/>\r\n",
       "<text text-anchor=\"start\" x=\"960.5\" y=\"-557.8\" font-family=\"Helvetica,sans-Serif\" font-size=\"14.00\">milk ≤ 0.5</text>\r\n",
       "<text text-anchor=\"start\" x=\"941\" y=\"-542.8\" font-family=\"Helvetica,sans-Serif\" font-size=\"14.00\">entropy = 1.997</text>\r\n",
       "<text text-anchor=\"start\" x=\"943.5\" y=\"-527.8\" font-family=\"Helvetica,sans-Serif\" font-size=\"14.00\">samples = 107</text>\r\n",
       "<text text-anchor=\"start\" x=\"894.5\" y=\"-512.8\" font-family=\"Helvetica,sans-Serif\" font-size=\"14.00\">value = [27, 0, 24, 28, 28, 0, 0]</text>\r\n",
       "</g>\r\n",
       "<!-- 0&#45;&gt;16 -->\r\n",
       "<g id=\"edge16\" class=\"edge\"><title>0&#45;&gt;16</title>\r\n",
       "<path fill=\"none\" stroke=\"black\" d=\"M886.324,-608.884C900.881,-599.304 916.903,-588.761 931.941,-578.864\"/>\r\n",
       "<polygon fill=\"black\" stroke=\"black\" points=\"934.234,-581.546 940.663,-573.125 930.386,-575.698 934.234,-581.546\"/>\r\n",
       "<text text-anchor=\"middle\" x=\"935.614\" y=\"-593.909\" font-family=\"Helvetica,sans-Serif\" font-size=\"14.00\">False</text>\r\n",
       "</g>\r\n",
       "<!-- 2 -->\r\n",
       "<g id=\"node3\" class=\"node\"><title>2</title>\r\n",
       "<path fill=\"#ffffff\" stroke=\"black\" d=\"M473,-469C473,-469 305,-469 305,-469 299,-469 293,-463 293,-457 293,-457 293,-413 293,-413 293,-407 299,-401 305,-401 305,-401 473,-401 473,-401 479,-401 485,-407 485,-413 485,-413 485,-457 485,-457 485,-463 479,-469 473,-469\"/>\r\n",
       "<text text-anchor=\"start\" x=\"345\" y=\"-453.8\" font-family=\"Helvetica,sans-Serif\" font-size=\"14.00\">airborne ≤ 0.5</text>\r\n",
       "<text text-anchor=\"start\" x=\"347\" y=\"-438.8\" font-family=\"Helvetica,sans-Serif\" font-size=\"14.00\">entropy = 1.0</text>\r\n",
       "<text text-anchor=\"start\" x=\"345.5\" y=\"-423.8\" font-family=\"Helvetica,sans-Serif\" font-size=\"14.00\">samples = 58</text>\r\n",
       "<text text-anchor=\"start\" x=\"301\" y=\"-408.8\" font-family=\"Helvetica,sans-Serif\" font-size=\"14.00\">value = [0, 0, 0, 0, 0, 29, 29]</text>\r\n",
       "</g>\r\n",
       "<!-- 1&#45;&gt;2 -->\r\n",
       "<g id=\"edge2\" class=\"edge\"><title>1&#45;&gt;2</title>\r\n",
       "<path fill=\"none\" stroke=\"black\" d=\"M586.871,-504.884C557.092,-494.517 524.071,-483.021 493.672,-472.439\"/>\r\n",
       "<polygon fill=\"black\" stroke=\"black\" points=\"494.497,-469.02 483.902,-469.038 492.195,-475.631 494.497,-469.02\"/>\r\n",
       "</g>\r\n",
       "<!-- 11 -->\r\n",
       "<g id=\"node12\" class=\"node\"><title>11</title>\r\n",
       "<path fill=\"#c5ea61\" stroke=\"black\" d=\"M762,-469C762,-469 602,-469 602,-469 596,-469 590,-463 590,-457 590,-457 590,-413 590,-413 590,-407 596,-401 602,-401 602,-401 762,-401 762,-401 768,-401 774,-407 774,-413 774,-413 774,-457 774,-457 774,-463 768,-469 762,-469\"/>\r\n",
       "<text text-anchor=\"start\" x=\"638\" y=\"-453.8\" font-family=\"Helvetica,sans-Serif\" font-size=\"14.00\">feathers ≤ 0.5</text>\r\n",
       "<text text-anchor=\"start\" x=\"632\" y=\"-438.8\" font-family=\"Helvetica,sans-Serif\" font-size=\"14.00\">entropy = 0.772</text>\r\n",
       "<text text-anchor=\"start\" x=\"638.5\" y=\"-423.8\" font-family=\"Helvetica,sans-Serif\" font-size=\"14.00\">samples = 35</text>\r\n",
       "<text text-anchor=\"start\" x=\"598\" y=\"-408.8\" font-family=\"Helvetica,sans-Serif\" font-size=\"14.00\">value = [1, 29, 5, 0, 0, 0, 0]</text>\r\n",
       "</g>\r\n",
       "<!-- 1&#45;&gt;11 -->\r\n",
       "<g id=\"edge11\" class=\"edge\"><title>1&#45;&gt;11</title>\r\n",
       "<path fill=\"none\" stroke=\"black\" d=\"M682,-504.884C682,-496.778 682,-487.982 682,-479.472\"/>\r\n",
       "<polygon fill=\"black\" stroke=\"black\" points=\"685.5,-479.299 682,-469.299 678.5,-479.299 685.5,-479.299\"/>\r\n",
       "</g>\r\n",
       "<!-- 3 -->\r\n",
       "<g id=\"node4\" class=\"node\"><title>3</title>\r\n",
       "<path fill=\"#eb69a3\" stroke=\"black\" d=\"M267,-365C267,-365 107,-365 107,-365 101,-365 95,-359 95,-353 95,-353 95,-309 95,-309 95,-303 101,-297 107,-297 107,-297 267,-297 267,-297 273,-297 279,-303 279,-309 279,-309 279,-353 279,-353 279,-359 273,-365 267,-365\"/>\r\n",
       "<text text-anchor=\"start\" x=\"141.5\" y=\"-349.8\" font-family=\"Helvetica,sans-Serif\" font-size=\"14.00\">breathes ≤ 0.5</text>\r\n",
       "<text text-anchor=\"start\" x=\"137\" y=\"-334.8\" font-family=\"Helvetica,sans-Serif\" font-size=\"14.00\">entropy = 0.711</text>\r\n",
       "<text text-anchor=\"start\" x=\"143.5\" y=\"-319.8\" font-family=\"Helvetica,sans-Serif\" font-size=\"14.00\">samples = 36</text>\r\n",
       "<text text-anchor=\"start\" x=\"103\" y=\"-304.8\" font-family=\"Helvetica,sans-Serif\" font-size=\"14.00\">value = [0, 0, 0, 0, 0, 7, 29]</text>\r\n",
       "</g>\r\n",
       "<!-- 2&#45;&gt;3 -->\r\n",
       "<g id=\"edge3\" class=\"edge\"><title>2&#45;&gt;3</title>\r\n",
       "<path fill=\"none\" stroke=\"black\" d=\"M323.416,-400.884C303.736,-390.946 282.001,-379.971 261.775,-369.757\"/>\r\n",
       "<polygon fill=\"black\" stroke=\"black\" points=\"263.104,-366.508 252.6,-365.125 259.949,-372.757 263.104,-366.508\"/>\r\n",
       "</g>\r\n",
       "<!-- 10 -->\r\n",
       "<g id=\"node11\" class=\"node\"><title>10</title>\r\n",
       "<path fill=\"#b139e5\" stroke=\"black\" d=\"M469,-357.5C469,-357.5 309,-357.5 309,-357.5 303,-357.5 297,-351.5 297,-345.5 297,-345.5 297,-316.5 297,-316.5 297,-310.5 303,-304.5 309,-304.5 309,-304.5 469,-304.5 469,-304.5 475,-304.5 481,-310.5 481,-316.5 481,-316.5 481,-345.5 481,-345.5 481,-351.5 475,-357.5 469,-357.5\"/>\r\n",
       "<text text-anchor=\"start\" x=\"347\" y=\"-342.3\" font-family=\"Helvetica,sans-Serif\" font-size=\"14.00\">entropy = 0.0</text>\r\n",
       "<text text-anchor=\"start\" x=\"345.5\" y=\"-327.3\" font-family=\"Helvetica,sans-Serif\" font-size=\"14.00\">samples = 22</text>\r\n",
       "<text text-anchor=\"start\" x=\"305\" y=\"-312.3\" font-family=\"Helvetica,sans-Serif\" font-size=\"14.00\">value = [0, 0, 0, 0, 0, 22, 0]</text>\r\n",
       "</g>\r\n",
       "<!-- 2&#45;&gt;10 -->\r\n",
       "<g id=\"edge10\" class=\"edge\"><title>2&#45;&gt;10</title>\r\n",
       "<path fill=\"none\" stroke=\"black\" d=\"M389,-400.884C389,-390.326 389,-378.597 389,-367.854\"/>\r\n",
       "<polygon fill=\"black\" stroke=\"black\" points=\"392.5,-367.52 389,-357.52 385.5,-367.52 392.5,-367.52\"/>\r\n",
       "</g>\r\n",
       "<!-- 4 -->\r\n",
       "<g id=\"node5\" class=\"node\"><title>4</title>\r\n",
       "<path fill=\"#e53986\" stroke=\"black\" d=\"M172,-253.5C172,-253.5 12,-253.5 12,-253.5 6,-253.5 0,-247.5 0,-241.5 0,-241.5 0,-212.5 0,-212.5 0,-206.5 6,-200.5 12,-200.5 12,-200.5 172,-200.5 172,-200.5 178,-200.5 184,-206.5 184,-212.5 184,-212.5 184,-241.5 184,-241.5 184,-247.5 178,-253.5 172,-253.5\"/>\r\n",
       "<text text-anchor=\"start\" x=\"50\" y=\"-238.3\" font-family=\"Helvetica,sans-Serif\" font-size=\"14.00\">entropy = 0.0</text>\r\n",
       "<text text-anchor=\"start\" x=\"48.5\" y=\"-223.3\" font-family=\"Helvetica,sans-Serif\" font-size=\"14.00\">samples = 21</text>\r\n",
       "<text text-anchor=\"start\" x=\"8\" y=\"-208.3\" font-family=\"Helvetica,sans-Serif\" font-size=\"14.00\">value = [0, 0, 0, 0, 0, 0, 21]</text>\r\n",
       "</g>\r\n",
       "<!-- 3&#45;&gt;4 -->\r\n",
       "<g id=\"edge4\" class=\"edge\"><title>3&#45;&gt;4</title>\r\n",
       "<path fill=\"none\" stroke=\"black\" d=\"M156.156,-296.884C145.401,-285.336 133.341,-272.387 122.605,-260.86\"/>\r\n",
       "<polygon fill=\"black\" stroke=\"black\" points=\"125.145,-258.452 115.769,-253.52 120.023,-263.223 125.145,-258.452\"/>\r\n",
       "</g>\r\n",
       "<!-- 5 -->\r\n",
       "<g id=\"node6\" class=\"node\"><title>5</title>\r\n",
       "<path fill=\"#fce6f0\" stroke=\"black\" d=\"M366,-261C366,-261 214,-261 214,-261 208,-261 202,-255 202,-249 202,-249 202,-205 202,-205 202,-199 208,-193 214,-193 214,-193 366,-193 366,-193 372,-193 378,-199 378,-205 378,-205 378,-249 378,-249 378,-255 372,-261 366,-261\"/>\r\n",
       "<text text-anchor=\"start\" x=\"254.5\" y=\"-245.8\" font-family=\"Helvetica,sans-Serif\" font-size=\"14.00\">legs0 ≤ 0.5</text>\r\n",
       "<text text-anchor=\"start\" x=\"240\" y=\"-230.8\" font-family=\"Helvetica,sans-Serif\" font-size=\"14.00\">entropy = 0.997</text>\r\n",
       "<text text-anchor=\"start\" x=\"246.5\" y=\"-215.8\" font-family=\"Helvetica,sans-Serif\" font-size=\"14.00\">samples = 15</text>\r\n",
       "<text text-anchor=\"start\" x=\"210\" y=\"-200.8\" font-family=\"Helvetica,sans-Serif\" font-size=\"14.00\">value = [0, 0, 0, 0, 0, 7, 8]</text>\r\n",
       "</g>\r\n",
       "<!-- 3&#45;&gt;5 -->\r\n",
       "<g id=\"edge5\" class=\"edge\"><title>3&#45;&gt;5</title>\r\n",
       "<path fill=\"none\" stroke=\"black\" d=\"M220.441,-296.884C229.616,-287.798 239.666,-277.845 249.204,-268.4\"/>\r\n",
       "<polygon fill=\"black\" stroke=\"black\" points=\"251.731,-270.823 256.374,-261.299 246.806,-265.849 251.731,-270.823\"/>\r\n",
       "</g>\r\n",
       "<!-- 6 -->\r\n",
       "<g id=\"node7\" class=\"node\"><title>6</title>\r\n",
       "<path fill=\"#c772ec\" stroke=\"black\" d=\"M269,-157C269,-157 117,-157 117,-157 111,-157 105,-151 105,-145 105,-145 105,-101 105,-101 105,-95 111,-89 117,-89 117,-89 269,-89 269,-89 275,-89 281,-95 281,-101 281,-101 281,-145 281,-145 281,-151 275,-157 269,-157\"/>\r\n",
       "<text text-anchor=\"start\" x=\"166.5\" y=\"-141.8\" font-family=\"Helvetica,sans-Serif\" font-size=\"14.00\">tail ≤ 0.5</text>\r\n",
       "<text text-anchor=\"start\" x=\"143\" y=\"-126.8\" font-family=\"Helvetica,sans-Serif\" font-size=\"14.00\">entropy = 0.764</text>\r\n",
       "<text text-anchor=\"start\" x=\"153.5\" y=\"-111.8\" font-family=\"Helvetica,sans-Serif\" font-size=\"14.00\">samples = 9</text>\r\n",
       "<text text-anchor=\"start\" x=\"113\" y=\"-96.8\" font-family=\"Helvetica,sans-Serif\" font-size=\"14.00\">value = [0, 0, 0, 0, 0, 7, 2]</text>\r\n",
       "</g>\r\n",
       "<!-- 5&#45;&gt;6 -->\r\n",
       "<g id=\"edge6\" class=\"edge\"><title>5&#45;&gt;6</title>\r\n",
       "<path fill=\"none\" stroke=\"black\" d=\"M258.507,-192.884C249.951,-183.887 240.588,-174.041 231.684,-164.678\"/>\r\n",
       "<polygon fill=\"black\" stroke=\"black\" points=\"234.095,-162.134 224.667,-157.299 229.022,-166.958 234.095,-162.134\"/>\r\n",
       "</g>\r\n",
       "<!-- 9 -->\r\n",
       "<g id=\"node10\" class=\"node\"><title>9</title>\r\n",
       "<path fill=\"#e53986\" stroke=\"black\" d=\"M463,-149.5C463,-149.5 311,-149.5 311,-149.5 305,-149.5 299,-143.5 299,-137.5 299,-137.5 299,-108.5 299,-108.5 299,-102.5 305,-96.5 311,-96.5 311,-96.5 463,-96.5 463,-96.5 469,-96.5 475,-102.5 475,-108.5 475,-108.5 475,-137.5 475,-137.5 475,-143.5 469,-149.5 463,-149.5\"/>\r\n",
       "<text text-anchor=\"start\" x=\"345\" y=\"-134.3\" font-family=\"Helvetica,sans-Serif\" font-size=\"14.00\">entropy = 0.0</text>\r\n",
       "<text text-anchor=\"start\" x=\"347.5\" y=\"-119.3\" font-family=\"Helvetica,sans-Serif\" font-size=\"14.00\">samples = 6</text>\r\n",
       "<text text-anchor=\"start\" x=\"307\" y=\"-104.3\" font-family=\"Helvetica,sans-Serif\" font-size=\"14.00\">value = [0, 0, 0, 0, 0, 0, 6]</text>\r\n",
       "</g>\r\n",
       "<!-- 5&#45;&gt;9 -->\r\n",
       "<g id=\"edge9\" class=\"edge\"><title>5&#45;&gt;9</title>\r\n",
       "<path fill=\"none\" stroke=\"black\" d=\"M321.493,-192.884C332.475,-181.336 344.788,-168.387 355.75,-156.86\"/>\r\n",
       "<polygon fill=\"black\" stroke=\"black\" points=\"358.376,-159.178 362.731,-149.52 353.304,-154.354 358.376,-159.178\"/>\r\n",
       "</g>\r\n",
       "<!-- 7 -->\r\n",
       "<g id=\"node8\" class=\"node\"><title>7</title>\r\n",
       "<path fill=\"#b139e5\" stroke=\"black\" d=\"M172,-53C172,-53 20,-53 20,-53 14,-53 8,-47 8,-41 8,-41 8,-12 8,-12 8,-6 14,-0 20,-0 20,-0 172,-0 172,-0 178,-0 184,-6 184,-12 184,-12 184,-41 184,-41 184,-47 178,-53 172,-53\"/>\r\n",
       "<text text-anchor=\"start\" x=\"54\" y=\"-37.8\" font-family=\"Helvetica,sans-Serif\" font-size=\"14.00\">entropy = 0.0</text>\r\n",
       "<text text-anchor=\"start\" x=\"56.5\" y=\"-22.8\" font-family=\"Helvetica,sans-Serif\" font-size=\"14.00\">samples = 7</text>\r\n",
       "<text text-anchor=\"start\" x=\"16\" y=\"-7.8\" font-family=\"Helvetica,sans-Serif\" font-size=\"14.00\">value = [0, 0, 0, 0, 0, 7, 0]</text>\r\n",
       "</g>\r\n",
       "<!-- 6&#45;&gt;7 -->\r\n",
       "<g id=\"edge7\" class=\"edge\"><title>6&#45;&gt;7</title>\r\n",
       "<path fill=\"none\" stroke=\"black\" d=\"M159.074,-88.9485C149.59,-79.709 139.287,-69.671 129.809,-60.4381\"/>\r\n",
       "<polygon fill=\"black\" stroke=\"black\" points=\"132.023,-57.7079 122.418,-53.2367 127.138,-62.7219 132.023,-57.7079\"/>\r\n",
       "</g>\r\n",
       "<!-- 8 -->\r\n",
       "<g id=\"node9\" class=\"node\"><title>8</title>\r\n",
       "<path fill=\"#e53986\" stroke=\"black\" d=\"M366,-53C366,-53 214,-53 214,-53 208,-53 202,-47 202,-41 202,-41 202,-12 202,-12 202,-6 208,-0 214,-0 214,-0 366,-0 366,-0 372,-0 378,-6 378,-12 378,-12 378,-41 378,-41 378,-47 372,-53 366,-53\"/>\r\n",
       "<text text-anchor=\"start\" x=\"248\" y=\"-37.8\" font-family=\"Helvetica,sans-Serif\" font-size=\"14.00\">entropy = 0.0</text>\r\n",
       "<text text-anchor=\"start\" x=\"250.5\" y=\"-22.8\" font-family=\"Helvetica,sans-Serif\" font-size=\"14.00\">samples = 2</text>\r\n",
       "<text text-anchor=\"start\" x=\"210\" y=\"-7.8\" font-family=\"Helvetica,sans-Serif\" font-size=\"14.00\">value = [0, 0, 0, 0, 0, 0, 2]</text>\r\n",
       "</g>\r\n",
       "<!-- 6&#45;&gt;8 -->\r\n",
       "<g id=\"edge8\" class=\"edge\"><title>6&#45;&gt;8</title>\r\n",
       "<path fill=\"none\" stroke=\"black\" d=\"M226.926,-88.9485C236.41,-79.709 246.713,-69.671 256.191,-60.4381\"/>\r\n",
       "<polygon fill=\"black\" stroke=\"black\" points=\"258.862,-62.7219 263.582,-53.2367 253.977,-57.7079 258.862,-62.7219\"/>\r\n",
       "</g>\r\n",
       "<!-- 12 -->\r\n",
       "<g id=\"node13\" class=\"node\"><title>12</title>\r\n",
       "<path fill=\"#61ea71\" stroke=\"black\" d=\"M663,-365C663,-365 511,-365 511,-365 505,-365 499,-359 499,-353 499,-353 499,-309 499,-309 499,-303 505,-297 511,-297 511,-297 663,-297 663,-297 669,-297 675,-303 675,-309 675,-309 675,-353 675,-353 675,-359 669,-365 663,-365\"/>\r\n",
       "<text text-anchor=\"start\" x=\"558\" y=\"-349.8\" font-family=\"Helvetica,sans-Serif\" font-size=\"14.00\">hair ≤ 0.5</text>\r\n",
       "<text text-anchor=\"start\" x=\"541\" y=\"-334.8\" font-family=\"Helvetica,sans-Serif\" font-size=\"14.00\">entropy = 0.65</text>\r\n",
       "<text text-anchor=\"start\" x=\"547.5\" y=\"-319.8\" font-family=\"Helvetica,sans-Serif\" font-size=\"14.00\">samples = 6</text>\r\n",
       "<text text-anchor=\"start\" x=\"507\" y=\"-304.8\" font-family=\"Helvetica,sans-Serif\" font-size=\"14.00\">value = [1, 0, 5, 0, 0, 0, 0]</text>\r\n",
       "</g>\r\n",
       "<!-- 11&#45;&gt;12 -->\r\n",
       "<g id=\"edge12\" class=\"edge\"><title>11&#45;&gt;12</title>\r\n",
       "<path fill=\"none\" stroke=\"black\" d=\"M651.156,-400.884C642.777,-391.887 633.606,-382.041 624.887,-372.678\"/>\r\n",
       "<polygon fill=\"black\" stroke=\"black\" points=\"627.391,-370.232 618.014,-365.299 622.268,-375.003 627.391,-370.232\"/>\r\n",
       "</g>\r\n",
       "<!-- 15 -->\r\n",
       "<g id=\"node16\" class=\"node\"><title>15</title>\r\n",
       "<path fill=\"#b7e539\" stroke=\"black\" d=\"M865,-357.5C865,-357.5 705,-357.5 705,-357.5 699,-357.5 693,-351.5 693,-345.5 693,-345.5 693,-316.5 693,-316.5 693,-310.5 699,-304.5 705,-304.5 705,-304.5 865,-304.5 865,-304.5 871,-304.5 877,-310.5 877,-316.5 877,-316.5 877,-345.5 877,-345.5 877,-351.5 871,-357.5 865,-357.5\"/>\r\n",
       "<text text-anchor=\"start\" x=\"743\" y=\"-342.3\" font-family=\"Helvetica,sans-Serif\" font-size=\"14.00\">entropy = 0.0</text>\r\n",
       "<text text-anchor=\"start\" x=\"741.5\" y=\"-327.3\" font-family=\"Helvetica,sans-Serif\" font-size=\"14.00\">samples = 29</text>\r\n",
       "<text text-anchor=\"start\" x=\"701\" y=\"-312.3\" font-family=\"Helvetica,sans-Serif\" font-size=\"14.00\">value = [0, 29, 0, 0, 0, 0, 0]</text>\r\n",
       "</g>\r\n",
       "<!-- 11&#45;&gt;15 -->\r\n",
       "<g id=\"edge15\" class=\"edge\"><title>11&#45;&gt;15</title>\r\n",
       "<path fill=\"none\" stroke=\"black\" d=\"M715.441,-400.884C727.102,-389.336 740.177,-376.387 751.817,-364.86\"/>\r\n",
       "<polygon fill=\"black\" stroke=\"black\" points=\"754.587,-367.043 759.23,-357.52 749.662,-362.07 754.587,-367.043\"/>\r\n",
       "</g>\r\n",
       "<!-- 13 -->\r\n",
       "<g id=\"node14\" class=\"node\"><title>13</title>\r\n",
       "<path fill=\"#39e54d\" stroke=\"black\" d=\"M564,-253.5C564,-253.5 412,-253.5 412,-253.5 406,-253.5 400,-247.5 400,-241.5 400,-241.5 400,-212.5 400,-212.5 400,-206.5 406,-200.5 412,-200.5 412,-200.5 564,-200.5 564,-200.5 570,-200.5 576,-206.5 576,-212.5 576,-212.5 576,-241.5 576,-241.5 576,-247.5 570,-253.5 564,-253.5\"/>\r\n",
       "<text text-anchor=\"start\" x=\"446\" y=\"-238.3\" font-family=\"Helvetica,sans-Serif\" font-size=\"14.00\">entropy = 0.0</text>\r\n",
       "<text text-anchor=\"start\" x=\"448.5\" y=\"-223.3\" font-family=\"Helvetica,sans-Serif\" font-size=\"14.00\">samples = 5</text>\r\n",
       "<text text-anchor=\"start\" x=\"408\" y=\"-208.3\" font-family=\"Helvetica,sans-Serif\" font-size=\"14.00\">value = [0, 0, 5, 0, 0, 0, 0]</text>\r\n",
       "</g>\r\n",
       "<!-- 12&#45;&gt;13 -->\r\n",
       "<g id=\"edge13\" class=\"edge\"><title>12&#45;&gt;13</title>\r\n",
       "<path fill=\"none\" stroke=\"black\" d=\"M554.858,-296.884C543.649,-285.336 531.082,-272.387 519.894,-260.86\"/>\r\n",
       "<polygon fill=\"black\" stroke=\"black\" points=\"522.246,-258.258 512.769,-253.52 517.223,-263.133 522.246,-258.258\"/>\r\n",
       "</g>\r\n",
       "<!-- 14 -->\r\n",
       "<g id=\"node15\" class=\"node\"><title>14</title>\r\n",
       "<path fill=\"#e58139\" stroke=\"black\" d=\"M758,-253.5C758,-253.5 606,-253.5 606,-253.5 600,-253.5 594,-247.5 594,-241.5 594,-241.5 594,-212.5 594,-212.5 594,-206.5 600,-200.5 606,-200.5 606,-200.5 758,-200.5 758,-200.5 764,-200.5 770,-206.5 770,-212.5 770,-212.5 770,-241.5 770,-241.5 770,-247.5 764,-253.5 758,-253.5\"/>\r\n",
       "<text text-anchor=\"start\" x=\"640\" y=\"-238.3\" font-family=\"Helvetica,sans-Serif\" font-size=\"14.00\">entropy = 0.0</text>\r\n",
       "<text text-anchor=\"start\" x=\"642.5\" y=\"-223.3\" font-family=\"Helvetica,sans-Serif\" font-size=\"14.00\">samples = 1</text>\r\n",
       "<text text-anchor=\"start\" x=\"602\" y=\"-208.3\" font-family=\"Helvetica,sans-Serif\" font-size=\"14.00\">value = [1, 0, 0, 0, 0, 0, 0]</text>\r\n",
       "</g>\r\n",
       "<!-- 12&#45;&gt;14 -->\r\n",
       "<g id=\"edge14\" class=\"edge\"><title>12&#45;&gt;14</title>\r\n",
       "<path fill=\"none\" stroke=\"black\" d=\"M617.844,-296.884C628.599,-285.336 640.659,-272.387 651.395,-260.86\"/>\r\n",
       "<polygon fill=\"black\" stroke=\"black\" points=\"653.977,-263.223 658.231,-253.52 648.855,-258.452 653.977,-263.223\"/>\r\n",
       "</g>\r\n",
       "<!-- 17 -->\r\n",
       "<g id=\"node18\" class=\"node\"><title>17</title>\r\n",
       "<path fill=\"#ffffff\" stroke=\"black\" d=\"M1079,-469C1079,-469 903,-469 903,-469 897,-469 891,-463 891,-457 891,-457 891,-413 891,-413 891,-407 897,-401 903,-401 903,-401 1079,-401 1079,-401 1085,-401 1091,-407 1091,-413 1091,-413 1091,-457 1091,-457 1091,-463 1085,-469 1079,-469\"/>\r\n",
       "<text text-anchor=\"start\" x=\"962\" y=\"-453.8\" font-family=\"Helvetica,sans-Serif\" font-size=\"14.00\">fins ≤ 0.5</text>\r\n",
       "<text text-anchor=\"start\" x=\"941\" y=\"-438.8\" font-family=\"Helvetica,sans-Serif\" font-size=\"14.00\">entropy = 1.581</text>\r\n",
       "<text text-anchor=\"start\" x=\"947.5\" y=\"-423.8\" font-family=\"Helvetica,sans-Serif\" font-size=\"14.00\">samples = 80</text>\r\n",
       "<text text-anchor=\"start\" x=\"899\" y=\"-408.8\" font-family=\"Helvetica,sans-Serif\" font-size=\"14.00\">value = [0, 0, 24, 28, 28, 0, 0]</text>\r\n",
       "</g>\r\n",
       "<!-- 16&#45;&gt;17 -->\r\n",
       "<g id=\"edge17\" class=\"edge\"><title>16&#45;&gt;17</title>\r\n",
       "<path fill=\"none\" stroke=\"black\" d=\"M991,-504.884C991,-496.778 991,-487.982 991,-479.472\"/>\r\n",
       "<polygon fill=\"black\" stroke=\"black\" points=\"994.5,-479.299 991,-469.299 987.5,-479.299 994.5,-479.299\"/>\r\n",
       "</g>\r\n",
       "<!-- 24 -->\r\n",
       "<g id=\"node25\" class=\"node\"><title>24</title>\r\n",
       "<path fill=\"#e58139\" stroke=\"black\" d=\"M1281,-461.5C1281,-461.5 1121,-461.5 1121,-461.5 1115,-461.5 1109,-455.5 1109,-449.5 1109,-449.5 1109,-420.5 1109,-420.5 1109,-414.5 1115,-408.5 1121,-408.5 1121,-408.5 1281,-408.5 1281,-408.5 1287,-408.5 1293,-414.5 1293,-420.5 1293,-420.5 1293,-449.5 1293,-449.5 1293,-455.5 1287,-461.5 1281,-461.5\"/>\r\n",
       "<text text-anchor=\"start\" x=\"1159\" y=\"-446.3\" font-family=\"Helvetica,sans-Serif\" font-size=\"14.00\">entropy = 0.0</text>\r\n",
       "<text text-anchor=\"start\" x=\"1157.5\" y=\"-431.3\" font-family=\"Helvetica,sans-Serif\" font-size=\"14.00\">samples = 27</text>\r\n",
       "<text text-anchor=\"start\" x=\"1117\" y=\"-416.3\" font-family=\"Helvetica,sans-Serif\" font-size=\"14.00\">value = [27, 0, 0, 0, 0, 0, 0]</text>\r\n",
       "</g>\r\n",
       "<!-- 16&#45;&gt;24 -->\r\n",
       "<g id=\"edge24\" class=\"edge\"><title>16&#45;&gt;24</title>\r\n",
       "<path fill=\"none\" stroke=\"black\" d=\"M1059.18,-504.884C1084.99,-492.346 1114.21,-478.157 1139.38,-465.93\"/>\r\n",
       "<polygon fill=\"black\" stroke=\"black\" points=\"1140.99,-469.037 1148.46,-461.52 1137.93,-462.741 1140.99,-469.037\"/>\r\n",
       "</g>\r\n",
       "<!-- 18 -->\r\n",
       "<g id=\"node19\" class=\"node\"><title>18</title>\r\n",
       "<path fill=\"#e3e7fb\" stroke=\"black\" d=\"M1075,-365C1075,-365 907,-365 907,-365 901,-365 895,-359 895,-353 895,-353 895,-309 895,-309 895,-303 901,-297 907,-297 907,-297 1075,-297 1075,-297 1081,-297 1087,-303 1087,-309 1087,-309 1087,-353 1087,-353 1087,-359 1081,-365 1075,-365\"/>\r\n",
       "<text text-anchor=\"start\" x=\"955.5\" y=\"-349.8\" font-family=\"Helvetica,sans-Serif\" font-size=\"14.00\">legs4 ≤ 0.5</text>\r\n",
       "<text text-anchor=\"start\" x=\"941\" y=\"-334.8\" font-family=\"Helvetica,sans-Serif\" font-size=\"14.00\">entropy = 0.996</text>\r\n",
       "<text text-anchor=\"start\" x=\"947.5\" y=\"-319.8\" font-family=\"Helvetica,sans-Serif\" font-size=\"14.00\">samples = 52</text>\r\n",
       "<text text-anchor=\"start\" x=\"903\" y=\"-304.8\" font-family=\"Helvetica,sans-Serif\" font-size=\"14.00\">value = [0, 0, 24, 0, 28, 0, 0]</text>\r\n",
       "</g>\r\n",
       "<!-- 17&#45;&gt;18 -->\r\n",
       "<g id=\"edge18\" class=\"edge\"><title>17&#45;&gt;18</title>\r\n",
       "<path fill=\"none\" stroke=\"black\" d=\"M991,-400.884C991,-392.778 991,-383.982 991,-375.472\"/>\r\n",
       "<polygon fill=\"black\" stroke=\"black\" points=\"994.5,-375.299 991,-365.299 987.5,-375.299 994.5,-375.299\"/>\r\n",
       "</g>\r\n",
       "<!-- 23 -->\r\n",
       "<g id=\"node24\" class=\"node\"><title>23</title>\r\n",
       "<path fill=\"#39e5e2\" stroke=\"black\" d=\"M1277,-357.5C1277,-357.5 1117,-357.5 1117,-357.5 1111,-357.5 1105,-351.5 1105,-345.5 1105,-345.5 1105,-316.5 1105,-316.5 1105,-310.5 1111,-304.5 1117,-304.5 1117,-304.5 1277,-304.5 1277,-304.5 1283,-304.5 1289,-310.5 1289,-316.5 1289,-316.5 1289,-345.5 1289,-345.5 1289,-351.5 1283,-357.5 1277,-357.5\"/>\r\n",
       "<text text-anchor=\"start\" x=\"1155\" y=\"-342.3\" font-family=\"Helvetica,sans-Serif\" font-size=\"14.00\">entropy = 0.0</text>\r\n",
       "<text text-anchor=\"start\" x=\"1153.5\" y=\"-327.3\" font-family=\"Helvetica,sans-Serif\" font-size=\"14.00\">samples = 28</text>\r\n",
       "<text text-anchor=\"start\" x=\"1113\" y=\"-312.3\" font-family=\"Helvetica,sans-Serif\" font-size=\"14.00\">value = [0, 0, 0, 28, 0, 0, 0]</text>\r\n",
       "</g>\r\n",
       "<!-- 17&#45;&gt;23 -->\r\n",
       "<g id=\"edge23\" class=\"edge\"><title>17&#45;&gt;23</title>\r\n",
       "<path fill=\"none\" stroke=\"black\" d=\"M1057.88,-400.884C1083.09,-388.401 1111.61,-374.282 1136.23,-362.091\"/>\r\n",
       "<polygon fill=\"black\" stroke=\"black\" points=\"1138.05,-365.094 1145.46,-357.52 1134.95,-358.821 1138.05,-365.094\"/>\r\n",
       "</g>\r\n",
       "<!-- 19 -->\r\n",
       "<g id=\"node20\" class=\"node\"><title>19</title>\r\n",
       "<path fill=\"#39e54d\" stroke=\"black\" d=\"M968,-253.5C968,-253.5 808,-253.5 808,-253.5 802,-253.5 796,-247.5 796,-241.5 796,-241.5 796,-212.5 796,-212.5 796,-206.5 802,-200.5 808,-200.5 808,-200.5 968,-200.5 968,-200.5 974,-200.5 980,-206.5 980,-212.5 980,-212.5 980,-241.5 980,-241.5 980,-247.5 974,-253.5 968,-253.5\"/>\r\n",
       "<text text-anchor=\"start\" x=\"846\" y=\"-238.3\" font-family=\"Helvetica,sans-Serif\" font-size=\"14.00\">entropy = 0.0</text>\r\n",
       "<text text-anchor=\"start\" x=\"844.5\" y=\"-223.3\" font-family=\"Helvetica,sans-Serif\" font-size=\"14.00\">samples = 18</text>\r\n",
       "<text text-anchor=\"start\" x=\"804\" y=\"-208.3\" font-family=\"Helvetica,sans-Serif\" font-size=\"14.00\">value = [0, 0, 18, 0, 0, 0, 0]</text>\r\n",
       "</g>\r\n",
       "<!-- 18&#45;&gt;19 -->\r\n",
       "<g id=\"edge19\" class=\"edge\"><title>18&#45;&gt;19</title>\r\n",
       "<path fill=\"none\" stroke=\"black\" d=\"M957.559,-296.884C945.898,-285.336 932.823,-272.387 921.183,-260.86\"/>\r\n",
       "<polygon fill=\"black\" stroke=\"black\" points=\"923.338,-258.07 913.77,-253.52 918.413,-263.043 923.338,-258.07\"/>\r\n",
       "</g>\r\n",
       "<!-- 20 -->\r\n",
       "<g id=\"node21\" class=\"node\"><title>20</title>\r\n",
       "<path fill=\"#637aeb\" stroke=\"black\" d=\"M1170,-261C1170,-261 1010,-261 1010,-261 1004,-261 998,-255 998,-249 998,-249 998,-205 998,-205 998,-199 1004,-193 1010,-193 1010,-193 1170,-193 1170,-193 1176,-193 1182,-199 1182,-205 1182,-205 1182,-249 1182,-249 1182,-255 1176,-261 1170,-261\"/>\r\n",
       "<text text-anchor=\"start\" x=\"1063.5\" y=\"-245.8\" font-family=\"Helvetica,sans-Serif\" font-size=\"14.00\">tail ≤ 0.5</text>\r\n",
       "<text text-anchor=\"start\" x=\"1040\" y=\"-230.8\" font-family=\"Helvetica,sans-Serif\" font-size=\"14.00\">entropy = 0.672</text>\r\n",
       "<text text-anchor=\"start\" x=\"1046.5\" y=\"-215.8\" font-family=\"Helvetica,sans-Serif\" font-size=\"14.00\">samples = 34</text>\r\n",
       "<text text-anchor=\"start\" x=\"1006\" y=\"-200.8\" font-family=\"Helvetica,sans-Serif\" font-size=\"14.00\">value = [0, 0, 6, 0, 28, 0, 0]</text>\r\n",
       "</g>\r\n",
       "<!-- 18&#45;&gt;20 -->\r\n",
       "<g id=\"edge20\" class=\"edge\"><title>18&#45;&gt;20</title>\r\n",
       "<path fill=\"none\" stroke=\"black\" d=\"M1023.14,-296.884C1031.87,-287.887 1041.43,-278.041 1050.52,-268.678\"/>\r\n",
       "<polygon fill=\"black\" stroke=\"black\" points=\"1053.23,-270.913 1057.68,-261.299 1048.2,-266.038 1053.23,-270.913\"/>\r\n",
       "</g>\r\n",
       "<!-- 21 -->\r\n",
       "<g id=\"node22\" class=\"node\"><title>21</title>\r\n",
       "<path fill=\"#3956e5\" stroke=\"black\" d=\"M1069,-149.5C1069,-149.5 909,-149.5 909,-149.5 903,-149.5 897,-143.5 897,-137.5 897,-137.5 897,-108.5 897,-108.5 897,-102.5 903,-96.5 909,-96.5 909,-96.5 1069,-96.5 1069,-96.5 1075,-96.5 1081,-102.5 1081,-108.5 1081,-108.5 1081,-137.5 1081,-137.5 1081,-143.5 1075,-149.5 1069,-149.5\"/>\r\n",
       "<text text-anchor=\"start\" x=\"947\" y=\"-134.3\" font-family=\"Helvetica,sans-Serif\" font-size=\"14.00\">entropy = 0.0</text>\r\n",
       "<text text-anchor=\"start\" x=\"945.5\" y=\"-119.3\" font-family=\"Helvetica,sans-Serif\" font-size=\"14.00\">samples = 18</text>\r\n",
       "<text text-anchor=\"start\" x=\"905\" y=\"-104.3\" font-family=\"Helvetica,sans-Serif\" font-size=\"14.00\">value = [0, 0, 0, 0, 18, 0, 0]</text>\r\n",
       "</g>\r\n",
       "<!-- 20&#45;&gt;21 -->\r\n",
       "<g id=\"edge21\" class=\"edge\"><title>20&#45;&gt;21</title>\r\n",
       "<path fill=\"none\" stroke=\"black\" d=\"M1057.21,-192.884C1045.77,-181.336 1032.95,-168.387 1021.54,-156.86\"/>\r\n",
       "<polygon fill=\"black\" stroke=\"black\" points=\"1023.79,-154.163 1014.27,-149.52 1018.82,-159.088 1023.79,-154.163\"/>\r\n",
       "</g>\r\n",
       "<!-- 22 -->\r\n",
       "<g id=\"node23\" class=\"node\"><title>22</title>\r\n",
       "<path fill=\"#b0bbf5\" stroke=\"black\" d=\"M1271,-149.5C1271,-149.5 1111,-149.5 1111,-149.5 1105,-149.5 1099,-143.5 1099,-137.5 1099,-137.5 1099,-108.5 1099,-108.5 1099,-102.5 1105,-96.5 1111,-96.5 1111,-96.5 1271,-96.5 1271,-96.5 1277,-96.5 1283,-102.5 1283,-108.5 1283,-108.5 1283,-137.5 1283,-137.5 1283,-143.5 1277,-149.5 1271,-149.5\"/>\r\n",
       "<text text-anchor=\"start\" x=\"1141\" y=\"-134.3\" font-family=\"Helvetica,sans-Serif\" font-size=\"14.00\">entropy = 0.954</text>\r\n",
       "<text text-anchor=\"start\" x=\"1147.5\" y=\"-119.3\" font-family=\"Helvetica,sans-Serif\" font-size=\"14.00\">samples = 16</text>\r\n",
       "<text text-anchor=\"start\" x=\"1107\" y=\"-104.3\" font-family=\"Helvetica,sans-Serif\" font-size=\"14.00\">value = [0, 0, 6, 0, 10, 0, 0]</text>\r\n",
       "</g>\r\n",
       "<!-- 20&#45;&gt;22 -->\r\n",
       "<g id=\"edge22\" class=\"edge\"><title>20&#45;&gt;22</title>\r\n",
       "<path fill=\"none\" stroke=\"black\" d=\"M1122.79,-192.884C1134.23,-181.336 1147.05,-168.387 1158.46,-156.86\"/>\r\n",
       "<polygon fill=\"black\" stroke=\"black\" points=\"1161.18,-159.088 1165.73,-149.52 1156.21,-154.163 1161.18,-159.088\"/>\r\n",
       "</g>\r\n",
       "</g>\r\n",
       "</svg>\r\n"
      ],
      "text/plain": [
       "<graphviz.files.Source at 0x1c93c4411c8>"
      ]
     },
     "execution_count": 25,
     "metadata": {},
     "output_type": "execute_result"
    }
   ],
   "source": [
    "# plot the tree\n",
    "# for graphing the tree\n",
    "import graphviz as gv\n",
    "from sklearn import tree\n",
    "\n",
    "dot_data = tree.export_graphviz(model, out_file=None, filled=True, rounded = True, special_characters = True\n",
    "                               , feature_names = features)\n",
    "graph = gv.Source(dot_data)\n",
    "graph"
   ]
  },
  {
   "cell_type": "code",
   "execution_count": null,
   "metadata": {},
   "outputs": [],
   "source": []
  }
 ],
 "metadata": {
  "kernelspec": {
   "display_name": "Python 3",
   "language": "python",
   "name": "python3"
  },
  "language_info": {
   "codemirror_mode": {
    "name": "ipython",
    "version": 3
   },
   "file_extension": ".py",
   "mimetype": "text/x-python",
   "name": "python",
   "nbconvert_exporter": "python",
   "pygments_lexer": "ipython3",
   "version": "3.7.4"
  }
 },
 "nbformat": 4,
 "nbformat_minor": 2
}
