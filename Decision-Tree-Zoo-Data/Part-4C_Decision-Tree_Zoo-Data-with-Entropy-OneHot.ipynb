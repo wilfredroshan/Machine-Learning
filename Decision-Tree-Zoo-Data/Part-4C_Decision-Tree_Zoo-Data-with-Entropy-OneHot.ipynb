{
 "cells": [
  {
   "cell_type": "markdown",
   "metadata": {},
   "source": [
    "### Data analysis and a simple decision tree example using data from https://www.kaggle.com/uciml/zoo-animal-classification\n",
    "\n",
    "### from Part-2 analysis, we know the gini index scores. Based on that we select following columns only.\n"
   ]
  },
  {
   "cell_type": "code",
   "execution_count": 1,
   "metadata": {},
   "outputs": [],
   "source": [
    "import pandas as pd\n",
    "from sklearn.preprocessing import OneHotEncoder\n",
    "import numpy as np\n",
    "from collections import Counter\n",
    "import math as math\n",
    "from imblearn.over_sampling import SMOTE\n",
    "from imblearn.over_sampling import RandomOverSampler"
   ]
  },
  {
   "cell_type": "markdown",
   "metadata": {},
   "source": [
    "Read the data file"
   ]
  },
  {
   "cell_type": "code",
   "execution_count": 2,
   "metadata": {},
   "outputs": [],
   "source": [
    "zoo_df = pd.read_csv(\"data\\Decision-Tree_Zoo-Data\\zoo-animal-classification\\zoo.csv\")"
   ]
  },
  {
   "cell_type": "markdown",
   "metadata": {},
   "source": [
    "Check if we are missing any data"
   ]
  },
  {
   "cell_type": "code",
   "execution_count": 3,
   "metadata": {},
   "outputs": [
    {
     "name": "stdout",
     "output_type": "stream",
     "text": [
      "<class 'pandas.core.frame.DataFrame'>\n",
      "RangeIndex: 101 entries, 0 to 100\n",
      "Data columns (total 18 columns):\n",
      "animal_name    101 non-null object\n",
      "hair           101 non-null int64\n",
      "feathers       101 non-null int64\n",
      "eggs           101 non-null int64\n",
      "milk           101 non-null int64\n",
      "airborne       101 non-null int64\n",
      "aquatic        101 non-null int64\n",
      "predator       101 non-null int64\n",
      "toothed        101 non-null int64\n",
      "backbone       101 non-null int64\n",
      "breathes       101 non-null int64\n",
      "venomous       101 non-null int64\n",
      "fins           101 non-null int64\n",
      "legs           101 non-null int64\n",
      "tail           101 non-null int64\n",
      "domestic       101 non-null int64\n",
      "catsize        101 non-null int64\n",
      "class_type     101 non-null int64\n",
      "dtypes: int64(17), object(1)\n",
      "memory usage: 14.3+ KB\n"
     ]
    }
   ],
   "source": [
    "zoo_df.info()"
   ]
  },
  {
   "cell_type": "markdown",
   "metadata": {},
   "source": [
    "animal_name is not useful in classification. remove it from data set"
   ]
  },
  {
   "cell_type": "code",
   "execution_count": 4,
   "metadata": {},
   "outputs": [
    {
     "name": "stdout",
     "output_type": "stream",
     "text": [
      "['aardvark', 'antelope', 'bass', 'bear', 'boar', 'buffalo', 'calf', 'carp', 'catfish', 'cavy', 'cheetah', 'chicken', 'chub', 'clam', 'crab', 'crayfish', 'crow', 'deer', 'dogfish', 'dolphin', 'dove', 'duck', 'elephant', 'flamingo', 'flea', 'frog', 'frog', 'fruitbat', 'giraffe', 'girl', 'gnat', 'goat', 'gorilla', 'gull', 'haddock', 'hamster', 'hare', 'hawk', 'herring', 'honeybee', 'housefly', 'kiwi', 'ladybird', 'lark', 'leopard', 'lion', 'lobster', 'lynx', 'mink', 'mole', 'mongoose', 'moth', 'newt', 'octopus', 'opossum', 'oryx', 'ostrich', 'parakeet', 'penguin', 'pheasant', 'pike', 'piranha', 'pitviper', 'platypus', 'polecat', 'pony', 'porpoise', 'puma', 'pussycat', 'raccoon', 'reindeer', 'rhea', 'scorpion', 'seahorse', 'seal', 'sealion', 'seasnake', 'seawasp', 'skimmer', 'skua', 'slowworm', 'slug', 'sole', 'sparrow', 'squirrel', 'starfish', 'stingray', 'swan', 'termite', 'toad', 'tortoise', 'tuatara', 'tuna', 'vampire', 'vole', 'vulture', 'wallaby', 'wasp', 'wolf', 'worm', 'wren']\n"
     ]
    }
   ],
   "source": [
    "animal_names = zoo_df['animal_name'].to_list()\n",
    "print(animal_names)\n",
    "zoo_df = zoo_df.drop('animal_name', axis=1)"
   ]
  },
  {
   "cell_type": "code",
   "execution_count": 5,
   "metadata": {},
   "outputs": [],
   "source": [
    "#One-of-K Encode the \"legs\" column data\n",
    "onehot_encoder = OneHotEncoder(sparse=False, categories = \"auto\", dtype=np.int)\n",
    "onehot_encoded = onehot_encoder.fit_transform(zoo_df[\"legs\"].values.reshape(-1,1))\n",
    "\n",
    "# prepare column names\n",
    "legs_clm_names = list()\n",
    "col_index = 0\n",
    "for name in onehot_encoder.categories_[0]:\n",
    "    zoo_df[\"legs\" + str(name)] = onehot_encoded[:, col_index]\n",
    "    col_index = col_index + 1\n",
    "zoo_df = zoo_df.drop(\"legs\", axis=1)"
   ]
  },
  {
   "cell_type": "code",
   "execution_count": 6,
   "metadata": {},
   "outputs": [],
   "source": [
    "for column in zoo_df.columns:\n",
    "    zoo_df[column] = zoo_df[column].astype(\"category\")"
   ]
  },
  {
   "cell_type": "code",
   "execution_count": 7,
   "metadata": {
    "scrolled": true
   },
   "outputs": [],
   "source": [
    "# assumes x and y are categorical data\n",
    "def calc_entropy(y_actual):\n",
    "    class_counter = Counter(y_actual)\n",
    "    total_count = float(len(y_actual))\n",
    "    entropy = 0;\n",
    "    for clas, count in class_counter.items():\n",
    "        probability = count/total_count\n",
    "        entropy = entropy - (probability * math.log2(probability))\n",
    "    print(\"Entropy Value: \", entropy)\n",
    "    return entropy\n",
    "\n",
    "def calc_information_gain(input_x, y_actual):\n",
    "    total_count = float(len(y_actual))\n",
    "    # divide the input_x column into k partitions\n",
    "    partitions = Counter(input_x)\n",
    "    sum_of_partition_entropies = 0;\n",
    "    print(partitions.items())\n",
    "    for partition_key, count in partitions.items():\n",
    "        mask = input_x == partition_key\n",
    "        sum_of_partition_entropies = sum_of_partition_entropies + ((count/total_count)*calc_entropy(y_actual[mask]))\n",
    "    info_gain = calc_entropy(y_actual) - sum_of_partition_entropies\n",
    "    return info_gain"
   ]
  },
  {
   "cell_type": "code",
   "execution_count": 8,
   "metadata": {},
   "outputs": [
    {
     "name": "stdout",
     "output_type": "stream",
     "text": [
      "['hair', 'feathers', 'eggs', 'milk', 'airborne', 'aquatic', 'predator', 'toothed', 'backbone', 'breathes', 'venomous', 'fins', 'tail', 'domestic', 'catsize', 'legs0', 'legs2', 'legs4', 'legs5', 'legs6', 'legs8']\n"
     ]
    }
   ],
   "source": [
    "columns= list(zoo_df.columns)\n",
    "columns.remove(\"class_type\")\n",
    "print(columns)"
   ]
  },
  {
   "cell_type": "code",
   "execution_count": 9,
   "metadata": {},
   "outputs": [
    {
     "name": "stdout",
     "output_type": "stream",
     "text": [
      "hair\n",
      "dict_items([(1, 43), (0, 58)])\n",
      "Entropy Value:  0.446481346896803\n",
      "Entropy Value:  2.4549947941466774\n",
      "Entropy Value:  2.390559682294039\n",
      "feathers\n",
      "dict_items([(0, 81), (1, 20)])\n",
      "Entropy Value:  2.085599756607019\n",
      "Entropy Value:  0.0\n",
      "Entropy Value:  2.390559682294039\n",
      "eggs\n",
      "dict_items([(0, 42), (1, 59)])\n",
      "Entropy Value:  0.3238144752669867\n",
      "Entropy Value:  2.440717570606548\n",
      "Entropy Value:  2.390559682294039\n",
      "milk\n",
      "dict_items([(1, 41), (0, 60)])\n",
      "Entropy Value:  0.0\n",
      "Entropy Value:  2.3840039346603206\n",
      "Entropy Value:  2.390559682294039\n",
      "airborne\n",
      "dict_items([(0, 77), (1, 24)])\n",
      "Entropy Value:  2.1490550563472093\n",
      "Entropy Value:  1.188721875540867\n",
      "Entropy Value:  2.390559682294039\n",
      "aquatic\n",
      "dict_items([(0, 65), (1, 36)])\n",
      "Entropy Value:  1.8250158976149118\n",
      "Entropy Value:  2.3189516306418954\n",
      "Entropy Value:  2.390559682294039\n",
      "predator\n",
      "dict_items([(1, 56), (0, 45)])\n",
      "Entropy Value:  2.380193616019289\n",
      "Entropy Value:  2.19372298488875\n",
      "Entropy Value:  2.390559682294039\n",
      "toothed\n",
      "dict_items([(1, 61), (0, 40)])\n",
      "Entropy Value:  1.3900350403279897\n",
      "Entropy Value:  1.7304820237218403\n",
      "Entropy Value:  2.390559682294039\n",
      "backbone\n",
      "dict_items([(1, 83), (0, 18)])\n",
      "Entropy Value:  1.8712617096919888\n",
      "Entropy Value:  0.9910760598382222\n",
      "Entropy Value:  2.390559682294039\n",
      "breathes\n",
      "dict_items([(1, 80), (0, 21)])\n",
      "Entropy Value:  1.9362645750217105\n",
      "Entropy Value:  1.1657840518150733\n",
      "Entropy Value:  2.390559682294039\n",
      "venomous\n",
      "dict_items([(0, 93), (1, 8)])\n",
      "Entropy Value:  2.2581126379424785\n",
      "Entropy Value:  2.25\n",
      "Entropy Value:  2.390559682294039\n",
      "fins\n",
      "dict_items([(0, 84), (1, 17)])\n",
      "Entropy Value:  2.1540167340962744\n",
      "Entropy Value:  0.7871265862012691\n",
      "Entropy Value:  2.390559682294039\n",
      "tail\n",
      "dict_items([(0, 26), (1, 75)])\n",
      "Entropy Value:  1.9006709673921995\n",
      "Entropy Value:  1.8864343664813197\n",
      "Entropy Value:  2.390559682294039\n",
      "domestic\n",
      "dict_items([(0, 88), (1, 13)])\n",
      "Entropy Value:  2.4656608217457943\n",
      "Entropy Value:  1.4885252948977485\n",
      "Entropy Value:  2.390559682294039\n",
      "catsize\n",
      "dict_items([(1, 44), (0, 57)])\n",
      "Entropy Value:  1.2887549139935035\n",
      "Entropy Value:  2.6944524010463393\n",
      "Entropy Value:  2.390559682294039\n",
      "legs0\n",
      "dict_items([(0, 78), (1, 23)])\n",
      "Entropy Value:  1.9857921879272427\n",
      "Entropy Value:  1.6707145064847897\n",
      "Entropy Value:  2.390559682294039\n",
      "legs2\n",
      "dict_items([(0, 74), (1, 27)])\n",
      "Entropy Value:  2.1836645229038667\n",
      "Entropy Value:  0.8256265261578954\n",
      "Entropy Value:  2.390559682294039\n",
      "legs4\n",
      "dict_items([(1, 38), (0, 63)])\n",
      "Entropy Value:  0.9431884181279768\n",
      "Entropy Value:  2.4050930711570695\n",
      "Entropy Value:  2.390559682294039\n",
      "legs5\n",
      "dict_items([(0, 100), (1, 1)])\n",
      "Entropy Value:  2.3804274306713196\n",
      "Entropy Value:  0.0\n",
      "Entropy Value:  2.390559682294039\n",
      "legs6\n",
      "dict_items([(0, 91), (1, 10)])\n",
      "Entropy Value:  2.1362171578101283\n",
      "Entropy Value:  0.7219280948873623\n",
      "Entropy Value:  2.390559682294039\n",
      "legs8\n",
      "dict_items([(0, 99), (1, 2)])\n",
      "Entropy Value:  2.368613681722441\n",
      "Entropy Value:  0.0\n",
      "Entropy Value:  2.390559682294039\n"
     ]
    }
   ],
   "source": [
    "# copy X columns\n",
    "X = zoo_df.loc[:, zoo_df.columns != 'class_type']\n",
    "y = zoo_df['class_type']\n",
    "\n",
    "info_gains = list()\n",
    "for column_index in range(X.shape[1]):\n",
    "    print(columns[column_index])\n",
    "    info_gain = calc_information_gain(X[columns[column_index]], y)\n",
    "    info_gains.append((columns[column_index], info_gain))\n",
    "\n",
    "def index(tup):\n",
    "    return tup[1]\n",
    "info_gains.sort(key=index, reverse=True)"
   ]
  },
  {
   "cell_type": "code",
   "execution_count": 10,
   "metadata": {},
   "outputs": [
    {
     "name": "stdout",
     "output_type": "stream",
     "text": [
      "[('milk', 0.9743197211096903), ('toothed', 0.8656941534932372), ('eggs', 0.8301384483633483), ('hair', 0.7906745736101797), ('feathers', 0.717949976500291), ('backbone', 0.6761627418829197), ('breathes', 0.6144940279390552), ('legs2', 0.5699350199064221), ('legs4', 0.5354901439597965), ('tail', 0.5004604482515029), ('legs0', 0.47651785746755304), ('airborne', 0.4697026095047725), ('fins', 0.4666135671503897), ('legs6', 0.3943711445752738), ('aquatic', 0.3894874837982223), ('catsize', 0.30849034491428196), ('venomous', 0.13308962953512316), ('predator', 0.09344704054083186), ('legs8', 0.06884924179382468), ('domestic', 0.05066877984551832), ('legs5', 0.033700840045208125)]\n"
     ]
    }
   ],
   "source": [
    "print(info_gains)"
   ]
  },
  {
   "cell_type": "markdown",
   "metadata": {},
   "source": [
    "## Split the data into training and testing sets"
   ]
  },
  {
   "cell_type": "code",
   "execution_count": 11,
   "metadata": {},
   "outputs": [],
   "source": [
    "from sklearn.model_selection import train_test_split\n",
    "from imblearn.over_sampling import SMOTE\n",
    "from imblearn.over_sampling import RandomOverSampler"
   ]
  },
  {
   "cell_type": "code",
   "execution_count": 12,
   "metadata": {},
   "outputs": [],
   "source": [
    "# copy first N columns\n",
    "num_features_to_use = 13\n",
    "features = []\n",
    "count = 0\n",
    "for feature, score in info_gains:\n",
    "    features.append(feature)\n",
    "    count+=1\n",
    "    if count == num_features_to_use:\n",
    "        break\n",
    "#print(features)\n",
    "#columns = [\"toothed\", \"tail\", \"backbone\", \"legs4\", \"breathes\", \"legs0\", \"aquatic\", \"venomous\", \"hair\", \"eggs\", \"feathers\", \"milk\"]\n",
    "X = zoo_df[features]\n",
    "# copy Y column (class)\n",
    "y = zoo_df['class_type']"
   ]
  },
  {
   "cell_type": "code",
   "execution_count": 13,
   "metadata": {},
   "outputs": [],
   "source": [
    "#oversampler = SMOTE(k_neighbors=1)\n",
    "oversampler = RandomOverSampler()\n",
    "X, y = oversampler.fit_resample(X, y)"
   ]
  },
  {
   "cell_type": "code",
   "execution_count": 14,
   "metadata": {},
   "outputs": [],
   "source": [
    "# split the data (70-30 split)\n",
    "train_X, test_X, train_Y, test_Y = train_test_split(X, y, test_size = 0.30, stratify = y)"
   ]
  },
  {
   "cell_type": "markdown",
   "metadata": {},
   "source": [
    "Build the machine learning model"
   ]
  },
  {
   "cell_type": "code",
   "execution_count": 15,
   "metadata": {},
   "outputs": [],
   "source": [
    "from sklearn.tree import DecisionTreeClassifier"
   ]
  },
  {
   "cell_type": "code",
   "execution_count": 16,
   "metadata": {},
   "outputs": [
    {
     "data": {
      "text/plain": [
       "DecisionTreeClassifier(class_weight=None, criterion='entropy', max_depth=None,\n",
       "                       max_features=None, max_leaf_nodes=None,\n",
       "                       min_impurity_decrease=0.0, min_impurity_split=None,\n",
       "                       min_samples_leaf=1, min_samples_split=2,\n",
       "                       min_weight_fraction_leaf=0.0, presort=False,\n",
       "                       random_state=None, splitter='best')"
      ]
     },
     "execution_count": 16,
     "metadata": {},
     "output_type": "execute_result"
    }
   ],
   "source": [
    "model = DecisionTreeClassifier(criterion=\"entropy\")\n",
    "model.fit(train_X, train_Y)"
   ]
  },
  {
   "cell_type": "markdown",
   "metadata": {},
   "source": [
    "Predict the class of test data"
   ]
  },
  {
   "cell_type": "code",
   "execution_count": 17,
   "metadata": {},
   "outputs": [],
   "source": [
    "y_predicted = model.predict(test_X)"
   ]
  },
  {
   "cell_type": "markdown",
   "metadata": {},
   "source": [
    "How good is the model?\n",
    "check accuracy"
   ]
  },
  {
   "cell_type": "code",
   "execution_count": 18,
   "metadata": {},
   "outputs": [],
   "source": [
    "from sklearn.metrics import accuracy_score"
   ]
  },
  {
   "cell_type": "code",
   "execution_count": 19,
   "metadata": {},
   "outputs": [
    {
     "name": "stdout",
     "output_type": "stream",
     "text": [
      "0.9770114942528736\n"
     ]
    }
   ],
   "source": [
    "print(accuracy_score(test_Y, y_predicted))"
   ]
  },
  {
   "cell_type": "markdown",
   "metadata": {},
   "source": [
    "Build confusion matrix"
   ]
  },
  {
   "cell_type": "code",
   "execution_count": 20,
   "metadata": {},
   "outputs": [],
   "source": [
    "from sklearn.metrics import confusion_matrix"
   ]
  },
  {
   "cell_type": "code",
   "execution_count": 21,
   "metadata": {},
   "outputs": [
    {
     "name": "stdout",
     "output_type": "stream",
     "text": [
      "[[12  0  0  0  0  0  0]\n",
      " [ 0 13  0  0  0  0  0]\n",
      " [ 0  0 11  0  2  0  0]\n",
      " [ 0  0  0 12  0  0  0]\n",
      " [ 0  0  0  0 13  0  0]\n",
      " [ 0  0  0  0  0 12  0]\n",
      " [ 0  0  0  0  0  0 12]]\n"
     ]
    }
   ],
   "source": [
    "c_matrix = confusion_matrix(test_Y, y_predicted)\n",
    "print(c_matrix)"
   ]
  },
  {
   "cell_type": "code",
   "execution_count": 22,
   "metadata": {},
   "outputs": [],
   "source": [
    "from collections import Counter"
   ]
  },
  {
   "cell_type": "code",
   "execution_count": 23,
   "metadata": {},
   "outputs": [
    {
     "name": "stdout",
     "output_type": "stream",
     "text": [
      "Counter({5: 13, 2: 13, 3: 13, 1: 12, 4: 12, 7: 12, 6: 12})\n"
     ]
    }
   ],
   "source": [
    "print(Counter(test_Y))"
   ]
  },
  {
   "cell_type": "code",
   "execution_count": 24,
   "metadata": {},
   "outputs": [
    {
     "name": "stdout",
     "output_type": "stream",
     "text": [
      "Counter({5: 15, 2: 13, 1: 12, 4: 12, 7: 12, 6: 12, 3: 11})\n"
     ]
    }
   ],
   "source": [
    "print(Counter(y_predicted))"
   ]
  },
  {
   "cell_type": "code",
   "execution_count": 25,
   "metadata": {},
   "outputs": [
    {
     "data": {
      "image/svg+xml": [
       "<?xml version=\"1.0\" encoding=\"UTF-8\" standalone=\"no\"?>\r\n",
       "<!DOCTYPE svg PUBLIC \"-//W3C//DTD SVG 1.1//EN\"\r\n",
       " \"http://www.w3.org/Graphics/SVG/1.1/DTD/svg11.dtd\">\r\n",
       "<!-- Generated by graphviz version 2.38.0 (20140413.2041)\r\n",
       " -->\r\n",
       "<!-- Title: Tree Pages: 1 -->\r\n",
       "<svg width=\"919pt\" height=\"789pt\"\r\n",
       " viewBox=\"0.00 0.00 919.00 789.00\" xmlns=\"http://www.w3.org/2000/svg\" xmlns:xlink=\"http://www.w3.org/1999/xlink\">\r\n",
       "<g id=\"graph0\" class=\"graph\" transform=\"scale(1 1) rotate(0) translate(4 785)\">\r\n",
       "<title>Tree</title>\r\n",
       "<polygon fill=\"white\" stroke=\"none\" points=\"-4,4 -4,-785 915,-785 915,4 -4,4\"/>\r\n",
       "<!-- 0 -->\r\n",
       "<g id=\"node1\" class=\"node\"><title>0</title>\r\n",
       "<path fill=\"#ffffff\" stroke=\"black\" d=\"M598.5,-781C598.5,-781 389.5,-781 389.5,-781 383.5,-781 377.5,-775 377.5,-769 377.5,-769 377.5,-725 377.5,-725 377.5,-719 383.5,-713 389.5,-713 389.5,-713 598.5,-713 598.5,-713 604.5,-713 610.5,-719 610.5,-725 610.5,-725 610.5,-769 610.5,-769 610.5,-775 604.5,-781 598.5,-781\"/>\r\n",
       "<text text-anchor=\"start\" x=\"445\" y=\"-765.8\" font-family=\"Helvetica,sans-Serif\" font-size=\"14.00\">backbone ≤ 0.5</text>\r\n",
       "<text text-anchor=\"start\" x=\"444\" y=\"-750.8\" font-family=\"Helvetica,sans-Serif\" font-size=\"14.00\">entropy = 2.807</text>\r\n",
       "<text text-anchor=\"start\" x=\"446.5\" y=\"-735.8\" font-family=\"Helvetica,sans-Serif\" font-size=\"14.00\">samples = 200</text>\r\n",
       "<text text-anchor=\"start\" x=\"385.5\" y=\"-720.8\" font-family=\"Helvetica,sans-Serif\" font-size=\"14.00\">value = [29, 28, 28, 29, 28, 29, 29]</text>\r\n",
       "</g>\r\n",
       "<!-- 1 -->\r\n",
       "<g id=\"node2\" class=\"node\"><title>1</title>\r\n",
       "<path fill=\"#ffffff\" stroke=\"black\" d=\"M467,-677C467,-677 299,-677 299,-677 293,-677 287,-671 287,-665 287,-665 287,-621 287,-621 287,-615 293,-609 299,-609 299,-609 467,-609 467,-609 473,-609 479,-615 479,-621 479,-621 479,-665 479,-665 479,-671 473,-677 467,-677\"/>\r\n",
       "<text text-anchor=\"start\" x=\"337.5\" y=\"-661.8\" font-family=\"Helvetica,sans-Serif\" font-size=\"14.00\">breathes ≤ 0.5</text>\r\n",
       "<text text-anchor=\"start\" x=\"341\" y=\"-646.8\" font-family=\"Helvetica,sans-Serif\" font-size=\"14.00\">entropy = 1.0</text>\r\n",
       "<text text-anchor=\"start\" x=\"339.5\" y=\"-631.8\" font-family=\"Helvetica,sans-Serif\" font-size=\"14.00\">samples = 58</text>\r\n",
       "<text text-anchor=\"start\" x=\"295\" y=\"-616.8\" font-family=\"Helvetica,sans-Serif\" font-size=\"14.00\">value = [0, 0, 0, 0, 0, 29, 29]</text>\r\n",
       "</g>\r\n",
       "<!-- 0&#45;&gt;1 -->\r\n",
       "<g id=\"edge1\" class=\"edge\"><title>0&#45;&gt;1</title>\r\n",
       "<path fill=\"none\" stroke=\"black\" d=\"M457.961,-712.884C447.977,-703.709 437.031,-693.65 426.663,-684.123\"/>\r\n",
       "<polygon fill=\"black\" stroke=\"black\" points=\"428.969,-681.488 419.238,-677.299 424.233,-686.643 428.969,-681.488\"/>\r\n",
       "<text text-anchor=\"middle\" x=\"420.293\" y=\"-698.577\" font-family=\"Helvetica,sans-Serif\" font-size=\"14.00\">True</text>\r\n",
       "</g>\r\n",
       "<!-- 8 -->\r\n",
       "<g id=\"node9\" class=\"node\"><title>8</title>\r\n",
       "<path fill=\"#ffffff\" stroke=\"black\" d=\"M702.5,-677C702.5,-677 509.5,-677 509.5,-677 503.5,-677 497.5,-671 497.5,-665 497.5,-665 497.5,-621 497.5,-621 497.5,-615 503.5,-609 509.5,-609 509.5,-609 702.5,-609 702.5,-609 708.5,-609 714.5,-615 714.5,-621 714.5,-621 714.5,-665 714.5,-665 714.5,-671 708.5,-677 702.5,-677\"/>\r\n",
       "<text text-anchor=\"start\" x=\"575.5\" y=\"-661.8\" font-family=\"Helvetica,sans-Serif\" font-size=\"14.00\">milk ≤ 0.5</text>\r\n",
       "<text text-anchor=\"start\" x=\"556\" y=\"-646.8\" font-family=\"Helvetica,sans-Serif\" font-size=\"14.00\">entropy = 2.322</text>\r\n",
       "<text text-anchor=\"start\" x=\"558.5\" y=\"-631.8\" font-family=\"Helvetica,sans-Serif\" font-size=\"14.00\">samples = 142</text>\r\n",
       "<text text-anchor=\"start\" x=\"505.5\" y=\"-616.8\" font-family=\"Helvetica,sans-Serif\" font-size=\"14.00\">value = [29, 28, 28, 29, 28, 0, 0]</text>\r\n",
       "</g>\r\n",
       "<!-- 0&#45;&gt;8 -->\r\n",
       "<g id=\"edge8\" class=\"edge\"><title>0&#45;&gt;8</title>\r\n",
       "<path fill=\"none\" stroke=\"black\" d=\"M530.363,-712.884C540.437,-703.709 551.482,-693.65 561.944,-684.123\"/>\r\n",
       "<polygon fill=\"black\" stroke=\"black\" points=\"564.399,-686.62 569.436,-677.299 559.686,-681.445 564.399,-686.62\"/>\r\n",
       "<text text-anchor=\"middle\" x=\"568.269\" y=\"-698.572\" font-family=\"Helvetica,sans-Serif\" font-size=\"14.00\">False</text>\r\n",
       "</g>\r\n",
       "<!-- 2 -->\r\n",
       "<g id=\"node3\" class=\"node\"><title>2</title>\r\n",
       "<path fill=\"#e53986\" stroke=\"black\" d=\"M263,-565.5C263,-565.5 103,-565.5 103,-565.5 97,-565.5 91,-559.5 91,-553.5 91,-553.5 91,-524.5 91,-524.5 91,-518.5 97,-512.5 103,-512.5 103,-512.5 263,-512.5 263,-512.5 269,-512.5 275,-518.5 275,-524.5 275,-524.5 275,-553.5 275,-553.5 275,-559.5 269,-565.5 263,-565.5\"/>\r\n",
       "<text text-anchor=\"start\" x=\"141\" y=\"-550.3\" font-family=\"Helvetica,sans-Serif\" font-size=\"14.00\">entropy = 0.0</text>\r\n",
       "<text text-anchor=\"start\" x=\"139.5\" y=\"-535.3\" font-family=\"Helvetica,sans-Serif\" font-size=\"14.00\">samples = 22</text>\r\n",
       "<text text-anchor=\"start\" x=\"99\" y=\"-520.3\" font-family=\"Helvetica,sans-Serif\" font-size=\"14.00\">value = [0, 0, 0, 0, 0, 0, 22]</text>\r\n",
       "</g>\r\n",
       "<!-- 1&#45;&gt;2 -->\r\n",
       "<g id=\"edge2\" class=\"edge\"><title>1&#45;&gt;2</title>\r\n",
       "<path fill=\"none\" stroke=\"black\" d=\"M318.066,-608.884C293.59,-596.401 265.905,-582.282 242.001,-570.091\"/>\r\n",
       "<polygon fill=\"black\" stroke=\"black\" points=\"243.538,-566.945 233.039,-565.52 240.357,-573.181 243.538,-566.945\"/>\r\n",
       "</g>\r\n",
       "<!-- 3 -->\r\n",
       "<g id=\"node4\" class=\"node\"><title>3</title>\r\n",
       "<path fill=\"#c469eb\" stroke=\"black\" d=\"M465,-573C465,-573 305,-573 305,-573 299,-573 293,-567 293,-561 293,-561 293,-517 293,-517 293,-511 299,-505 305,-505 305,-505 465,-505 465,-505 471,-505 477,-511 477,-517 477,-517 477,-561 477,-561 477,-567 471,-573 465,-573\"/>\r\n",
       "<text text-anchor=\"start\" x=\"349.5\" y=\"-557.8\" font-family=\"Helvetica,sans-Serif\" font-size=\"14.00\">legs0 ≤ 0.5</text>\r\n",
       "<text text-anchor=\"start\" x=\"335\" y=\"-542.8\" font-family=\"Helvetica,sans-Serif\" font-size=\"14.00\">entropy = 0.711</text>\r\n",
       "<text text-anchor=\"start\" x=\"341.5\" y=\"-527.8\" font-family=\"Helvetica,sans-Serif\" font-size=\"14.00\">samples = 36</text>\r\n",
       "<text text-anchor=\"start\" x=\"301\" y=\"-512.8\" font-family=\"Helvetica,sans-Serif\" font-size=\"14.00\">value = [0, 0, 0, 0, 0, 29, 7]</text>\r\n",
       "</g>\r\n",
       "<!-- 1&#45;&gt;3 -->\r\n",
       "<g id=\"edge3\" class=\"edge\"><title>1&#45;&gt;3</title>\r\n",
       "<path fill=\"none\" stroke=\"black\" d=\"M383.649,-608.884C383.808,-600.778 383.981,-591.982 384.148,-583.472\"/>\r\n",
       "<polygon fill=\"black\" stroke=\"black\" points=\"387.65,-583.366 384.347,-573.299 380.652,-583.229 387.65,-583.366\"/>\r\n",
       "</g>\r\n",
       "<!-- 4 -->\r\n",
       "<g id=\"node5\" class=\"node\"><title>4</title>\r\n",
       "<path fill=\"#b647e7\" stroke=\"black\" d=\"M271,-469C271,-469 111,-469 111,-469 105,-469 99,-463 99,-457 99,-457 99,-413 99,-413 99,-407 105,-401 111,-401 111,-401 271,-401 271,-401 277,-401 283,-407 283,-413 283,-413 283,-457 283,-457 283,-463 277,-469 271,-469\"/>\r\n",
       "<text text-anchor=\"start\" x=\"164.5\" y=\"-453.8\" font-family=\"Helvetica,sans-Serif\" font-size=\"14.00\">tail ≤ 0.5</text>\r\n",
       "<text text-anchor=\"start\" x=\"141\" y=\"-438.8\" font-family=\"Helvetica,sans-Serif\" font-size=\"14.00\">entropy = 0.345</text>\r\n",
       "<text text-anchor=\"start\" x=\"147.5\" y=\"-423.8\" font-family=\"Helvetica,sans-Serif\" font-size=\"14.00\">samples = 31</text>\r\n",
       "<text text-anchor=\"start\" x=\"107\" y=\"-408.8\" font-family=\"Helvetica,sans-Serif\" font-size=\"14.00\">value = [0, 0, 0, 0, 0, 29, 2]</text>\r\n",
       "</g>\r\n",
       "<!-- 3&#45;&gt;4 -->\r\n",
       "<g id=\"edge4\" class=\"edge\"><title>3&#45;&gt;4</title>\r\n",
       "<path fill=\"none\" stroke=\"black\" d=\"M322.014,-504.884C303.198,-494.991 282.427,-484.07 263.076,-473.895\"/>\r\n",
       "<polygon fill=\"black\" stroke=\"black\" points=\"264.482,-470.681 254.002,-469.125 261.224,-476.876 264.482,-470.681\"/>\r\n",
       "</g>\r\n",
       "<!-- 7 -->\r\n",
       "<g id=\"node8\" class=\"node\"><title>7</title>\r\n",
       "<path fill=\"#e53986\" stroke=\"black\" d=\"M465,-461.5C465,-461.5 313,-461.5 313,-461.5 307,-461.5 301,-455.5 301,-449.5 301,-449.5 301,-420.5 301,-420.5 301,-414.5 307,-408.5 313,-408.5 313,-408.5 465,-408.5 465,-408.5 471,-408.5 477,-414.5 477,-420.5 477,-420.5 477,-449.5 477,-449.5 477,-455.5 471,-461.5 465,-461.5\"/>\r\n",
       "<text text-anchor=\"start\" x=\"347\" y=\"-446.3\" font-family=\"Helvetica,sans-Serif\" font-size=\"14.00\">entropy = 0.0</text>\r\n",
       "<text text-anchor=\"start\" x=\"349.5\" y=\"-431.3\" font-family=\"Helvetica,sans-Serif\" font-size=\"14.00\">samples = 5</text>\r\n",
       "<text text-anchor=\"start\" x=\"309\" y=\"-416.3\" font-family=\"Helvetica,sans-Serif\" font-size=\"14.00\">value = [0, 0, 0, 0, 0, 0, 5]</text>\r\n",
       "</g>\r\n",
       "<!-- 3&#45;&gt;7 -->\r\n",
       "<g id=\"edge7\" class=\"edge\"><title>3&#45;&gt;7</title>\r\n",
       "<path fill=\"none\" stroke=\"black\" d=\"M386.299,-504.884C386.717,-494.216 387.182,-482.352 387.607,-471.519\"/>\r\n",
       "<polygon fill=\"black\" stroke=\"black\" points=\"391.105,-471.649 387.999,-461.52 384.11,-471.375 391.105,-471.649\"/>\r\n",
       "</g>\r\n",
       "<!-- 5 -->\r\n",
       "<g id=\"node6\" class=\"node\"><title>5</title>\r\n",
       "<path fill=\"#b139e5\" stroke=\"black\" d=\"M172,-357.5C172,-357.5 12,-357.5 12,-357.5 6,-357.5 0,-351.5 0,-345.5 0,-345.5 0,-316.5 0,-316.5 0,-310.5 6,-304.5 12,-304.5 12,-304.5 172,-304.5 172,-304.5 178,-304.5 184,-310.5 184,-316.5 184,-316.5 184,-345.5 184,-345.5 184,-351.5 178,-357.5 172,-357.5\"/>\r\n",
       "<text text-anchor=\"start\" x=\"50\" y=\"-342.3\" font-family=\"Helvetica,sans-Serif\" font-size=\"14.00\">entropy = 0.0</text>\r\n",
       "<text text-anchor=\"start\" x=\"48.5\" y=\"-327.3\" font-family=\"Helvetica,sans-Serif\" font-size=\"14.00\">samples = 29</text>\r\n",
       "<text text-anchor=\"start\" x=\"8\" y=\"-312.3\" font-family=\"Helvetica,sans-Serif\" font-size=\"14.00\">value = [0, 0, 0, 0, 0, 29, 0]</text>\r\n",
       "</g>\r\n",
       "<!-- 4&#45;&gt;5 -->\r\n",
       "<g id=\"edge5\" class=\"edge\"><title>4&#45;&gt;5</title>\r\n",
       "<path fill=\"none\" stroke=\"black\" d=\"M158.858,-400.884C147.649,-389.336 135.082,-376.387 123.894,-364.86\"/>\r\n",
       "<polygon fill=\"black\" stroke=\"black\" points=\"126.246,-362.258 116.769,-357.52 121.223,-367.133 126.246,-362.258\"/>\r\n",
       "</g>\r\n",
       "<!-- 6 -->\r\n",
       "<g id=\"node7\" class=\"node\"><title>6</title>\r\n",
       "<path fill=\"#e53986\" stroke=\"black\" d=\"M366,-357.5C366,-357.5 214,-357.5 214,-357.5 208,-357.5 202,-351.5 202,-345.5 202,-345.5 202,-316.5 202,-316.5 202,-310.5 208,-304.5 214,-304.5 214,-304.5 366,-304.5 366,-304.5 372,-304.5 378,-310.5 378,-316.5 378,-316.5 378,-345.5 378,-345.5 378,-351.5 372,-357.5 366,-357.5\"/>\r\n",
       "<text text-anchor=\"start\" x=\"248\" y=\"-342.3\" font-family=\"Helvetica,sans-Serif\" font-size=\"14.00\">entropy = 0.0</text>\r\n",
       "<text text-anchor=\"start\" x=\"250.5\" y=\"-327.3\" font-family=\"Helvetica,sans-Serif\" font-size=\"14.00\">samples = 2</text>\r\n",
       "<text text-anchor=\"start\" x=\"210\" y=\"-312.3\" font-family=\"Helvetica,sans-Serif\" font-size=\"14.00\">value = [0, 0, 0, 0, 0, 0, 2]</text>\r\n",
       "</g>\r\n",
       "<!-- 4&#45;&gt;6 -->\r\n",
       "<g id=\"edge6\" class=\"edge\"><title>4&#45;&gt;6</title>\r\n",
       "<path fill=\"none\" stroke=\"black\" d=\"M223.142,-400.884C234.351,-389.336 246.918,-376.387 258.106,-364.86\"/>\r\n",
       "<polygon fill=\"black\" stroke=\"black\" points=\"260.777,-367.133 265.231,-357.52 255.754,-362.258 260.777,-367.133\"/>\r\n",
       "</g>\r\n",
       "<!-- 9 -->\r\n",
       "<g id=\"node10\" class=\"node\"><title>9</title>\r\n",
       "<path fill=\"#fdffff\" stroke=\"black\" d=\"M696.5,-573C696.5,-573 511.5,-573 511.5,-573 505.5,-573 499.5,-567 499.5,-561 499.5,-561 499.5,-517 499.5,-517 499.5,-511 505.5,-505 511.5,-505 511.5,-505 696.5,-505 696.5,-505 702.5,-505 708.5,-511 708.5,-517 708.5,-517 708.5,-561 708.5,-561 708.5,-567 702.5,-573 696.5,-573\"/>\r\n",
       "<text text-anchor=\"start\" x=\"575\" y=\"-557.8\" font-family=\"Helvetica,sans-Serif\" font-size=\"14.00\">fins ≤ 0.5</text>\r\n",
       "<text text-anchor=\"start\" x=\"562\" y=\"-542.8\" font-family=\"Helvetica,sans-Serif\" font-size=\"14.00\">entropy = 2.0</text>\r\n",
       "<text text-anchor=\"start\" x=\"556.5\" y=\"-527.8\" font-family=\"Helvetica,sans-Serif\" font-size=\"14.00\">samples = 113</text>\r\n",
       "<text text-anchor=\"start\" x=\"507.5\" y=\"-512.8\" font-family=\"Helvetica,sans-Serif\" font-size=\"14.00\">value = [0, 28, 28, 29, 28, 0, 0]</text>\r\n",
       "</g>\r\n",
       "<!-- 8&#45;&gt;9 -->\r\n",
       "<g id=\"edge9\" class=\"edge\"><title>8&#45;&gt;9</title>\r\n",
       "<path fill=\"none\" stroke=\"black\" d=\"M605.351,-608.884C605.192,-600.778 605.019,-591.982 604.852,-583.472\"/>\r\n",
       "<polygon fill=\"black\" stroke=\"black\" points=\"608.348,-583.229 604.653,-573.299 601.35,-583.366 608.348,-583.229\"/>\r\n",
       "</g>\r\n",
       "<!-- 20 -->\r\n",
       "<g id=\"node21\" class=\"node\"><title>20</title>\r\n",
       "<path fill=\"#e58139\" stroke=\"black\" d=\"M899,-565.5C899,-565.5 739,-565.5 739,-565.5 733,-565.5 727,-559.5 727,-553.5 727,-553.5 727,-524.5 727,-524.5 727,-518.5 733,-512.5 739,-512.5 739,-512.5 899,-512.5 899,-512.5 905,-512.5 911,-518.5 911,-524.5 911,-524.5 911,-553.5 911,-553.5 911,-559.5 905,-565.5 899,-565.5\"/>\r\n",
       "<text text-anchor=\"start\" x=\"777\" y=\"-550.3\" font-family=\"Helvetica,sans-Serif\" font-size=\"14.00\">entropy = 0.0</text>\r\n",
       "<text text-anchor=\"start\" x=\"775.5\" y=\"-535.3\" font-family=\"Helvetica,sans-Serif\" font-size=\"14.00\">samples = 29</text>\r\n",
       "<text text-anchor=\"start\" x=\"735\" y=\"-520.3\" font-family=\"Helvetica,sans-Serif\" font-size=\"14.00\">value = [29, 0, 0, 0, 0, 0, 0]</text>\r\n",
       "</g>\r\n",
       "<!-- 8&#45;&gt;20 -->\r\n",
       "<g id=\"edge20\" class=\"edge\"><title>8&#45;&gt;20</title>\r\n",
       "<path fill=\"none\" stroke=\"black\" d=\"M675.155,-608.884C701.336,-596.346 730.966,-582.157 756.5,-569.93\"/>\r\n",
       "<polygon fill=\"black\" stroke=\"black\" points=\"758.201,-572.996 765.708,-565.52 755.177,-566.682 758.201,-572.996\"/>\r\n",
       "</g>\r\n",
       "<!-- 10 -->\r\n",
       "<g id=\"node11\" class=\"node\"><title>10</title>\r\n",
       "<path fill=\"#ffffff\" stroke=\"black\" d=\"M687,-469C687,-469 511,-469 511,-469 505,-469 499,-463 499,-457 499,-457 499,-413 499,-413 499,-407 505,-401 511,-401 511,-401 687,-401 687,-401 693,-401 699,-407 699,-413 699,-413 699,-457 699,-457 699,-463 693,-469 687,-469\"/>\r\n",
       "<text text-anchor=\"start\" x=\"555\" y=\"-453.8\" font-family=\"Helvetica,sans-Serif\" font-size=\"14.00\">feathers ≤ 0.5</text>\r\n",
       "<text text-anchor=\"start\" x=\"549\" y=\"-438.8\" font-family=\"Helvetica,sans-Serif\" font-size=\"14.00\">entropy = 1.585</text>\r\n",
       "<text text-anchor=\"start\" x=\"555.5\" y=\"-423.8\" font-family=\"Helvetica,sans-Serif\" font-size=\"14.00\">samples = 84</text>\r\n",
       "<text text-anchor=\"start\" x=\"507\" y=\"-408.8\" font-family=\"Helvetica,sans-Serif\" font-size=\"14.00\">value = [0, 28, 28, 0, 28, 0, 0]</text>\r\n",
       "</g>\r\n",
       "<!-- 9&#45;&gt;10 -->\r\n",
       "<g id=\"edge10\" class=\"edge\"><title>9&#45;&gt;10</title>\r\n",
       "<path fill=\"none\" stroke=\"black\" d=\"M602.377,-504.884C601.979,-496.778 601.548,-487.982 601.131,-479.472\"/>\r\n",
       "<polygon fill=\"black\" stroke=\"black\" points=\"604.618,-479.116 600.632,-469.299 597.626,-479.459 604.618,-479.116\"/>\r\n",
       "</g>\r\n",
       "<!-- 19 -->\r\n",
       "<g id=\"node20\" class=\"node\"><title>19</title>\r\n",
       "<path fill=\"#39e5e2\" stroke=\"black\" d=\"M889,-461.5C889,-461.5 729,-461.5 729,-461.5 723,-461.5 717,-455.5 717,-449.5 717,-449.5 717,-420.5 717,-420.5 717,-414.5 723,-408.5 729,-408.5 729,-408.5 889,-408.5 889,-408.5 895,-408.5 901,-414.5 901,-420.5 901,-420.5 901,-449.5 901,-449.5 901,-455.5 895,-461.5 889,-461.5\"/>\r\n",
       "<text text-anchor=\"start\" x=\"767\" y=\"-446.3\" font-family=\"Helvetica,sans-Serif\" font-size=\"14.00\">entropy = 0.0</text>\r\n",
       "<text text-anchor=\"start\" x=\"765.5\" y=\"-431.3\" font-family=\"Helvetica,sans-Serif\" font-size=\"14.00\">samples = 29</text>\r\n",
       "<text text-anchor=\"start\" x=\"725\" y=\"-416.3\" font-family=\"Helvetica,sans-Serif\" font-size=\"14.00\">value = [0, 0, 0, 29, 0, 0, 0]</text>\r\n",
       "</g>\r\n",
       "<!-- 9&#45;&gt;19 -->\r\n",
       "<g id=\"edge19\" class=\"edge\"><title>9&#45;&gt;19</title>\r\n",
       "<path fill=\"none\" stroke=\"black\" d=\"M670.558,-504.884C695.645,-492.401 724.022,-478.282 748.524,-466.091\"/>\r\n",
       "<polygon fill=\"black\" stroke=\"black\" points=\"750.316,-469.108 757.71,-461.52 747.198,-462.841 750.316,-469.108\"/>\r\n",
       "</g>\r\n",
       "<!-- 11 -->\r\n",
       "<g id=\"node12\" class=\"node\"><title>11</title>\r\n",
       "<path fill=\"#ffffff\" stroke=\"black\" d=\"M578,-365C578,-365 410,-365 410,-365 404,-365 398,-359 398,-353 398,-353 398,-309 398,-309 398,-303 404,-297 410,-297 410,-297 578,-297 578,-297 584,-297 590,-303 590,-309 590,-309 590,-353 590,-353 590,-359 584,-365 578,-365\"/>\r\n",
       "<text text-anchor=\"start\" x=\"467.5\" y=\"-349.8\" font-family=\"Helvetica,sans-Serif\" font-size=\"14.00\">tail ≤ 0.5</text>\r\n",
       "<text text-anchor=\"start\" x=\"452\" y=\"-334.8\" font-family=\"Helvetica,sans-Serif\" font-size=\"14.00\">entropy = 1.0</text>\r\n",
       "<text text-anchor=\"start\" x=\"450.5\" y=\"-319.8\" font-family=\"Helvetica,sans-Serif\" font-size=\"14.00\">samples = 56</text>\r\n",
       "<text text-anchor=\"start\" x=\"406\" y=\"-304.8\" font-family=\"Helvetica,sans-Serif\" font-size=\"14.00\">value = [0, 0, 28, 0, 28, 0, 0]</text>\r\n",
       "</g>\r\n",
       "<!-- 10&#45;&gt;11 -->\r\n",
       "<g id=\"edge11\" class=\"edge\"><title>10&#45;&gt;11</title>\r\n",
       "<path fill=\"none\" stroke=\"black\" d=\"M564.91,-400.884C555.557,-391.798 545.312,-381.845 535.589,-372.4\"/>\r\n",
       "<polygon fill=\"black\" stroke=\"black\" points=\"537.89,-369.757 528.279,-365.299 533.013,-374.778 537.89,-369.757\"/>\r\n",
       "</g>\r\n",
       "<!-- 18 -->\r\n",
       "<g id=\"node19\" class=\"node\"><title>18</title>\r\n",
       "<path fill=\"#b7e539\" stroke=\"black\" d=\"M780,-357.5C780,-357.5 620,-357.5 620,-357.5 614,-357.5 608,-351.5 608,-345.5 608,-345.5 608,-316.5 608,-316.5 608,-310.5 614,-304.5 620,-304.5 620,-304.5 780,-304.5 780,-304.5 786,-304.5 792,-310.5 792,-316.5 792,-316.5 792,-345.5 792,-345.5 792,-351.5 786,-357.5 780,-357.5\"/>\r\n",
       "<text text-anchor=\"start\" x=\"658\" y=\"-342.3\" font-family=\"Helvetica,sans-Serif\" font-size=\"14.00\">entropy = 0.0</text>\r\n",
       "<text text-anchor=\"start\" x=\"656.5\" y=\"-327.3\" font-family=\"Helvetica,sans-Serif\" font-size=\"14.00\">samples = 28</text>\r\n",
       "<text text-anchor=\"start\" x=\"616\" y=\"-312.3\" font-family=\"Helvetica,sans-Serif\" font-size=\"14.00\">value = [0, 28, 0, 0, 0, 0, 0]</text>\r\n",
       "</g>\r\n",
       "<!-- 10&#45;&gt;18 -->\r\n",
       "<g id=\"edge18\" class=\"edge\"><title>10&#45;&gt;18</title>\r\n",
       "<path fill=\"none\" stroke=\"black\" d=\"M631.792,-400.884C643.226,-389.336 656.048,-376.387 667.462,-364.86\"/>\r\n",
       "<polygon fill=\"black\" stroke=\"black\" points=\"670.181,-367.088 674.73,-357.52 665.207,-362.163 670.181,-367.088\"/>\r\n",
       "</g>\r\n",
       "<!-- 12 -->\r\n",
       "<g id=\"node13\" class=\"node\"><title>12</title>\r\n",
       "<path fill=\"#3956e5\" stroke=\"black\" d=\"M471,-253.5C471,-253.5 311,-253.5 311,-253.5 305,-253.5 299,-247.5 299,-241.5 299,-241.5 299,-212.5 299,-212.5 299,-206.5 305,-200.5 311,-200.5 311,-200.5 471,-200.5 471,-200.5 477,-200.5 483,-206.5 483,-212.5 483,-212.5 483,-241.5 483,-241.5 483,-247.5 477,-253.5 471,-253.5\"/>\r\n",
       "<text text-anchor=\"start\" x=\"349\" y=\"-238.3\" font-family=\"Helvetica,sans-Serif\" font-size=\"14.00\">entropy = 0.0</text>\r\n",
       "<text text-anchor=\"start\" x=\"347.5\" y=\"-223.3\" font-family=\"Helvetica,sans-Serif\" font-size=\"14.00\">samples = 17</text>\r\n",
       "<text text-anchor=\"start\" x=\"307\" y=\"-208.3\" font-family=\"Helvetica,sans-Serif\" font-size=\"14.00\">value = [0, 0, 0, 0, 17, 0, 0]</text>\r\n",
       "</g>\r\n",
       "<!-- 11&#45;&gt;12 -->\r\n",
       "<g id=\"edge12\" class=\"edge\"><title>11&#45;&gt;12</title>\r\n",
       "<path fill=\"none\" stroke=\"black\" d=\"M460.559,-296.884C448.898,-285.336 435.823,-272.387 424.183,-260.86\"/>\r\n",
       "<polygon fill=\"black\" stroke=\"black\" points=\"426.338,-258.07 416.77,-253.52 421.413,-263.043 426.338,-258.07\"/>\r\n",
       "</g>\r\n",
       "<!-- 13 -->\r\n",
       "<g id=\"node14\" class=\"node\"><title>13</title>\r\n",
       "<path fill=\"#87ef93\" stroke=\"black\" d=\"M681,-261C681,-261 513,-261 513,-261 507,-261 501,-255 501,-249 501,-249 501,-205 501,-205 501,-199 507,-193 513,-193 513,-193 681,-193 681,-193 687,-193 693,-199 693,-205 693,-205 693,-249 693,-249 693,-255 687,-261 681,-261\"/>\r\n",
       "<text text-anchor=\"start\" x=\"561.5\" y=\"-245.8\" font-family=\"Helvetica,sans-Serif\" font-size=\"14.00\">legs0 ≤ 0.5</text>\r\n",
       "<text text-anchor=\"start\" x=\"547\" y=\"-230.8\" font-family=\"Helvetica,sans-Serif\" font-size=\"14.00\">entropy = 0.858</text>\r\n",
       "<text text-anchor=\"start\" x=\"553.5\" y=\"-215.8\" font-family=\"Helvetica,sans-Serif\" font-size=\"14.00\">samples = 39</text>\r\n",
       "<text text-anchor=\"start\" x=\"509\" y=\"-200.8\" font-family=\"Helvetica,sans-Serif\" font-size=\"14.00\">value = [0, 0, 28, 0, 11, 0, 0]</text>\r\n",
       "</g>\r\n",
       "<!-- 11&#45;&gt;13 -->\r\n",
       "<g id=\"edge13\" class=\"edge\"><title>11&#45;&gt;13</title>\r\n",
       "<path fill=\"none\" stroke=\"black\" d=\"M527.441,-296.884C536.616,-287.798 546.666,-277.845 556.204,-268.4\"/>\r\n",
       "<polygon fill=\"black\" stroke=\"black\" points=\"558.731,-270.823 563.374,-261.299 553.806,-265.849 558.731,-270.823\"/>\r\n",
       "</g>\r\n",
       "<!-- 14 -->\r\n",
       "<g id=\"node15\" class=\"node\"><title>14</title>\r\n",
       "<path fill=\"#e1fbe4\" stroke=\"black\" d=\"M578,-157C578,-157 410,-157 410,-157 404,-157 398,-151 398,-145 398,-145 398,-101 398,-101 398,-95 404,-89 410,-89 410,-89 578,-89 578,-89 584,-89 590,-95 590,-101 590,-101 590,-145 590,-145 590,-151 584,-157 578,-157\"/>\r\n",
       "<text text-anchor=\"start\" x=\"452\" y=\"-141.8\" font-family=\"Helvetica,sans-Serif\" font-size=\"14.00\">toothed ≤ 0.5</text>\r\n",
       "<text text-anchor=\"start\" x=\"444\" y=\"-126.8\" font-family=\"Helvetica,sans-Serif\" font-size=\"14.00\">entropy = 0.995</text>\r\n",
       "<text text-anchor=\"start\" x=\"450.5\" y=\"-111.8\" font-family=\"Helvetica,sans-Serif\" font-size=\"14.00\">samples = 24</text>\r\n",
       "<text text-anchor=\"start\" x=\"406\" y=\"-96.8\" font-family=\"Helvetica,sans-Serif\" font-size=\"14.00\">value = [0, 0, 13, 0, 11, 0, 0]</text>\r\n",
       "</g>\r\n",
       "<!-- 13&#45;&gt;14 -->\r\n",
       "<g id=\"edge14\" class=\"edge\"><title>13&#45;&gt;14</title>\r\n",
       "<path fill=\"none\" stroke=\"black\" d=\"M563.559,-192.884C554.384,-183.798 544.334,-173.845 534.796,-164.4\"/>\r\n",
       "<polygon fill=\"black\" stroke=\"black\" points=\"537.194,-161.849 527.626,-157.299 532.269,-166.823 537.194,-161.849\"/>\r\n",
       "</g>\r\n",
       "<!-- 17 -->\r\n",
       "<g id=\"node18\" class=\"node\"><title>17</title>\r\n",
       "<path fill=\"#39e54d\" stroke=\"black\" d=\"M780,-149.5C780,-149.5 620,-149.5 620,-149.5 614,-149.5 608,-143.5 608,-137.5 608,-137.5 608,-108.5 608,-108.5 608,-102.5 614,-96.5 620,-96.5 620,-96.5 780,-96.5 780,-96.5 786,-96.5 792,-102.5 792,-108.5 792,-108.5 792,-137.5 792,-137.5 792,-143.5 786,-149.5 780,-149.5\"/>\r\n",
       "<text text-anchor=\"start\" x=\"658\" y=\"-134.3\" font-family=\"Helvetica,sans-Serif\" font-size=\"14.00\">entropy = 0.0</text>\r\n",
       "<text text-anchor=\"start\" x=\"656.5\" y=\"-119.3\" font-family=\"Helvetica,sans-Serif\" font-size=\"14.00\">samples = 15</text>\r\n",
       "<text text-anchor=\"start\" x=\"616\" y=\"-104.3\" font-family=\"Helvetica,sans-Serif\" font-size=\"14.00\">value = [0, 0, 15, 0, 0, 0, 0]</text>\r\n",
       "</g>\r\n",
       "<!-- 13&#45;&gt;17 -->\r\n",
       "<g id=\"edge17\" class=\"edge\"><title>13&#45;&gt;17</title>\r\n",
       "<path fill=\"none\" stroke=\"black\" d=\"M630.441,-192.884C642.102,-181.336 655.177,-168.387 666.817,-156.86\"/>\r\n",
       "<polygon fill=\"black\" stroke=\"black\" points=\"669.587,-159.043 674.23,-149.52 664.662,-154.07 669.587,-159.043\"/>\r\n",
       "</g>\r\n",
       "<!-- 15 -->\r\n",
       "<g id=\"node16\" class=\"node\"><title>15</title>\r\n",
       "<path fill=\"#39e54d\" stroke=\"black\" d=\"M471,-53C471,-53 319,-53 319,-53 313,-53 307,-47 307,-41 307,-41 307,-12 307,-12 307,-6 313,-0 319,-0 319,-0 471,-0 471,-0 477,-0 483,-6 483,-12 483,-12 483,-41 483,-41 483,-47 477,-53 471,-53\"/>\r\n",
       "<text text-anchor=\"start\" x=\"353\" y=\"-37.8\" font-family=\"Helvetica,sans-Serif\" font-size=\"14.00\">entropy = 0.0</text>\r\n",
       "<text text-anchor=\"start\" x=\"355.5\" y=\"-22.8\" font-family=\"Helvetica,sans-Serif\" font-size=\"14.00\">samples = 7</text>\r\n",
       "<text text-anchor=\"start\" x=\"315\" y=\"-7.8\" font-family=\"Helvetica,sans-Serif\" font-size=\"14.00\">value = [0, 0, 7, 0, 0, 0, 0]</text>\r\n",
       "</g>\r\n",
       "<!-- 14&#45;&gt;15 -->\r\n",
       "<g id=\"edge15\" class=\"edge\"><title>14&#45;&gt;15</title>\r\n",
       "<path fill=\"none\" stroke=\"black\" d=\"M459.375,-88.9485C449.599,-79.6175 438.971,-69.4722 429.22,-60.1641\"/>\r\n",
       "<polygon fill=\"black\" stroke=\"black\" points=\"431.613,-57.6097 421.962,-53.2367 426.779,-62.6732 431.613,-57.6097\"/>\r\n",
       "</g>\r\n",
       "<!-- 16 -->\r\n",
       "<g id=\"node17\" class=\"node\"><title>16</title>\r\n",
       "<path fill=\"#a5b2f3\" stroke=\"black\" d=\"M673,-53C673,-53 513,-53 513,-53 507,-53 501,-47 501,-41 501,-41 501,-12 501,-12 501,-6 507,-0 513,-0 513,-0 673,-0 673,-0 679,-0 685,-6 685,-12 685,-12 685,-41 685,-41 685,-47 679,-53 673,-53\"/>\r\n",
       "<text text-anchor=\"start\" x=\"543\" y=\"-37.8\" font-family=\"Helvetica,sans-Serif\" font-size=\"14.00\">entropy = 0.937</text>\r\n",
       "<text text-anchor=\"start\" x=\"549.5\" y=\"-22.8\" font-family=\"Helvetica,sans-Serif\" font-size=\"14.00\">samples = 17</text>\r\n",
       "<text text-anchor=\"start\" x=\"509\" y=\"-7.8\" font-family=\"Helvetica,sans-Serif\" font-size=\"14.00\">value = [0, 0, 6, 0, 11, 0, 0]</text>\r\n",
       "</g>\r\n",
       "<!-- 14&#45;&gt;16 -->\r\n",
       "<g id=\"edge16\" class=\"edge\"><title>14&#45;&gt;16</title>\r\n",
       "<path fill=\"none\" stroke=\"black\" d=\"M528.625,-88.9485C538.401,-79.6175 549.029,-69.4722 558.78,-60.1641\"/>\r\n",
       "<polygon fill=\"black\" stroke=\"black\" points=\"561.221,-62.6732 566.038,-53.2367 556.387,-57.6097 561.221,-62.6732\"/>\r\n",
       "</g>\r\n",
       "</g>\r\n",
       "</svg>\r\n"
      ],
      "text/plain": [
       "<graphviz.files.Source at 0x18495b6e0c8>"
      ]
     },
     "execution_count": 25,
     "metadata": {},
     "output_type": "execute_result"
    }
   ],
   "source": [
    "# plot the tree\n",
    "# for graphing the tree\n",
    "import graphviz as gv\n",
    "from sklearn import tree\n",
    "\n",
    "dot_data = tree.export_graphviz(model, out_file=None, filled=True, rounded = True, special_characters = True\n",
    "                               , feature_names = features)\n",
    "graph = gv.Source(dot_data)\n",
    "graph"
   ]
  },
  {
   "cell_type": "code",
   "execution_count": null,
   "metadata": {},
   "outputs": [],
   "source": []
  }
 ],
 "metadata": {
  "kernelspec": {
   "display_name": "Python 3",
   "language": "python",
   "name": "python3"
  },
  "language_info": {
   "codemirror_mode": {
    "name": "ipython",
    "version": 3
   },
   "file_extension": ".py",
   "mimetype": "text/x-python",
   "name": "python",
   "nbconvert_exporter": "python",
   "pygments_lexer": "ipython3",
   "version": "3.7.4"
  }
 },
 "nbformat": 4,
 "nbformat_minor": 2
}
