{
 "cells": [
  {
   "cell_type": "markdown",
   "metadata": {},
   "source": [
    "### Data analysis and a simple decision tree example using data from https://www.kaggle.com/uciml/zoo-animal-classification\n",
    "\n",
    "### from Part-2 analysis, we know the gini index scores. Based on that we select following columns only.\n"
   ]
  },
  {
   "cell_type": "code",
   "execution_count": 1,
   "metadata": {},
   "outputs": [],
   "source": [
    "import pandas as pd\n",
    "from sklearn.preprocessing import OneHotEncoder\n",
    "import numpy as np\n",
    "from collections import Counter\n",
    "import math as math\n",
    "from imblearn.over_sampling import SMOTE\n",
    "from imblearn.over_sampling import RandomOverSampler"
   ]
  },
  {
   "cell_type": "markdown",
   "metadata": {},
   "source": [
    "Read the data file"
   ]
  },
  {
   "cell_type": "code",
   "execution_count": 2,
   "metadata": {},
   "outputs": [],
   "source": [
    "zoo_df = pd.read_csv(\"data\\Decision-Tree_Zoo-Data\\zoo-animal-classification\\zoo.csv\")"
   ]
  },
  {
   "cell_type": "markdown",
   "metadata": {},
   "source": [
    "Check if we are missing any data"
   ]
  },
  {
   "cell_type": "code",
   "execution_count": 3,
   "metadata": {},
   "outputs": [
    {
     "name": "stdout",
     "output_type": "stream",
     "text": [
      "<class 'pandas.core.frame.DataFrame'>\n",
      "RangeIndex: 101 entries, 0 to 100\n",
      "Data columns (total 18 columns):\n",
      "animal_name    101 non-null object\n",
      "hair           101 non-null int64\n",
      "feathers       101 non-null int64\n",
      "eggs           101 non-null int64\n",
      "milk           101 non-null int64\n",
      "airborne       101 non-null int64\n",
      "aquatic        101 non-null int64\n",
      "predator       101 non-null int64\n",
      "toothed        101 non-null int64\n",
      "backbone       101 non-null int64\n",
      "breathes       101 non-null int64\n",
      "venomous       101 non-null int64\n",
      "fins           101 non-null int64\n",
      "legs           101 non-null int64\n",
      "tail           101 non-null int64\n",
      "domestic       101 non-null int64\n",
      "catsize        101 non-null int64\n",
      "class_type     101 non-null int64\n",
      "dtypes: int64(17), object(1)\n",
      "memory usage: 14.3+ KB\n"
     ]
    }
   ],
   "source": [
    "zoo_df.info()"
   ]
  },
  {
   "cell_type": "markdown",
   "metadata": {},
   "source": [
    "animal_name is not useful in classification. remove it from data set"
   ]
  },
  {
   "cell_type": "code",
   "execution_count": 4,
   "metadata": {},
   "outputs": [
    {
     "name": "stdout",
     "output_type": "stream",
     "text": [
      "['aardvark', 'antelope', 'bass', 'bear', 'boar', 'buffalo', 'calf', 'carp', 'catfish', 'cavy', 'cheetah', 'chicken', 'chub', 'clam', 'crab', 'crayfish', 'crow', 'deer', 'dogfish', 'dolphin', 'dove', 'duck', 'elephant', 'flamingo', 'flea', 'frog', 'frog', 'fruitbat', 'giraffe', 'girl', 'gnat', 'goat', 'gorilla', 'gull', 'haddock', 'hamster', 'hare', 'hawk', 'herring', 'honeybee', 'housefly', 'kiwi', 'ladybird', 'lark', 'leopard', 'lion', 'lobster', 'lynx', 'mink', 'mole', 'mongoose', 'moth', 'newt', 'octopus', 'opossum', 'oryx', 'ostrich', 'parakeet', 'penguin', 'pheasant', 'pike', 'piranha', 'pitviper', 'platypus', 'polecat', 'pony', 'porpoise', 'puma', 'pussycat', 'raccoon', 'reindeer', 'rhea', 'scorpion', 'seahorse', 'seal', 'sealion', 'seasnake', 'seawasp', 'skimmer', 'skua', 'slowworm', 'slug', 'sole', 'sparrow', 'squirrel', 'starfish', 'stingray', 'swan', 'termite', 'toad', 'tortoise', 'tuatara', 'tuna', 'vampire', 'vole', 'vulture', 'wallaby', 'wasp', 'wolf', 'worm', 'wren']\n"
     ]
    }
   ],
   "source": [
    "animal_names = zoo_df['animal_name'].to_list()\n",
    "print(animal_names)\n",
    "zoo_df = zoo_df.drop('animal_name', axis=1)"
   ]
  },
  {
   "cell_type": "code",
   "execution_count": 5,
   "metadata": {},
   "outputs": [],
   "source": [
    "#One-of-K Encode the \"legs\" column data\n",
    "onehot_encoder = OneHotEncoder(sparse=False, categories = \"auto\", dtype=np.int)\n",
    "onehot_encoded = onehot_encoder.fit_transform(zoo_df[\"legs\"].values.reshape(-1,1))\n",
    "\n",
    "# prepare column names\n",
    "legs_clm_names = list()\n",
    "col_index = 0\n",
    "for name in onehot_encoder.categories_[0]:\n",
    "    zoo_df[\"legs\" + str(name)] = onehot_encoded[:, col_index]\n",
    "    col_index = col_index + 1\n",
    "zoo_df = zoo_df.drop(\"legs\", axis=1)"
   ]
  },
  {
   "cell_type": "code",
   "execution_count": 6,
   "metadata": {},
   "outputs": [],
   "source": [
    "for column in zoo_df.columns:\n",
    "    zoo_df[column] = zoo_df[column].astype(\"category\")"
   ]
  },
  {
   "cell_type": "code",
   "execution_count": 7,
   "metadata": {
    "scrolled": true
   },
   "outputs": [],
   "source": [
    "# assumes x and y are categorical data\n",
    "def calc_entropy(y_actual):\n",
    "    class_counter = Counter(y_actual)\n",
    "    total_count = float(len(y_actual))\n",
    "    entropy = 0;\n",
    "    for clas, count in class_counter.items():\n",
    "        probability = count/total_count\n",
    "        entropy = entropy - (probability * math.log2(probability))\n",
    "    print(\"Entropy Value: \", entropy)\n",
    "    return entropy\n",
    "\n",
    "def calc_information_gain(input_x, y_actual):\n",
    "    total_count = float(len(y_actual))\n",
    "    # divide the input_x column into k partitions\n",
    "    partitions = Counter(input_x)\n",
    "    sum_of_partition_entropies = 0;\n",
    "    print(partitions.items())\n",
    "    for partition_key, count in partitions.items():\n",
    "        mask = input_x == partition_key\n",
    "        sum_of_partition_entropies = sum_of_partition_entropies + ((count/total_count)*calc_entropy(y_actual[mask]))\n",
    "    info_gain = calc_entropy(y_actual) - sum_of_partition_entropies\n",
    "    return info_gain"
   ]
  },
  {
   "cell_type": "code",
   "execution_count": 8,
   "metadata": {},
   "outputs": [
    {
     "name": "stdout",
     "output_type": "stream",
     "text": [
      "['hair', 'feathers', 'eggs', 'milk', 'airborne', 'aquatic', 'predator', 'toothed', 'backbone', 'breathes', 'venomous', 'fins', 'tail', 'domestic', 'catsize', 'legs0', 'legs2', 'legs4', 'legs5', 'legs6', 'legs8']\n"
     ]
    }
   ],
   "source": [
    "columns= list(zoo_df.columns)\n",
    "columns.remove(\"class_type\")\n",
    "print(columns)"
   ]
  },
  {
   "cell_type": "code",
   "execution_count": 9,
   "metadata": {},
   "outputs": [
    {
     "name": "stdout",
     "output_type": "stream",
     "text": [
      "hair\n",
      "dict_items([(1, 60), (0, 227)])\n",
      "Entropy Value:  0.934068055375491\n",
      "Entropy Value:  2.5986334086809832\n",
      "Entropy Value:  2.807354922057604\n",
      "feathers\n",
      "dict_items([(0, 246), (1, 41)])\n",
      "Entropy Value:  2.584962500721156\n",
      "Entropy Value:  0.0\n",
      "Entropy Value:  2.807354922057604\n",
      "eggs\n",
      "dict_items([(0, 51), (1, 236)])\n",
      "Entropy Value:  0.9666108463978046\n",
      "Entropy Value:  2.610267056131491\n",
      "Entropy Value:  2.807354922057604\n",
      "milk\n",
      "dict_items([(1, 41), (0, 246)])\n",
      "Entropy Value:  0.0\n",
      "Entropy Value:  2.584962500721156\n",
      "Entropy Value:  2.807354922057604\n",
      "airborne\n",
      "dict_items([(0, 223), (1, 64)])\n",
      "Entropy Value:  2.6378851550279974\n",
      "Entropy Value:  1.168645033308507\n",
      "Entropy Value:  2.807354922057604\n",
      "aquatic\n",
      "dict_items([(0, 162), (1, 125)])\n",
      "Entropy Value:  2.281701446520938\n",
      "Entropy Value:  2.1899792045793824\n",
      "Entropy Value:  2.807354922057604\n",
      "predator\n",
      "dict_items([(1, 161), (0, 126)])\n",
      "Entropy Value:  2.625230443036573\n",
      "Entropy Value:  2.5918519037663605\n",
      "Entropy Value:  2.807354922057604\n",
      "toothed\n",
      "dict_items([(1, 157), (0, 130)])\n",
      "Entropy Value:  1.997032890501492\n",
      "Entropy Value:  1.8339934163180605\n",
      "Entropy Value:  2.807354922057604\n",
      "backbone\n",
      "dict_items([(1, 205), (0, 82)])\n",
      "Entropy Value:  2.321928094887362\n",
      "Entropy Value:  1.0\n",
      "Entropy Value:  2.807354922057604\n",
      "breathes\n",
      "dict_items([(1, 215), (0, 72)])\n",
      "Entropy Value:  2.5288280386571835\n",
      "Entropy Value:  1.2912331689695835\n",
      "Entropy Value:  2.807354922057604\n",
      "venomous\n",
      "dict_items([(0, 246), (1, 41)])\n",
      "Entropy Value:  2.7905569547361613\n",
      "Entropy Value:  2.0572228969475312\n",
      "Entropy Value:  2.807354922057604\n",
      "fins\n",
      "dict_items([(0, 242), (1, 45)])\n",
      "Entropy Value:  2.5839544129978247\n",
      "Entropy Value:  0.43275015878875406\n",
      "Entropy Value:  2.807354922057604\n",
      "tail\n",
      "dict_items([(0, 112), (1, 175)])\n",
      "Entropy Value:  1.7879963854121468\n",
      "Entropy Value:  2.347594011008393\n",
      "Entropy Value:  2.807354922057604\n",
      "domestic\n",
      "dict_items([(0, 268), (1, 19)])\n",
      "Entropy Value:  2.8033888412768437\n",
      "Entropy Value:  1.8732214356139143\n",
      "Entropy Value:  2.807354922057604\n",
      "catsize\n",
      "dict_items([(1, 70), (0, 217)])\n",
      "Entropy Value:  2.029513026348801\n",
      "Entropy Value:  2.710220587831988\n",
      "Entropy Value:  2.807354922057604\n",
      "legs0\n",
      "dict_items([(0, 203), (1, 84)])\n",
      "Entropy Value:  2.5225604732221005\n",
      "Entropy Value:  1.6488219500548\n",
      "Entropy Value:  2.807354922057604\n",
      "legs2\n",
      "dict_items([(0, 239), (1, 48)])\n",
      "Entropy Value:  2.581737529532135\n",
      "Entropy Value:  0.5993142373098092\n",
      "Entropy Value:  2.807354922057604\n",
      "legs4\n",
      "dict_items([(1, 94), (0, 193)])\n",
      "Entropy Value:  1.721224739049689\n",
      "Entropy Value:  2.471448863246687\n",
      "Entropy Value:  2.807354922057604\n",
      "legs5\n",
      "dict_items([(0, 285), (1, 2)])\n",
      "Entropy Value:  2.8071392330111347\n",
      "Entropy Value:  0.0\n",
      "Entropy Value:  2.807354922057604\n",
      "legs6\n",
      "dict_items([(0, 240), (1, 47)])\n",
      "Entropy Value:  2.5826278183594313\n",
      "Entropy Value:  0.5509844433017146\n",
      "Entropy Value:  2.807354922057604\n",
      "legs8\n",
      "dict_items([(0, 275), (1, 12)])\n",
      "Entropy Value:  2.7984178375220283\n",
      "Entropy Value:  0.0\n",
      "Entropy Value:  2.807354922057604\n"
     ]
    }
   ],
   "source": [
    "# copy X columns\n",
    "X = zoo_df.loc[:, zoo_df.columns != 'class_type']\n",
    "y = zoo_df['class_type']\n",
    "\n",
    "#oversampler = SMOTE(k_neighbors=1)\n",
    "oversampler = RandomOverSampler()\n",
    "X, y = oversampler.fit_resample(X, y)\n",
    "\n",
    "entropies = list()\n",
    "for column_index in range(X.shape[1]):\n",
    "    print(columns[column_index])\n",
    "    entropy_value = calc_information_gain(X[:,column_index], y)\n",
    "    entropies.append((columns[column_index], entropy_value))\n",
    "\n",
    "def index(tup):\n",
    "    return tup[1]\n",
    "entropies.sort(key=index, reverse=True)"
   ]
  },
  {
   "cell_type": "code",
   "execution_count": 10,
   "metadata": {},
   "outputs": [
    {
     "name": "stdout",
     "output_type": "stream",
     "text": [
      "[('toothed', 0.8841726644614993), ('backbone', 0.863120568566631), ('tail', 0.6781404722575024), ('feathers', 0.5916727785823275), ('milk', 0.5916727785823275), ('breathes', 0.5890036451338951), ('legs4', 0.581624064645474), ('aquatic', 0.5656021871836852), ('fins', 0.5606973433434317), ('legs6', 0.5574352522267882), ('legs2', 0.5571725076009799), ('hair', 0.5567142701652252), ('legs0', 0.5405227970795918), ('airborne', 0.49710519486949334), ('eggs', 0.4891661470983011), ('catsize', 0.2631605687337104), ('predator', 0.19677847187136832), ('legs8', 0.12594410213231555), ('venomous', 0.12155997557696141), ('domestic', 0.06554510763649457), ('legs5', 0.01977763492111162)]\n"
     ]
    }
   ],
   "source": [
    "print(entropies)"
   ]
  },
  {
   "cell_type": "markdown",
   "metadata": {},
   "source": [
    "## Split the data into training and testing sets"
   ]
  },
  {
   "cell_type": "code",
   "execution_count": 11,
   "metadata": {},
   "outputs": [],
   "source": [
    "from sklearn.model_selection import train_test_split\n",
    "from imblearn.over_sampling import SMOTE\n",
    "from imblearn.over_sampling import RandomOverSampler"
   ]
  },
  {
   "cell_type": "code",
   "execution_count": 12,
   "metadata": {},
   "outputs": [],
   "source": [
    "# copy first N columns\n",
    "num_features_to_use = 12\n",
    "features = []\n",
    "count = 0\n",
    "for feature, score in entropies:\n",
    "    features.append(feature)\n",
    "    count+=1\n",
    "    if count == num_features_to_use:\n",
    "        break\n",
    "#print(features)\n",
    "#columns = [\"toothed\", \"tail\", \"backbone\", \"legs4\", \"breathes\", \"legs0\", \"aquatic\", \"venomous\", \"hair\", \"eggs\", \"feathers\", \"milk\"]\n",
    "X = zoo_df[features]\n",
    "# copy Y column (class)\n",
    "y = zoo_df['class_type']"
   ]
  },
  {
   "cell_type": "code",
   "execution_count": 13,
   "metadata": {},
   "outputs": [],
   "source": [
    "#oversampler = SMOTE(k_neighbors=1)\n",
    "oversampler = RandomOverSampler()\n",
    "X, y = oversampler.fit_resample(X, y)"
   ]
  },
  {
   "cell_type": "code",
   "execution_count": 14,
   "metadata": {},
   "outputs": [],
   "source": [
    "# split the data (70-30 split)\n",
    "train_X, test_X, train_Y, test_Y = train_test_split(X, y, test_size = 0.30, stratify = y)"
   ]
  },
  {
   "cell_type": "markdown",
   "metadata": {},
   "source": [
    "Build the machine learning model"
   ]
  },
  {
   "cell_type": "code",
   "execution_count": 15,
   "metadata": {},
   "outputs": [],
   "source": [
    "from sklearn.tree import DecisionTreeClassifier"
   ]
  },
  {
   "cell_type": "code",
   "execution_count": 16,
   "metadata": {},
   "outputs": [
    {
     "data": {
      "text/plain": [
       "DecisionTreeClassifier(class_weight=None, criterion='entropy', max_depth=None,\n",
       "                       max_features=None, max_leaf_nodes=None,\n",
       "                       min_impurity_decrease=0.0, min_impurity_split=None,\n",
       "                       min_samples_leaf=1, min_samples_split=2,\n",
       "                       min_weight_fraction_leaf=0.0, presort=False,\n",
       "                       random_state=None, splitter='best')"
      ]
     },
     "execution_count": 16,
     "metadata": {},
     "output_type": "execute_result"
    }
   ],
   "source": [
    "model = DecisionTreeClassifier(criterion=\"entropy\")\n",
    "model.fit(train_X, train_Y)"
   ]
  },
  {
   "cell_type": "markdown",
   "metadata": {},
   "source": [
    "Predict the class of test data"
   ]
  },
  {
   "cell_type": "code",
   "execution_count": 17,
   "metadata": {},
   "outputs": [],
   "source": [
    "y_predicted = model.predict(test_X)"
   ]
  },
  {
   "cell_type": "markdown",
   "metadata": {},
   "source": [
    "How good is the model?\n",
    "check accuracy"
   ]
  },
  {
   "cell_type": "code",
   "execution_count": 18,
   "metadata": {},
   "outputs": [],
   "source": [
    "from sklearn.metrics import accuracy_score"
   ]
  },
  {
   "cell_type": "code",
   "execution_count": 19,
   "metadata": {},
   "outputs": [
    {
     "name": "stdout",
     "output_type": "stream",
     "text": [
      "1.0\n"
     ]
    }
   ],
   "source": [
    "print(accuracy_score(test_Y, y_predicted))"
   ]
  },
  {
   "cell_type": "markdown",
   "metadata": {},
   "source": [
    "Build confusion matrix"
   ]
  },
  {
   "cell_type": "code",
   "execution_count": 20,
   "metadata": {},
   "outputs": [],
   "source": [
    "from sklearn.metrics import confusion_matrix"
   ]
  },
  {
   "cell_type": "code",
   "execution_count": 21,
   "metadata": {},
   "outputs": [
    {
     "name": "stdout",
     "output_type": "stream",
     "text": [
      "[[13  0  0  0  0  0  0]\n",
      " [ 0 12  0  0  0  0  0]\n",
      " [ 0  0 12  0  0  0  0]\n",
      " [ 0  0  0 13  0  0  0]\n",
      " [ 0  0  0  0 13  0  0]\n",
      " [ 0  0  0  0  0 12  0]\n",
      " [ 0  0  0  0  0  0 12]]\n"
     ]
    }
   ],
   "source": [
    "c_matrix = confusion_matrix(test_Y, y_predicted)\n",
    "print(c_matrix)"
   ]
  },
  {
   "cell_type": "code",
   "execution_count": 22,
   "metadata": {},
   "outputs": [],
   "source": [
    "from collections import Counter"
   ]
  },
  {
   "cell_type": "code",
   "execution_count": 23,
   "metadata": {},
   "outputs": [
    {
     "name": "stdout",
     "output_type": "stream",
     "text": [
      "Counter({4: 13, 1: 13, 5: 13, 6: 12, 7: 12, 2: 12, 3: 12})\n"
     ]
    }
   ],
   "source": [
    "print(Counter(test_Y))"
   ]
  },
  {
   "cell_type": "code",
   "execution_count": 24,
   "metadata": {},
   "outputs": [
    {
     "name": "stdout",
     "output_type": "stream",
     "text": [
      "Counter({4: 13, 1: 13, 5: 13, 6: 12, 7: 12, 2: 12, 3: 12})\n"
     ]
    }
   ],
   "source": [
    "print(Counter(y_predicted))"
   ]
  },
  {
   "cell_type": "code",
   "execution_count": 25,
   "metadata": {},
   "outputs": [
    {
     "data": {
      "image/svg+xml": [
       "<?xml version=\"1.0\" encoding=\"UTF-8\" standalone=\"no\"?>\r\n",
       "<!DOCTYPE svg PUBLIC \"-//W3C//DTD SVG 1.1//EN\"\r\n",
       " \"http://www.w3.org/Graphics/SVG/1.1/DTD/svg11.dtd\">\r\n",
       "<!-- Generated by graphviz version 2.38.0 (20140413.2041)\r\n",
       " -->\r\n",
       "<!-- Title: Tree Pages: 1 -->\r\n",
       "<svg width=\"1384pt\" height=\"685pt\"\r\n",
       " viewBox=\"0.00 0.00 1384.00 685.00\" xmlns=\"http://www.w3.org/2000/svg\" xmlns:xlink=\"http://www.w3.org/1999/xlink\">\r\n",
       "<g id=\"graph0\" class=\"graph\" transform=\"scale(1 1) rotate(0) translate(4 681)\">\r\n",
       "<title>Tree</title>\r\n",
       "<polygon fill=\"white\" stroke=\"none\" points=\"-4,4 -4,-681 1380,-681 1380,4 -4,4\"/>\r\n",
       "<!-- 0 -->\r\n",
       "<g id=\"node1\" class=\"node\"><title>0</title>\r\n",
       "<path fill=\"#ffffff\" stroke=\"black\" d=\"M845.5,-677C845.5,-677 636.5,-677 636.5,-677 630.5,-677 624.5,-671 624.5,-665 624.5,-665 624.5,-621 624.5,-621 624.5,-615 630.5,-609 636.5,-609 636.5,-609 845.5,-609 845.5,-609 851.5,-609 857.5,-615 857.5,-621 857.5,-621 857.5,-665 857.5,-665 857.5,-671 851.5,-677 845.5,-677\"/>\r\n",
       "<text text-anchor=\"start\" x=\"699\" y=\"-661.8\" font-family=\"Helvetica,sans-Serif\" font-size=\"14.00\">toothed ≤ 0.5</text>\r\n",
       "<text text-anchor=\"start\" x=\"691\" y=\"-646.8\" font-family=\"Helvetica,sans-Serif\" font-size=\"14.00\">entropy = 2.807</text>\r\n",
       "<text text-anchor=\"start\" x=\"693.5\" y=\"-631.8\" font-family=\"Helvetica,sans-Serif\" font-size=\"14.00\">samples = 200</text>\r\n",
       "<text text-anchor=\"start\" x=\"632.5\" y=\"-616.8\" font-family=\"Helvetica,sans-Serif\" font-size=\"14.00\">value = [28, 29, 29, 28, 28, 29, 29]</text>\r\n",
       "</g>\r\n",
       "<!-- 1 -->\r\n",
       "<g id=\"node2\" class=\"node\"><title>1</title>\r\n",
       "<path fill=\"#ffffff\" stroke=\"black\" d=\"M675,-573C675,-573 499,-573 499,-573 493,-573 487,-567 487,-561 487,-561 487,-517 487,-517 487,-511 493,-505 499,-505 499,-505 675,-505 675,-505 681,-505 687,-511 687,-517 687,-517 687,-561 687,-561 687,-567 681,-573 675,-573\"/>\r\n",
       "<text text-anchor=\"start\" x=\"538\" y=\"-557.8\" font-family=\"Helvetica,sans-Serif\" font-size=\"14.00\">backbone ≤ 0.5</text>\r\n",
       "<text text-anchor=\"start\" x=\"537\" y=\"-542.8\" font-family=\"Helvetica,sans-Serif\" font-size=\"14.00\">entropy = 1.811</text>\r\n",
       "<text text-anchor=\"start\" x=\"543.5\" y=\"-527.8\" font-family=\"Helvetica,sans-Serif\" font-size=\"14.00\">samples = 91</text>\r\n",
       "<text text-anchor=\"start\" x=\"495\" y=\"-512.8\" font-family=\"Helvetica,sans-Serif\" font-size=\"14.00\">value = [1, 29, 3, 0, 0, 29, 29]</text>\r\n",
       "</g>\r\n",
       "<!-- 0&#45;&gt;1 -->\r\n",
       "<g id=\"edge1\" class=\"edge\"><title>0&#45;&gt;1</title>\r\n",
       "<path fill=\"none\" stroke=\"black\" d=\"M691.001,-608.884C676.537,-599.304 660.619,-588.761 645.678,-578.864\"/>\r\n",
       "<polygon fill=\"black\" stroke=\"black\" points=\"647.282,-575.729 637.012,-573.125 643.416,-581.565 647.282,-575.729\"/>\r\n",
       "<text text-anchor=\"middle\" x=\"641.988\" y=\"-593.924\" font-family=\"Helvetica,sans-Serif\" font-size=\"14.00\">True</text>\r\n",
       "</g>\r\n",
       "<!-- 12 -->\r\n",
       "<g id=\"node13\" class=\"node\"><title>12</title>\r\n",
       "<path fill=\"#ffffff\" stroke=\"black\" d=\"M988.5,-573C988.5,-573 803.5,-573 803.5,-573 797.5,-573 791.5,-567 791.5,-561 791.5,-561 791.5,-517 791.5,-517 791.5,-511 797.5,-505 803.5,-505 803.5,-505 988.5,-505 988.5,-505 994.5,-505 1000.5,-511 1000.5,-517 1000.5,-517 1000.5,-561 1000.5,-561 1000.5,-567 994.5,-573 988.5,-573\"/>\r\n",
       "<text text-anchor=\"start\" x=\"865.5\" y=\"-557.8\" font-family=\"Helvetica,sans-Serif\" font-size=\"14.00\">milk ≤ 0.5</text>\r\n",
       "<text text-anchor=\"start\" x=\"846\" y=\"-542.8\" font-family=\"Helvetica,sans-Serif\" font-size=\"14.00\">entropy = 1.999</text>\r\n",
       "<text text-anchor=\"start\" x=\"848.5\" y=\"-527.8\" font-family=\"Helvetica,sans-Serif\" font-size=\"14.00\">samples = 109</text>\r\n",
       "<text text-anchor=\"start\" x=\"799.5\" y=\"-512.8\" font-family=\"Helvetica,sans-Serif\" font-size=\"14.00\">value = [27, 0, 26, 28, 28, 0, 0]</text>\r\n",
       "</g>\r\n",
       "<!-- 0&#45;&gt;12 -->\r\n",
       "<g id=\"edge12\" class=\"edge\"><title>0&#45;&gt;12</title>\r\n",
       "<path fill=\"none\" stroke=\"black\" d=\"M791.324,-608.884C805.881,-599.304 821.903,-588.761 836.941,-578.864\"/>\r\n",
       "<polygon fill=\"black\" stroke=\"black\" points=\"839.234,-581.546 845.663,-573.125 835.386,-575.698 839.234,-581.546\"/>\r\n",
       "<text text-anchor=\"middle\" x=\"840.614\" y=\"-593.909\" font-family=\"Helvetica,sans-Serif\" font-size=\"14.00\">False</text>\r\n",
       "</g>\r\n",
       "<!-- 2 -->\r\n",
       "<g id=\"node3\" class=\"node\"><title>2</title>\r\n",
       "<path fill=\"#ffffff\" stroke=\"black\" d=\"M378,-469C378,-469 210,-469 210,-469 204,-469 198,-463 198,-457 198,-457 198,-413 198,-413 198,-407 204,-401 210,-401 210,-401 378,-401 378,-401 384,-401 390,-407 390,-413 390,-413 390,-457 390,-457 390,-463 384,-469 378,-469\"/>\r\n",
       "<text text-anchor=\"start\" x=\"258.5\" y=\"-453.8\" font-family=\"Helvetica,sans-Serif\" font-size=\"14.00\">legs6 ≤ 0.5</text>\r\n",
       "<text text-anchor=\"start\" x=\"252\" y=\"-438.8\" font-family=\"Helvetica,sans-Serif\" font-size=\"14.00\">entropy = 1.0</text>\r\n",
       "<text text-anchor=\"start\" x=\"250.5\" y=\"-423.8\" font-family=\"Helvetica,sans-Serif\" font-size=\"14.00\">samples = 58</text>\r\n",
       "<text text-anchor=\"start\" x=\"206\" y=\"-408.8\" font-family=\"Helvetica,sans-Serif\" font-size=\"14.00\">value = [0, 0, 0, 0, 0, 29, 29]</text>\r\n",
       "</g>\r\n",
       "<!-- 1&#45;&gt;2 -->\r\n",
       "<g id=\"edge2\" class=\"edge\"><title>1&#45;&gt;2</title>\r\n",
       "<path fill=\"none\" stroke=\"black\" d=\"M491.871,-504.884C462.092,-494.517 429.071,-483.021 398.672,-472.439\"/>\r\n",
       "<polygon fill=\"black\" stroke=\"black\" points=\"399.497,-469.02 388.902,-469.038 397.195,-475.631 399.497,-469.02\"/>\r\n",
       "</g>\r\n",
       "<!-- 7 -->\r\n",
       "<g id=\"node8\" class=\"node\"><title>7</title>\r\n",
       "<path fill=\"#c1e853\" stroke=\"black\" d=\"M667,-469C667,-469 507,-469 507,-469 501,-469 495,-463 495,-457 495,-457 495,-413 495,-413 495,-407 501,-401 507,-401 507,-401 667,-401 667,-401 673,-401 679,-407 679,-413 679,-413 679,-457 679,-457 679,-463 673,-469 667,-469\"/>\r\n",
       "<text text-anchor=\"start\" x=\"551.5\" y=\"-453.8\" font-family=\"Helvetica,sans-Serif\" font-size=\"14.00\">legs2 ≤ 0.5</text>\r\n",
       "<text text-anchor=\"start\" x=\"537\" y=\"-438.8\" font-family=\"Helvetica,sans-Serif\" font-size=\"14.00\">entropy = 0.631</text>\r\n",
       "<text text-anchor=\"start\" x=\"543.5\" y=\"-423.8\" font-family=\"Helvetica,sans-Serif\" font-size=\"14.00\">samples = 33</text>\r\n",
       "<text text-anchor=\"start\" x=\"503\" y=\"-408.8\" font-family=\"Helvetica,sans-Serif\" font-size=\"14.00\">value = [1, 29, 3, 0, 0, 0, 0]</text>\r\n",
       "</g>\r\n",
       "<!-- 1&#45;&gt;7 -->\r\n",
       "<g id=\"edge7\" class=\"edge\"><title>1&#45;&gt;7</title>\r\n",
       "<path fill=\"none\" stroke=\"black\" d=\"M587,-504.884C587,-496.778 587,-487.982 587,-479.472\"/>\r\n",
       "<polygon fill=\"black\" stroke=\"black\" points=\"590.5,-479.299 587,-469.299 583.5,-479.299 590.5,-479.299\"/>\r\n",
       "</g>\r\n",
       "<!-- 3 -->\r\n",
       "<g id=\"node4\" class=\"node\"><title>3</title>\r\n",
       "<path fill=\"#e53986\" stroke=\"black\" d=\"M172,-357.5C172,-357.5 12,-357.5 12,-357.5 6,-357.5 0,-351.5 0,-345.5 0,-345.5 0,-316.5 0,-316.5 0,-310.5 6,-304.5 12,-304.5 12,-304.5 172,-304.5 172,-304.5 178,-304.5 184,-310.5 184,-316.5 184,-316.5 184,-345.5 184,-345.5 184,-351.5 178,-357.5 172,-357.5\"/>\r\n",
       "<text text-anchor=\"start\" x=\"50\" y=\"-342.3\" font-family=\"Helvetica,sans-Serif\" font-size=\"14.00\">entropy = 0.0</text>\r\n",
       "<text text-anchor=\"start\" x=\"48.5\" y=\"-327.3\" font-family=\"Helvetica,sans-Serif\" font-size=\"14.00\">samples = 24</text>\r\n",
       "<text text-anchor=\"start\" x=\"8\" y=\"-312.3\" font-family=\"Helvetica,sans-Serif\" font-size=\"14.00\">value = [0, 0, 0, 0, 0, 0, 24]</text>\r\n",
       "</g>\r\n",
       "<!-- 2&#45;&gt;3 -->\r\n",
       "<g id=\"edge3\" class=\"edge\"><title>2&#45;&gt;3</title>\r\n",
       "<path fill=\"none\" stroke=\"black\" d=\"M228.416,-400.884C203.696,-388.401 175.735,-374.282 151.591,-362.091\"/>\r\n",
       "<polygon fill=\"black\" stroke=\"black\" points=\"153.044,-358.903 142.539,-357.52 149.888,-365.152 153.044,-358.903\"/>\r\n",
       "</g>\r\n",
       "<!-- 4 -->\r\n",
       "<g id=\"node5\" class=\"node\"><title>4</title>\r\n",
       "<path fill=\"#be5be9\" stroke=\"black\" d=\"M374,-365C374,-365 214,-365 214,-365 208,-365 202,-359 202,-353 202,-353 202,-309 202,-309 202,-303 208,-297 214,-297 214,-297 374,-297 374,-297 380,-297 386,-303 386,-309 386,-309 386,-353 386,-353 386,-359 380,-365 374,-365\"/>\r\n",
       "<text text-anchor=\"start\" x=\"248.5\" y=\"-349.8\" font-family=\"Helvetica,sans-Serif\" font-size=\"14.00\">breathes ≤ 0.5</text>\r\n",
       "<text text-anchor=\"start\" x=\"244\" y=\"-334.8\" font-family=\"Helvetica,sans-Serif\" font-size=\"14.00\">entropy = 0.602</text>\r\n",
       "<text text-anchor=\"start\" x=\"250.5\" y=\"-319.8\" font-family=\"Helvetica,sans-Serif\" font-size=\"14.00\">samples = 34</text>\r\n",
       "<text text-anchor=\"start\" x=\"210\" y=\"-304.8\" font-family=\"Helvetica,sans-Serif\" font-size=\"14.00\">value = [0, 0, 0, 0, 0, 29, 5]</text>\r\n",
       "</g>\r\n",
       "<!-- 2&#45;&gt;4 -->\r\n",
       "<g id=\"edge4\" class=\"edge\"><title>2&#45;&gt;4</title>\r\n",
       "<path fill=\"none\" stroke=\"black\" d=\"M294,-400.884C294,-392.778 294,-383.982 294,-375.472\"/>\r\n",
       "<polygon fill=\"black\" stroke=\"black\" points=\"297.5,-375.299 294,-365.299 290.5,-375.299 297.5,-375.299\"/>\r\n",
       "</g>\r\n",
       "<!-- 5 -->\r\n",
       "<g id=\"node6\" class=\"node\"><title>5</title>\r\n",
       "<path fill=\"#e53986\" stroke=\"black\" d=\"M172,-253.5C172,-253.5 20,-253.5 20,-253.5 14,-253.5 8,-247.5 8,-241.5 8,-241.5 8,-212.5 8,-212.5 8,-206.5 14,-200.5 20,-200.5 20,-200.5 172,-200.5 172,-200.5 178,-200.5 184,-206.5 184,-212.5 184,-212.5 184,-241.5 184,-241.5 184,-247.5 178,-253.5 172,-253.5\"/>\r\n",
       "<text text-anchor=\"start\" x=\"54\" y=\"-238.3\" font-family=\"Helvetica,sans-Serif\" font-size=\"14.00\">entropy = 0.0</text>\r\n",
       "<text text-anchor=\"start\" x=\"56.5\" y=\"-223.3\" font-family=\"Helvetica,sans-Serif\" font-size=\"14.00\">samples = 5</text>\r\n",
       "<text text-anchor=\"start\" x=\"16\" y=\"-208.3\" font-family=\"Helvetica,sans-Serif\" font-size=\"14.00\">value = [0, 0, 0, 0, 0, 0, 5]</text>\r\n",
       "</g>\r\n",
       "<!-- 4&#45;&gt;5 -->\r\n",
       "<g id=\"edge5\" class=\"edge\"><title>4&#45;&gt;5</title>\r\n",
       "<path fill=\"none\" stroke=\"black\" d=\"M229.715,-296.884C205.591,-284.456 178.318,-270.406 154.724,-258.252\"/>\r\n",
       "<polygon fill=\"black\" stroke=\"black\" points=\"156.031,-254.988 145.539,-253.52 152.826,-261.211 156.031,-254.988\"/>\r\n",
       "</g>\r\n",
       "<!-- 6 -->\r\n",
       "<g id=\"node7\" class=\"node\"><title>6</title>\r\n",
       "<path fill=\"#b139e5\" stroke=\"black\" d=\"M374,-253.5C374,-253.5 214,-253.5 214,-253.5 208,-253.5 202,-247.5 202,-241.5 202,-241.5 202,-212.5 202,-212.5 202,-206.5 208,-200.5 214,-200.5 214,-200.5 374,-200.5 374,-200.5 380,-200.5 386,-206.5 386,-212.5 386,-212.5 386,-241.5 386,-241.5 386,-247.5 380,-253.5 374,-253.5\"/>\r\n",
       "<text text-anchor=\"start\" x=\"252\" y=\"-238.3\" font-family=\"Helvetica,sans-Serif\" font-size=\"14.00\">entropy = 0.0</text>\r\n",
       "<text text-anchor=\"start\" x=\"250.5\" y=\"-223.3\" font-family=\"Helvetica,sans-Serif\" font-size=\"14.00\">samples = 29</text>\r\n",
       "<text text-anchor=\"start\" x=\"210\" y=\"-208.3\" font-family=\"Helvetica,sans-Serif\" font-size=\"14.00\">value = [0, 0, 0, 0, 0, 29, 0]</text>\r\n",
       "</g>\r\n",
       "<!-- 4&#45;&gt;6 -->\r\n",
       "<g id=\"edge6\" class=\"edge\"><title>4&#45;&gt;6</title>\r\n",
       "<path fill=\"none\" stroke=\"black\" d=\"M294,-296.884C294,-286.326 294,-274.597 294,-263.854\"/>\r\n",
       "<polygon fill=\"black\" stroke=\"black\" points=\"297.5,-263.52 294,-253.52 290.5,-263.52 297.5,-263.52\"/>\r\n",
       "</g>\r\n",
       "<!-- 8 -->\r\n",
       "<g id=\"node9\" class=\"node\"><title>8</title>\r\n",
       "<path fill=\"#7bee88\" stroke=\"black\" d=\"M568,-365C568,-365 416,-365 416,-365 410,-365 404,-359 404,-353 404,-353 404,-309 404,-309 404,-303 410,-297 416,-297 416,-297 568,-297 568,-297 574,-297 580,-303 580,-309 580,-309 580,-353 580,-353 580,-359 574,-365 568,-365\"/>\r\n",
       "<text text-anchor=\"start\" x=\"451.5\" y=\"-349.8\" font-family=\"Helvetica,sans-Serif\" font-size=\"14.00\">aquatic ≤ 0.5</text>\r\n",
       "<text text-anchor=\"start\" x=\"442\" y=\"-334.8\" font-family=\"Helvetica,sans-Serif\" font-size=\"14.00\">entropy = 0.811</text>\r\n",
       "<text text-anchor=\"start\" x=\"452.5\" y=\"-319.8\" font-family=\"Helvetica,sans-Serif\" font-size=\"14.00\">samples = 4</text>\r\n",
       "<text text-anchor=\"start\" x=\"412\" y=\"-304.8\" font-family=\"Helvetica,sans-Serif\" font-size=\"14.00\">value = [1, 0, 3, 0, 0, 0, 0]</text>\r\n",
       "</g>\r\n",
       "<!-- 7&#45;&gt;8 -->\r\n",
       "<g id=\"edge8\" class=\"edge\"><title>7&#45;&gt;8</title>\r\n",
       "<path fill=\"none\" stroke=\"black\" d=\"M556.156,-400.884C547.777,-391.887 538.606,-382.041 529.887,-372.678\"/>\r\n",
       "<polygon fill=\"black\" stroke=\"black\" points=\"532.391,-370.232 523.014,-365.299 527.268,-375.003 532.391,-370.232\"/>\r\n",
       "</g>\r\n",
       "<!-- 11 -->\r\n",
       "<g id=\"node12\" class=\"node\"><title>11</title>\r\n",
       "<path fill=\"#b7e539\" stroke=\"black\" d=\"M770,-357.5C770,-357.5 610,-357.5 610,-357.5 604,-357.5 598,-351.5 598,-345.5 598,-345.5 598,-316.5 598,-316.5 598,-310.5 604,-304.5 610,-304.5 610,-304.5 770,-304.5 770,-304.5 776,-304.5 782,-310.5 782,-316.5 782,-316.5 782,-345.5 782,-345.5 782,-351.5 776,-357.5 770,-357.5\"/>\r\n",
       "<text text-anchor=\"start\" x=\"648\" y=\"-342.3\" font-family=\"Helvetica,sans-Serif\" font-size=\"14.00\">entropy = 0.0</text>\r\n",
       "<text text-anchor=\"start\" x=\"646.5\" y=\"-327.3\" font-family=\"Helvetica,sans-Serif\" font-size=\"14.00\">samples = 29</text>\r\n",
       "<text text-anchor=\"start\" x=\"606\" y=\"-312.3\" font-family=\"Helvetica,sans-Serif\" font-size=\"14.00\">value = [0, 29, 0, 0, 0, 0, 0]</text>\r\n",
       "</g>\r\n",
       "<!-- 7&#45;&gt;11 -->\r\n",
       "<g id=\"edge11\" class=\"edge\"><title>7&#45;&gt;11</title>\r\n",
       "<path fill=\"none\" stroke=\"black\" d=\"M620.441,-400.884C632.102,-389.336 645.177,-376.387 656.817,-364.86\"/>\r\n",
       "<polygon fill=\"black\" stroke=\"black\" points=\"659.587,-367.043 664.23,-357.52 654.662,-362.07 659.587,-367.043\"/>\r\n",
       "</g>\r\n",
       "<!-- 9 -->\r\n",
       "<g id=\"node10\" class=\"node\"><title>9</title>\r\n",
       "<path fill=\"#39e54d\" stroke=\"black\" d=\"M568,-253.5C568,-253.5 416,-253.5 416,-253.5 410,-253.5 404,-247.5 404,-241.5 404,-241.5 404,-212.5 404,-212.5 404,-206.5 410,-200.5 416,-200.5 416,-200.5 568,-200.5 568,-200.5 574,-200.5 580,-206.5 580,-212.5 580,-212.5 580,-241.5 580,-241.5 580,-247.5 574,-253.5 568,-253.5\"/>\r\n",
       "<text text-anchor=\"start\" x=\"450\" y=\"-238.3\" font-family=\"Helvetica,sans-Serif\" font-size=\"14.00\">entropy = 0.0</text>\r\n",
       "<text text-anchor=\"start\" x=\"452.5\" y=\"-223.3\" font-family=\"Helvetica,sans-Serif\" font-size=\"14.00\">samples = 3</text>\r\n",
       "<text text-anchor=\"start\" x=\"412\" y=\"-208.3\" font-family=\"Helvetica,sans-Serif\" font-size=\"14.00\">value = [0, 0, 3, 0, 0, 0, 0]</text>\r\n",
       "</g>\r\n",
       "<!-- 8&#45;&gt;9 -->\r\n",
       "<g id=\"edge9\" class=\"edge\"><title>8&#45;&gt;9</title>\r\n",
       "<path fill=\"none\" stroke=\"black\" d=\"M492,-296.884C492,-286.326 492,-274.597 492,-263.854\"/>\r\n",
       "<polygon fill=\"black\" stroke=\"black\" points=\"495.5,-263.52 492,-253.52 488.5,-263.52 495.5,-263.52\"/>\r\n",
       "</g>\r\n",
       "<!-- 10 -->\r\n",
       "<g id=\"node11\" class=\"node\"><title>10</title>\r\n",
       "<path fill=\"#e58139\" stroke=\"black\" d=\"M762,-253.5C762,-253.5 610,-253.5 610,-253.5 604,-253.5 598,-247.5 598,-241.5 598,-241.5 598,-212.5 598,-212.5 598,-206.5 604,-200.5 610,-200.5 610,-200.5 762,-200.5 762,-200.5 768,-200.5 774,-206.5 774,-212.5 774,-212.5 774,-241.5 774,-241.5 774,-247.5 768,-253.5 762,-253.5\"/>\r\n",
       "<text text-anchor=\"start\" x=\"644\" y=\"-238.3\" font-family=\"Helvetica,sans-Serif\" font-size=\"14.00\">entropy = 0.0</text>\r\n",
       "<text text-anchor=\"start\" x=\"646.5\" y=\"-223.3\" font-family=\"Helvetica,sans-Serif\" font-size=\"14.00\">samples = 1</text>\r\n",
       "<text text-anchor=\"start\" x=\"606\" y=\"-208.3\" font-family=\"Helvetica,sans-Serif\" font-size=\"14.00\">value = [1, 0, 0, 0, 0, 0, 0]</text>\r\n",
       "</g>\r\n",
       "<!-- 8&#45;&gt;10 -->\r\n",
       "<g id=\"edge10\" class=\"edge\"><title>8&#45;&gt;10</title>\r\n",
       "<path fill=\"none\" stroke=\"black\" d=\"M554.986,-296.884C578.623,-284.456 605.345,-270.406 628.462,-258.252\"/>\r\n",
       "<polygon fill=\"black\" stroke=\"black\" points=\"630.24,-261.272 637.462,-253.52 626.982,-255.076 630.24,-261.272\"/>\r\n",
       "</g>\r\n",
       "<!-- 13 -->\r\n",
       "<g id=\"node14\" class=\"node\"><title>13</title>\r\n",
       "<path fill=\"#ffffff\" stroke=\"black\" d=\"M984,-469C984,-469 808,-469 808,-469 802,-469 796,-463 796,-457 796,-457 796,-413 796,-413 796,-407 802,-401 808,-401 808,-401 984,-401 984,-401 990,-401 996,-407 996,-413 996,-413 996,-457 996,-457 996,-463 990,-469 984,-469\"/>\r\n",
       "<text text-anchor=\"start\" x=\"867\" y=\"-453.8\" font-family=\"Helvetica,sans-Serif\" font-size=\"14.00\">fins ≤ 0.5</text>\r\n",
       "<text text-anchor=\"start\" x=\"846\" y=\"-438.8\" font-family=\"Helvetica,sans-Serif\" font-size=\"14.00\">entropy = 1.584</text>\r\n",
       "<text text-anchor=\"start\" x=\"852.5\" y=\"-423.8\" font-family=\"Helvetica,sans-Serif\" font-size=\"14.00\">samples = 82</text>\r\n",
       "<text text-anchor=\"start\" x=\"804\" y=\"-408.8\" font-family=\"Helvetica,sans-Serif\" font-size=\"14.00\">value = [0, 0, 26, 28, 28, 0, 0]</text>\r\n",
       "</g>\r\n",
       "<!-- 12&#45;&gt;13 -->\r\n",
       "<g id=\"edge13\" class=\"edge\"><title>12&#45;&gt;13</title>\r\n",
       "<path fill=\"none\" stroke=\"black\" d=\"M896,-504.884C896,-496.778 896,-487.982 896,-479.472\"/>\r\n",
       "<polygon fill=\"black\" stroke=\"black\" points=\"899.5,-479.299 896,-469.299 892.5,-479.299 899.5,-479.299\"/>\r\n",
       "</g>\r\n",
       "<!-- 22 -->\r\n",
       "<g id=\"node23\" class=\"node\"><title>22</title>\r\n",
       "<path fill=\"#e58139\" stroke=\"black\" d=\"M1186,-461.5C1186,-461.5 1026,-461.5 1026,-461.5 1020,-461.5 1014,-455.5 1014,-449.5 1014,-449.5 1014,-420.5 1014,-420.5 1014,-414.5 1020,-408.5 1026,-408.5 1026,-408.5 1186,-408.5 1186,-408.5 1192,-408.5 1198,-414.5 1198,-420.5 1198,-420.5 1198,-449.5 1198,-449.5 1198,-455.5 1192,-461.5 1186,-461.5\"/>\r\n",
       "<text text-anchor=\"start\" x=\"1064\" y=\"-446.3\" font-family=\"Helvetica,sans-Serif\" font-size=\"14.00\">entropy = 0.0</text>\r\n",
       "<text text-anchor=\"start\" x=\"1062.5\" y=\"-431.3\" font-family=\"Helvetica,sans-Serif\" font-size=\"14.00\">samples = 27</text>\r\n",
       "<text text-anchor=\"start\" x=\"1022\" y=\"-416.3\" font-family=\"Helvetica,sans-Serif\" font-size=\"14.00\">value = [27, 0, 0, 0, 0, 0, 0]</text>\r\n",
       "</g>\r\n",
       "<!-- 12&#45;&gt;22 -->\r\n",
       "<g id=\"edge22\" class=\"edge\"><title>12&#45;&gt;22</title>\r\n",
       "<path fill=\"none\" stroke=\"black\" d=\"M964.181,-504.884C989.994,-492.346 1019.21,-478.157 1044.38,-465.93\"/>\r\n",
       "<polygon fill=\"black\" stroke=\"black\" points=\"1045.99,-469.037 1053.46,-461.52 1042.93,-462.741 1045.99,-469.037\"/>\r\n",
       "</g>\r\n",
       "<!-- 14 -->\r\n",
       "<g id=\"node15\" class=\"node\"><title>14</title>\r\n",
       "<path fill=\"#f1f3fd\" stroke=\"black\" d=\"M980,-365C980,-365 812,-365 812,-365 806,-365 800,-359 800,-353 800,-353 800,-309 800,-309 800,-303 806,-297 812,-297 812,-297 980,-297 980,-297 986,-297 992,-303 992,-309 992,-309 992,-353 992,-353 992,-359 986,-365 980,-365\"/>\r\n",
       "<text text-anchor=\"start\" x=\"869.5\" y=\"-349.8\" font-family=\"Helvetica,sans-Serif\" font-size=\"14.00\">tail ≤ 0.5</text>\r\n",
       "<text text-anchor=\"start\" x=\"846\" y=\"-334.8\" font-family=\"Helvetica,sans-Serif\" font-size=\"14.00\">entropy = 0.999</text>\r\n",
       "<text text-anchor=\"start\" x=\"852.5\" y=\"-319.8\" font-family=\"Helvetica,sans-Serif\" font-size=\"14.00\">samples = 54</text>\r\n",
       "<text text-anchor=\"start\" x=\"808\" y=\"-304.8\" font-family=\"Helvetica,sans-Serif\" font-size=\"14.00\">value = [0, 0, 26, 0, 28, 0, 0]</text>\r\n",
       "</g>\r\n",
       "<!-- 13&#45;&gt;14 -->\r\n",
       "<g id=\"edge14\" class=\"edge\"><title>13&#45;&gt;14</title>\r\n",
       "<path fill=\"none\" stroke=\"black\" d=\"M896,-400.884C896,-392.778 896,-383.982 896,-375.472\"/>\r\n",
       "<polygon fill=\"black\" stroke=\"black\" points=\"899.5,-375.299 896,-365.299 892.5,-375.299 899.5,-375.299\"/>\r\n",
       "</g>\r\n",
       "<!-- 21 -->\r\n",
       "<g id=\"node22\" class=\"node\"><title>21</title>\r\n",
       "<path fill=\"#39e5e2\" stroke=\"black\" d=\"M1182,-357.5C1182,-357.5 1022,-357.5 1022,-357.5 1016,-357.5 1010,-351.5 1010,-345.5 1010,-345.5 1010,-316.5 1010,-316.5 1010,-310.5 1016,-304.5 1022,-304.5 1022,-304.5 1182,-304.5 1182,-304.5 1188,-304.5 1194,-310.5 1194,-316.5 1194,-316.5 1194,-345.5 1194,-345.5 1194,-351.5 1188,-357.5 1182,-357.5\"/>\r\n",
       "<text text-anchor=\"start\" x=\"1060\" y=\"-342.3\" font-family=\"Helvetica,sans-Serif\" font-size=\"14.00\">entropy = 0.0</text>\r\n",
       "<text text-anchor=\"start\" x=\"1058.5\" y=\"-327.3\" font-family=\"Helvetica,sans-Serif\" font-size=\"14.00\">samples = 28</text>\r\n",
       "<text text-anchor=\"start\" x=\"1018\" y=\"-312.3\" font-family=\"Helvetica,sans-Serif\" font-size=\"14.00\">value = [0, 0, 0, 28, 0, 0, 0]</text>\r\n",
       "</g>\r\n",
       "<!-- 13&#45;&gt;21 -->\r\n",
       "<g id=\"edge21\" class=\"edge\"><title>13&#45;&gt;21</title>\r\n",
       "<path fill=\"none\" stroke=\"black\" d=\"M962.882,-400.884C988.092,-388.401 1016.61,-374.282 1041.23,-362.091\"/>\r\n",
       "<polygon fill=\"black\" stroke=\"black\" points=\"1043.05,-365.094 1050.46,-357.52 1039.95,-358.821 1043.05,-365.094\"/>\r\n",
       "</g>\r\n",
       "<!-- 15 -->\r\n",
       "<g id=\"node16\" class=\"node\"><title>15</title>\r\n",
       "<path fill=\"#3956e5\" stroke=\"black\" d=\"M970,-253.5C970,-253.5 810,-253.5 810,-253.5 804,-253.5 798,-247.5 798,-241.5 798,-241.5 798,-212.5 798,-212.5 798,-206.5 804,-200.5 810,-200.5 810,-200.5 970,-200.5 970,-200.5 976,-200.5 982,-206.5 982,-212.5 982,-212.5 982,-241.5 982,-241.5 982,-247.5 976,-253.5 970,-253.5\"/>\r\n",
       "<text text-anchor=\"start\" x=\"848\" y=\"-238.3\" font-family=\"Helvetica,sans-Serif\" font-size=\"14.00\">entropy = 0.0</text>\r\n",
       "<text text-anchor=\"start\" x=\"846.5\" y=\"-223.3\" font-family=\"Helvetica,sans-Serif\" font-size=\"14.00\">samples = 23</text>\r\n",
       "<text text-anchor=\"start\" x=\"806\" y=\"-208.3\" font-family=\"Helvetica,sans-Serif\" font-size=\"14.00\">value = [0, 0, 0, 0, 23, 0, 0]</text>\r\n",
       "</g>\r\n",
       "<!-- 14&#45;&gt;15 -->\r\n",
       "<g id=\"edge15\" class=\"edge\"><title>14&#45;&gt;15</title>\r\n",
       "<path fill=\"none\" stroke=\"black\" d=\"M894.052,-296.884C893.424,-286.216 892.727,-274.352 892.089,-263.519\"/>\r\n",
       "<polygon fill=\"black\" stroke=\"black\" points=\"895.582,-263.297 891.501,-253.52 888.595,-263.708 895.582,-263.297\"/>\r\n",
       "</g>\r\n",
       "<!-- 16 -->\r\n",
       "<g id=\"node17\" class=\"node\"><title>16</title>\r\n",
       "<path fill=\"#5fea6f\" stroke=\"black\" d=\"M1172,-261C1172,-261 1012,-261 1012,-261 1006,-261 1000,-255 1000,-249 1000,-249 1000,-205 1000,-205 1000,-199 1006,-193 1012,-193 1012,-193 1172,-193 1172,-193 1178,-193 1184,-199 1184,-205 1184,-205 1184,-249 1184,-249 1184,-255 1178,-261 1172,-261\"/>\r\n",
       "<text text-anchor=\"start\" x=\"1056.5\" y=\"-245.8\" font-family=\"Helvetica,sans-Serif\" font-size=\"14.00\">legs4 ≤ 0.5</text>\r\n",
       "<text text-anchor=\"start\" x=\"1042\" y=\"-230.8\" font-family=\"Helvetica,sans-Serif\" font-size=\"14.00\">entropy = 0.637</text>\r\n",
       "<text text-anchor=\"start\" x=\"1048.5\" y=\"-215.8\" font-family=\"Helvetica,sans-Serif\" font-size=\"14.00\">samples = 31</text>\r\n",
       "<text text-anchor=\"start\" x=\"1008\" y=\"-200.8\" font-family=\"Helvetica,sans-Serif\" font-size=\"14.00\">value = [0, 0, 26, 0, 5, 0, 0]</text>\r\n",
       "</g>\r\n",
       "<!-- 14&#45;&gt;16 -->\r\n",
       "<g id=\"edge16\" class=\"edge\"><title>14&#45;&gt;16</title>\r\n",
       "<path fill=\"none\" stroke=\"black\" d=\"M959.636,-296.884C978.731,-286.946 999.82,-275.971 1019.45,-265.757\"/>\r\n",
       "<polygon fill=\"black\" stroke=\"black\" points=\"1021.09,-268.846 1028.35,-261.125 1017.86,-262.636 1021.09,-268.846\"/>\r\n",
       "</g>\r\n",
       "<!-- 17 -->\r\n",
       "<g id=\"node18\" class=\"node\"><title>17</title>\r\n",
       "<path fill=\"#39e54d\" stroke=\"black\" d=\"M1073,-149.5C1073,-149.5 913,-149.5 913,-149.5 907,-149.5 901,-143.5 901,-137.5 901,-137.5 901,-108.5 901,-108.5 901,-102.5 907,-96.5 913,-96.5 913,-96.5 1073,-96.5 1073,-96.5 1079,-96.5 1085,-102.5 1085,-108.5 1085,-108.5 1085,-137.5 1085,-137.5 1085,-143.5 1079,-149.5 1073,-149.5\"/>\r\n",
       "<text text-anchor=\"start\" x=\"951\" y=\"-134.3\" font-family=\"Helvetica,sans-Serif\" font-size=\"14.00\">entropy = 0.0</text>\r\n",
       "<text text-anchor=\"start\" x=\"949.5\" y=\"-119.3\" font-family=\"Helvetica,sans-Serif\" font-size=\"14.00\">samples = 21</text>\r\n",
       "<text text-anchor=\"start\" x=\"909\" y=\"-104.3\" font-family=\"Helvetica,sans-Serif\" font-size=\"14.00\">value = [0, 0, 21, 0, 0, 0, 0]</text>\r\n",
       "</g>\r\n",
       "<!-- 16&#45;&gt;17 -->\r\n",
       "<g id=\"edge17\" class=\"edge\"><title>16&#45;&gt;17</title>\r\n",
       "<path fill=\"none\" stroke=\"black\" d=\"M1059.86,-192.884C1048.65,-181.336 1036.08,-168.387 1024.89,-156.86\"/>\r\n",
       "<polygon fill=\"black\" stroke=\"black\" points=\"1027.25,-154.258 1017.77,-149.52 1022.22,-159.133 1027.25,-154.258\"/>\r\n",
       "</g>\r\n",
       "<!-- 18 -->\r\n",
       "<g id=\"node19\" class=\"node\"><title>18</title>\r\n",
       "<path fill=\"#ffffff\" stroke=\"black\" d=\"M1267,-157C1267,-157 1115,-157 1115,-157 1109,-157 1103,-151 1103,-145 1103,-145 1103,-101 1103,-101 1103,-95 1109,-89 1115,-89 1115,-89 1267,-89 1267,-89 1273,-89 1279,-95 1279,-101 1279,-101 1279,-145 1279,-145 1279,-151 1273,-157 1267,-157\"/>\r\n",
       "<text text-anchor=\"start\" x=\"1150.5\" y=\"-141.8\" font-family=\"Helvetica,sans-Serif\" font-size=\"14.00\">aquatic ≤ 0.5</text>\r\n",
       "<text text-anchor=\"start\" x=\"1149\" y=\"-126.8\" font-family=\"Helvetica,sans-Serif\" font-size=\"14.00\">entropy = 1.0</text>\r\n",
       "<text text-anchor=\"start\" x=\"1147.5\" y=\"-111.8\" font-family=\"Helvetica,sans-Serif\" font-size=\"14.00\">samples = 10</text>\r\n",
       "<text text-anchor=\"start\" x=\"1111\" y=\"-96.8\" font-family=\"Helvetica,sans-Serif\" font-size=\"14.00\">value = [0, 0, 5, 0, 5, 0, 0]</text>\r\n",
       "</g>\r\n",
       "<!-- 16&#45;&gt;18 -->\r\n",
       "<g id=\"edge18\" class=\"edge\"><title>16&#45;&gt;18</title>\r\n",
       "<path fill=\"none\" stroke=\"black\" d=\"M1124.14,-192.884C1132.87,-183.887 1142.43,-174.041 1151.52,-164.678\"/>\r\n",
       "<polygon fill=\"black\" stroke=\"black\" points=\"1154.23,-166.913 1158.68,-157.299 1149.2,-162.038 1154.23,-166.913\"/>\r\n",
       "</g>\r\n",
       "<!-- 19 -->\r\n",
       "<g id=\"node20\" class=\"node\"><title>19</title>\r\n",
       "<path fill=\"#39e54d\" stroke=\"black\" d=\"M1170,-53C1170,-53 1018,-53 1018,-53 1012,-53 1006,-47 1006,-41 1006,-41 1006,-12 1006,-12 1006,-6 1012,-0 1018,-0 1018,-0 1170,-0 1170,-0 1176,-0 1182,-6 1182,-12 1182,-12 1182,-41 1182,-41 1182,-47 1176,-53 1170,-53\"/>\r\n",
       "<text text-anchor=\"start\" x=\"1052\" y=\"-37.8\" font-family=\"Helvetica,sans-Serif\" font-size=\"14.00\">entropy = 0.0</text>\r\n",
       "<text text-anchor=\"start\" x=\"1054.5\" y=\"-22.8\" font-family=\"Helvetica,sans-Serif\" font-size=\"14.00\">samples = 5</text>\r\n",
       "<text text-anchor=\"start\" x=\"1014\" y=\"-7.8\" font-family=\"Helvetica,sans-Serif\" font-size=\"14.00\">value = [0, 0, 5, 0, 0, 0, 0]</text>\r\n",
       "</g>\r\n",
       "<!-- 18&#45;&gt;19 -->\r\n",
       "<g id=\"edge19\" class=\"edge\"><title>18&#45;&gt;19</title>\r\n",
       "<path fill=\"none\" stroke=\"black\" d=\"M1157.07,-88.9485C1147.59,-79.709 1137.29,-69.671 1127.81,-60.4381\"/>\r\n",
       "<polygon fill=\"black\" stroke=\"black\" points=\"1130.02,-57.7079 1120.42,-53.2367 1125.14,-62.7219 1130.02,-57.7079\"/>\r\n",
       "</g>\r\n",
       "<!-- 20 -->\r\n",
       "<g id=\"node21\" class=\"node\"><title>20</title>\r\n",
       "<path fill=\"#3956e5\" stroke=\"black\" d=\"M1364,-53C1364,-53 1212,-53 1212,-53 1206,-53 1200,-47 1200,-41 1200,-41 1200,-12 1200,-12 1200,-6 1206,-0 1212,-0 1212,-0 1364,-0 1364,-0 1370,-0 1376,-6 1376,-12 1376,-12 1376,-41 1376,-41 1376,-47 1370,-53 1364,-53\"/>\r\n",
       "<text text-anchor=\"start\" x=\"1246\" y=\"-37.8\" font-family=\"Helvetica,sans-Serif\" font-size=\"14.00\">entropy = 0.0</text>\r\n",
       "<text text-anchor=\"start\" x=\"1248.5\" y=\"-22.8\" font-family=\"Helvetica,sans-Serif\" font-size=\"14.00\">samples = 5</text>\r\n",
       "<text text-anchor=\"start\" x=\"1208\" y=\"-7.8\" font-family=\"Helvetica,sans-Serif\" font-size=\"14.00\">value = [0, 0, 0, 0, 5, 0, 0]</text>\r\n",
       "</g>\r\n",
       "<!-- 18&#45;&gt;20 -->\r\n",
       "<g id=\"edge20\" class=\"edge\"><title>18&#45;&gt;20</title>\r\n",
       "<path fill=\"none\" stroke=\"black\" d=\"M1224.93,-88.9485C1234.41,-79.709 1244.71,-69.671 1254.19,-60.4381\"/>\r\n",
       "<polygon fill=\"black\" stroke=\"black\" points=\"1256.86,-62.7219 1261.58,-53.2367 1251.98,-57.7079 1256.86,-62.7219\"/>\r\n",
       "</g>\r\n",
       "</g>\r\n",
       "</svg>\r\n"
      ],
      "text/plain": [
       "<graphviz.files.Source at 0x1518329f0c8>"
      ]
     },
     "execution_count": 25,
     "metadata": {},
     "output_type": "execute_result"
    }
   ],
   "source": [
    "# plot the tree\n",
    "# for graphing the tree\n",
    "import graphviz as gv\n",
    "from sklearn import tree\n",
    "\n",
    "dot_data = tree.export_graphviz(model, out_file=None, filled=True, rounded = True, special_characters = True\n",
    "                               , feature_names = features)\n",
    "graph = gv.Source(dot_data)\n",
    "graph"
   ]
  },
  {
   "cell_type": "code",
   "execution_count": null,
   "metadata": {},
   "outputs": [],
   "source": []
  }
 ],
 "metadata": {
  "kernelspec": {
   "display_name": "Python 3",
   "language": "python",
   "name": "python3"
  },
  "language_info": {
   "codemirror_mode": {
    "name": "ipython",
    "version": 3
   },
   "file_extension": ".py",
   "mimetype": "text/x-python",
   "name": "python",
   "nbconvert_exporter": "python",
   "pygments_lexer": "ipython3",
   "version": "3.7.4"
  }
 },
 "nbformat": 4,
 "nbformat_minor": 2
}
