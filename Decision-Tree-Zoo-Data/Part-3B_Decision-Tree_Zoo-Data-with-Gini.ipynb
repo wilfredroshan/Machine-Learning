{
 "cells": [
  {
   "cell_type": "markdown",
   "metadata": {},
   "source": [
    "### Data analysis and a simple decision tree example using data from https://www.kaggle.com/uciml/zoo-animal-classification\n",
    "\n",
    "### from Part-2 analysis, we know the gini index scores. Based on that we select following columns only.\n"
   ]
  },
  {
   "cell_type": "code",
   "execution_count": 1,
   "metadata": {},
   "outputs": [],
   "source": [
    "import pandas as pd"
   ]
  },
  {
   "cell_type": "markdown",
   "metadata": {},
   "source": [
    "Read the data file"
   ]
  },
  {
   "cell_type": "code",
   "execution_count": 2,
   "metadata": {},
   "outputs": [],
   "source": [
    "zoo_df = pd.read_csv(\"data\\Decision-Tree_Zoo-Data\\zoo-animal-classification\\zoo.csv\")"
   ]
  },
  {
   "cell_type": "markdown",
   "metadata": {},
   "source": [
    "Check if we are missing any data"
   ]
  },
  {
   "cell_type": "code",
   "execution_count": 3,
   "metadata": {},
   "outputs": [
    {
     "name": "stdout",
     "output_type": "stream",
     "text": [
      "<class 'pandas.core.frame.DataFrame'>\n",
      "RangeIndex: 101 entries, 0 to 100\n",
      "Data columns (total 18 columns):\n",
      "animal_name    101 non-null object\n",
      "hair           101 non-null int64\n",
      "feathers       101 non-null int64\n",
      "eggs           101 non-null int64\n",
      "milk           101 non-null int64\n",
      "airborne       101 non-null int64\n",
      "aquatic        101 non-null int64\n",
      "predator       101 non-null int64\n",
      "toothed        101 non-null int64\n",
      "backbone       101 non-null int64\n",
      "breathes       101 non-null int64\n",
      "venomous       101 non-null int64\n",
      "fins           101 non-null int64\n",
      "legs           101 non-null int64\n",
      "tail           101 non-null int64\n",
      "domestic       101 non-null int64\n",
      "catsize        101 non-null int64\n",
      "class_type     101 non-null int64\n",
      "dtypes: int64(17), object(1)\n",
      "memory usage: 14.3+ KB\n"
     ]
    }
   ],
   "source": [
    "zoo_df.info()"
   ]
  },
  {
   "cell_type": "markdown",
   "metadata": {},
   "source": [
    "animal_name is not useful in classification. remove it from data set"
   ]
  },
  {
   "cell_type": "code",
   "execution_count": 4,
   "metadata": {},
   "outputs": [
    {
     "name": "stdout",
     "output_type": "stream",
     "text": [
      "['aardvark', 'antelope', 'bass', 'bear', 'boar', 'buffalo', 'calf', 'carp', 'catfish', 'cavy', 'cheetah', 'chicken', 'chub', 'clam', 'crab', 'crayfish', 'crow', 'deer', 'dogfish', 'dolphin', 'dove', 'duck', 'elephant', 'flamingo', 'flea', 'frog', 'frog', 'fruitbat', 'giraffe', 'girl', 'gnat', 'goat', 'gorilla', 'gull', 'haddock', 'hamster', 'hare', 'hawk', 'herring', 'honeybee', 'housefly', 'kiwi', 'ladybird', 'lark', 'leopard', 'lion', 'lobster', 'lynx', 'mink', 'mole', 'mongoose', 'moth', 'newt', 'octopus', 'opossum', 'oryx', 'ostrich', 'parakeet', 'penguin', 'pheasant', 'pike', 'piranha', 'pitviper', 'platypus', 'polecat', 'pony', 'porpoise', 'puma', 'pussycat', 'raccoon', 'reindeer', 'rhea', 'scorpion', 'seahorse', 'seal', 'sealion', 'seasnake', 'seawasp', 'skimmer', 'skua', 'slowworm', 'slug', 'sole', 'sparrow', 'squirrel', 'starfish', 'stingray', 'swan', 'termite', 'toad', 'tortoise', 'tuatara', 'tuna', 'vampire', 'vole', 'vulture', 'wallaby', 'wasp', 'wolf', 'worm', 'wren']\n"
     ]
    }
   ],
   "source": [
    "animal_names = zoo_df['animal_name'].to_list()\n",
    "print(animal_names)\n",
    "zoo_df = zoo_df.drop('animal_name', axis=1)"
   ]
  },
  {
   "cell_type": "code",
   "execution_count": 5,
   "metadata": {},
   "outputs": [],
   "source": [
    "for column in zoo_df.columns:\n",
    "    zoo_df[column] = zoo_df[column].astype(\"category\")"
   ]
  },
  {
   "cell_type": "code",
   "execution_count": 6,
   "metadata": {},
   "outputs": [
    {
     "name": "stdout",
     "output_type": "stream",
     "text": [
      "<class 'pandas.core.frame.DataFrame'>\n",
      "RangeIndex: 101 entries, 0 to 100\n",
      "Data columns (total 17 columns):\n",
      "hair          101 non-null category\n",
      "feathers      101 non-null category\n",
      "eggs          101 non-null category\n",
      "milk          101 non-null category\n",
      "airborne      101 non-null category\n",
      "aquatic       101 non-null category\n",
      "predator      101 non-null category\n",
      "toothed       101 non-null category\n",
      "backbone      101 non-null category\n",
      "breathes      101 non-null category\n",
      "venomous      101 non-null category\n",
      "fins          101 non-null category\n",
      "legs          101 non-null category\n",
      "tail          101 non-null category\n",
      "domestic      101 non-null category\n",
      "catsize       101 non-null category\n",
      "class_type    101 non-null category\n",
      "dtypes: category(17)\n",
      "memory usage: 3.8 KB\n"
     ]
    }
   ],
   "source": [
    "zoo_df.info()"
   ]
  },
  {
   "cell_type": "markdown",
   "metadata": {},
   "source": [
    "A glance over the data"
   ]
  },
  {
   "cell_type": "code",
   "execution_count": 7,
   "metadata": {
    "scrolled": true
   },
   "outputs": [
    {
     "data": {
      "text/html": [
       "<div>\n",
       "<style scoped>\n",
       "    .dataframe tbody tr th:only-of-type {\n",
       "        vertical-align: middle;\n",
       "    }\n",
       "\n",
       "    .dataframe tbody tr th {\n",
       "        vertical-align: top;\n",
       "    }\n",
       "\n",
       "    .dataframe thead th {\n",
       "        text-align: right;\n",
       "    }\n",
       "</style>\n",
       "<table border=\"1\" class=\"dataframe\">\n",
       "  <thead>\n",
       "    <tr style=\"text-align: right;\">\n",
       "      <th></th>\n",
       "      <th>hair</th>\n",
       "      <th>feathers</th>\n",
       "      <th>eggs</th>\n",
       "      <th>milk</th>\n",
       "      <th>airborne</th>\n",
       "      <th>aquatic</th>\n",
       "      <th>predator</th>\n",
       "      <th>toothed</th>\n",
       "      <th>backbone</th>\n",
       "      <th>breathes</th>\n",
       "      <th>venomous</th>\n",
       "      <th>fins</th>\n",
       "      <th>legs</th>\n",
       "      <th>tail</th>\n",
       "      <th>domestic</th>\n",
       "      <th>catsize</th>\n",
       "      <th>class_type</th>\n",
       "    </tr>\n",
       "  </thead>\n",
       "  <tbody>\n",
       "    <tr>\n",
       "      <td>0</td>\n",
       "      <td>1</td>\n",
       "      <td>0</td>\n",
       "      <td>0</td>\n",
       "      <td>1</td>\n",
       "      <td>0</td>\n",
       "      <td>0</td>\n",
       "      <td>1</td>\n",
       "      <td>1</td>\n",
       "      <td>1</td>\n",
       "      <td>1</td>\n",
       "      <td>0</td>\n",
       "      <td>0</td>\n",
       "      <td>4</td>\n",
       "      <td>0</td>\n",
       "      <td>0</td>\n",
       "      <td>1</td>\n",
       "      <td>1</td>\n",
       "    </tr>\n",
       "    <tr>\n",
       "      <td>1</td>\n",
       "      <td>1</td>\n",
       "      <td>0</td>\n",
       "      <td>0</td>\n",
       "      <td>1</td>\n",
       "      <td>0</td>\n",
       "      <td>0</td>\n",
       "      <td>0</td>\n",
       "      <td>1</td>\n",
       "      <td>1</td>\n",
       "      <td>1</td>\n",
       "      <td>0</td>\n",
       "      <td>0</td>\n",
       "      <td>4</td>\n",
       "      <td>1</td>\n",
       "      <td>0</td>\n",
       "      <td>1</td>\n",
       "      <td>1</td>\n",
       "    </tr>\n",
       "    <tr>\n",
       "      <td>2</td>\n",
       "      <td>0</td>\n",
       "      <td>0</td>\n",
       "      <td>1</td>\n",
       "      <td>0</td>\n",
       "      <td>0</td>\n",
       "      <td>1</td>\n",
       "      <td>1</td>\n",
       "      <td>1</td>\n",
       "      <td>1</td>\n",
       "      <td>0</td>\n",
       "      <td>0</td>\n",
       "      <td>1</td>\n",
       "      <td>0</td>\n",
       "      <td>1</td>\n",
       "      <td>0</td>\n",
       "      <td>0</td>\n",
       "      <td>4</td>\n",
       "    </tr>\n",
       "    <tr>\n",
       "      <td>3</td>\n",
       "      <td>1</td>\n",
       "      <td>0</td>\n",
       "      <td>0</td>\n",
       "      <td>1</td>\n",
       "      <td>0</td>\n",
       "      <td>0</td>\n",
       "      <td>1</td>\n",
       "      <td>1</td>\n",
       "      <td>1</td>\n",
       "      <td>1</td>\n",
       "      <td>0</td>\n",
       "      <td>0</td>\n",
       "      <td>4</td>\n",
       "      <td>0</td>\n",
       "      <td>0</td>\n",
       "      <td>1</td>\n",
       "      <td>1</td>\n",
       "    </tr>\n",
       "    <tr>\n",
       "      <td>4</td>\n",
       "      <td>1</td>\n",
       "      <td>0</td>\n",
       "      <td>0</td>\n",
       "      <td>1</td>\n",
       "      <td>0</td>\n",
       "      <td>0</td>\n",
       "      <td>1</td>\n",
       "      <td>1</td>\n",
       "      <td>1</td>\n",
       "      <td>1</td>\n",
       "      <td>0</td>\n",
       "      <td>0</td>\n",
       "      <td>4</td>\n",
       "      <td>1</td>\n",
       "      <td>0</td>\n",
       "      <td>1</td>\n",
       "      <td>1</td>\n",
       "    </tr>\n",
       "    <tr>\n",
       "      <td>...</td>\n",
       "      <td>...</td>\n",
       "      <td>...</td>\n",
       "      <td>...</td>\n",
       "      <td>...</td>\n",
       "      <td>...</td>\n",
       "      <td>...</td>\n",
       "      <td>...</td>\n",
       "      <td>...</td>\n",
       "      <td>...</td>\n",
       "      <td>...</td>\n",
       "      <td>...</td>\n",
       "      <td>...</td>\n",
       "      <td>...</td>\n",
       "      <td>...</td>\n",
       "      <td>...</td>\n",
       "      <td>...</td>\n",
       "      <td>...</td>\n",
       "    </tr>\n",
       "    <tr>\n",
       "      <td>96</td>\n",
       "      <td>1</td>\n",
       "      <td>0</td>\n",
       "      <td>0</td>\n",
       "      <td>1</td>\n",
       "      <td>0</td>\n",
       "      <td>0</td>\n",
       "      <td>0</td>\n",
       "      <td>1</td>\n",
       "      <td>1</td>\n",
       "      <td>1</td>\n",
       "      <td>0</td>\n",
       "      <td>0</td>\n",
       "      <td>2</td>\n",
       "      <td>1</td>\n",
       "      <td>0</td>\n",
       "      <td>1</td>\n",
       "      <td>1</td>\n",
       "    </tr>\n",
       "    <tr>\n",
       "      <td>97</td>\n",
       "      <td>1</td>\n",
       "      <td>0</td>\n",
       "      <td>1</td>\n",
       "      <td>0</td>\n",
       "      <td>1</td>\n",
       "      <td>0</td>\n",
       "      <td>0</td>\n",
       "      <td>0</td>\n",
       "      <td>0</td>\n",
       "      <td>1</td>\n",
       "      <td>1</td>\n",
       "      <td>0</td>\n",
       "      <td>6</td>\n",
       "      <td>0</td>\n",
       "      <td>0</td>\n",
       "      <td>0</td>\n",
       "      <td>6</td>\n",
       "    </tr>\n",
       "    <tr>\n",
       "      <td>98</td>\n",
       "      <td>1</td>\n",
       "      <td>0</td>\n",
       "      <td>0</td>\n",
       "      <td>1</td>\n",
       "      <td>0</td>\n",
       "      <td>0</td>\n",
       "      <td>1</td>\n",
       "      <td>1</td>\n",
       "      <td>1</td>\n",
       "      <td>1</td>\n",
       "      <td>0</td>\n",
       "      <td>0</td>\n",
       "      <td>4</td>\n",
       "      <td>1</td>\n",
       "      <td>0</td>\n",
       "      <td>1</td>\n",
       "      <td>1</td>\n",
       "    </tr>\n",
       "    <tr>\n",
       "      <td>99</td>\n",
       "      <td>0</td>\n",
       "      <td>0</td>\n",
       "      <td>1</td>\n",
       "      <td>0</td>\n",
       "      <td>0</td>\n",
       "      <td>0</td>\n",
       "      <td>0</td>\n",
       "      <td>0</td>\n",
       "      <td>0</td>\n",
       "      <td>1</td>\n",
       "      <td>0</td>\n",
       "      <td>0</td>\n",
       "      <td>0</td>\n",
       "      <td>0</td>\n",
       "      <td>0</td>\n",
       "      <td>0</td>\n",
       "      <td>7</td>\n",
       "    </tr>\n",
       "    <tr>\n",
       "      <td>100</td>\n",
       "      <td>0</td>\n",
       "      <td>1</td>\n",
       "      <td>1</td>\n",
       "      <td>0</td>\n",
       "      <td>1</td>\n",
       "      <td>0</td>\n",
       "      <td>0</td>\n",
       "      <td>0</td>\n",
       "      <td>1</td>\n",
       "      <td>1</td>\n",
       "      <td>0</td>\n",
       "      <td>0</td>\n",
       "      <td>2</td>\n",
       "      <td>1</td>\n",
       "      <td>0</td>\n",
       "      <td>0</td>\n",
       "      <td>2</td>\n",
       "    </tr>\n",
       "  </tbody>\n",
       "</table>\n",
       "<p>101 rows × 17 columns</p>\n",
       "</div>"
      ],
      "text/plain": [
       "    hair feathers eggs milk airborne aquatic predator toothed backbone  \\\n",
       "0      1        0    0    1        0       0        1       1        1   \n",
       "1      1        0    0    1        0       0        0       1        1   \n",
       "2      0        0    1    0        0       1        1       1        1   \n",
       "3      1        0    0    1        0       0        1       1        1   \n",
       "4      1        0    0    1        0       0        1       1        1   \n",
       "..   ...      ...  ...  ...      ...     ...      ...     ...      ...   \n",
       "96     1        0    0    1        0       0        0       1        1   \n",
       "97     1        0    1    0        1       0        0       0        0   \n",
       "98     1        0    0    1        0       0        1       1        1   \n",
       "99     0        0    1    0        0       0        0       0        0   \n",
       "100    0        1    1    0        1       0        0       0        1   \n",
       "\n",
       "    breathes venomous fins legs tail domestic catsize class_type  \n",
       "0          1        0    0    4    0        0       1          1  \n",
       "1          1        0    0    4    1        0       1          1  \n",
       "2          0        0    1    0    1        0       0          4  \n",
       "3          1        0    0    4    0        0       1          1  \n",
       "4          1        0    0    4    1        0       1          1  \n",
       "..       ...      ...  ...  ...  ...      ...     ...        ...  \n",
       "96         1        0    0    2    1        0       1          1  \n",
       "97         1        1    0    6    0        0       0          6  \n",
       "98         1        0    0    4    1        0       1          1  \n",
       "99         1        0    0    0    0        0       0          7  \n",
       "100        1        0    0    2    1        0       0          2  \n",
       "\n",
       "[101 rows x 17 columns]"
      ]
     },
     "execution_count": 7,
     "metadata": {},
     "output_type": "execute_result"
    }
   ],
   "source": [
    "zoo_df"
   ]
  },
  {
   "cell_type": "code",
   "execution_count": 8,
   "metadata": {},
   "outputs": [
    {
     "data": {
      "text/html": [
       "<div>\n",
       "<style scoped>\n",
       "    .dataframe tbody tr th:only-of-type {\n",
       "        vertical-align: middle;\n",
       "    }\n",
       "\n",
       "    .dataframe tbody tr th {\n",
       "        vertical-align: top;\n",
       "    }\n",
       "\n",
       "    .dataframe thead th {\n",
       "        text-align: right;\n",
       "    }\n",
       "</style>\n",
       "<table border=\"1\" class=\"dataframe\">\n",
       "  <thead>\n",
       "    <tr style=\"text-align: right;\">\n",
       "      <th></th>\n",
       "      <th>class_type</th>\n",
       "    </tr>\n",
       "    <tr>\n",
       "      <th>catsize</th>\n",
       "      <th></th>\n",
       "    </tr>\n",
       "  </thead>\n",
       "  <tbody>\n",
       "    <tr>\n",
       "      <td>0</td>\n",
       "      <td>57</td>\n",
       "    </tr>\n",
       "    <tr>\n",
       "      <td>1</td>\n",
       "      <td>44</td>\n",
       "    </tr>\n",
       "  </tbody>\n",
       "</table>\n",
       "</div>"
      ],
      "text/plain": [
       "         class_type\n",
       "catsize            \n",
       "0                57\n",
       "1                44"
      ]
     },
     "execution_count": 8,
     "metadata": {},
     "output_type": "execute_result"
    }
   ],
   "source": [
    "zoo_df[['catsize', 'class_type']].groupby('catsize').count()"
   ]
  },
  {
   "cell_type": "markdown",
   "metadata": {},
   "source": [
    "## Split the data into training and testing sets"
   ]
  },
  {
   "cell_type": "code",
   "execution_count": 9,
   "metadata": {},
   "outputs": [],
   "source": [
    "from sklearn.model_selection import train_test_split\n",
    "from imblearn.over_sampling import SMOTE\n",
    "from imblearn.over_sampling import RandomOverSampler"
   ]
  },
  {
   "cell_type": "code",
   "execution_count": 10,
   "metadata": {},
   "outputs": [],
   "source": [
    "# copy X columns\n",
    "columns = [\"legs\", \"feathers\", \"milk\", \"backbone\", \"fins\", \"tail\", \"toothed\", \"eggs\"]\n",
    "X = zoo_df[columns]\n",
    "# copy Y column (class)\n",
    "y = zoo_df['class_type']"
   ]
  },
  {
   "cell_type": "code",
   "execution_count": 11,
   "metadata": {},
   "outputs": [],
   "source": [
    "#oversampler = SMOTE(k_neighbors=1)\n",
    "oversampler = RandomOverSampler()\n",
    "X, y = oversampler.fit_resample(X, y)"
   ]
  },
  {
   "cell_type": "code",
   "execution_count": 12,
   "metadata": {},
   "outputs": [],
   "source": [
    "# split the data (70-30 split)\n",
    "train_X, test_X, train_Y, test_Y = train_test_split(X, y, test_size = 0.30, stratify = y)"
   ]
  },
  {
   "cell_type": "code",
   "execution_count": 13,
   "metadata": {},
   "outputs": [
    {
     "data": {
      "text/plain": [
       "array([[2, 1, 0, ..., 1, 0, 1],\n",
       "       [0, 0, 0, ..., 0, 0, 1],\n",
       "       [0, 0, 0, ..., 1, 1, 1],\n",
       "       ...,\n",
       "       [4, 0, 1, ..., 1, 1, 0],\n",
       "       [6, 0, 0, ..., 0, 0, 1],\n",
       "       [4, 0, 1, ..., 1, 1, 0]], dtype=object)"
      ]
     },
     "execution_count": 13,
     "metadata": {},
     "output_type": "execute_result"
    }
   ],
   "source": [
    "train_X"
   ]
  },
  {
   "cell_type": "markdown",
   "metadata": {},
   "source": [
    "Build the machine learning model"
   ]
  },
  {
   "cell_type": "code",
   "execution_count": 14,
   "metadata": {},
   "outputs": [],
   "source": [
    "from sklearn.tree import DecisionTreeClassifier"
   ]
  },
  {
   "cell_type": "code",
   "execution_count": 15,
   "metadata": {},
   "outputs": [
    {
     "data": {
      "text/plain": [
       "DecisionTreeClassifier(class_weight=None, criterion='gini', max_depth=None,\n",
       "                       max_features=1, max_leaf_nodes=None,\n",
       "                       min_impurity_decrease=0.0, min_impurity_split=None,\n",
       "                       min_samples_leaf=1, min_samples_split=2,\n",
       "                       min_weight_fraction_leaf=0.0, presort=False,\n",
       "                       random_state=None, splitter='best')"
      ]
     },
     "execution_count": 15,
     "metadata": {},
     "output_type": "execute_result"
    }
   ],
   "source": [
    "model = DecisionTreeClassifier(criterion=\"gini\", max_features=1)\n",
    "model.fit(train_X, train_Y)"
   ]
  },
  {
   "cell_type": "code",
   "execution_count": 16,
   "metadata": {},
   "outputs": [
    {
     "name": "stdout",
     "output_type": "stream",
     "text": [
      "Impurity measures  [0.8571     0.83328204 0.44459834 0.         0.35265306 0.39669421\n",
      " 0.         0.         0.         0.80061055 0.6634349  0.49931413\n",
      " 0.         0.40499671 0.32       0.         0.         0.59402893\n",
      " 0.57971939 0.34567901 0.         0.48       0.         0.48\n",
      " 0.         0.         0.        ]\n"
     ]
    }
   ],
   "source": [
    "print(\"Impurity measures \", model.tree_.impurity)"
   ]
  },
  {
   "cell_type": "markdown",
   "metadata": {},
   "source": [
    "Predict the class of test data"
   ]
  },
  {
   "cell_type": "code",
   "execution_count": 17,
   "metadata": {},
   "outputs": [],
   "source": [
    "y_predicted = model.predict(test_X)"
   ]
  },
  {
   "cell_type": "markdown",
   "metadata": {},
   "source": [
    "How good is the model?\n",
    "check accuracy"
   ]
  },
  {
   "cell_type": "code",
   "execution_count": 18,
   "metadata": {},
   "outputs": [],
   "source": [
    "from sklearn.metrics import accuracy_score"
   ]
  },
  {
   "cell_type": "code",
   "execution_count": 19,
   "metadata": {},
   "outputs": [
    {
     "name": "stdout",
     "output_type": "stream",
     "text": [
      "0.9425287356321839\n"
     ]
    }
   ],
   "source": [
    "print(accuracy_score(test_Y, y_predicted))"
   ]
  },
  {
   "cell_type": "markdown",
   "metadata": {},
   "source": [
    "Build confusion matrix"
   ]
  },
  {
   "cell_type": "code",
   "execution_count": 20,
   "metadata": {},
   "outputs": [],
   "source": [
    "from sklearn.metrics import confusion_matrix"
   ]
  },
  {
   "cell_type": "code",
   "execution_count": 21,
   "metadata": {},
   "outputs": [
    {
     "name": "stdout",
     "output_type": "stream",
     "text": [
      "[[13  0  0  0  0  0  0]\n",
      " [ 0 12  0  0  0  0  0]\n",
      " [ 0  0 10  0  2  0  0]\n",
      " [ 0  0  0 12  0  0  0]\n",
      " [ 0  0  0  0 13  0  0]\n",
      " [ 0  0  0  0  0 13  0]\n",
      " [ 0  0  0  0  0  3  9]]\n"
     ]
    }
   ],
   "source": [
    "c_matrix = confusion_matrix(test_Y, y_predicted)\n",
    "print(c_matrix)"
   ]
  },
  {
   "cell_type": "code",
   "execution_count": 22,
   "metadata": {},
   "outputs": [],
   "source": [
    "from collections import Counter"
   ]
  },
  {
   "cell_type": "code",
   "execution_count": 23,
   "metadata": {},
   "outputs": [
    {
     "name": "stdout",
     "output_type": "stream",
     "text": [
      "Counter({6: 13, 5: 13, 1: 13, 7: 12, 4: 12, 3: 12, 2: 12})\n"
     ]
    }
   ],
   "source": [
    "print(Counter(test_Y))"
   ]
  },
  {
   "cell_type": "code",
   "execution_count": 24,
   "metadata": {},
   "outputs": [
    {
     "name": "stdout",
     "output_type": "stream",
     "text": [
      "Counter({6: 16, 5: 15, 1: 13, 4: 12, 2: 12, 3: 10, 7: 9})\n"
     ]
    }
   ],
   "source": [
    "print(Counter(y_predicted))"
   ]
  },
  {
   "cell_type": "code",
   "execution_count": 25,
   "metadata": {},
   "outputs": [
    {
     "data": {
      "image/svg+xml": [
       "<?xml version=\"1.0\" encoding=\"UTF-8\" standalone=\"no\"?>\r\n",
       "<!DOCTYPE svg PUBLIC \"-//W3C//DTD SVG 1.1//EN\"\r\n",
       " \"http://www.w3.org/Graphics/SVG/1.1/DTD/svg11.dtd\">\r\n",
       "<!-- Generated by graphviz version 2.38.0 (20140413.2041)\r\n",
       " -->\r\n",
       "<!-- Title: Tree Pages: 1 -->\r\n",
       "<svg width=\"1299pt\" height=\"789pt\"\r\n",
       " viewBox=\"0.00 0.00 1299.00 789.00\" xmlns=\"http://www.w3.org/2000/svg\" xmlns:xlink=\"http://www.w3.org/1999/xlink\">\r\n",
       "<g id=\"graph0\" class=\"graph\" transform=\"scale(1 1) rotate(0) translate(4 785)\">\r\n",
       "<title>Tree</title>\r\n",
       "<polygon fill=\"white\" stroke=\"none\" points=\"-4,4 -4,-785 1295,-785 1295,4 -4,4\"/>\r\n",
       "<!-- 0 -->\r\n",
       "<g id=\"node1\" class=\"node\"><title>0</title>\r\n",
       "<path fill=\"#ffffff\" stroke=\"black\" d=\"M753.5,-781C753.5,-781 544.5,-781 544.5,-781 538.5,-781 532.5,-775 532.5,-769 532.5,-769 532.5,-725 532.5,-725 532.5,-719 538.5,-713 544.5,-713 544.5,-713 753.5,-713 753.5,-713 759.5,-713 765.5,-719 765.5,-725 765.5,-725 765.5,-769 765.5,-769 765.5,-775 759.5,-781 753.5,-781\"/>\r\n",
       "<text text-anchor=\"start\" x=\"605\" y=\"-765.8\" font-family=\"Helvetica,sans-Serif\" font-size=\"14.00\">feathers ≤ 0.5</text>\r\n",
       "<text text-anchor=\"start\" x=\"611.5\" y=\"-750.8\" font-family=\"Helvetica,sans-Serif\" font-size=\"14.00\">gini = 0.857</text>\r\n",
       "<text text-anchor=\"start\" x=\"601.5\" y=\"-735.8\" font-family=\"Helvetica,sans-Serif\" font-size=\"14.00\">samples = 200</text>\r\n",
       "<text text-anchor=\"start\" x=\"540.5\" y=\"-720.8\" font-family=\"Helvetica,sans-Serif\" font-size=\"14.00\">value = [28, 29, 29, 29, 28, 28, 29]</text>\r\n",
       "</g>\r\n",
       "<!-- 1 -->\r\n",
       "<g id=\"node2\" class=\"node\"><title>1</title>\r\n",
       "<path fill=\"#ffffff\" stroke=\"black\" d=\"M638.5,-677C638.5,-677 437.5,-677 437.5,-677 431.5,-677 425.5,-671 425.5,-665 425.5,-665 425.5,-621 425.5,-621 425.5,-615 431.5,-609 437.5,-609 437.5,-609 638.5,-609 638.5,-609 644.5,-609 650.5,-615 650.5,-621 650.5,-621 650.5,-665 650.5,-665 650.5,-671 644.5,-677 638.5,-677\"/>\r\n",
       "<text text-anchor=\"start\" x=\"504\" y=\"-661.8\" font-family=\"Helvetica,sans-Serif\" font-size=\"14.00\">eggs ≤ 0.5</text>\r\n",
       "<text text-anchor=\"start\" x=\"500.5\" y=\"-646.8\" font-family=\"Helvetica,sans-Serif\" font-size=\"14.00\">gini = 0.833</text>\r\n",
       "<text text-anchor=\"start\" x=\"490.5\" y=\"-631.8\" font-family=\"Helvetica,sans-Serif\" font-size=\"14.00\">samples = 171</text>\r\n",
       "<text text-anchor=\"start\" x=\"433.5\" y=\"-616.8\" font-family=\"Helvetica,sans-Serif\" font-size=\"14.00\">value = [28, 0, 29, 29, 28, 28, 29]</text>\r\n",
       "</g>\r\n",
       "<!-- 0&#45;&gt;1 -->\r\n",
       "<g id=\"edge1\" class=\"edge\"><title>0&#45;&gt;1</title>\r\n",
       "<path fill=\"none\" stroke=\"black\" d=\"M612.961,-712.884C602.977,-703.709 592.031,-693.65 581.663,-684.123\"/>\r\n",
       "<polygon fill=\"black\" stroke=\"black\" points=\"583.969,-681.488 574.238,-677.299 579.233,-686.643 583.969,-681.488\"/>\r\n",
       "<text text-anchor=\"middle\" x=\"575.293\" y=\"-698.577\" font-family=\"Helvetica,sans-Serif\" font-size=\"14.00\">True</text>\r\n",
       "</g>\r\n",
       "<!-- 26 -->\r\n",
       "<g id=\"node27\" class=\"node\"><title>26</title>\r\n",
       "<path fill=\"#b7e539\" stroke=\"black\" d=\"M841,-669.5C841,-669.5 681,-669.5 681,-669.5 675,-669.5 669,-663.5 669,-657.5 669,-657.5 669,-628.5 669,-628.5 669,-622.5 675,-616.5 681,-616.5 681,-616.5 841,-616.5 841,-616.5 847,-616.5 853,-622.5 853,-628.5 853,-628.5 853,-657.5 853,-657.5 853,-663.5 847,-669.5 841,-669.5\"/>\r\n",
       "<text text-anchor=\"start\" x=\"732\" y=\"-654.3\" font-family=\"Helvetica,sans-Serif\" font-size=\"14.00\">gini = 0.0</text>\r\n",
       "<text text-anchor=\"start\" x=\"717.5\" y=\"-639.3\" font-family=\"Helvetica,sans-Serif\" font-size=\"14.00\">samples = 29</text>\r\n",
       "<text text-anchor=\"start\" x=\"677\" y=\"-624.3\" font-family=\"Helvetica,sans-Serif\" font-size=\"14.00\">value = [0, 29, 0, 0, 0, 0, 0]</text>\r\n",
       "</g>\r\n",
       "<!-- 0&#45;&gt;26 -->\r\n",
       "<g id=\"edge26\" class=\"edge\"><title>0&#45;&gt;26</title>\r\n",
       "<path fill=\"none\" stroke=\"black\" d=\"M685.363,-712.884C698.164,-701.226 712.532,-688.141 725.279,-676.532\"/>\r\n",
       "<polygon fill=\"black\" stroke=\"black\" points=\"727.941,-678.841 732.978,-669.52 723.228,-673.666 727.941,-678.841\"/>\r\n",
       "<text text-anchor=\"middle\" x=\"731.811\" y=\"-690.793\" font-family=\"Helvetica,sans-Serif\" font-size=\"14.00\">False</text>\r\n",
       "</g>\r\n",
       "<!-- 2 -->\r\n",
       "<g id=\"node3\" class=\"node\"><title>2</title>\r\n",
       "<path fill=\"#efaf82\" stroke=\"black\" d=\"M463,-573C463,-573 303,-573 303,-573 297,-573 291,-567 291,-561 291,-561 291,-517 291,-517 291,-511 297,-505 303,-505 303,-505 463,-505 463,-505 469,-505 475,-511 475,-517 475,-517 475,-561 475,-561 475,-567 469,-573 463,-573\"/>\r\n",
       "<text text-anchor=\"start\" x=\"341\" y=\"-557.8\" font-family=\"Helvetica,sans-Serif\" font-size=\"14.00\">toothed ≤ 0.5</text>\r\n",
       "<text text-anchor=\"start\" x=\"345.5\" y=\"-542.8\" font-family=\"Helvetica,sans-Serif\" font-size=\"14.00\">gini = 0.445</text>\r\n",
       "<text text-anchor=\"start\" x=\"339.5\" y=\"-527.8\" font-family=\"Helvetica,sans-Serif\" font-size=\"14.00\">samples = 38</text>\r\n",
       "<text text-anchor=\"start\" x=\"299\" y=\"-512.8\" font-family=\"Helvetica,sans-Serif\" font-size=\"14.00\">value = [27, 0, 8, 0, 0, 0, 3]</text>\r\n",
       "</g>\r\n",
       "<!-- 1&#45;&gt;2 -->\r\n",
       "<g id=\"edge2\" class=\"edge\"><title>1&#45;&gt;2</title>\r\n",
       "<path fill=\"none\" stroke=\"black\" d=\"M487.676,-608.884C473.119,-599.304 457.097,-588.761 442.059,-578.864\"/>\r\n",
       "<polygon fill=\"black\" stroke=\"black\" points=\"443.614,-575.698 433.337,-573.125 439.766,-581.546 443.614,-575.698\"/>\r\n",
       "</g>\r\n",
       "<!-- 9 -->\r\n",
       "<g id=\"node10\" class=\"node\"><title>9</title>\r\n",
       "<path fill=\"#fdffff\" stroke=\"black\" d=\"M790.5,-573C790.5,-573 597.5,-573 597.5,-573 591.5,-573 585.5,-567 585.5,-561 585.5,-561 585.5,-517 585.5,-517 585.5,-511 591.5,-505 597.5,-505 597.5,-505 790.5,-505 790.5,-505 796.5,-505 802.5,-511 802.5,-517 802.5,-517 802.5,-561 802.5,-561 802.5,-567 796.5,-573 790.5,-573\"/>\r\n",
       "<text text-anchor=\"start\" x=\"667.5\" y=\"-557.8\" font-family=\"Helvetica,sans-Serif\" font-size=\"14.00\">tail ≤ 0.5</text>\r\n",
       "<text text-anchor=\"start\" x=\"656.5\" y=\"-542.8\" font-family=\"Helvetica,sans-Serif\" font-size=\"14.00\">gini = 0.801</text>\r\n",
       "<text text-anchor=\"start\" x=\"646.5\" y=\"-527.8\" font-family=\"Helvetica,sans-Serif\" font-size=\"14.00\">samples = 133</text>\r\n",
       "<text text-anchor=\"start\" x=\"593.5\" y=\"-512.8\" font-family=\"Helvetica,sans-Serif\" font-size=\"14.00\">value = [1, 0, 21, 29, 28, 28, 26]</text>\r\n",
       "</g>\r\n",
       "<!-- 1&#45;&gt;9 -->\r\n",
       "<g id=\"edge9\" class=\"edge\"><title>1&#45;&gt;9</title>\r\n",
       "<path fill=\"none\" stroke=\"black\" d=\"M588.649,-608.884C603.3,-599.304 619.425,-588.761 634.56,-578.864\"/>\r\n",
       "<polygon fill=\"black\" stroke=\"black\" points=\"636.884,-581.527 643.339,-573.125 633.054,-575.668 636.884,-581.527\"/>\r\n",
       "</g>\r\n",
       "<!-- 3 -->\r\n",
       "<g id=\"node4\" class=\"node\"><title>3</title>\r\n",
       "<path fill=\"#e53986\" stroke=\"black\" d=\"M261,-461.5C261,-461.5 109,-461.5 109,-461.5 103,-461.5 97,-455.5 97,-449.5 97,-449.5 97,-420.5 97,-420.5 97,-414.5 103,-408.5 109,-408.5 109,-408.5 261,-408.5 261,-408.5 267,-408.5 273,-414.5 273,-420.5 273,-420.5 273,-449.5 273,-449.5 273,-455.5 267,-461.5 261,-461.5\"/>\r\n",
       "<text text-anchor=\"start\" x=\"156\" y=\"-446.3\" font-family=\"Helvetica,sans-Serif\" font-size=\"14.00\">gini = 0.0</text>\r\n",
       "<text text-anchor=\"start\" x=\"145.5\" y=\"-431.3\" font-family=\"Helvetica,sans-Serif\" font-size=\"14.00\">samples = 3</text>\r\n",
       "<text text-anchor=\"start\" x=\"105\" y=\"-416.3\" font-family=\"Helvetica,sans-Serif\" font-size=\"14.00\">value = [0, 0, 0, 0, 0, 0, 3]</text>\r\n",
       "</g>\r\n",
       "<!-- 2&#45;&gt;3 -->\r\n",
       "<g id=\"edge3\" class=\"edge\"><title>2&#45;&gt;3</title>\r\n",
       "<path fill=\"none\" stroke=\"black\" d=\"M318.715,-504.884C294.591,-492.456 267.318,-478.406 243.724,-466.252\"/>\r\n",
       "<polygon fill=\"black\" stroke=\"black\" points=\"245.031,-462.988 234.539,-461.52 241.826,-469.211 245.031,-462.988\"/>\r\n",
       "</g>\r\n",
       "<!-- 4 -->\r\n",
       "<g id=\"node5\" class=\"node\"><title>4</title>\r\n",
       "<path fill=\"#eda674\" stroke=\"black\" d=\"M463,-469C463,-469 303,-469 303,-469 297,-469 291,-463 291,-457 291,-457 291,-413 291,-413 291,-407 297,-401 303,-401 303,-401 463,-401 463,-401 469,-401 475,-407 475,-413 475,-413 475,-457 475,-457 475,-463 469,-469 463,-469\"/>\r\n",
       "<text text-anchor=\"start\" x=\"351.5\" y=\"-453.8\" font-family=\"Helvetica,sans-Serif\" font-size=\"14.00\">legs ≤ 1.0</text>\r\n",
       "<text text-anchor=\"start\" x=\"345.5\" y=\"-438.8\" font-family=\"Helvetica,sans-Serif\" font-size=\"14.00\">gini = 0.353</text>\r\n",
       "<text text-anchor=\"start\" x=\"339.5\" y=\"-423.8\" font-family=\"Helvetica,sans-Serif\" font-size=\"14.00\">samples = 35</text>\r\n",
       "<text text-anchor=\"start\" x=\"299\" y=\"-408.8\" font-family=\"Helvetica,sans-Serif\" font-size=\"14.00\">value = [27, 0, 8, 0, 0, 0, 0]</text>\r\n",
       "</g>\r\n",
       "<!-- 2&#45;&gt;4 -->\r\n",
       "<g id=\"edge4\" class=\"edge\"><title>2&#45;&gt;4</title>\r\n",
       "<path fill=\"none\" stroke=\"black\" d=\"M383,-504.884C383,-496.778 383,-487.982 383,-479.472\"/>\r\n",
       "<polygon fill=\"black\" stroke=\"black\" points=\"386.5,-479.299 383,-469.299 379.5,-479.299 386.5,-479.299\"/>\r\n",
       "</g>\r\n",
       "<!-- 5 -->\r\n",
       "<g id=\"node6\" class=\"node\"><title>5</title>\r\n",
       "<path fill=\"#83ef90\" stroke=\"black\" d=\"M261,-365C261,-365 109,-365 109,-365 103,-365 97,-359 97,-353 97,-353 97,-309 97,-309 97,-303 103,-297 109,-297 109,-297 261,-297 261,-297 267,-297 273,-303 273,-309 273,-309 273,-353 273,-353 273,-359 267,-365 261,-365\"/>\r\n",
       "<text text-anchor=\"start\" x=\"154.5\" y=\"-349.8\" font-family=\"Helvetica,sans-Serif\" font-size=\"14.00\">milk ≤ 0.5</text>\r\n",
       "<text text-anchor=\"start\" x=\"147.5\" y=\"-334.8\" font-family=\"Helvetica,sans-Serif\" font-size=\"14.00\">gini = 0.397</text>\r\n",
       "<text text-anchor=\"start\" x=\"141.5\" y=\"-319.8\" font-family=\"Helvetica,sans-Serif\" font-size=\"14.00\">samples = 11</text>\r\n",
       "<text text-anchor=\"start\" x=\"105\" y=\"-304.8\" font-family=\"Helvetica,sans-Serif\" font-size=\"14.00\">value = [3, 0, 8, 0, 0, 0, 0]</text>\r\n",
       "</g>\r\n",
       "<!-- 4&#45;&gt;5 -->\r\n",
       "<g id=\"edge5\" class=\"edge\"><title>4&#45;&gt;5</title>\r\n",
       "<path fill=\"none\" stroke=\"black\" d=\"M318.715,-400.884C299.424,-390.946 278.12,-379.971 258.294,-369.757\"/>\r\n",
       "<polygon fill=\"black\" stroke=\"black\" points=\"259.794,-366.593 249.301,-365.125 256.588,-372.816 259.794,-366.593\"/>\r\n",
       "</g>\r\n",
       "<!-- 8 -->\r\n",
       "<g id=\"node9\" class=\"node\"><title>8</title>\r\n",
       "<path fill=\"#e58139\" stroke=\"black\" d=\"M463,-357.5C463,-357.5 303,-357.5 303,-357.5 297,-357.5 291,-351.5 291,-345.5 291,-345.5 291,-316.5 291,-316.5 291,-310.5 297,-304.5 303,-304.5 303,-304.5 463,-304.5 463,-304.5 469,-304.5 475,-310.5 475,-316.5 475,-316.5 475,-345.5 475,-345.5 475,-351.5 469,-357.5 463,-357.5\"/>\r\n",
       "<text text-anchor=\"start\" x=\"354\" y=\"-342.3\" font-family=\"Helvetica,sans-Serif\" font-size=\"14.00\">gini = 0.0</text>\r\n",
       "<text text-anchor=\"start\" x=\"339.5\" y=\"-327.3\" font-family=\"Helvetica,sans-Serif\" font-size=\"14.00\">samples = 24</text>\r\n",
       "<text text-anchor=\"start\" x=\"299\" y=\"-312.3\" font-family=\"Helvetica,sans-Serif\" font-size=\"14.00\">value = [24, 0, 0, 0, 0, 0, 0]</text>\r\n",
       "</g>\r\n",
       "<!-- 4&#45;&gt;8 -->\r\n",
       "<g id=\"edge8\" class=\"edge\"><title>4&#45;&gt;8</title>\r\n",
       "<path fill=\"none\" stroke=\"black\" d=\"M383,-400.884C383,-390.326 383,-378.597 383,-367.854\"/>\r\n",
       "<polygon fill=\"black\" stroke=\"black\" points=\"386.5,-367.52 383,-357.52 379.5,-367.52 386.5,-367.52\"/>\r\n",
       "</g>\r\n",
       "<!-- 6 -->\r\n",
       "<g id=\"node7\" class=\"node\"><title>6</title>\r\n",
       "<path fill=\"#39e54d\" stroke=\"black\" d=\"M164,-253.5C164,-253.5 12,-253.5 12,-253.5 6,-253.5 0,-247.5 0,-241.5 0,-241.5 0,-212.5 0,-212.5 0,-206.5 6,-200.5 12,-200.5 12,-200.5 164,-200.5 164,-200.5 170,-200.5 176,-206.5 176,-212.5 176,-212.5 176,-241.5 176,-241.5 176,-247.5 170,-253.5 164,-253.5\"/>\r\n",
       "<text text-anchor=\"start\" x=\"59\" y=\"-238.3\" font-family=\"Helvetica,sans-Serif\" font-size=\"14.00\">gini = 0.0</text>\r\n",
       "<text text-anchor=\"start\" x=\"48.5\" y=\"-223.3\" font-family=\"Helvetica,sans-Serif\" font-size=\"14.00\">samples = 8</text>\r\n",
       "<text text-anchor=\"start\" x=\"8\" y=\"-208.3\" font-family=\"Helvetica,sans-Serif\" font-size=\"14.00\">value = [0, 0, 8, 0, 0, 0, 0]</text>\r\n",
       "</g>\r\n",
       "<!-- 5&#45;&gt;6 -->\r\n",
       "<g id=\"edge6\" class=\"edge\"><title>5&#45;&gt;6</title>\r\n",
       "<path fill=\"none\" stroke=\"black\" d=\"M153.507,-296.884C142.525,-285.336 130.212,-272.387 119.25,-260.86\"/>\r\n",
       "<polygon fill=\"black\" stroke=\"black\" points=\"121.696,-258.354 112.269,-253.52 116.624,-263.178 121.696,-258.354\"/>\r\n",
       "</g>\r\n",
       "<!-- 7 -->\r\n",
       "<g id=\"node8\" class=\"node\"><title>7</title>\r\n",
       "<path fill=\"#e58139\" stroke=\"black\" d=\"M358,-253.5C358,-253.5 206,-253.5 206,-253.5 200,-253.5 194,-247.5 194,-241.5 194,-241.5 194,-212.5 194,-212.5 194,-206.5 200,-200.5 206,-200.5 206,-200.5 358,-200.5 358,-200.5 364,-200.5 370,-206.5 370,-212.5 370,-212.5 370,-241.5 370,-241.5 370,-247.5 364,-253.5 358,-253.5\"/>\r\n",
       "<text text-anchor=\"start\" x=\"253\" y=\"-238.3\" font-family=\"Helvetica,sans-Serif\" font-size=\"14.00\">gini = 0.0</text>\r\n",
       "<text text-anchor=\"start\" x=\"242.5\" y=\"-223.3\" font-family=\"Helvetica,sans-Serif\" font-size=\"14.00\">samples = 3</text>\r\n",
       "<text text-anchor=\"start\" x=\"202\" y=\"-208.3\" font-family=\"Helvetica,sans-Serif\" font-size=\"14.00\">value = [3, 0, 0, 0, 0, 0, 0]</text>\r\n",
       "</g>\r\n",
       "<!-- 5&#45;&gt;7 -->\r\n",
       "<g id=\"edge7\" class=\"edge\"><title>5&#45;&gt;7</title>\r\n",
       "<path fill=\"none\" stroke=\"black\" d=\"M216.493,-296.884C227.475,-285.336 239.788,-272.387 250.75,-260.86\"/>\r\n",
       "<polygon fill=\"black\" stroke=\"black\" points=\"253.376,-263.178 257.731,-253.52 248.304,-258.354 253.376,-263.178\"/>\r\n",
       "</g>\r\n",
       "<!-- 10 -->\r\n",
       "<g id=\"node11\" class=\"node\"><title>10</title>\r\n",
       "<path fill=\"#fcf7fe\" stroke=\"black\" d=\"M782,-469C782,-469 606,-469 606,-469 600,-469 594,-463 594,-457 594,-457 594,-413 594,-413 594,-407 600,-401 606,-401 606,-401 782,-401 782,-401 788,-401 794,-407 794,-413 794,-413 794,-457 794,-457 794,-463 788,-469 782,-469\"/>\r\n",
       "<text text-anchor=\"start\" x=\"645\" y=\"-453.8\" font-family=\"Helvetica,sans-Serif\" font-size=\"14.00\">backbone ≤ 0.5</text>\r\n",
       "<text text-anchor=\"start\" x=\"656.5\" y=\"-438.8\" font-family=\"Helvetica,sans-Serif\" font-size=\"14.00\">gini = 0.663</text>\r\n",
       "<text text-anchor=\"start\" x=\"650.5\" y=\"-423.8\" font-family=\"Helvetica,sans-Serif\" font-size=\"14.00\">samples = 76</text>\r\n",
       "<text text-anchor=\"start\" x=\"602\" y=\"-408.8\" font-family=\"Helvetica,sans-Serif\" font-size=\"14.00\">value = [0, 0, 0, 0, 22, 28, 26]</text>\r\n",
       "</g>\r\n",
       "<!-- 9&#45;&gt;10 -->\r\n",
       "<g id=\"edge10\" class=\"edge\"><title>9&#45;&gt;10</title>\r\n",
       "<path fill=\"none\" stroke=\"black\" d=\"M694,-504.884C694,-496.778 694,-487.982 694,-479.472\"/>\r\n",
       "<polygon fill=\"black\" stroke=\"black\" points=\"697.5,-479.299 694,-469.299 690.5,-479.299 697.5,-479.299\"/>\r\n",
       "</g>\r\n",
       "<!-- 17 -->\r\n",
       "<g id=\"node18\" class=\"node\"><title>17</title>\r\n",
       "<path fill=\"#d3f9f9\" stroke=\"black\" d=\"M1085,-469C1085,-469 917,-469 917,-469 911,-469 905,-463 905,-457 905,-457 905,-413 905,-413 905,-407 911,-401 917,-401 917,-401 1085,-401 1085,-401 1091,-401 1097,-407 1097,-413 1097,-413 1097,-457 1097,-457 1097,-463 1091,-469 1085,-469\"/>\r\n",
       "<text text-anchor=\"start\" x=\"970.5\" y=\"-453.8\" font-family=\"Helvetica,sans-Serif\" font-size=\"14.00\">milk ≤ 0.5</text>\r\n",
       "<text text-anchor=\"start\" x=\"963.5\" y=\"-438.8\" font-family=\"Helvetica,sans-Serif\" font-size=\"14.00\">gini = 0.594</text>\r\n",
       "<text text-anchor=\"start\" x=\"957.5\" y=\"-423.8\" font-family=\"Helvetica,sans-Serif\" font-size=\"14.00\">samples = 57</text>\r\n",
       "<text text-anchor=\"start\" x=\"913\" y=\"-408.8\" font-family=\"Helvetica,sans-Serif\" font-size=\"14.00\">value = [1, 0, 21, 29, 6, 0, 0]</text>\r\n",
       "</g>\r\n",
       "<!-- 9&#45;&gt;17 -->\r\n",
       "<g id=\"edge17\" class=\"edge\"><title>9&#45;&gt;17</title>\r\n",
       "<path fill=\"none\" stroke=\"black\" d=\"M793.674,-504.884C826.182,-494.083 862.377,-482.057 895.311,-471.115\"/>\r\n",
       "<polygon fill=\"black\" stroke=\"black\" points=\"896.576,-474.383 904.962,-467.908 894.368,-467.74 896.576,-474.383\"/>\r\n",
       "</g>\r\n",
       "<!-- 11 -->\r\n",
       "<g id=\"node12\" class=\"node\"><title>11</title>\r\n",
       "<path fill=\"#f9f1fd\" stroke=\"black\" d=\"M673,-365C673,-365 505,-365 505,-365 499,-365 493,-359 493,-353 493,-353 493,-309 493,-309 493,-303 499,-297 505,-297 505,-297 673,-297 673,-297 679,-297 685,-303 685,-309 685,-309 685,-353 685,-353 685,-359 679,-365 673,-365\"/>\r\n",
       "<text text-anchor=\"start\" x=\"557.5\" y=\"-349.8\" font-family=\"Helvetica,sans-Serif\" font-size=\"14.00\">legs ≤ 5.5</text>\r\n",
       "<text text-anchor=\"start\" x=\"551.5\" y=\"-334.8\" font-family=\"Helvetica,sans-Serif\" font-size=\"14.00\">gini = 0.499</text>\r\n",
       "<text text-anchor=\"start\" x=\"545.5\" y=\"-319.8\" font-family=\"Helvetica,sans-Serif\" font-size=\"14.00\">samples = 54</text>\r\n",
       "<text text-anchor=\"start\" x=\"501\" y=\"-304.8\" font-family=\"Helvetica,sans-Serif\" font-size=\"14.00\">value = [0, 0, 0, 0, 0, 28, 26]</text>\r\n",
       "</g>\r\n",
       "<!-- 10&#45;&gt;11 -->\r\n",
       "<g id=\"edge11\" class=\"edge\"><title>10&#45;&gt;11</title>\r\n",
       "<path fill=\"none\" stroke=\"black\" d=\"M659.91,-400.884C650.557,-391.798 640.312,-381.845 630.589,-372.4\"/>\r\n",
       "<polygon fill=\"black\" stroke=\"black\" points=\"632.89,-369.757 623.279,-365.299 628.013,-374.778 632.89,-369.757\"/>\r\n",
       "</g>\r\n",
       "<!-- 16 -->\r\n",
       "<g id=\"node17\" class=\"node\"><title>16</title>\r\n",
       "<path fill=\"#3956e5\" stroke=\"black\" d=\"M875,-357.5C875,-357.5 715,-357.5 715,-357.5 709,-357.5 703,-351.5 703,-345.5 703,-345.5 703,-316.5 703,-316.5 703,-310.5 709,-304.5 715,-304.5 715,-304.5 875,-304.5 875,-304.5 881,-304.5 887,-310.5 887,-316.5 887,-316.5 887,-345.5 887,-345.5 887,-351.5 881,-357.5 875,-357.5\"/>\r\n",
       "<text text-anchor=\"start\" x=\"766\" y=\"-342.3\" font-family=\"Helvetica,sans-Serif\" font-size=\"14.00\">gini = 0.0</text>\r\n",
       "<text text-anchor=\"start\" x=\"751.5\" y=\"-327.3\" font-family=\"Helvetica,sans-Serif\" font-size=\"14.00\">samples = 22</text>\r\n",
       "<text text-anchor=\"start\" x=\"711\" y=\"-312.3\" font-family=\"Helvetica,sans-Serif\" font-size=\"14.00\">value = [0, 0, 0, 0, 22, 0, 0]</text>\r\n",
       "</g>\r\n",
       "<!-- 10&#45;&gt;16 -->\r\n",
       "<g id=\"edge16\" class=\"edge\"><title>10&#45;&gt;16</title>\r\n",
       "<path fill=\"none\" stroke=\"black\" d=\"M726.792,-400.884C738.226,-389.336 751.048,-376.387 762.462,-364.86\"/>\r\n",
       "<polygon fill=\"black\" stroke=\"black\" points=\"765.181,-367.088 769.73,-357.52 760.207,-362.163 765.181,-367.088\"/>\r\n",
       "</g>\r\n",
       "<!-- 12 -->\r\n",
       "<g id=\"node13\" class=\"node\"><title>12</title>\r\n",
       "<path fill=\"#e53986\" stroke=\"black\" d=\"M563,-253.5C563,-253.5 403,-253.5 403,-253.5 397,-253.5 391,-247.5 391,-241.5 391,-241.5 391,-212.5 391,-212.5 391,-206.5 397,-200.5 403,-200.5 403,-200.5 563,-200.5 563,-200.5 569,-200.5 575,-206.5 575,-212.5 575,-212.5 575,-241.5 575,-241.5 575,-247.5 569,-253.5 563,-253.5\"/>\r\n",
       "<text text-anchor=\"start\" x=\"454\" y=\"-238.3\" font-family=\"Helvetica,sans-Serif\" font-size=\"14.00\">gini = 0.0</text>\r\n",
       "<text text-anchor=\"start\" x=\"439.5\" y=\"-223.3\" font-family=\"Helvetica,sans-Serif\" font-size=\"14.00\">samples = 15</text>\r\n",
       "<text text-anchor=\"start\" x=\"399\" y=\"-208.3\" font-family=\"Helvetica,sans-Serif\" font-size=\"14.00\">value = [0, 0, 0, 0, 0, 0, 15]</text>\r\n",
       "</g>\r\n",
       "<!-- 11&#45;&gt;12 -->\r\n",
       "<g id=\"edge12\" class=\"edge\"><title>11&#45;&gt;12</title>\r\n",
       "<path fill=\"none\" stroke=\"black\" d=\"M554.585,-296.884C542.47,-285.226 528.872,-272.141 516.807,-260.532\"/>\r\n",
       "<polygon fill=\"black\" stroke=\"black\" points=\"519.153,-257.932 509.521,-253.52 514.3,-262.976 519.153,-257.932\"/>\r\n",
       "</g>\r\n",
       "<!-- 13 -->\r\n",
       "<g id=\"node14\" class=\"node\"><title>13</title>\r\n",
       "<path fill=\"#d087ef\" stroke=\"black\" d=\"M773,-261C773,-261 605,-261 605,-261 599,-261 593,-255 593,-249 593,-249 593,-205 593,-205 593,-199 599,-193 605,-193 605,-193 773,-193 773,-193 779,-193 785,-199 785,-205 785,-205 785,-249 785,-249 785,-255 779,-261 773,-261\"/>\r\n",
       "<text text-anchor=\"start\" x=\"657.5\" y=\"-245.8\" font-family=\"Helvetica,sans-Serif\" font-size=\"14.00\">legs ≤ 7.0</text>\r\n",
       "<text text-anchor=\"start\" x=\"651.5\" y=\"-230.8\" font-family=\"Helvetica,sans-Serif\" font-size=\"14.00\">gini = 0.405</text>\r\n",
       "<text text-anchor=\"start\" x=\"645.5\" y=\"-215.8\" font-family=\"Helvetica,sans-Serif\" font-size=\"14.00\">samples = 39</text>\r\n",
       "<text text-anchor=\"start\" x=\"601\" y=\"-200.8\" font-family=\"Helvetica,sans-Serif\" font-size=\"14.00\">value = [0, 0, 0, 0, 0, 28, 11]</text>\r\n",
       "</g>\r\n",
       "<!-- 11&#45;&gt;13 -->\r\n",
       "<g id=\"edge13\" class=\"edge\"><title>11&#45;&gt;13</title>\r\n",
       "<path fill=\"none\" stroke=\"black\" d=\"M621.467,-296.884C630.287,-287.887 639.941,-278.041 649.119,-268.678\"/>\r\n",
       "<polygon fill=\"black\" stroke=\"black\" points=\"651.852,-270.89 656.354,-261.299 646.854,-265.99 651.852,-270.89\"/>\r\n",
       "</g>\r\n",
       "<!-- 14 -->\r\n",
       "<g id=\"node15\" class=\"node\"><title>14</title>\r\n",
       "<path fill=\"#c46aec\" stroke=\"black\" d=\"M573,-149.5C573,-149.5 413,-149.5 413,-149.5 407,-149.5 401,-143.5 401,-137.5 401,-137.5 401,-108.5 401,-108.5 401,-102.5 407,-96.5 413,-96.5 413,-96.5 573,-96.5 573,-96.5 579,-96.5 585,-102.5 585,-108.5 585,-108.5 585,-137.5 585,-137.5 585,-143.5 579,-149.5 573,-149.5\"/>\r\n",
       "<text text-anchor=\"start\" x=\"459.5\" y=\"-134.3\" font-family=\"Helvetica,sans-Serif\" font-size=\"14.00\">gini = 0.32</text>\r\n",
       "<text text-anchor=\"start\" x=\"449.5\" y=\"-119.3\" font-family=\"Helvetica,sans-Serif\" font-size=\"14.00\">samples = 35</text>\r\n",
       "<text text-anchor=\"start\" x=\"409\" y=\"-104.3\" font-family=\"Helvetica,sans-Serif\" font-size=\"14.00\">value = [0, 0, 0, 0, 0, 28, 7]</text>\r\n",
       "</g>\r\n",
       "<!-- 13&#45;&gt;14 -->\r\n",
       "<g id=\"edge14\" class=\"edge\"><title>13&#45;&gt;14</title>\r\n",
       "<path fill=\"none\" stroke=\"black\" d=\"M625.364,-192.884C601.484,-180.456 574.486,-166.406 551.131,-154.252\"/>\r\n",
       "<polygon fill=\"black\" stroke=\"black\" points=\"552.525,-151.032 542.038,-149.52 549.293,-157.241 552.525,-151.032\"/>\r\n",
       "</g>\r\n",
       "<!-- 15 -->\r\n",
       "<g id=\"node16\" class=\"node\"><title>15</title>\r\n",
       "<path fill=\"#e53986\" stroke=\"black\" d=\"M767,-149.5C767,-149.5 615,-149.5 615,-149.5 609,-149.5 603,-143.5 603,-137.5 603,-137.5 603,-108.5 603,-108.5 603,-102.5 609,-96.5 615,-96.5 615,-96.5 767,-96.5 767,-96.5 773,-96.5 779,-102.5 779,-108.5 779,-108.5 779,-137.5 779,-137.5 779,-143.5 773,-149.5 767,-149.5\"/>\r\n",
       "<text text-anchor=\"start\" x=\"662\" y=\"-134.3\" font-family=\"Helvetica,sans-Serif\" font-size=\"14.00\">gini = 0.0</text>\r\n",
       "<text text-anchor=\"start\" x=\"651.5\" y=\"-119.3\" font-family=\"Helvetica,sans-Serif\" font-size=\"14.00\">samples = 4</text>\r\n",
       "<text text-anchor=\"start\" x=\"611\" y=\"-104.3\" font-family=\"Helvetica,sans-Serif\" font-size=\"14.00\">value = [0, 0, 0, 0, 0, 0, 4]</text>\r\n",
       "</g>\r\n",
       "<!-- 13&#45;&gt;15 -->\r\n",
       "<g id=\"edge15\" class=\"edge\"><title>13&#45;&gt;15</title>\r\n",
       "<path fill=\"none\" stroke=\"black\" d=\"M689.649,-192.884C689.859,-182.216 690.091,-170.352 690.304,-159.519\"/>\r\n",
       "<polygon fill=\"black\" stroke=\"black\" points=\"693.803,-159.587 690.5,-149.52 686.804,-159.449 693.803,-159.587\"/>\r\n",
       "</g>\r\n",
       "<!-- 18 -->\r\n",
       "<g id=\"node19\" class=\"node\"><title>18</title>\r\n",
       "<path fill=\"#d2f9f8\" stroke=\"black\" d=\"M1085,-365C1085,-365 917,-365 917,-365 911,-365 905,-359 905,-353 905,-353 905,-309 905,-309 905,-303 911,-297 917,-297 917,-297 1085,-297 1085,-297 1091,-297 1097,-303 1097,-309 1097,-309 1097,-353 1097,-353 1097,-359 1091,-365 1085,-365\"/>\r\n",
       "<text text-anchor=\"start\" x=\"972\" y=\"-349.8\" font-family=\"Helvetica,sans-Serif\" font-size=\"14.00\">fins ≤ 0.5</text>\r\n",
       "<text text-anchor=\"start\" x=\"967.5\" y=\"-334.8\" font-family=\"Helvetica,sans-Serif\" font-size=\"14.00\">gini = 0.58</text>\r\n",
       "<text text-anchor=\"start\" x=\"957.5\" y=\"-319.8\" font-family=\"Helvetica,sans-Serif\" font-size=\"14.00\">samples = 56</text>\r\n",
       "<text text-anchor=\"start\" x=\"913\" y=\"-304.8\" font-family=\"Helvetica,sans-Serif\" font-size=\"14.00\">value = [0, 0, 21, 29, 6, 0, 0]</text>\r\n",
       "</g>\r\n",
       "<!-- 17&#45;&gt;18 -->\r\n",
       "<g id=\"edge18\" class=\"edge\"><title>17&#45;&gt;18</title>\r\n",
       "<path fill=\"none\" stroke=\"black\" d=\"M1001,-400.884C1001,-392.778 1001,-383.982 1001,-375.472\"/>\r\n",
       "<polygon fill=\"black\" stroke=\"black\" points=\"1004.5,-375.299 1001,-365.299 997.5,-375.299 1004.5,-375.299\"/>\r\n",
       "</g>\r\n",
       "<!-- 25 -->\r\n",
       "<g id=\"node26\" class=\"node\"><title>25</title>\r\n",
       "<path fill=\"#e58139\" stroke=\"black\" d=\"M1279,-357.5C1279,-357.5 1127,-357.5 1127,-357.5 1121,-357.5 1115,-351.5 1115,-345.5 1115,-345.5 1115,-316.5 1115,-316.5 1115,-310.5 1121,-304.5 1127,-304.5 1127,-304.5 1279,-304.5 1279,-304.5 1285,-304.5 1291,-310.5 1291,-316.5 1291,-316.5 1291,-345.5 1291,-345.5 1291,-351.5 1285,-357.5 1279,-357.5\"/>\r\n",
       "<text text-anchor=\"start\" x=\"1174\" y=\"-342.3\" font-family=\"Helvetica,sans-Serif\" font-size=\"14.00\">gini = 0.0</text>\r\n",
       "<text text-anchor=\"start\" x=\"1163.5\" y=\"-327.3\" font-family=\"Helvetica,sans-Serif\" font-size=\"14.00\">samples = 1</text>\r\n",
       "<text text-anchor=\"start\" x=\"1123\" y=\"-312.3\" font-family=\"Helvetica,sans-Serif\" font-size=\"14.00\">value = [1, 0, 0, 0, 0, 0, 0]</text>\r\n",
       "</g>\r\n",
       "<!-- 17&#45;&gt;25 -->\r\n",
       "<g id=\"edge25\" class=\"edge\"><title>17&#45;&gt;25</title>\r\n",
       "<path fill=\"none\" stroke=\"black\" d=\"M1066.58,-400.884C1091.3,-388.401 1119.27,-374.282 1143.41,-362.091\"/>\r\n",
       "<polygon fill=\"black\" stroke=\"black\" points=\"1145.11,-365.152 1152.46,-357.52 1141.96,-358.903 1145.11,-365.152\"/>\r\n",
       "</g>\r\n",
       "<!-- 19 -->\r\n",
       "<g id=\"node20\" class=\"node\"><title>19</title>\r\n",
       "<path fill=\"#72ec80\" stroke=\"black\" d=\"M981,-261C981,-261 821,-261 821,-261 815,-261 809,-255 809,-249 809,-249 809,-205 809,-205 809,-199 815,-193 821,-193 821,-193 981,-193 981,-193 987,-193 993,-199 993,-205 993,-205 993,-249 993,-249 993,-255 987,-261 981,-261\"/>\r\n",
       "<text text-anchor=\"start\" x=\"869.5\" y=\"-245.8\" font-family=\"Helvetica,sans-Serif\" font-size=\"14.00\">legs ≤ 2.0</text>\r\n",
       "<text text-anchor=\"start\" x=\"863.5\" y=\"-230.8\" font-family=\"Helvetica,sans-Serif\" font-size=\"14.00\">gini = 0.346</text>\r\n",
       "<text text-anchor=\"start\" x=\"857.5\" y=\"-215.8\" font-family=\"Helvetica,sans-Serif\" font-size=\"14.00\">samples = 27</text>\r\n",
       "<text text-anchor=\"start\" x=\"817\" y=\"-200.8\" font-family=\"Helvetica,sans-Serif\" font-size=\"14.00\">value = [0, 0, 21, 0, 6, 0, 0]</text>\r\n",
       "</g>\r\n",
       "<!-- 18&#45;&gt;19 -->\r\n",
       "<g id=\"edge19\" class=\"edge\"><title>18&#45;&gt;19</title>\r\n",
       "<path fill=\"none\" stroke=\"black\" d=\"M968.533,-296.884C959.713,-287.887 950.059,-278.041 940.881,-268.678\"/>\r\n",
       "<polygon fill=\"black\" stroke=\"black\" points=\"943.146,-265.99 933.646,-261.299 938.148,-270.89 943.146,-265.99\"/>\r\n",
       "</g>\r\n",
       "<!-- 24 -->\r\n",
       "<g id=\"node25\" class=\"node\"><title>24</title>\r\n",
       "<path fill=\"#39e5e2\" stroke=\"black\" d=\"M1183,-253.5C1183,-253.5 1023,-253.5 1023,-253.5 1017,-253.5 1011,-247.5 1011,-241.5 1011,-241.5 1011,-212.5 1011,-212.5 1011,-206.5 1017,-200.5 1023,-200.5 1023,-200.5 1183,-200.5 1183,-200.5 1189,-200.5 1195,-206.5 1195,-212.5 1195,-212.5 1195,-241.5 1195,-241.5 1195,-247.5 1189,-253.5 1183,-253.5\"/>\r\n",
       "<text text-anchor=\"start\" x=\"1074\" y=\"-238.3\" font-family=\"Helvetica,sans-Serif\" font-size=\"14.00\">gini = 0.0</text>\r\n",
       "<text text-anchor=\"start\" x=\"1059.5\" y=\"-223.3\" font-family=\"Helvetica,sans-Serif\" font-size=\"14.00\">samples = 29</text>\r\n",
       "<text text-anchor=\"start\" x=\"1019\" y=\"-208.3\" font-family=\"Helvetica,sans-Serif\" font-size=\"14.00\">value = [0, 0, 0, 29, 0, 0, 0]</text>\r\n",
       "</g>\r\n",
       "<!-- 18&#45;&gt;24 -->\r\n",
       "<g id=\"edge24\" class=\"edge\"><title>18&#45;&gt;24</title>\r\n",
       "<path fill=\"none\" stroke=\"black\" d=\"M1034.12,-296.884C1045.66,-285.336 1058.61,-272.387 1070.14,-260.86\"/>\r\n",
       "<polygon fill=\"black\" stroke=\"black\" points=\"1072.88,-263.066 1077.48,-253.52 1067.93,-258.116 1072.88,-263.066\"/>\r\n",
       "</g>\r\n",
       "<!-- 20 -->\r\n",
       "<g id=\"node21\" class=\"node\"><title>20</title>\r\n",
       "<path fill=\"#39e54d\" stroke=\"black\" d=\"M973,-149.5C973,-149.5 813,-149.5 813,-149.5 807,-149.5 801,-143.5 801,-137.5 801,-137.5 801,-108.5 801,-108.5 801,-102.5 807,-96.5 813,-96.5 813,-96.5 973,-96.5 973,-96.5 979,-96.5 985,-102.5 985,-108.5 985,-108.5 985,-137.5 985,-137.5 985,-143.5 979,-149.5 973,-149.5\"/>\r\n",
       "<text text-anchor=\"start\" x=\"864\" y=\"-134.3\" font-family=\"Helvetica,sans-Serif\" font-size=\"14.00\">gini = 0.0</text>\r\n",
       "<text text-anchor=\"start\" x=\"849.5\" y=\"-119.3\" font-family=\"Helvetica,sans-Serif\" font-size=\"14.00\">samples = 12</text>\r\n",
       "<text text-anchor=\"start\" x=\"809\" y=\"-104.3\" font-family=\"Helvetica,sans-Serif\" font-size=\"14.00\">value = [0, 0, 12, 0, 0, 0, 0]</text>\r\n",
       "</g>\r\n",
       "<!-- 19&#45;&gt;20 -->\r\n",
       "<g id=\"edge20\" class=\"edge\"><title>19&#45;&gt;20</title>\r\n",
       "<path fill=\"none\" stroke=\"black\" d=\"M898.403,-192.884C897.566,-182.216 896.635,-170.352 895.786,-159.519\"/>\r\n",
       "<polygon fill=\"black\" stroke=\"black\" points=\"899.273,-159.216 895.002,-149.52 892.294,-159.763 899.273,-159.216\"/>\r\n",
       "</g>\r\n",
       "<!-- 21 -->\r\n",
       "<g id=\"node22\" class=\"node\"><title>21</title>\r\n",
       "<path fill=\"#bdf6c4\" stroke=\"black\" d=\"M1167,-157C1167,-157 1015,-157 1015,-157 1009,-157 1003,-151 1003,-145 1003,-145 1003,-101 1003,-101 1003,-95 1009,-89 1015,-89 1015,-89 1167,-89 1167,-89 1173,-89 1179,-95 1179,-101 1179,-101 1179,-145 1179,-145 1179,-151 1173,-157 1167,-157\"/>\r\n",
       "<text text-anchor=\"start\" x=\"1049\" y=\"-141.8\" font-family=\"Helvetica,sans-Serif\" font-size=\"14.00\">toothed ≤ 0.5</text>\r\n",
       "<text text-anchor=\"start\" x=\"1057.5\" y=\"-126.8\" font-family=\"Helvetica,sans-Serif\" font-size=\"14.00\">gini = 0.48</text>\r\n",
       "<text text-anchor=\"start\" x=\"1047.5\" y=\"-111.8\" font-family=\"Helvetica,sans-Serif\" font-size=\"14.00\">samples = 15</text>\r\n",
       "<text text-anchor=\"start\" x=\"1011\" y=\"-96.8\" font-family=\"Helvetica,sans-Serif\" font-size=\"14.00\">value = [0, 0, 9, 0, 6, 0, 0]</text>\r\n",
       "</g>\r\n",
       "<!-- 19&#45;&gt;21 -->\r\n",
       "<g id=\"edge21\" class=\"edge\"><title>19&#45;&gt;21</title>\r\n",
       "<path fill=\"none\" stroke=\"black\" d=\"M962.688,-192.884C981.115,-182.991 1001.46,-172.07 1020.41,-161.895\"/>\r\n",
       "<polygon fill=\"black\" stroke=\"black\" points=\"1022.14,-164.938 1029.3,-157.125 1018.83,-158.771 1022.14,-164.938\"/>\r\n",
       "</g>\r\n",
       "<!-- 22 -->\r\n",
       "<g id=\"node23\" class=\"node\"><title>22</title>\r\n",
       "<path fill=\"#39e54d\" stroke=\"black\" d=\"M1070,-53C1070,-53 918,-53 918,-53 912,-53 906,-47 906,-41 906,-41 906,-12 906,-12 906,-6 912,-0 918,-0 918,-0 1070,-0 1070,-0 1076,-0 1082,-6 1082,-12 1082,-12 1082,-41 1082,-41 1082,-47 1076,-53 1070,-53\"/>\r\n",
       "<text text-anchor=\"start\" x=\"965\" y=\"-37.8\" font-family=\"Helvetica,sans-Serif\" font-size=\"14.00\">gini = 0.0</text>\r\n",
       "<text text-anchor=\"start\" x=\"954.5\" y=\"-22.8\" font-family=\"Helvetica,sans-Serif\" font-size=\"14.00\">samples = 5</text>\r\n",
       "<text text-anchor=\"start\" x=\"914\" y=\"-7.8\" font-family=\"Helvetica,sans-Serif\" font-size=\"14.00\">value = [0, 0, 5, 0, 0, 0, 0]</text>\r\n",
       "</g>\r\n",
       "<!-- 21&#45;&gt;22 -->\r\n",
       "<g id=\"edge22\" class=\"edge\"><title>21&#45;&gt;22</title>\r\n",
       "<path fill=\"none\" stroke=\"black\" d=\"M1057.07,-88.9485C1047.59,-79.709 1037.29,-69.671 1027.81,-60.4381\"/>\r\n",
       "<polygon fill=\"black\" stroke=\"black\" points=\"1030.02,-57.7079 1020.42,-53.2367 1025.14,-62.7219 1030.02,-57.7079\"/>\r\n",
       "</g>\r\n",
       "<!-- 23 -->\r\n",
       "<g id=\"node24\" class=\"node\"><title>23</title>\r\n",
       "<path fill=\"#bdc7f6\" stroke=\"black\" d=\"M1264,-53C1264,-53 1112,-53 1112,-53 1106,-53 1100,-47 1100,-41 1100,-41 1100,-12 1100,-12 1100,-6 1106,-0 1112,-0 1112,-0 1264,-0 1264,-0 1270,-0 1276,-6 1276,-12 1276,-12 1276,-41 1276,-41 1276,-47 1270,-53 1264,-53\"/>\r\n",
       "<text text-anchor=\"start\" x=\"1154.5\" y=\"-37.8\" font-family=\"Helvetica,sans-Serif\" font-size=\"14.00\">gini = 0.48</text>\r\n",
       "<text text-anchor=\"start\" x=\"1144.5\" y=\"-22.8\" font-family=\"Helvetica,sans-Serif\" font-size=\"14.00\">samples = 10</text>\r\n",
       "<text text-anchor=\"start\" x=\"1108\" y=\"-7.8\" font-family=\"Helvetica,sans-Serif\" font-size=\"14.00\">value = [0, 0, 4, 0, 6, 0, 0]</text>\r\n",
       "</g>\r\n",
       "<!-- 21&#45;&gt;23 -->\r\n",
       "<g id=\"edge23\" class=\"edge\"><title>21&#45;&gt;23</title>\r\n",
       "<path fill=\"none\" stroke=\"black\" d=\"M1124.93,-88.9485C1134.41,-79.709 1144.71,-69.671 1154.19,-60.4381\"/>\r\n",
       "<polygon fill=\"black\" stroke=\"black\" points=\"1156.86,-62.7219 1161.58,-53.2367 1151.98,-57.7079 1156.86,-62.7219\"/>\r\n",
       "</g>\r\n",
       "</g>\r\n",
       "</svg>\r\n"
      ],
      "text/plain": [
       "<graphviz.files.Source at 0x23a785ca308>"
      ]
     },
     "execution_count": 25,
     "metadata": {},
     "output_type": "execute_result"
    }
   ],
   "source": [
    "# plot the tree\n",
    "# for graphing the tree\n",
    "import graphviz as gv\n",
    "from sklearn import tree\n",
    "\n",
    "dot_data = tree.export_graphviz(model, out_file=None, filled=True, rounded = True, special_characters = True\n",
    "                               , feature_names = columns)\n",
    "graph = gv.Source(dot_data)\n",
    "graph"
   ]
  },
  {
   "cell_type": "code",
   "execution_count": 26,
   "metadata": {},
   "outputs": [
    {
     "data": {
      "text/plain": [
       "Counter({4: 38, 0: 23, 2: 27, 6: 10, 8: 2, 5: 1})"
      ]
     },
     "execution_count": 26,
     "metadata": {},
     "output_type": "execute_result"
    }
   ],
   "source": [
    "Counter(zoo_df['legs'])"
   ]
  }
 ],
 "metadata": {
  "kernelspec": {
   "display_name": "Python 3",
   "language": "python",
   "name": "python3"
  },
  "language_info": {
   "codemirror_mode": {
    "name": "ipython",
    "version": 3
   },
   "file_extension": ".py",
   "mimetype": "text/x-python",
   "name": "python",
   "nbconvert_exporter": "python",
   "pygments_lexer": "ipython3",
   "version": "3.7.4"
  }
 },
 "nbformat": 4,
 "nbformat_minor": 2
}
