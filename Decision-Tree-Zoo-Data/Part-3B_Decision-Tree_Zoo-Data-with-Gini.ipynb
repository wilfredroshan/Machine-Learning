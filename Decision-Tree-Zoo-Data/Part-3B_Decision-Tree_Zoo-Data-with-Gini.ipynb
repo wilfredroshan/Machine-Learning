{
 "cells": [
  {
   "cell_type": "markdown",
   "metadata": {},
   "source": [
    "### Data analysis and a simple decision tree example using data from https://www.kaggle.com/uciml/zoo-animal-classification\n",
    "\n",
    "### from Part-2 analysis, we know the gini index scores. Based on that we select following columns only.\n"
   ]
  },
  {
   "cell_type": "code",
   "execution_count": 1,
   "metadata": {},
   "outputs": [],
   "source": [
    "import pandas as pd"
   ]
  },
  {
   "cell_type": "markdown",
   "metadata": {},
   "source": [
    "Read the data file"
   ]
  },
  {
   "cell_type": "code",
   "execution_count": 2,
   "metadata": {},
   "outputs": [],
   "source": [
    "zoo_df = pd.read_csv(\"data\\Decision-Tree_Zoo-Data\\zoo-animal-classification\\zoo.csv\")"
   ]
  },
  {
   "cell_type": "markdown",
   "metadata": {},
   "source": [
    "Check if we are missing any data"
   ]
  },
  {
   "cell_type": "code",
   "execution_count": 3,
   "metadata": {},
   "outputs": [
    {
     "name": "stdout",
     "output_type": "stream",
     "text": [
      "<class 'pandas.core.frame.DataFrame'>\n",
      "RangeIndex: 101 entries, 0 to 100\n",
      "Data columns (total 18 columns):\n",
      "animal_name    101 non-null object\n",
      "hair           101 non-null int64\n",
      "feathers       101 non-null int64\n",
      "eggs           101 non-null int64\n",
      "milk           101 non-null int64\n",
      "airborne       101 non-null int64\n",
      "aquatic        101 non-null int64\n",
      "predator       101 non-null int64\n",
      "toothed        101 non-null int64\n",
      "backbone       101 non-null int64\n",
      "breathes       101 non-null int64\n",
      "venomous       101 non-null int64\n",
      "fins           101 non-null int64\n",
      "legs           101 non-null int64\n",
      "tail           101 non-null int64\n",
      "domestic       101 non-null int64\n",
      "catsize        101 non-null int64\n",
      "class_type     101 non-null int64\n",
      "dtypes: int64(17), object(1)\n",
      "memory usage: 14.3+ KB\n"
     ]
    }
   ],
   "source": [
    "zoo_df.info()"
   ]
  },
  {
   "cell_type": "markdown",
   "metadata": {},
   "source": [
    "animal_name is not useful in classification. remove it from data set"
   ]
  },
  {
   "cell_type": "code",
   "execution_count": 4,
   "metadata": {},
   "outputs": [
    {
     "name": "stdout",
     "output_type": "stream",
     "text": [
      "['aardvark', 'antelope', 'bass', 'bear', 'boar', 'buffalo', 'calf', 'carp', 'catfish', 'cavy', 'cheetah', 'chicken', 'chub', 'clam', 'crab', 'crayfish', 'crow', 'deer', 'dogfish', 'dolphin', 'dove', 'duck', 'elephant', 'flamingo', 'flea', 'frog', 'frog', 'fruitbat', 'giraffe', 'girl', 'gnat', 'goat', 'gorilla', 'gull', 'haddock', 'hamster', 'hare', 'hawk', 'herring', 'honeybee', 'housefly', 'kiwi', 'ladybird', 'lark', 'leopard', 'lion', 'lobster', 'lynx', 'mink', 'mole', 'mongoose', 'moth', 'newt', 'octopus', 'opossum', 'oryx', 'ostrich', 'parakeet', 'penguin', 'pheasant', 'pike', 'piranha', 'pitviper', 'platypus', 'polecat', 'pony', 'porpoise', 'puma', 'pussycat', 'raccoon', 'reindeer', 'rhea', 'scorpion', 'seahorse', 'seal', 'sealion', 'seasnake', 'seawasp', 'skimmer', 'skua', 'slowworm', 'slug', 'sole', 'sparrow', 'squirrel', 'starfish', 'stingray', 'swan', 'termite', 'toad', 'tortoise', 'tuatara', 'tuna', 'vampire', 'vole', 'vulture', 'wallaby', 'wasp', 'wolf', 'worm', 'wren']\n"
     ]
    }
   ],
   "source": [
    "animal_names = zoo_df['animal_name'].to_list()\n",
    "print(animal_names)\n",
    "zoo_df = zoo_df.drop('animal_name', axis=1)"
   ]
  },
  {
   "cell_type": "code",
   "execution_count": 5,
   "metadata": {},
   "outputs": [],
   "source": [
    "for column in zoo_df.columns:\n",
    "    zoo_df[column] = zoo_df[column].astype(\"category\")"
   ]
  },
  {
   "cell_type": "code",
   "execution_count": 6,
   "metadata": {},
   "outputs": [
    {
     "name": "stdout",
     "output_type": "stream",
     "text": [
      "<class 'pandas.core.frame.DataFrame'>\n",
      "RangeIndex: 101 entries, 0 to 100\n",
      "Data columns (total 17 columns):\n",
      "hair          101 non-null category\n",
      "feathers      101 non-null category\n",
      "eggs          101 non-null category\n",
      "milk          101 non-null category\n",
      "airborne      101 non-null category\n",
      "aquatic       101 non-null category\n",
      "predator      101 non-null category\n",
      "toothed       101 non-null category\n",
      "backbone      101 non-null category\n",
      "breathes      101 non-null category\n",
      "venomous      101 non-null category\n",
      "fins          101 non-null category\n",
      "legs          101 non-null category\n",
      "tail          101 non-null category\n",
      "domestic      101 non-null category\n",
      "catsize       101 non-null category\n",
      "class_type    101 non-null category\n",
      "dtypes: category(17)\n",
      "memory usage: 3.8 KB\n"
     ]
    }
   ],
   "source": [
    "zoo_df.info()"
   ]
  },
  {
   "cell_type": "markdown",
   "metadata": {},
   "source": [
    "A glance over the data"
   ]
  },
  {
   "cell_type": "code",
   "execution_count": 7,
   "metadata": {
    "scrolled": true
   },
   "outputs": [
    {
     "data": {
      "text/html": [
       "<div>\n",
       "<style scoped>\n",
       "    .dataframe tbody tr th:only-of-type {\n",
       "        vertical-align: middle;\n",
       "    }\n",
       "\n",
       "    .dataframe tbody tr th {\n",
       "        vertical-align: top;\n",
       "    }\n",
       "\n",
       "    .dataframe thead th {\n",
       "        text-align: right;\n",
       "    }\n",
       "</style>\n",
       "<table border=\"1\" class=\"dataframe\">\n",
       "  <thead>\n",
       "    <tr style=\"text-align: right;\">\n",
       "      <th></th>\n",
       "      <th>hair</th>\n",
       "      <th>feathers</th>\n",
       "      <th>eggs</th>\n",
       "      <th>milk</th>\n",
       "      <th>airborne</th>\n",
       "      <th>aquatic</th>\n",
       "      <th>predator</th>\n",
       "      <th>toothed</th>\n",
       "      <th>backbone</th>\n",
       "      <th>breathes</th>\n",
       "      <th>venomous</th>\n",
       "      <th>fins</th>\n",
       "      <th>legs</th>\n",
       "      <th>tail</th>\n",
       "      <th>domestic</th>\n",
       "      <th>catsize</th>\n",
       "      <th>class_type</th>\n",
       "    </tr>\n",
       "  </thead>\n",
       "  <tbody>\n",
       "    <tr>\n",
       "      <td>0</td>\n",
       "      <td>1</td>\n",
       "      <td>0</td>\n",
       "      <td>0</td>\n",
       "      <td>1</td>\n",
       "      <td>0</td>\n",
       "      <td>0</td>\n",
       "      <td>1</td>\n",
       "      <td>1</td>\n",
       "      <td>1</td>\n",
       "      <td>1</td>\n",
       "      <td>0</td>\n",
       "      <td>0</td>\n",
       "      <td>4</td>\n",
       "      <td>0</td>\n",
       "      <td>0</td>\n",
       "      <td>1</td>\n",
       "      <td>1</td>\n",
       "    </tr>\n",
       "    <tr>\n",
       "      <td>1</td>\n",
       "      <td>1</td>\n",
       "      <td>0</td>\n",
       "      <td>0</td>\n",
       "      <td>1</td>\n",
       "      <td>0</td>\n",
       "      <td>0</td>\n",
       "      <td>0</td>\n",
       "      <td>1</td>\n",
       "      <td>1</td>\n",
       "      <td>1</td>\n",
       "      <td>0</td>\n",
       "      <td>0</td>\n",
       "      <td>4</td>\n",
       "      <td>1</td>\n",
       "      <td>0</td>\n",
       "      <td>1</td>\n",
       "      <td>1</td>\n",
       "    </tr>\n",
       "    <tr>\n",
       "      <td>2</td>\n",
       "      <td>0</td>\n",
       "      <td>0</td>\n",
       "      <td>1</td>\n",
       "      <td>0</td>\n",
       "      <td>0</td>\n",
       "      <td>1</td>\n",
       "      <td>1</td>\n",
       "      <td>1</td>\n",
       "      <td>1</td>\n",
       "      <td>0</td>\n",
       "      <td>0</td>\n",
       "      <td>1</td>\n",
       "      <td>0</td>\n",
       "      <td>1</td>\n",
       "      <td>0</td>\n",
       "      <td>0</td>\n",
       "      <td>4</td>\n",
       "    </tr>\n",
       "    <tr>\n",
       "      <td>3</td>\n",
       "      <td>1</td>\n",
       "      <td>0</td>\n",
       "      <td>0</td>\n",
       "      <td>1</td>\n",
       "      <td>0</td>\n",
       "      <td>0</td>\n",
       "      <td>1</td>\n",
       "      <td>1</td>\n",
       "      <td>1</td>\n",
       "      <td>1</td>\n",
       "      <td>0</td>\n",
       "      <td>0</td>\n",
       "      <td>4</td>\n",
       "      <td>0</td>\n",
       "      <td>0</td>\n",
       "      <td>1</td>\n",
       "      <td>1</td>\n",
       "    </tr>\n",
       "    <tr>\n",
       "      <td>4</td>\n",
       "      <td>1</td>\n",
       "      <td>0</td>\n",
       "      <td>0</td>\n",
       "      <td>1</td>\n",
       "      <td>0</td>\n",
       "      <td>0</td>\n",
       "      <td>1</td>\n",
       "      <td>1</td>\n",
       "      <td>1</td>\n",
       "      <td>1</td>\n",
       "      <td>0</td>\n",
       "      <td>0</td>\n",
       "      <td>4</td>\n",
       "      <td>1</td>\n",
       "      <td>0</td>\n",
       "      <td>1</td>\n",
       "      <td>1</td>\n",
       "    </tr>\n",
       "    <tr>\n",
       "      <td>...</td>\n",
       "      <td>...</td>\n",
       "      <td>...</td>\n",
       "      <td>...</td>\n",
       "      <td>...</td>\n",
       "      <td>...</td>\n",
       "      <td>...</td>\n",
       "      <td>...</td>\n",
       "      <td>...</td>\n",
       "      <td>...</td>\n",
       "      <td>...</td>\n",
       "      <td>...</td>\n",
       "      <td>...</td>\n",
       "      <td>...</td>\n",
       "      <td>...</td>\n",
       "      <td>...</td>\n",
       "      <td>...</td>\n",
       "      <td>...</td>\n",
       "    </tr>\n",
       "    <tr>\n",
       "      <td>96</td>\n",
       "      <td>1</td>\n",
       "      <td>0</td>\n",
       "      <td>0</td>\n",
       "      <td>1</td>\n",
       "      <td>0</td>\n",
       "      <td>0</td>\n",
       "      <td>0</td>\n",
       "      <td>1</td>\n",
       "      <td>1</td>\n",
       "      <td>1</td>\n",
       "      <td>0</td>\n",
       "      <td>0</td>\n",
       "      <td>2</td>\n",
       "      <td>1</td>\n",
       "      <td>0</td>\n",
       "      <td>1</td>\n",
       "      <td>1</td>\n",
       "    </tr>\n",
       "    <tr>\n",
       "      <td>97</td>\n",
       "      <td>1</td>\n",
       "      <td>0</td>\n",
       "      <td>1</td>\n",
       "      <td>0</td>\n",
       "      <td>1</td>\n",
       "      <td>0</td>\n",
       "      <td>0</td>\n",
       "      <td>0</td>\n",
       "      <td>0</td>\n",
       "      <td>1</td>\n",
       "      <td>1</td>\n",
       "      <td>0</td>\n",
       "      <td>6</td>\n",
       "      <td>0</td>\n",
       "      <td>0</td>\n",
       "      <td>0</td>\n",
       "      <td>6</td>\n",
       "    </tr>\n",
       "    <tr>\n",
       "      <td>98</td>\n",
       "      <td>1</td>\n",
       "      <td>0</td>\n",
       "      <td>0</td>\n",
       "      <td>1</td>\n",
       "      <td>0</td>\n",
       "      <td>0</td>\n",
       "      <td>1</td>\n",
       "      <td>1</td>\n",
       "      <td>1</td>\n",
       "      <td>1</td>\n",
       "      <td>0</td>\n",
       "      <td>0</td>\n",
       "      <td>4</td>\n",
       "      <td>1</td>\n",
       "      <td>0</td>\n",
       "      <td>1</td>\n",
       "      <td>1</td>\n",
       "    </tr>\n",
       "    <tr>\n",
       "      <td>99</td>\n",
       "      <td>0</td>\n",
       "      <td>0</td>\n",
       "      <td>1</td>\n",
       "      <td>0</td>\n",
       "      <td>0</td>\n",
       "      <td>0</td>\n",
       "      <td>0</td>\n",
       "      <td>0</td>\n",
       "      <td>0</td>\n",
       "      <td>1</td>\n",
       "      <td>0</td>\n",
       "      <td>0</td>\n",
       "      <td>0</td>\n",
       "      <td>0</td>\n",
       "      <td>0</td>\n",
       "      <td>0</td>\n",
       "      <td>7</td>\n",
       "    </tr>\n",
       "    <tr>\n",
       "      <td>100</td>\n",
       "      <td>0</td>\n",
       "      <td>1</td>\n",
       "      <td>1</td>\n",
       "      <td>0</td>\n",
       "      <td>1</td>\n",
       "      <td>0</td>\n",
       "      <td>0</td>\n",
       "      <td>0</td>\n",
       "      <td>1</td>\n",
       "      <td>1</td>\n",
       "      <td>0</td>\n",
       "      <td>0</td>\n",
       "      <td>2</td>\n",
       "      <td>1</td>\n",
       "      <td>0</td>\n",
       "      <td>0</td>\n",
       "      <td>2</td>\n",
       "    </tr>\n",
       "  </tbody>\n",
       "</table>\n",
       "<p>101 rows × 17 columns</p>\n",
       "</div>"
      ],
      "text/plain": [
       "    hair feathers eggs milk airborne aquatic predator toothed backbone  \\\n",
       "0      1        0    0    1        0       0        1       1        1   \n",
       "1      1        0    0    1        0       0        0       1        1   \n",
       "2      0        0    1    0        0       1        1       1        1   \n",
       "3      1        0    0    1        0       0        1       1        1   \n",
       "4      1        0    0    1        0       0        1       1        1   \n",
       "..   ...      ...  ...  ...      ...     ...      ...     ...      ...   \n",
       "96     1        0    0    1        0       0        0       1        1   \n",
       "97     1        0    1    0        1       0        0       0        0   \n",
       "98     1        0    0    1        0       0        1       1        1   \n",
       "99     0        0    1    0        0       0        0       0        0   \n",
       "100    0        1    1    0        1       0        0       0        1   \n",
       "\n",
       "    breathes venomous fins legs tail domestic catsize class_type  \n",
       "0          1        0    0    4    0        0       1          1  \n",
       "1          1        0    0    4    1        0       1          1  \n",
       "2          0        0    1    0    1        0       0          4  \n",
       "3          1        0    0    4    0        0       1          1  \n",
       "4          1        0    0    4    1        0       1          1  \n",
       "..       ...      ...  ...  ...  ...      ...     ...        ...  \n",
       "96         1        0    0    2    1        0       1          1  \n",
       "97         1        1    0    6    0        0       0          6  \n",
       "98         1        0    0    4    1        0       1          1  \n",
       "99         1        0    0    0    0        0       0          7  \n",
       "100        1        0    0    2    1        0       0          2  \n",
       "\n",
       "[101 rows x 17 columns]"
      ]
     },
     "execution_count": 7,
     "metadata": {},
     "output_type": "execute_result"
    }
   ],
   "source": [
    "zoo_df"
   ]
  },
  {
   "cell_type": "code",
   "execution_count": 8,
   "metadata": {},
   "outputs": [
    {
     "data": {
      "text/html": [
       "<div>\n",
       "<style scoped>\n",
       "    .dataframe tbody tr th:only-of-type {\n",
       "        vertical-align: middle;\n",
       "    }\n",
       "\n",
       "    .dataframe tbody tr th {\n",
       "        vertical-align: top;\n",
       "    }\n",
       "\n",
       "    .dataframe thead th {\n",
       "        text-align: right;\n",
       "    }\n",
       "</style>\n",
       "<table border=\"1\" class=\"dataframe\">\n",
       "  <thead>\n",
       "    <tr style=\"text-align: right;\">\n",
       "      <th></th>\n",
       "      <th>class_type</th>\n",
       "    </tr>\n",
       "    <tr>\n",
       "      <th>catsize</th>\n",
       "      <th></th>\n",
       "    </tr>\n",
       "  </thead>\n",
       "  <tbody>\n",
       "    <tr>\n",
       "      <td>0</td>\n",
       "      <td>57</td>\n",
       "    </tr>\n",
       "    <tr>\n",
       "      <td>1</td>\n",
       "      <td>44</td>\n",
       "    </tr>\n",
       "  </tbody>\n",
       "</table>\n",
       "</div>"
      ],
      "text/plain": [
       "         class_type\n",
       "catsize            \n",
       "0                57\n",
       "1                44"
      ]
     },
     "execution_count": 8,
     "metadata": {},
     "output_type": "execute_result"
    }
   ],
   "source": [
    "zoo_df[['catsize', 'class_type']].groupby('catsize').count()"
   ]
  },
  {
   "cell_type": "markdown",
   "metadata": {},
   "source": [
    "## Split the data into training and testing sets"
   ]
  },
  {
   "cell_type": "code",
   "execution_count": 9,
   "metadata": {},
   "outputs": [],
   "source": [
    "from sklearn.model_selection import train_test_split\n",
    "from imblearn.over_sampling import SMOTE\n",
    "from imblearn.over_sampling import RandomOverSampler"
   ]
  },
  {
   "cell_type": "code",
   "execution_count": 10,
   "metadata": {},
   "outputs": [],
   "source": [
    "# copy X columns\n",
    "columns = [\"legs\", \"milk\", \"fins\", \"toothed\", \"backbone\"]\n",
    "X = zoo_df[columns]\n",
    "# copy Y column (class)\n",
    "y = zoo_df['class_type']"
   ]
  },
  {
   "cell_type": "code",
   "execution_count": 11,
   "metadata": {},
   "outputs": [],
   "source": [
    "#oversampler = SMOTE(k_neighbors=1)\n",
    "oversampler = RandomOverSampler()\n",
    "X, y = oversampler.fit_resample(X, y)"
   ]
  },
  {
   "cell_type": "code",
   "execution_count": 12,
   "metadata": {},
   "outputs": [],
   "source": [
    "# split the data (70-30 split)\n",
    "train_X, test_X, train_Y, test_Y = train_test_split(X, y, test_size = 0.30, stratify = y)"
   ]
  },
  {
   "cell_type": "code",
   "execution_count": 13,
   "metadata": {},
   "outputs": [
    {
     "data": {
      "text/plain": [
       "array([[0, 0, 1, 1, 1],\n",
       "       [0, 0, 0, 1, 1],\n",
       "       [4, 0, 0, 0, 0],\n",
       "       [6, 0, 0, 0, 0],\n",
       "       [2, 1, 0, 1, 1],\n",
       "       [5, 0, 0, 0, 0],\n",
       "       [5, 0, 0, 0, 0],\n",
       "       [6, 0, 0, 0, 0],\n",
       "       [2, 0, 0, 0, 1],\n",
       "       [4, 0, 0, 1, 1],\n",
       "       [0, 0, 0, 1, 1],\n",
       "       [4, 1, 0, 1, 1],\n",
       "       [2, 0, 0, 0, 1],\n",
       "       [0, 0, 1, 1, 1],\n",
       "       [2, 0, 0, 0, 1],\n",
       "       [4, 1, 0, 1, 1],\n",
       "       [5, 0, 0, 0, 0],\n",
       "       [2, 1, 0, 1, 1],\n",
       "       [4, 0, 0, 1, 1],\n",
       "       [6, 0, 0, 0, 0],\n",
       "       [4, 1, 0, 1, 1],\n",
       "       [0, 0, 1, 1, 1],\n",
       "       [4, 1, 0, 1, 1],\n",
       "       [0, 0, 1, 1, 1],\n",
       "       [6, 0, 0, 0, 0],\n",
       "       [4, 0, 0, 0, 1],\n",
       "       [4, 0, 0, 1, 1],\n",
       "       [0, 0, 0, 1, 1],\n",
       "       [4, 0, 0, 1, 1],\n",
       "       [2, 0, 0, 0, 1],\n",
       "       [2, 1, 0, 1, 1],\n",
       "       [4, 0, 0, 1, 1],\n",
       "       [4, 0, 0, 1, 1],\n",
       "       [4, 0, 0, 1, 1],\n",
       "       [0, 1, 1, 1, 1],\n",
       "       [4, 0, 0, 1, 1],\n",
       "       [5, 0, 0, 0, 0],\n",
       "       [0, 0, 0, 0, 0],\n",
       "       [0, 0, 1, 1, 1],\n",
       "       [4, 1, 0, 1, 1],\n",
       "       [6, 0, 0, 0, 0],\n",
       "       [2, 0, 0, 0, 1],\n",
       "       [6, 0, 0, 0, 0],\n",
       "       [4, 0, 0, 1, 1],\n",
       "       [0, 0, 0, 1, 1],\n",
       "       [0, 0, 0, 1, 1],\n",
       "       [4, 0, 0, 1, 1],\n",
       "       [4, 0, 0, 0, 1],\n",
       "       [0, 0, 0, 0, 0],\n",
       "       [4, 1, 0, 1, 1],\n",
       "       [6, 0, 0, 0, 0],\n",
       "       [4, 1, 0, 1, 1],\n",
       "       [0, 0, 0, 0, 0],\n",
       "       [0, 0, 0, 1, 1],\n",
       "       [2, 0, 0, 0, 1],\n",
       "       [4, 0, 0, 1, 1],\n",
       "       [0, 0, 1, 1, 1],\n",
       "       [4, 1, 0, 1, 1],\n",
       "       [4, 1, 0, 1, 1],\n",
       "       [4, 0, 0, 1, 1],\n",
       "       [0, 0, 1, 1, 1],\n",
       "       [4, 0, 0, 0, 0],\n",
       "       [0, 0, 0, 1, 1],\n",
       "       [4, 1, 0, 1, 1],\n",
       "       [6, 0, 0, 0, 0],\n",
       "       [4, 1, 0, 1, 1],\n",
       "       [0, 0, 0, 1, 1],\n",
       "       [4, 0, 0, 1, 1],\n",
       "       [6, 0, 0, 0, 0],\n",
       "       [4, 0, 0, 1, 1],\n",
       "       [6, 0, 0, 0, 0],\n",
       "       [4, 1, 0, 1, 1],\n",
       "       [4, 0, 0, 1, 1],\n",
       "       [6, 0, 0, 0, 0],\n",
       "       [6, 0, 0, 0, 0],\n",
       "       [5, 0, 0, 0, 0],\n",
       "       [0, 0, 1, 1, 1],\n",
       "       [5, 0, 0, 0, 0],\n",
       "       [4, 1, 0, 1, 1],\n",
       "       [2, 0, 0, 0, 1],\n",
       "       [6, 0, 0, 0, 0],\n",
       "       [2, 0, 0, 0, 1],\n",
       "       [2, 0, 0, 0, 1],\n",
       "       [0, 0, 0, 1, 1],\n",
       "       [2, 0, 0, 0, 1],\n",
       "       [4, 0, 0, 1, 1],\n",
       "       [6, 0, 0, 0, 0],\n",
       "       [0, 0, 1, 1, 1],\n",
       "       [6, 0, 0, 0, 0],\n",
       "       [4, 0, 0, 1, 1],\n",
       "       [4, 0, 0, 1, 1],\n",
       "       [2, 0, 0, 0, 1],\n",
       "       [2, 0, 0, 0, 1],\n",
       "       [4, 0, 0, 0, 1],\n",
       "       [4, 0, 0, 0, 1],\n",
       "       [0, 0, 0, 1, 1],\n",
       "       [6, 0, 0, 0, 0],\n",
       "       [0, 0, 1, 1, 1],\n",
       "       [0, 1, 1, 1, 1],\n",
       "       [0, 0, 0, 0, 0],\n",
       "       [0, 0, 0, 0, 0],\n",
       "       [4, 1, 0, 1, 1],\n",
       "       [4, 0, 0, 0, 1],\n",
       "       [4, 0, 0, 1, 1],\n",
       "       [0, 0, 1, 1, 1],\n",
       "       [4, 0, 0, 1, 1],\n",
       "       [4, 0, 0, 1, 1],\n",
       "       [0, 0, 0, 0, 0],\n",
       "       [2, 0, 0, 0, 1],\n",
       "       [2, 0, 0, 0, 1],\n",
       "       [2, 0, 0, 0, 1],\n",
       "       [0, 0, 0, 0, 0],\n",
       "       [0, 0, 1, 1, 1],\n",
       "       [6, 0, 0, 0, 0],\n",
       "       [2, 0, 0, 0, 1],\n",
       "       [6, 0, 0, 0, 0],\n",
       "       [2, 0, 0, 0, 1],\n",
       "       [4, 0, 0, 1, 1],\n",
       "       [0, 0, 1, 1, 1],\n",
       "       [4, 0, 0, 0, 1],\n",
       "       [4, 0, 0, 1, 1],\n",
       "       [4, 1, 0, 1, 1],\n",
       "       [6, 0, 0, 0, 0],\n",
       "       [8, 0, 0, 0, 0],\n",
       "       [6, 0, 0, 0, 0],\n",
       "       [2, 0, 0, 0, 1],\n",
       "       [6, 0, 0, 0, 0],\n",
       "       [0, 0, 0, 1, 1],\n",
       "       [0, 0, 1, 1, 1],\n",
       "       [2, 0, 0, 0, 1],\n",
       "       [0, 0, 1, 1, 1],\n",
       "       [2, 0, 0, 0, 1],\n",
       "       [2, 0, 0, 0, 1],\n",
       "       [4, 0, 0, 1, 1],\n",
       "       [0, 0, 1, 1, 1],\n",
       "       [2, 1, 0, 1, 1],\n",
       "       [2, 0, 0, 0, 1],\n",
       "       [2, 0, 0, 0, 1],\n",
       "       [0, 0, 0, 0, 0],\n",
       "       [4, 0, 0, 1, 1],\n",
       "       [0, 0, 0, 1, 1],\n",
       "       [0, 0, 1, 1, 1],\n",
       "       [4, 0, 0, 1, 1],\n",
       "       [4, 1, 0, 1, 1],\n",
       "       [0, 0, 0, 0, 0],\n",
       "       [6, 0, 0, 0, 0],\n",
       "       [4, 0, 0, 1, 1],\n",
       "       [4, 1, 0, 1, 1],\n",
       "       [2, 0, 0, 0, 1],\n",
       "       [4, 0, 0, 1, 1],\n",
       "       [4, 0, 0, 1, 1],\n",
       "       [2, 0, 0, 0, 1],\n",
       "       [0, 0, 1, 1, 1],\n",
       "       [0, 0, 0, 1, 1],\n",
       "       [0, 0, 1, 1, 1],\n",
       "       [6, 0, 0, 0, 0],\n",
       "       [0, 0, 1, 1, 1],\n",
       "       [6, 0, 0, 0, 0],\n",
       "       [4, 0, 0, 0, 0],\n",
       "       [4, 0, 0, 1, 1],\n",
       "       [8, 0, 0, 0, 0],\n",
       "       [4, 0, 0, 1, 1],\n",
       "       [0, 0, 1, 1, 1],\n",
       "       [6, 0, 0, 0, 0],\n",
       "       [0, 0, 1, 1, 1],\n",
       "       [0, 0, 1, 1, 1],\n",
       "       [4, 1, 0, 1, 1],\n",
       "       [0, 0, 1, 1, 1],\n",
       "       [6, 0, 0, 0, 0],\n",
       "       [2, 1, 0, 1, 1],\n",
       "       [0, 0, 0, 0, 0],\n",
       "       [6, 0, 0, 0, 0],\n",
       "       [0, 0, 1, 1, 1],\n",
       "       [6, 0, 0, 0, 0],\n",
       "       [4, 0, 0, 1, 1],\n",
       "       [0, 0, 1, 1, 1],\n",
       "       [0, 0, 0, 1, 1],\n",
       "       [2, 0, 0, 0, 1],\n",
       "       [4, 1, 0, 1, 1],\n",
       "       [4, 1, 0, 1, 1],\n",
       "       [2, 0, 0, 0, 1],\n",
       "       [6, 0, 0, 0, 0],\n",
       "       [6, 0, 0, 0, 0],\n",
       "       [6, 0, 0, 0, 0],\n",
       "       [0, 0, 0, 0, 0],\n",
       "       [0, 0, 1, 1, 1],\n",
       "       [2, 0, 0, 0, 1],\n",
       "       [4, 0, 0, 1, 1],\n",
       "       [8, 0, 0, 0, 0],\n",
       "       [0, 0, 1, 1, 1],\n",
       "       [4, 0, 0, 1, 1],\n",
       "       [6, 0, 0, 0, 0],\n",
       "       [4, 1, 0, 1, 1],\n",
       "       [6, 0, 0, 0, 0],\n",
       "       [2, 0, 0, 0, 1],\n",
       "       [4, 0, 0, 1, 1],\n",
       "       [4, 0, 0, 1, 1],\n",
       "       [6, 0, 0, 0, 0],\n",
       "       [4, 0, 0, 0, 1],\n",
       "       [8, 0, 0, 0, 0]], dtype=object)"
      ]
     },
     "execution_count": 13,
     "metadata": {},
     "output_type": "execute_result"
    }
   ],
   "source": [
    "train_X"
   ]
  },
  {
   "cell_type": "markdown",
   "metadata": {},
   "source": [
    "Build the machine learning model"
   ]
  },
  {
   "cell_type": "code",
   "execution_count": 14,
   "metadata": {},
   "outputs": [],
   "source": [
    "from sklearn.tree import DecisionTreeClassifier"
   ]
  },
  {
   "cell_type": "code",
   "execution_count": 15,
   "metadata": {},
   "outputs": [
    {
     "data": {
      "text/plain": [
       "DecisionTreeClassifier(class_weight=None, criterion='gini', max_depth=None,\n",
       "                       max_features=1, max_leaf_nodes=None,\n",
       "                       min_impurity_decrease=0.0, min_impurity_split=None,\n",
       "                       min_samples_leaf=1, min_samples_split=2,\n",
       "                       min_weight_fraction_leaf=0.0, presort=False,\n",
       "                       random_state=None, splitter='best')"
      ]
     },
     "execution_count": 15,
     "metadata": {},
     "output_type": "execute_result"
    }
   ],
   "source": [
    "model = DecisionTreeClassifier(criterion=\"gini\", max_features=1)\n",
    "model.fit(train_X, train_Y)"
   ]
  },
  {
   "cell_type": "code",
   "execution_count": 16,
   "metadata": {},
   "outputs": [
    {
     "name": "stdout",
     "output_type": "stream",
     "text": [
      "Impurity measures  [0.8571     0.83328826 0.5        0.         0.36149584 0.25086505\n",
      " 0.         0.74992305 0.3132716  0.         0.         0.66272189\n",
      " 0.44444444 0.         0.         0.34567901 0.        ]\n"
     ]
    }
   ],
   "source": [
    "print(\"Impurity measures \", model.tree_.impurity)"
   ]
  },
  {
   "cell_type": "markdown",
   "metadata": {},
   "source": [
    "Predict the class of test data"
   ]
  },
  {
   "cell_type": "code",
   "execution_count": 17,
   "metadata": {},
   "outputs": [],
   "source": [
    "y_predicted = model.predict(test_X)"
   ]
  },
  {
   "cell_type": "markdown",
   "metadata": {},
   "source": [
    "How good is the model?\n",
    "check accuracy"
   ]
  },
  {
   "cell_type": "code",
   "execution_count": 18,
   "metadata": {},
   "outputs": [],
   "source": [
    "from sklearn.metrics import accuracy_score"
   ]
  },
  {
   "cell_type": "code",
   "execution_count": 19,
   "metadata": {},
   "outputs": [
    {
     "name": "stdout",
     "output_type": "stream",
     "text": [
      "0.9655172413793104\n"
     ]
    }
   ],
   "source": [
    "print(accuracy_score(test_Y, y_predicted))"
   ]
  },
  {
   "cell_type": "markdown",
   "metadata": {},
   "source": [
    "Build confusion matrix"
   ]
  },
  {
   "cell_type": "code",
   "execution_count": 20,
   "metadata": {},
   "outputs": [],
   "source": [
    "from sklearn.metrics import confusion_matrix"
   ]
  },
  {
   "cell_type": "code",
   "execution_count": 21,
   "metadata": {},
   "outputs": [
    {
     "name": "stdout",
     "output_type": "stream",
     "text": [
      "[[13  0  0  0  0  0  0]\n",
      " [ 0 12  0  0  0  0  0]\n",
      " [ 0  0 10  0  2  0  0]\n",
      " [ 0  0  0 13  0  0  0]\n",
      " [ 0  0  0  0 13  0  0]\n",
      " [ 0  0  0  0  0 12  0]\n",
      " [ 0  0  0  0  0  1 11]]\n"
     ]
    }
   ],
   "source": [
    "c_matrix = confusion_matrix(test_Y, y_predicted)\n",
    "print(c_matrix)"
   ]
  },
  {
   "cell_type": "code",
   "execution_count": 22,
   "metadata": {},
   "outputs": [],
   "source": [
    "from collections import Counter"
   ]
  },
  {
   "cell_type": "code",
   "execution_count": 23,
   "metadata": {},
   "outputs": [
    {
     "name": "stdout",
     "output_type": "stream",
     "text": [
      "Counter({1: 13, 4: 13, 5: 13, 6: 12, 3: 12, 7: 12, 2: 12})\n"
     ]
    }
   ],
   "source": [
    "print(Counter(test_Y))"
   ]
  },
  {
   "cell_type": "code",
   "execution_count": 24,
   "metadata": {},
   "outputs": [
    {
     "name": "stdout",
     "output_type": "stream",
     "text": [
      "Counter({5: 15, 6: 13, 1: 13, 4: 13, 2: 12, 7: 11, 3: 10})\n"
     ]
    }
   ],
   "source": [
    "print(Counter(y_predicted))"
   ]
  },
  {
   "cell_type": "code",
   "execution_count": 25,
   "metadata": {},
   "outputs": [
    {
     "data": {
      "image/svg+xml": [
       "<?xml version=\"1.0\" encoding=\"UTF-8\" standalone=\"no\"?>\r\n",
       "<!DOCTYPE svg PUBLIC \"-//W3C//DTD SVG 1.1//EN\"\r\n",
       " \"http://www.w3.org/Graphics/SVG/1.1/DTD/svg11.dtd\">\r\n",
       "<!-- Generated by graphviz version 2.38.0 (20140413.2041)\r\n",
       " -->\r\n",
       "<!-- Title: Tree Pages: 1 -->\r\n",
       "<svg width=\"1198pt\" height=\"581pt\"\r\n",
       " viewBox=\"0.00 0.00 1198.00 581.00\" xmlns=\"http://www.w3.org/2000/svg\" xmlns:xlink=\"http://www.w3.org/1999/xlink\">\r\n",
       "<g id=\"graph0\" class=\"graph\" transform=\"scale(1 1) rotate(0) translate(4 577)\">\r\n",
       "<title>Tree</title>\r\n",
       "<polygon fill=\"white\" stroke=\"none\" points=\"-4,4 -4,-577 1194,-577 1194,4 -4,4\"/>\r\n",
       "<!-- 0 -->\r\n",
       "<g id=\"node1\" class=\"node\"><title>0</title>\r\n",
       "<path fill=\"#ffffff\" stroke=\"black\" d=\"M660.5,-573C660.5,-573 451.5,-573 451.5,-573 445.5,-573 439.5,-567 439.5,-561 439.5,-561 439.5,-517 439.5,-517 439.5,-511 445.5,-505 451.5,-505 451.5,-505 660.5,-505 660.5,-505 666.5,-505 672.5,-511 672.5,-517 672.5,-517 672.5,-561 672.5,-561 672.5,-567 666.5,-573 660.5,-573\"/>\r\n",
       "<text text-anchor=\"start\" x=\"525.5\" y=\"-557.8\" font-family=\"Helvetica,sans-Serif\" font-size=\"14.00\">milk ≤ 0.5</text>\r\n",
       "<text text-anchor=\"start\" x=\"518.5\" y=\"-542.8\" font-family=\"Helvetica,sans-Serif\" font-size=\"14.00\">gini = 0.857</text>\r\n",
       "<text text-anchor=\"start\" x=\"508.5\" y=\"-527.8\" font-family=\"Helvetica,sans-Serif\" font-size=\"14.00\">samples = 200</text>\r\n",
       "<text text-anchor=\"start\" x=\"447.5\" y=\"-512.8\" font-family=\"Helvetica,sans-Serif\" font-size=\"14.00\">value = [28, 29, 29, 28, 28, 29, 29]</text>\r\n",
       "</g>\r\n",
       "<!-- 1 -->\r\n",
       "<g id=\"node2\" class=\"node\"><title>1</title>\r\n",
       "<path fill=\"#ffffff\" stroke=\"black\" d=\"M545.5,-469C545.5,-469 344.5,-469 344.5,-469 338.5,-469 332.5,-463 332.5,-457 332.5,-457 332.5,-413 332.5,-413 332.5,-407 338.5,-401 344.5,-401 344.5,-401 545.5,-401 545.5,-401 551.5,-401 557.5,-407 557.5,-413 557.5,-413 557.5,-457 557.5,-457 557.5,-463 551.5,-469 545.5,-469\"/>\r\n",
       "<text text-anchor=\"start\" x=\"396\" y=\"-453.8\" font-family=\"Helvetica,sans-Serif\" font-size=\"14.00\">backbone ≤ 0.5</text>\r\n",
       "<text text-anchor=\"start\" x=\"407.5\" y=\"-438.8\" font-family=\"Helvetica,sans-Serif\" font-size=\"14.00\">gini = 0.833</text>\r\n",
       "<text text-anchor=\"start\" x=\"397.5\" y=\"-423.8\" font-family=\"Helvetica,sans-Serif\" font-size=\"14.00\">samples = 172</text>\r\n",
       "<text text-anchor=\"start\" x=\"340.5\" y=\"-408.8\" font-family=\"Helvetica,sans-Serif\" font-size=\"14.00\">value = [0, 29, 29, 28, 28, 29, 29]</text>\r\n",
       "</g>\r\n",
       "<!-- 0&#45;&gt;1 -->\r\n",
       "<g id=\"edge1\" class=\"edge\"><title>0&#45;&gt;1</title>\r\n",
       "<path fill=\"none\" stroke=\"black\" d=\"M519.961,-504.884C509.977,-495.709 499.031,-485.65 488.663,-476.123\"/>\r\n",
       "<polygon fill=\"black\" stroke=\"black\" points=\"490.969,-473.488 481.238,-469.299 486.233,-478.643 490.969,-473.488\"/>\r\n",
       "<text text-anchor=\"middle\" x=\"482.293\" y=\"-490.577\" font-family=\"Helvetica,sans-Serif\" font-size=\"14.00\">True</text>\r\n",
       "</g>\r\n",
       "<!-- 16 -->\r\n",
       "<g id=\"node17\" class=\"node\"><title>16</title>\r\n",
       "<path fill=\"#e58139\" stroke=\"black\" d=\"M748,-461.5C748,-461.5 588,-461.5 588,-461.5 582,-461.5 576,-455.5 576,-449.5 576,-449.5 576,-420.5 576,-420.5 576,-414.5 582,-408.5 588,-408.5 588,-408.5 748,-408.5 748,-408.5 754,-408.5 760,-414.5 760,-420.5 760,-420.5 760,-449.5 760,-449.5 760,-455.5 754,-461.5 748,-461.5\"/>\r\n",
       "<text text-anchor=\"start\" x=\"639\" y=\"-446.3\" font-family=\"Helvetica,sans-Serif\" font-size=\"14.00\">gini = 0.0</text>\r\n",
       "<text text-anchor=\"start\" x=\"624.5\" y=\"-431.3\" font-family=\"Helvetica,sans-Serif\" font-size=\"14.00\">samples = 28</text>\r\n",
       "<text text-anchor=\"start\" x=\"584\" y=\"-416.3\" font-family=\"Helvetica,sans-Serif\" font-size=\"14.00\">value = [28, 0, 0, 0, 0, 0, 0]</text>\r\n",
       "</g>\r\n",
       "<!-- 0&#45;&gt;16 -->\r\n",
       "<g id=\"edge16\" class=\"edge\"><title>0&#45;&gt;16</title>\r\n",
       "<path fill=\"none\" stroke=\"black\" d=\"M592.363,-504.884C605.164,-493.226 619.532,-480.141 632.279,-468.532\"/>\r\n",
       "<polygon fill=\"black\" stroke=\"black\" points=\"634.941,-470.841 639.978,-461.52 630.228,-465.666 634.941,-470.841\"/>\r\n",
       "<text text-anchor=\"middle\" x=\"638.811\" y=\"-482.793\" font-family=\"Helvetica,sans-Serif\" font-size=\"14.00\">False</text>\r\n",
       "</g>\r\n",
       "<!-- 2 -->\r\n",
       "<g id=\"node3\" class=\"node\"><title>2</title>\r\n",
       "<path fill=\"#ffffff\" stroke=\"black\" d=\"M378,-365C378,-365 210,-365 210,-365 204,-365 198,-359 198,-353 198,-353 198,-309 198,-309 198,-303 204,-297 210,-297 210,-297 378,-297 378,-297 384,-297 390,-303 390,-309 390,-309 390,-353 390,-353 390,-359 384,-365 378,-365\"/>\r\n",
       "<text text-anchor=\"start\" x=\"262.5\" y=\"-349.8\" font-family=\"Helvetica,sans-Serif\" font-size=\"14.00\">legs ≤ 5.5</text>\r\n",
       "<text text-anchor=\"start\" x=\"265\" y=\"-334.8\" font-family=\"Helvetica,sans-Serif\" font-size=\"14.00\">gini = 0.5</text>\r\n",
       "<text text-anchor=\"start\" x=\"250.5\" y=\"-319.8\" font-family=\"Helvetica,sans-Serif\" font-size=\"14.00\">samples = 58</text>\r\n",
       "<text text-anchor=\"start\" x=\"206\" y=\"-304.8\" font-family=\"Helvetica,sans-Serif\" font-size=\"14.00\">value = [0, 0, 0, 0, 0, 29, 29]</text>\r\n",
       "</g>\r\n",
       "<!-- 1&#45;&gt;2 -->\r\n",
       "<g id=\"edge2\" class=\"edge\"><title>1&#45;&gt;2</title>\r\n",
       "<path fill=\"none\" stroke=\"black\" d=\"M395.975,-400.884C381.793,-391.304 366.185,-380.761 351.535,-370.864\"/>\r\n",
       "<polygon fill=\"black\" stroke=\"black\" points=\"353.283,-367.822 343.038,-365.125 349.365,-373.623 353.283,-367.822\"/>\r\n",
       "</g>\r\n",
       "<!-- 7 -->\r\n",
       "<g id=\"node8\" class=\"node\"><title>7</title>\r\n",
       "<path fill=\"#ffffff\" stroke=\"black\" d=\"M689.5,-365C689.5,-365 504.5,-365 504.5,-365 498.5,-365 492.5,-359 492.5,-353 492.5,-353 492.5,-309 492.5,-309 492.5,-303 498.5,-297 504.5,-297 504.5,-297 689.5,-297 689.5,-297 695.5,-297 701.5,-303 701.5,-309 701.5,-309 701.5,-353 701.5,-353 701.5,-359 695.5,-365 689.5,-365\"/>\r\n",
       "<text text-anchor=\"start\" x=\"555\" y=\"-349.8\" font-family=\"Helvetica,sans-Serif\" font-size=\"14.00\">toothed ≤ 0.5</text>\r\n",
       "<text text-anchor=\"start\" x=\"563.5\" y=\"-334.8\" font-family=\"Helvetica,sans-Serif\" font-size=\"14.00\">gini = 0.75</text>\r\n",
       "<text text-anchor=\"start\" x=\"549.5\" y=\"-319.8\" font-family=\"Helvetica,sans-Serif\" font-size=\"14.00\">samples = 114</text>\r\n",
       "<text text-anchor=\"start\" x=\"500.5\" y=\"-304.8\" font-family=\"Helvetica,sans-Serif\" font-size=\"14.00\">value = [0, 29, 29, 28, 28, 0, 0]</text>\r\n",
       "</g>\r\n",
       "<!-- 1&#45;&gt;7 -->\r\n",
       "<g id=\"edge7\" class=\"edge\"><title>1&#45;&gt;7</title>\r\n",
       "<path fill=\"none\" stroke=\"black\" d=\"M494.35,-400.884C508.625,-391.304 524.337,-380.761 539.084,-370.864\"/>\r\n",
       "<polygon fill=\"black\" stroke=\"black\" points=\"541.284,-373.603 547.638,-365.125 537.384,-367.791 541.284,-373.603\"/>\r\n",
       "</g>\r\n",
       "<!-- 3 -->\r\n",
       "<g id=\"node4\" class=\"node\"><title>3</title>\r\n",
       "<path fill=\"#e53986\" stroke=\"black\" d=\"M172,-253.5C172,-253.5 12,-253.5 12,-253.5 6,-253.5 0,-247.5 0,-241.5 0,-241.5 0,-212.5 0,-212.5 0,-206.5 6,-200.5 12,-200.5 12,-200.5 172,-200.5 172,-200.5 178,-200.5 184,-206.5 184,-212.5 184,-212.5 184,-241.5 184,-241.5 184,-247.5 178,-253.5 172,-253.5\"/>\r\n",
       "<text text-anchor=\"start\" x=\"63\" y=\"-238.3\" font-family=\"Helvetica,sans-Serif\" font-size=\"14.00\">gini = 0.0</text>\r\n",
       "<text text-anchor=\"start\" x=\"48.5\" y=\"-223.3\" font-family=\"Helvetica,sans-Serif\" font-size=\"14.00\">samples = 20</text>\r\n",
       "<text text-anchor=\"start\" x=\"8\" y=\"-208.3\" font-family=\"Helvetica,sans-Serif\" font-size=\"14.00\">value = [0, 0, 0, 0, 0, 0, 20]</text>\r\n",
       "</g>\r\n",
       "<!-- 2&#45;&gt;3 -->\r\n",
       "<g id=\"edge3\" class=\"edge\"><title>2&#45;&gt;3</title>\r\n",
       "<path fill=\"none\" stroke=\"black\" d=\"M228.416,-296.884C203.696,-284.401 175.735,-270.282 151.591,-258.091\"/>\r\n",
       "<polygon fill=\"black\" stroke=\"black\" points=\"153.044,-254.903 142.539,-253.52 149.888,-261.152 153.044,-254.903\"/>\r\n",
       "</g>\r\n",
       "<!-- 4 -->\r\n",
       "<g id=\"node5\" class=\"node\"><title>4</title>\r\n",
       "<path fill=\"#c976ed\" stroke=\"black\" d=\"M374,-261C374,-261 214,-261 214,-261 208,-261 202,-255 202,-249 202,-249 202,-205 202,-205 202,-199 208,-193 214,-193 214,-193 374,-193 374,-193 380,-193 386,-199 386,-205 386,-205 386,-249 386,-249 386,-255 380,-261 374,-261\"/>\r\n",
       "<text text-anchor=\"start\" x=\"262.5\" y=\"-245.8\" font-family=\"Helvetica,sans-Serif\" font-size=\"14.00\">legs ≤ 7.0</text>\r\n",
       "<text text-anchor=\"start\" x=\"256.5\" y=\"-230.8\" font-family=\"Helvetica,sans-Serif\" font-size=\"14.00\">gini = 0.361</text>\r\n",
       "<text text-anchor=\"start\" x=\"250.5\" y=\"-215.8\" font-family=\"Helvetica,sans-Serif\" font-size=\"14.00\">samples = 38</text>\r\n",
       "<text text-anchor=\"start\" x=\"210\" y=\"-200.8\" font-family=\"Helvetica,sans-Serif\" font-size=\"14.00\">value = [0, 0, 0, 0, 0, 29, 9]</text>\r\n",
       "</g>\r\n",
       "<!-- 2&#45;&gt;4 -->\r\n",
       "<g id=\"edge4\" class=\"edge\"><title>2&#45;&gt;4</title>\r\n",
       "<path fill=\"none\" stroke=\"black\" d=\"M294,-296.884C294,-288.778 294,-279.982 294,-271.472\"/>\r\n",
       "<polygon fill=\"black\" stroke=\"black\" points=\"297.5,-271.299 294,-261.299 290.5,-271.299 297.5,-271.299\"/>\r\n",
       "</g>\r\n",
       "<!-- 5 -->\r\n",
       "<g id=\"node6\" class=\"node\"><title>5</title>\r\n",
       "<path fill=\"#be5be9\" stroke=\"black\" d=\"M176,-149.5C176,-149.5 16,-149.5 16,-149.5 10,-149.5 4,-143.5 4,-137.5 4,-137.5 4,-108.5 4,-108.5 4,-102.5 10,-96.5 16,-96.5 16,-96.5 176,-96.5 176,-96.5 182,-96.5 188,-102.5 188,-108.5 188,-108.5 188,-137.5 188,-137.5 188,-143.5 182,-149.5 176,-149.5\"/>\r\n",
       "<text text-anchor=\"start\" x=\"58.5\" y=\"-134.3\" font-family=\"Helvetica,sans-Serif\" font-size=\"14.00\">gini = 0.251</text>\r\n",
       "<text text-anchor=\"start\" x=\"52.5\" y=\"-119.3\" font-family=\"Helvetica,sans-Serif\" font-size=\"14.00\">samples = 34</text>\r\n",
       "<text text-anchor=\"start\" x=\"12\" y=\"-104.3\" font-family=\"Helvetica,sans-Serif\" font-size=\"14.00\">value = [0, 0, 0, 0, 0, 29, 5]</text>\r\n",
       "</g>\r\n",
       "<!-- 4&#45;&gt;5 -->\r\n",
       "<g id=\"edge5\" class=\"edge\"><title>4&#45;&gt;5</title>\r\n",
       "<path fill=\"none\" stroke=\"black\" d=\"M229.715,-192.884C205.591,-180.456 178.318,-166.406 154.724,-154.252\"/>\r\n",
       "<polygon fill=\"black\" stroke=\"black\" points=\"156.031,-150.988 145.539,-149.52 152.826,-157.211 156.031,-150.988\"/>\r\n",
       "</g>\r\n",
       "<!-- 6 -->\r\n",
       "<g id=\"node7\" class=\"node\"><title>6</title>\r\n",
       "<path fill=\"#e53986\" stroke=\"black\" d=\"M370,-149.5C370,-149.5 218,-149.5 218,-149.5 212,-149.5 206,-143.5 206,-137.5 206,-137.5 206,-108.5 206,-108.5 206,-102.5 212,-96.5 218,-96.5 218,-96.5 370,-96.5 370,-96.5 376,-96.5 382,-102.5 382,-108.5 382,-108.5 382,-137.5 382,-137.5 382,-143.5 376,-149.5 370,-149.5\"/>\r\n",
       "<text text-anchor=\"start\" x=\"265\" y=\"-134.3\" font-family=\"Helvetica,sans-Serif\" font-size=\"14.00\">gini = 0.0</text>\r\n",
       "<text text-anchor=\"start\" x=\"254.5\" y=\"-119.3\" font-family=\"Helvetica,sans-Serif\" font-size=\"14.00\">samples = 4</text>\r\n",
       "<text text-anchor=\"start\" x=\"214\" y=\"-104.3\" font-family=\"Helvetica,sans-Serif\" font-size=\"14.00\">value = [0, 0, 0, 0, 0, 0, 4]</text>\r\n",
       "</g>\r\n",
       "<!-- 4&#45;&gt;6 -->\r\n",
       "<g id=\"edge6\" class=\"edge\"><title>4&#45;&gt;6</title>\r\n",
       "<path fill=\"none\" stroke=\"black\" d=\"M294,-192.884C294,-182.326 294,-170.597 294,-159.854\"/>\r\n",
       "<polygon fill=\"black\" stroke=\"black\" points=\"297.5,-159.52 294,-149.52 290.5,-159.52 297.5,-159.52\"/>\r\n",
       "</g>\r\n",
       "<!-- 8 -->\r\n",
       "<g id=\"node9\" class=\"node\"><title>8</title>\r\n",
       "<path fill=\"#c8eb69\" stroke=\"black\" d=\"M677,-261C677,-261 517,-261 517,-261 511,-261 505,-255 505,-249 505,-249 505,-205 505,-205 505,-199 511,-193 517,-193 517,-193 677,-193 677,-193 683,-193 689,-199 689,-205 689,-205 689,-249 689,-249 689,-255 683,-261 677,-261\"/>\r\n",
       "<text text-anchor=\"start\" x=\"565.5\" y=\"-245.8\" font-family=\"Helvetica,sans-Serif\" font-size=\"14.00\">legs ≤ 3.0</text>\r\n",
       "<text text-anchor=\"start\" x=\"559.5\" y=\"-230.8\" font-family=\"Helvetica,sans-Serif\" font-size=\"14.00\">gini = 0.313</text>\r\n",
       "<text text-anchor=\"start\" x=\"553.5\" y=\"-215.8\" font-family=\"Helvetica,sans-Serif\" font-size=\"14.00\">samples = 36</text>\r\n",
       "<text text-anchor=\"start\" x=\"513\" y=\"-200.8\" font-family=\"Helvetica,sans-Serif\" font-size=\"14.00\">value = [0, 29, 7, 0, 0, 0, 0]</text>\r\n",
       "</g>\r\n",
       "<!-- 7&#45;&gt;8 -->\r\n",
       "<g id=\"edge8\" class=\"edge\"><title>7&#45;&gt;8</title>\r\n",
       "<path fill=\"none\" stroke=\"black\" d=\"M597,-296.884C597,-288.778 597,-279.982 597,-271.472\"/>\r\n",
       "<polygon fill=\"black\" stroke=\"black\" points=\"600.5,-271.299 597,-261.299 593.5,-271.299 600.5,-271.299\"/>\r\n",
       "</g>\r\n",
       "<!-- 11 -->\r\n",
       "<g id=\"node12\" class=\"node\"><title>11</title>\r\n",
       "<path fill=\"#ffffff\" stroke=\"black\" d=\"M980,-261C980,-261 804,-261 804,-261 798,-261 792,-255 792,-249 792,-249 792,-205 792,-205 792,-199 798,-193 804,-193 804,-193 980,-193 980,-193 986,-193 992,-199 992,-205 992,-205 992,-249 992,-249 992,-255 986,-261 980,-261\"/>\r\n",
       "<text text-anchor=\"start\" x=\"860.5\" y=\"-245.8\" font-family=\"Helvetica,sans-Serif\" font-size=\"14.00\">legs ≤ 2.0</text>\r\n",
       "<text text-anchor=\"start\" x=\"854.5\" y=\"-230.8\" font-family=\"Helvetica,sans-Serif\" font-size=\"14.00\">gini = 0.663</text>\r\n",
       "<text text-anchor=\"start\" x=\"848.5\" y=\"-215.8\" font-family=\"Helvetica,sans-Serif\" font-size=\"14.00\">samples = 78</text>\r\n",
       "<text text-anchor=\"start\" x=\"800\" y=\"-200.8\" font-family=\"Helvetica,sans-Serif\" font-size=\"14.00\">value = [0, 0, 22, 28, 28, 0, 0]</text>\r\n",
       "</g>\r\n",
       "<!-- 7&#45;&gt;11 -->\r\n",
       "<g id=\"edge11\" class=\"edge\"><title>7&#45;&gt;11</title>\r\n",
       "<path fill=\"none\" stroke=\"black\" d=\"M692.778,-296.884C722.76,-286.517 756.007,-275.021 786.614,-264.439\"/>\r\n",
       "<polygon fill=\"black\" stroke=\"black\" points=\"788.143,-267.613 796.45,-261.038 785.856,-260.998 788.143,-267.613\"/>\r\n",
       "</g>\r\n",
       "<!-- 9 -->\r\n",
       "<g id=\"node10\" class=\"node\"><title>9</title>\r\n",
       "<path fill=\"#b7e539\" stroke=\"black\" d=\"M572,-149.5C572,-149.5 412,-149.5 412,-149.5 406,-149.5 400,-143.5 400,-137.5 400,-137.5 400,-108.5 400,-108.5 400,-102.5 406,-96.5 412,-96.5 412,-96.5 572,-96.5 572,-96.5 578,-96.5 584,-102.5 584,-108.5 584,-108.5 584,-137.5 584,-137.5 584,-143.5 578,-149.5 572,-149.5\"/>\r\n",
       "<text text-anchor=\"start\" x=\"463\" y=\"-134.3\" font-family=\"Helvetica,sans-Serif\" font-size=\"14.00\">gini = 0.0</text>\r\n",
       "<text text-anchor=\"start\" x=\"448.5\" y=\"-119.3\" font-family=\"Helvetica,sans-Serif\" font-size=\"14.00\">samples = 29</text>\r\n",
       "<text text-anchor=\"start\" x=\"408\" y=\"-104.3\" font-family=\"Helvetica,sans-Serif\" font-size=\"14.00\">value = [0, 29, 0, 0, 0, 0, 0]</text>\r\n",
       "</g>\r\n",
       "<!-- 8&#45;&gt;9 -->\r\n",
       "<g id=\"edge9\" class=\"edge\"><title>8&#45;&gt;9</title>\r\n",
       "<path fill=\"none\" stroke=\"black\" d=\"M562.91,-192.884C550.909,-181.226 537.439,-168.141 525.488,-156.532\"/>\r\n",
       "<polygon fill=\"black\" stroke=\"black\" points=\"527.882,-153.977 518.271,-149.52 523.005,-158.998 527.882,-153.977\"/>\r\n",
       "</g>\r\n",
       "<!-- 10 -->\r\n",
       "<g id=\"node11\" class=\"node\"><title>10</title>\r\n",
       "<path fill=\"#39e54d\" stroke=\"black\" d=\"M766,-149.5C766,-149.5 614,-149.5 614,-149.5 608,-149.5 602,-143.5 602,-137.5 602,-137.5 602,-108.5 602,-108.5 602,-102.5 608,-96.5 614,-96.5 614,-96.5 766,-96.5 766,-96.5 772,-96.5 778,-102.5 778,-108.5 778,-108.5 778,-137.5 778,-137.5 778,-143.5 772,-149.5 766,-149.5\"/>\r\n",
       "<text text-anchor=\"start\" x=\"661\" y=\"-134.3\" font-family=\"Helvetica,sans-Serif\" font-size=\"14.00\">gini = 0.0</text>\r\n",
       "<text text-anchor=\"start\" x=\"650.5\" y=\"-119.3\" font-family=\"Helvetica,sans-Serif\" font-size=\"14.00\">samples = 7</text>\r\n",
       "<text text-anchor=\"start\" x=\"610\" y=\"-104.3\" font-family=\"Helvetica,sans-Serif\" font-size=\"14.00\">value = [0, 0, 7, 0, 0, 0, 0]</text>\r\n",
       "</g>\r\n",
       "<!-- 8&#45;&gt;10 -->\r\n",
       "<g id=\"edge10\" class=\"edge\"><title>8&#45;&gt;10</title>\r\n",
       "<path fill=\"none\" stroke=\"black\" d=\"M627.194,-192.884C637.623,-181.446 649.304,-168.634 659.738,-157.19\"/>\r\n",
       "<polygon fill=\"black\" stroke=\"black\" points=\"662.581,-159.268 666.732,-149.52 657.408,-154.551 662.581,-159.268\"/>\r\n",
       "</g>\r\n",
       "<!-- 12 -->\r\n",
       "<g id=\"node13\" class=\"node\"><title>12</title>\r\n",
       "<path fill=\"#9cf2f0\" stroke=\"black\" d=\"M976,-157C976,-157 808,-157 808,-157 802,-157 796,-151 796,-145 796,-145 796,-101 796,-101 796,-95 802,-89 808,-89 808,-89 976,-89 976,-89 982,-89 988,-95 988,-101 988,-101 988,-145 988,-145 988,-151 982,-157 976,-157\"/>\r\n",
       "<text text-anchor=\"start\" x=\"863\" y=\"-141.8\" font-family=\"Helvetica,sans-Serif\" font-size=\"14.00\">fins ≤ 0.5</text>\r\n",
       "<text text-anchor=\"start\" x=\"854.5\" y=\"-126.8\" font-family=\"Helvetica,sans-Serif\" font-size=\"14.00\">gini = 0.444</text>\r\n",
       "<text text-anchor=\"start\" x=\"848.5\" y=\"-111.8\" font-family=\"Helvetica,sans-Serif\" font-size=\"14.00\">samples = 42</text>\r\n",
       "<text text-anchor=\"start\" x=\"804\" y=\"-96.8\" font-family=\"Helvetica,sans-Serif\" font-size=\"14.00\">value = [0, 0, 14, 28, 0, 0, 0]</text>\r\n",
       "</g>\r\n",
       "<!-- 11&#45;&gt;12 -->\r\n",
       "<g id=\"edge12\" class=\"edge\"><title>11&#45;&gt;12</title>\r\n",
       "<path fill=\"none\" stroke=\"black\" d=\"M892,-192.884C892,-184.778 892,-175.982 892,-167.472\"/>\r\n",
       "<polygon fill=\"black\" stroke=\"black\" points=\"895.5,-167.299 892,-157.299 888.5,-167.299 895.5,-167.299\"/>\r\n",
       "</g>\r\n",
       "<!-- 15 -->\r\n",
       "<g id=\"node16\" class=\"node\"><title>15</title>\r\n",
       "<path fill=\"#7286ec\" stroke=\"black\" d=\"M1178,-149.5C1178,-149.5 1018,-149.5 1018,-149.5 1012,-149.5 1006,-143.5 1006,-137.5 1006,-137.5 1006,-108.5 1006,-108.5 1006,-102.5 1012,-96.5 1018,-96.5 1018,-96.5 1178,-96.5 1178,-96.5 1184,-96.5 1190,-102.5 1190,-108.5 1190,-108.5 1190,-137.5 1190,-137.5 1190,-143.5 1184,-149.5 1178,-149.5\"/>\r\n",
       "<text text-anchor=\"start\" x=\"1060.5\" y=\"-134.3\" font-family=\"Helvetica,sans-Serif\" font-size=\"14.00\">gini = 0.346</text>\r\n",
       "<text text-anchor=\"start\" x=\"1054.5\" y=\"-119.3\" font-family=\"Helvetica,sans-Serif\" font-size=\"14.00\">samples = 36</text>\r\n",
       "<text text-anchor=\"start\" x=\"1014\" y=\"-104.3\" font-family=\"Helvetica,sans-Serif\" font-size=\"14.00\">value = [0, 0, 8, 0, 28, 0, 0]</text>\r\n",
       "</g>\r\n",
       "<!-- 11&#45;&gt;15 -->\r\n",
       "<g id=\"edge15\" class=\"edge\"><title>11&#45;&gt;15</title>\r\n",
       "<path fill=\"none\" stroke=\"black\" d=\"M958.882,-192.884C984.092,-180.401 1012.61,-166.282 1037.23,-154.091\"/>\r\n",
       "<polygon fill=\"black\" stroke=\"black\" points=\"1039.05,-157.094 1046.46,-149.52 1035.95,-150.821 1039.05,-157.094\"/>\r\n",
       "</g>\r\n",
       "<!-- 13 -->\r\n",
       "<g id=\"node14\" class=\"node\"><title>13</title>\r\n",
       "<path fill=\"#39e54d\" stroke=\"black\" d=\"M871,-53C871,-53 711,-53 711,-53 705,-53 699,-47 699,-41 699,-41 699,-12 699,-12 699,-6 705,-0 711,-0 711,-0 871,-0 871,-0 877,-0 883,-6 883,-12 883,-12 883,-41 883,-41 883,-47 877,-53 871,-53\"/>\r\n",
       "<text text-anchor=\"start\" x=\"762\" y=\"-37.8\" font-family=\"Helvetica,sans-Serif\" font-size=\"14.00\">gini = 0.0</text>\r\n",
       "<text text-anchor=\"start\" x=\"747.5\" y=\"-22.8\" font-family=\"Helvetica,sans-Serif\" font-size=\"14.00\">samples = 14</text>\r\n",
       "<text text-anchor=\"start\" x=\"707\" y=\"-7.8\" font-family=\"Helvetica,sans-Serif\" font-size=\"14.00\">value = [0, 0, 14, 0, 0, 0, 0]</text>\r\n",
       "</g>\r\n",
       "<!-- 12&#45;&gt;13 -->\r\n",
       "<g id=\"edge13\" class=\"edge\"><title>12&#45;&gt;13</title>\r\n",
       "<path fill=\"none\" stroke=\"black\" d=\"M856.675,-88.9485C846.702,-79.6175 835.859,-69.4722 825.911,-60.1641\"/>\r\n",
       "<polygon fill=\"black\" stroke=\"black\" points=\"828.2,-57.5132 818.507,-53.2367 823.418,-62.6247 828.2,-57.5132\"/>\r\n",
       "</g>\r\n",
       "<!-- 14 -->\r\n",
       "<g id=\"node15\" class=\"node\"><title>14</title>\r\n",
       "<path fill=\"#39e5e2\" stroke=\"black\" d=\"M1073,-53C1073,-53 913,-53 913,-53 907,-53 901,-47 901,-41 901,-41 901,-12 901,-12 901,-6 907,-0 913,-0 913,-0 1073,-0 1073,-0 1079,-0 1085,-6 1085,-12 1085,-12 1085,-41 1085,-41 1085,-47 1079,-53 1073,-53\"/>\r\n",
       "<text text-anchor=\"start\" x=\"964\" y=\"-37.8\" font-family=\"Helvetica,sans-Serif\" font-size=\"14.00\">gini = 0.0</text>\r\n",
       "<text text-anchor=\"start\" x=\"949.5\" y=\"-22.8\" font-family=\"Helvetica,sans-Serif\" font-size=\"14.00\">samples = 28</text>\r\n",
       "<text text-anchor=\"start\" x=\"909\" y=\"-7.8\" font-family=\"Helvetica,sans-Serif\" font-size=\"14.00\">value = [0, 0, 0, 28, 0, 0, 0]</text>\r\n",
       "</g>\r\n",
       "<!-- 12&#45;&gt;14 -->\r\n",
       "<g id=\"edge14\" class=\"edge\"><title>12&#45;&gt;14</title>\r\n",
       "<path fill=\"none\" stroke=\"black\" d=\"M927.325,-88.9485C937.298,-79.6175 948.141,-69.4722 958.089,-60.1641\"/>\r\n",
       "<polygon fill=\"black\" stroke=\"black\" points=\"960.582,-62.6247 965.493,-53.2367 955.8,-57.5132 960.582,-62.6247\"/>\r\n",
       "</g>\r\n",
       "</g>\r\n",
       "</svg>\r\n"
      ],
      "text/plain": [
       "<graphviz.files.Source at 0x1b0423cc288>"
      ]
     },
     "execution_count": 25,
     "metadata": {},
     "output_type": "execute_result"
    }
   ],
   "source": [
    "# plot the tree\n",
    "# for graphing the tree\n",
    "import graphviz as gv\n",
    "from sklearn import tree\n",
    "\n",
    "dot_data = tree.export_graphviz(model, out_file=None, filled=True, rounded = True, special_characters = True\n",
    "                               , feature_names = columns)\n",
    "graph = gv.Source(dot_data)\n",
    "graph"
   ]
  },
  {
   "cell_type": "code",
   "execution_count": 26,
   "metadata": {},
   "outputs": [
    {
     "data": {
      "text/plain": [
       "Counter({4: 38, 0: 23, 2: 27, 6: 10, 8: 2, 5: 1})"
      ]
     },
     "execution_count": 26,
     "metadata": {},
     "output_type": "execute_result"
    }
   ],
   "source": [
    "Counter(zoo_df['legs'])"
   ]
  }
 ],
 "metadata": {
  "kernelspec": {
   "display_name": "Python 3",
   "language": "python",
   "name": "python3"
  },
  "language_info": {
   "codemirror_mode": {
    "name": "ipython",
    "version": 3
   },
   "file_extension": ".py",
   "mimetype": "text/x-python",
   "name": "python",
   "nbconvert_exporter": "python",
   "pygments_lexer": "ipython3",
   "version": "3.7.4"
  }
 },
 "nbformat": 4,
 "nbformat_minor": 2
}
