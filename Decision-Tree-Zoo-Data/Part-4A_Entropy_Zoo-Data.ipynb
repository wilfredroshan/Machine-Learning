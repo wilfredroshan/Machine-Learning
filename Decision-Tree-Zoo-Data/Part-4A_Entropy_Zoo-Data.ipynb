{
 "cells": [
  {
   "cell_type": "markdown",
   "metadata": {},
   "source": [
    "### Data analysis and a simple decision tree example using data from https://www.kaggle.com/uciml/zoo-animal-classification"
   ]
  },
  {
   "cell_type": "code",
   "execution_count": 1,
   "metadata": {},
   "outputs": [],
   "source": [
    "import pandas as pd\n",
    "from collections import Counter\n",
    "from imblearn.over_sampling import SMOTE\n",
    "import math as math"
   ]
  },
  {
   "cell_type": "markdown",
   "metadata": {},
   "source": [
    "Read the data file"
   ]
  },
  {
   "cell_type": "code",
   "execution_count": 2,
   "metadata": {},
   "outputs": [],
   "source": [
    "zoo_df = pd.read_csv(\"data\\Decision-Tree_Zoo-Data\\zoo-animal-classification\\zoo.csv\")\n",
    "zoo_df = zoo_df.drop('animal_name', axis=1)"
   ]
  },
  {
   "cell_type": "code",
   "execution_count": 3,
   "metadata": {},
   "outputs": [],
   "source": [
    "# assumes x and y are categorical data\n",
    "def calc_entropy(y_actual):\n",
    "    class_counter = Counter(y_actual)\n",
    "    total_count = float(len(y_actual))\n",
    "    entropy = 0;\n",
    "    for clas, count in class_counter.items():\n",
    "        probability = count/total_count\n",
    "        entropy = entropy - (probability * math.log2(probability))\n",
    "    print(\"Entropy Value: \", entropy)\n",
    "    return entropy\n",
    "\n",
    "def calc_information_gain(input_x, y_actual):\n",
    "    total_count = float(len(y_actual))\n",
    "    # divide the input_x column into k partitions\n",
    "    partitions = Counter(input_x)\n",
    "    sum_of_partition_entropies = 0;\n",
    "    print(partitions.items())\n",
    "    for partition_key, count in partitions.items():\n",
    "        mask = input_x == partition_key\n",
    "        sum_of_partition_entropies = sum_of_partition_entropies + ((count/total_count)*calc_entropy(y_actual[mask]))\n",
    "    info_gain = calc_entropy(y_actual) - sum_of_partition_entropies\n",
    "    return info_gain"
   ]
  },
  {
   "cell_type": "code",
   "execution_count": 4,
   "metadata": {},
   "outputs": [
    {
     "name": "stdout",
     "output_type": "stream",
     "text": [
      "Total Items for entropy =  101.0\n",
      "Entropy Value:  2.390559682294039\n",
      "2.390559682294039\n"
     ]
    }
   ],
   "source": [
    "print(calc_entropy(zoo_df['class_type']))"
   ]
  },
  {
   "cell_type": "code",
   "execution_count": 5,
   "metadata": {},
   "outputs": [
    {
     "name": "stdout",
     "output_type": "stream",
     "text": [
      "Total Items =  101.0\n",
      "dict_items([(1, 43), (0, 58)])\n",
      "Total Items for entropy =  43.0\n",
      "Entropy Value:  0.446481346896803\n",
      "Total Items for entropy =  58.0\n",
      "Entropy Value:  2.4549947941466774\n",
      "Total Items for entropy =  101.0\n",
      "Entropy Value:  2.390559682294039\n",
      "0.7906745736101797\n"
     ]
    }
   ],
   "source": [
    "print(calc_information_gain(zoo_df['hair'], zoo_df['class_type']))"
   ]
  },
  {
   "cell_type": "code",
   "execution_count": 6,
   "metadata": {},
   "outputs": [],
   "source": [
    "# copy X columns\n",
    "X = zoo_df.loc[:, zoo_df.columns != 'class_type']\n",
    "y = zoo_df['class_type']\n",
    "\n",
    "oversampled = SMOTE(k_neighbors=1)\n",
    "X, y = oversampled.fit_resample(X, y)"
   ]
  },
  {
   "cell_type": "code",
   "execution_count": 7,
   "metadata": {},
   "outputs": [
    {
     "name": "stdout",
     "output_type": "stream",
     "text": [
      "hair\n",
      "Total Items =  287.0\n",
      "dict_items([(1, 54), (0, 233)])\n",
      "Total Items for entropy =  54.0\n",
      "Entropy Value:  0.8524051786494786\n",
      "Total Items for entropy =  233.0\n",
      "Entropy Value:  2.61736385444666\n",
      "Total Items for entropy =  287.0\n",
      "Entropy Value:  2.807354922057604\n",
      "feathers\n",
      "Total Items =  287.0\n",
      "dict_items([(0, 246), (1, 41)])\n",
      "Total Items for entropy =  246.0\n",
      "Entropy Value:  2.584962500721156\n",
      "Total Items for entropy =  41.0\n",
      "Entropy Value:  0.0\n",
      "Total Items for entropy =  287.0\n",
      "Entropy Value:  2.807354922057604\n",
      "eggs\n",
      "Total Items =  287.0\n",
      "dict_items([(0, 57), (1, 230)])\n",
      "Total Items for entropy =  57.0\n",
      "Entropy Value:  1.1706463440108583\n",
      "Total Items for entropy =  230.0\n",
      "Entropy Value:  2.605523307544938\n",
      "Total Items for entropy =  287.0\n",
      "Entropy Value:  2.807354922057604\n",
      "milk\n",
      "Total Items =  287.0\n",
      "dict_items([(1, 41), (0, 246)])\n",
      "Total Items for entropy =  41.0\n",
      "Entropy Value:  0.0\n",
      "Total Items for entropy =  246.0\n",
      "Entropy Value:  2.584962500721156\n",
      "Total Items for entropy =  287.0\n",
      "Entropy Value:  2.807354922057604\n",
      "airborne\n",
      "Total Items =  287.0\n",
      "dict_items([(0, 231), (1, 56)])\n",
      "Total Items for entropy =  231.0\n",
      "Entropy Value:  2.6714054672786096\n",
      "Total Items for entropy =  56.0\n",
      "Entropy Value:  1.1392781631244115\n",
      "Total Items for entropy =  287.0\n",
      "Entropy Value:  2.807354922057604\n",
      "aquatic\n",
      "Total Items =  287.0\n",
      "dict_items([(0, 167), (1, 120)])\n",
      "Total Items for entropy =  167.0\n",
      "Entropy Value:  2.2896352841816334\n",
      "Total Items for entropy =  120.0\n",
      "Entropy Value:  2.0902788810684716\n",
      "Total Items for entropy =  287.0\n",
      "Entropy Value:  2.807354922057604\n",
      "predator\n",
      "Total Items =  287.0\n",
      "dict_items([(1, 159), (0, 128)])\n",
      "Total Items for entropy =  159.0\n",
      "Entropy Value:  2.599105129397933\n",
      "Total Items for entropy =  128.0\n",
      "Entropy Value:  2.6165988133284204\n",
      "Total Items for entropy =  287.0\n",
      "Entropy Value:  2.807354922057604\n",
      "toothed\n",
      "Total Items =  287.0\n",
      "dict_items([(1, 148), (0, 139)])\n",
      "Total Items for entropy =  148.0\n",
      "Entropy Value:  1.9769680896435053\n",
      "Total Items for entropy =  139.0\n",
      "Entropy Value:  1.9564788029238525\n",
      "Total Items for entropy =  287.0\n",
      "Entropy Value:  2.807354922057604\n",
      "backbone\n",
      "Total Items =  287.0\n",
      "dict_items([(1, 205), (0, 82)])\n",
      "Total Items for entropy =  205.0\n",
      "Entropy Value:  2.321928094887362\n",
      "Total Items for entropy =  82.0\n",
      "Entropy Value:  1.0\n",
      "Total Items for entropy =  287.0\n",
      "Entropy Value:  2.807354922057604\n",
      "breathes\n",
      "Total Items =  287.0\n",
      "dict_items([(1, 203), (0, 84)])\n",
      "Total Items for entropy =  203.0\n",
      "Entropy Value:  2.462288555710502\n",
      "Total Items for entropy =  84.0\n",
      "Entropy Value:  1.4001279099568076\n",
      "Total Items for entropy =  287.0\n",
      "Entropy Value:  2.807354922057604\n",
      "venomous\n",
      "Total Items =  287.0\n",
      "dict_items([(0, 264), (1, 23)])\n",
      "Total Items for entropy =  264.0\n",
      "Entropy Value:  2.798651989387302\n",
      "Total Items for entropy =  23.0\n",
      "Entropy Value:  1.7386163993174357\n",
      "Total Items for entropy =  287.0\n",
      "Entropy Value:  2.807354922057604\n",
      "fins\n",
      "Total Items =  287.0\n",
      "dict_items([(0, 242), (1, 45)])\n",
      "Total Items for entropy =  242.0\n",
      "Entropy Value:  2.5839544129978247\n",
      "Total Items for entropy =  45.0\n",
      "Entropy Value:  0.43275015878875406\n",
      "Total Items for entropy =  287.0\n",
      "Entropy Value:  2.807354922057604\n",
      "legs\n",
      "Total Items =  287.0\n",
      "dict_items([(4, 93), (0, 86), (2, 48), (6, 51), (8, 8), (5, 1)])\n",
      "Total Items for entropy =  93.0\n",
      "Entropy Value:  1.712821625239522\n",
      "Total Items for entropy =  86.0\n",
      "Entropy Value:  1.6588485600843215\n",
      "Total Items for entropy =  48.0\n",
      "Entropy Value:  0.5993142373098092\n",
      "Total Items for entropy =  51.0\n",
      "Entropy Value:  0.7140152804378671\n",
      "Total Items for entropy =  8.0\n",
      "Entropy Value:  0.0\n",
      "Total Items for entropy =  1.0\n",
      "Entropy Value:  0.0\n",
      "Total Items for entropy =  287.0\n",
      "Entropy Value:  2.807354922057604\n",
      "tail\n",
      "Total Items =  287.0\n",
      "dict_items([(0, 127), (1, 160)])\n",
      "Total Items for entropy =  127.0\n",
      "Entropy Value:  1.784561420751242\n",
      "Total Items for entropy =  160.0\n",
      "Entropy Value:  2.0812793313804994\n",
      "Total Items for entropy =  287.0\n",
      "Entropy Value:  2.807354922057604\n",
      "domestic\n",
      "Total Items =  287.0\n",
      "dict_items([(0, 270), (1, 17)])\n",
      "Total Items for entropy =  270.0\n",
      "Entropy Value:  2.802104905568039\n",
      "Total Items for entropy =  17.0\n",
      "Entropy Value:  1.5197284615795614\n",
      "Total Items for entropy =  287.0\n",
      "Entropy Value:  2.807354922057604\n",
      "catsize\n",
      "Total Items =  287.0\n",
      "dict_items([(1, 55), (0, 232)])\n",
      "Total Items for entropy =  55.0\n",
      "Entropy Value:  1.5612557801458562\n",
      "Total Items for entropy =  232.0\n",
      "Entropy Value:  2.708525043665958\n",
      "Total Items for entropy =  287.0\n",
      "Entropy Value:  2.807354922057604\n"
     ]
    }
   ],
   "source": [
    "entropies = list()\n",
    "for column_index in range(X.shape[1]):\n",
    "    print(zoo_df.columns[column_index])\n",
    "    entropy_value = calc_information_gain(X[:,column_index], y)\n",
    "    entropies.append((zoo_df.columns[column_index], entropy_value))\n",
    "\n",
    "def index(tup):\n",
    "    return tup[1]\n",
    "entropies.sort(key=index, reverse=True)"
   ]
  },
  {
   "cell_type": "code",
   "execution_count": 8,
   "metadata": {},
   "outputs": [
    {
     "name": "stdout",
     "output_type": "stream",
     "text": [
      "[('legs', 1.5281380230759691), ('backbone', 0.863120568566631), ('tail', 0.8573758507813407), ('toothed', 0.84031021518076), ('breathes', 0.6559426529091592), ('aquatic', 0.6010742315121358), ('feathers', 0.5916727785823275), ('milk', 0.5916727785823275), ('fins', 0.5606973433434317), ('hair', 0.5220738846598909), ('eggs', 0.4868071786988768), ('airborne', 0.4349011238822529), ('catsize', 0.3186898417840003), ('predator', 0.20044773153387885), ('venomous', 0.09365352002781746), ('domestic', 0.08120959679550266)]\n"
     ]
    }
   ],
   "source": [
    "print(entropies)"
   ]
  },
  {
   "cell_type": "code",
   "execution_count": null,
   "metadata": {},
   "outputs": [],
   "source": []
  }
 ],
 "metadata": {
  "kernelspec": {
   "display_name": "Python 3",
   "language": "python",
   "name": "python3"
  },
  "language_info": {
   "codemirror_mode": {
    "name": "ipython",
    "version": 3
   },
   "file_extension": ".py",
   "mimetype": "text/x-python",
   "name": "python",
   "nbconvert_exporter": "python",
   "pygments_lexer": "ipython3",
   "version": "3.7.4"
  }
 },
 "nbformat": 4,
 "nbformat_minor": 2
}
