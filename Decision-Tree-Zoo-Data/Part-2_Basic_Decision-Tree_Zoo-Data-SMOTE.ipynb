{
 "cells": [
  {
   "cell_type": "markdown",
   "metadata": {},
   "source": [
    "### Data analysis and a simple decision tree example using data from https://www.kaggle.com/uciml/zoo-animal-classification"
   ]
  },
  {
   "cell_type": "code",
   "execution_count": 1,
   "metadata": {},
   "outputs": [],
   "source": [
    "import pandas as pd\n",
    "from imblearn.over_sampling import SMOTE\n",
    "from collections import Counter"
   ]
  },
  {
   "cell_type": "markdown",
   "metadata": {},
   "source": [
    "Read the data file"
   ]
  },
  {
   "cell_type": "code",
   "execution_count": 2,
   "metadata": {},
   "outputs": [],
   "source": [
    "zoo_df = pd.read_csv(\"data\\Decision-Tree_Zoo-Data\\zoo-animal-classification\\zoo.csv\")"
   ]
  },
  {
   "cell_type": "markdown",
   "metadata": {},
   "source": [
    "animal_name is not useful in classification. remove it from data set"
   ]
  },
  {
   "cell_type": "code",
   "execution_count": 3,
   "metadata": {},
   "outputs": [
    {
     "name": "stdout",
     "output_type": "stream",
     "text": [
      "['aardvark', 'antelope', 'bass', 'bear', 'boar', 'buffalo', 'calf', 'carp', 'catfish', 'cavy', 'cheetah', 'chicken', 'chub', 'clam', 'crab', 'crayfish', 'crow', 'deer', 'dogfish', 'dolphin', 'dove', 'duck', 'elephant', 'flamingo', 'flea', 'frog', 'frog', 'fruitbat', 'giraffe', 'girl', 'gnat', 'goat', 'gorilla', 'gull', 'haddock', 'hamster', 'hare', 'hawk', 'herring', 'honeybee', 'housefly', 'kiwi', 'ladybird', 'lark', 'leopard', 'lion', 'lobster', 'lynx', 'mink', 'mole', 'mongoose', 'moth', 'newt', 'octopus', 'opossum', 'oryx', 'ostrich', 'parakeet', 'penguin', 'pheasant', 'pike', 'piranha', 'pitviper', 'platypus', 'polecat', 'pony', 'porpoise', 'puma', 'pussycat', 'raccoon', 'reindeer', 'rhea', 'scorpion', 'seahorse', 'seal', 'sealion', 'seasnake', 'seawasp', 'skimmer', 'skua', 'slowworm', 'slug', 'sole', 'sparrow', 'squirrel', 'starfish', 'stingray', 'swan', 'termite', 'toad', 'tortoise', 'tuatara', 'tuna', 'vampire', 'vole', 'vulture', 'wallaby', 'wasp', 'wolf', 'worm', 'wren']\n"
     ]
    }
   ],
   "source": [
    "animal_names = zoo_df['animal_name'].to_list()\n",
    "print(animal_names)\n",
    "zoo_df = zoo_df.drop('animal_name', axis=1)"
   ]
  },
  {
   "cell_type": "code",
   "execution_count": 4,
   "metadata": {},
   "outputs": [],
   "source": [
    "for column in zoo_df.columns:\n",
    "    zoo_df[column] = zoo_df[column].astype(\"category\")"
   ]
  },
  {
   "cell_type": "code",
   "execution_count": 5,
   "metadata": {},
   "outputs": [],
   "source": [
    "# copy X columns\n",
    "X = zoo_df.loc[:, zoo_df.columns != 'class_type']\n",
    "# copy Y column (class)\n",
    "y = zoo_df['class_type']\n",
    "column_names = X.columns"
   ]
  },
  {
   "cell_type": "code",
   "execution_count": 6,
   "metadata": {},
   "outputs": [
    {
     "name": "stdout",
     "output_type": "stream",
     "text": [
      "Counter({1: 41, 2: 20, 4: 13, 7: 10, 6: 8, 3: 5, 5: 4})\n"
     ]
    }
   ],
   "source": [
    "y_counter = Counter(y)\n",
    "print(y_counter)"
   ]
  },
  {
   "cell_type": "code",
   "execution_count": 7,
   "metadata": {},
   "outputs": [],
   "source": [
    "oversampled = SMOTE(k_neighbors=1)\n",
    "X, y = oversampled.fit_resample(X, y)"
   ]
  },
  {
   "cell_type": "code",
   "execution_count": 8,
   "metadata": {},
   "outputs": [
    {
     "name": "stdout",
     "output_type": "stream",
     "text": [
      "Counter({1: 41, 4: 41, 2: 41, 7: 41, 6: 41, 5: 41, 3: 41})\n"
     ]
    }
   ],
   "source": [
    "y_counter = Counter(y)\n",
    "print(y_counter)"
   ]
  },
  {
   "cell_type": "markdown",
   "metadata": {},
   "source": [
    "## Split the data into training and testing sets"
   ]
  },
  {
   "cell_type": "code",
   "execution_count": 9,
   "metadata": {},
   "outputs": [],
   "source": [
    "from sklearn.model_selection import train_test_split"
   ]
  },
  {
   "cell_type": "code",
   "execution_count": 10,
   "metadata": {},
   "outputs": [],
   "source": [
    "# split the data (70-30 split)\n",
    "train_X, test_X, train_Y, test_Y = train_test_split(X, y, test_size = 0.30, stratify = y)"
   ]
  },
  {
   "cell_type": "markdown",
   "metadata": {},
   "source": [
    "Build the machine learning model"
   ]
  },
  {
   "cell_type": "code",
   "execution_count": 11,
   "metadata": {},
   "outputs": [],
   "source": [
    "from sklearn.tree import DecisionTreeClassifier"
   ]
  },
  {
   "cell_type": "code",
   "execution_count": 12,
   "metadata": {},
   "outputs": [
    {
     "data": {
      "text/plain": [
       "DecisionTreeClassifier(class_weight=None, criterion='gini', max_depth=None,\n",
       "                       max_features=None, max_leaf_nodes=None,\n",
       "                       min_impurity_decrease=0.0, min_impurity_split=None,\n",
       "                       min_samples_leaf=1, min_samples_split=2,\n",
       "                       min_weight_fraction_leaf=0.0, presort=False,\n",
       "                       random_state=None, splitter='best')"
      ]
     },
     "execution_count": 12,
     "metadata": {},
     "output_type": "execute_result"
    }
   ],
   "source": [
    "model = DecisionTreeClassifier()\n",
    "model.fit(train_X, train_Y)"
   ]
  },
  {
   "cell_type": "markdown",
   "metadata": {},
   "source": [
    "Predict the class of test data"
   ]
  },
  {
   "cell_type": "code",
   "execution_count": 13,
   "metadata": {},
   "outputs": [],
   "source": [
    "y_predicted = model.predict(test_X)"
   ]
  },
  {
   "cell_type": "markdown",
   "metadata": {},
   "source": [
    "How good is the model?\n",
    "check accuracy"
   ]
  },
  {
   "cell_type": "code",
   "execution_count": 14,
   "metadata": {},
   "outputs": [],
   "source": [
    "from sklearn.metrics import accuracy_score"
   ]
  },
  {
   "cell_type": "code",
   "execution_count": 15,
   "metadata": {},
   "outputs": [
    {
     "name": "stdout",
     "output_type": "stream",
     "text": [
      "0.9655172413793104\n"
     ]
    }
   ],
   "source": [
    "print(accuracy_score(test_Y, y_predicted))"
   ]
  },
  {
   "cell_type": "markdown",
   "metadata": {},
   "source": [
    "Build confusion matrix"
   ]
  },
  {
   "cell_type": "code",
   "execution_count": 16,
   "metadata": {},
   "outputs": [],
   "source": [
    "from sklearn.metrics import confusion_matrix"
   ]
  },
  {
   "cell_type": "code",
   "execution_count": 17,
   "metadata": {},
   "outputs": [
    {
     "name": "stdout",
     "output_type": "stream",
     "text": [
      "[[13  0  0  0  0  0  0]\n",
      " [ 0 12  0  0  0  0  0]\n",
      " [ 0  0 12  0  0  0  0]\n",
      " [ 0  0  0 13  0  0  0]\n",
      " [ 0  0  2  0 11  0  0]\n",
      " [ 0  0  0  0  0 12  0]\n",
      " [ 0  0  0  0  0  1 11]]\n"
     ]
    }
   ],
   "source": [
    "c_matrix = confusion_matrix(test_Y, y_predicted)\n",
    "print(c_matrix)"
   ]
  },
  {
   "cell_type": "code",
   "execution_count": 18,
   "metadata": {},
   "outputs": [],
   "source": [
    "from collections import Counter"
   ]
  },
  {
   "cell_type": "code",
   "execution_count": 19,
   "metadata": {},
   "outputs": [
    {
     "name": "stdout",
     "output_type": "stream",
     "text": [
      "Counter({5: 13, 1: 13, 4: 13, 7: 12, 6: 12, 2: 12, 3: 12})\n"
     ]
    }
   ],
   "source": [
    "print(Counter(test_Y))"
   ]
  },
  {
   "cell_type": "code",
   "execution_count": 20,
   "metadata": {},
   "outputs": [
    {
     "name": "stdout",
     "output_type": "stream",
     "text": [
      "Counter({3: 14, 6: 13, 1: 13, 4: 13, 2: 12, 5: 11, 7: 11})\n"
     ]
    }
   ],
   "source": [
    "print(Counter(y_predicted))"
   ]
  },
  {
   "cell_type": "code",
   "execution_count": 21,
   "metadata": {},
   "outputs": [
    {
     "data": {
      "image/svg+xml": [
       "<?xml version=\"1.0\" encoding=\"UTF-8\" standalone=\"no\"?>\r\n",
       "<!DOCTYPE svg PUBLIC \"-//W3C//DTD SVG 1.1//EN\"\r\n",
       " \"http://www.w3.org/Graphics/SVG/1.1/DTD/svg11.dtd\">\r\n",
       "<!-- Generated by graphviz version 2.38.0 (20140413.2041)\r\n",
       " -->\r\n",
       "<!-- Title: Tree Pages: 1 -->\r\n",
       "<svg width=\"990pt\" height=\"581pt\"\r\n",
       " viewBox=\"0.00 0.00 990.00 581.00\" xmlns=\"http://www.w3.org/2000/svg\" xmlns:xlink=\"http://www.w3.org/1999/xlink\">\r\n",
       "<g id=\"graph0\" class=\"graph\" transform=\"scale(1 1) rotate(0) translate(4 577)\">\r\n",
       "<title>Tree</title>\r\n",
       "<polygon fill=\"white\" stroke=\"none\" points=\"-4,4 -4,-577 986,-577 986,4 -4,4\"/>\r\n",
       "<!-- 0 -->\r\n",
       "<g id=\"node1\" class=\"node\"><title>0</title>\r\n",
       "<path fill=\"#ffffff\" stroke=\"black\" d=\"M787.5,-573C787.5,-573 578.5,-573 578.5,-573 572.5,-573 566.5,-567 566.5,-561 566.5,-561 566.5,-517 566.5,-517 566.5,-511 572.5,-505 578.5,-505 578.5,-505 787.5,-505 787.5,-505 793.5,-505 799.5,-511 799.5,-517 799.5,-517 799.5,-561 799.5,-561 799.5,-567 793.5,-573 787.5,-573\"/>\r\n",
       "<text text-anchor=\"start\" x=\"639\" y=\"-557.8\" font-family=\"Helvetica,sans-Serif\" font-size=\"14.00\">feathers ≤ 0.5</text>\r\n",
       "<text text-anchor=\"start\" x=\"645.5\" y=\"-542.8\" font-family=\"Helvetica,sans-Serif\" font-size=\"14.00\">gini = 0.857</text>\r\n",
       "<text text-anchor=\"start\" x=\"635.5\" y=\"-527.8\" font-family=\"Helvetica,sans-Serif\" font-size=\"14.00\">samples = 200</text>\r\n",
       "<text text-anchor=\"start\" x=\"574.5\" y=\"-512.8\" font-family=\"Helvetica,sans-Serif\" font-size=\"14.00\">value = [28, 29, 29, 28, 28, 29, 29]</text>\r\n",
       "</g>\r\n",
       "<!-- 1 -->\r\n",
       "<g id=\"node2\" class=\"node\"><title>1</title>\r\n",
       "<path fill=\"#ffffff\" stroke=\"black\" d=\"M672.5,-469C672.5,-469 471.5,-469 471.5,-469 465.5,-469 459.5,-463 459.5,-457 459.5,-457 459.5,-413 459.5,-413 459.5,-407 465.5,-401 471.5,-401 471.5,-401 672.5,-401 672.5,-401 678.5,-401 684.5,-407 684.5,-413 684.5,-413 684.5,-457 684.5,-457 684.5,-463 678.5,-469 672.5,-469\"/>\r\n",
       "<text text-anchor=\"start\" x=\"523\" y=\"-453.8\" font-family=\"Helvetica,sans-Serif\" font-size=\"14.00\">backbone ≤ 0.5</text>\r\n",
       "<text text-anchor=\"start\" x=\"534.5\" y=\"-438.8\" font-family=\"Helvetica,sans-Serif\" font-size=\"14.00\">gini = 0.833</text>\r\n",
       "<text text-anchor=\"start\" x=\"524.5\" y=\"-423.8\" font-family=\"Helvetica,sans-Serif\" font-size=\"14.00\">samples = 171</text>\r\n",
       "<text text-anchor=\"start\" x=\"467.5\" y=\"-408.8\" font-family=\"Helvetica,sans-Serif\" font-size=\"14.00\">value = [28, 0, 29, 28, 28, 29, 29]</text>\r\n",
       "</g>\r\n",
       "<!-- 0&#45;&gt;1 -->\r\n",
       "<g id=\"edge1\" class=\"edge\"><title>0&#45;&gt;1</title>\r\n",
       "<path fill=\"none\" stroke=\"black\" d=\"M646.961,-504.884C636.977,-495.709 626.031,-485.65 615.663,-476.123\"/>\r\n",
       "<polygon fill=\"black\" stroke=\"black\" points=\"617.969,-473.488 608.238,-469.299 613.233,-478.643 617.969,-473.488\"/>\r\n",
       "<text text-anchor=\"middle\" x=\"609.293\" y=\"-490.577\" font-family=\"Helvetica,sans-Serif\" font-size=\"14.00\">True</text>\r\n",
       "</g>\r\n",
       "<!-- 16 -->\r\n",
       "<g id=\"node17\" class=\"node\"><title>16</title>\r\n",
       "<path fill=\"#b7e539\" stroke=\"black\" d=\"M875,-461.5C875,-461.5 715,-461.5 715,-461.5 709,-461.5 703,-455.5 703,-449.5 703,-449.5 703,-420.5 703,-420.5 703,-414.5 709,-408.5 715,-408.5 715,-408.5 875,-408.5 875,-408.5 881,-408.5 887,-414.5 887,-420.5 887,-420.5 887,-449.5 887,-449.5 887,-455.5 881,-461.5 875,-461.5\"/>\r\n",
       "<text text-anchor=\"start\" x=\"766\" y=\"-446.3\" font-family=\"Helvetica,sans-Serif\" font-size=\"14.00\">gini = 0.0</text>\r\n",
       "<text text-anchor=\"start\" x=\"751.5\" y=\"-431.3\" font-family=\"Helvetica,sans-Serif\" font-size=\"14.00\">samples = 29</text>\r\n",
       "<text text-anchor=\"start\" x=\"711\" y=\"-416.3\" font-family=\"Helvetica,sans-Serif\" font-size=\"14.00\">value = [0, 29, 0, 0, 0, 0, 0]</text>\r\n",
       "</g>\r\n",
       "<!-- 0&#45;&gt;16 -->\r\n",
       "<g id=\"edge16\" class=\"edge\"><title>0&#45;&gt;16</title>\r\n",
       "<path fill=\"none\" stroke=\"black\" d=\"M719.363,-504.884C732.164,-493.226 746.532,-480.141 759.279,-468.532\"/>\r\n",
       "<polygon fill=\"black\" stroke=\"black\" points=\"761.941,-470.841 766.978,-461.52 757.228,-465.666 761.941,-470.841\"/>\r\n",
       "<text text-anchor=\"middle\" x=\"765.811\" y=\"-482.793\" font-family=\"Helvetica,sans-Serif\" font-size=\"14.00\">False</text>\r\n",
       "</g>\r\n",
       "<!-- 2 -->\r\n",
       "<g id=\"node3\" class=\"node\"><title>2</title>\r\n",
       "<path fill=\"#ffffff\" stroke=\"black\" d=\"M547,-365C547,-365 379,-365 379,-365 373,-365 367,-359 367,-353 367,-353 367,-309 367,-309 367,-303 373,-297 379,-297 379,-297 547,-297 547,-297 553,-297 559,-303 559,-309 559,-309 559,-353 559,-353 559,-359 553,-365 547,-365\"/>\r\n",
       "<text text-anchor=\"start\" x=\"411\" y=\"-349.8\" font-family=\"Helvetica,sans-Serif\" font-size=\"14.00\">airborne ≤ 0.039</text>\r\n",
       "<text text-anchor=\"start\" x=\"434\" y=\"-334.8\" font-family=\"Helvetica,sans-Serif\" font-size=\"14.00\">gini = 0.5</text>\r\n",
       "<text text-anchor=\"start\" x=\"419.5\" y=\"-319.8\" font-family=\"Helvetica,sans-Serif\" font-size=\"14.00\">samples = 58</text>\r\n",
       "<text text-anchor=\"start\" x=\"375\" y=\"-304.8\" font-family=\"Helvetica,sans-Serif\" font-size=\"14.00\">value = [0, 0, 0, 0, 0, 29, 29]</text>\r\n",
       "</g>\r\n",
       "<!-- 1&#45;&gt;2 -->\r\n",
       "<g id=\"edge2\" class=\"edge\"><title>1&#45;&gt;2</title>\r\n",
       "<path fill=\"none\" stroke=\"black\" d=\"M536.611,-400.884C526.902,-391.798 516.266,-381.845 506.173,-372.4\"/>\r\n",
       "<polygon fill=\"black\" stroke=\"black\" points=\"508.278,-369.577 498.585,-365.299 503.495,-374.688 508.278,-369.577\"/>\r\n",
       "</g>\r\n",
       "<!-- 9 -->\r\n",
       "<g id=\"node10\" class=\"node\"><title>9</title>\r\n",
       "<path fill=\"#fdfffd\" stroke=\"black\" d=\"M774.5,-365C774.5,-365 589.5,-365 589.5,-365 583.5,-365 577.5,-359 577.5,-353 577.5,-353 577.5,-309 577.5,-309 577.5,-303 583.5,-297 589.5,-297 589.5,-297 774.5,-297 774.5,-297 780.5,-297 786.5,-303 786.5,-309 786.5,-309 786.5,-353 786.5,-353 786.5,-359 780.5,-365 774.5,-365\"/>\r\n",
       "<text text-anchor=\"start\" x=\"651.5\" y=\"-349.8\" font-family=\"Helvetica,sans-Serif\" font-size=\"14.00\">milk ≤ 0.5</text>\r\n",
       "<text text-anchor=\"start\" x=\"648.5\" y=\"-334.8\" font-family=\"Helvetica,sans-Serif\" font-size=\"14.00\">gini = 0.75</text>\r\n",
       "<text text-anchor=\"start\" x=\"634.5\" y=\"-319.8\" font-family=\"Helvetica,sans-Serif\" font-size=\"14.00\">samples = 113</text>\r\n",
       "<text text-anchor=\"start\" x=\"585.5\" y=\"-304.8\" font-family=\"Helvetica,sans-Serif\" font-size=\"14.00\">value = [28, 0, 29, 28, 28, 0, 0]</text>\r\n",
       "</g>\r\n",
       "<!-- 1&#45;&gt;9 -->\r\n",
       "<g id=\"edge9\" class=\"edge\"><title>1&#45;&gt;9</title>\r\n",
       "<path fill=\"none\" stroke=\"black\" d=\"M607.714,-400.884C617.608,-391.709 628.456,-381.65 638.73,-372.123\"/>\r\n",
       "<polygon fill=\"black\" stroke=\"black\" points=\"641.136,-374.665 646.089,-365.299 636.376,-369.532 641.136,-374.665\"/>\r\n",
       "</g>\r\n",
       "<!-- 3 -->\r\n",
       "<g id=\"node4\" class=\"node\"><title>3</title>\r\n",
       "<path fill=\"#ea629f\" stroke=\"black\" d=\"M344,-261C344,-261 184,-261 184,-261 178,-261 172,-255 172,-249 172,-249 172,-205 172,-205 172,-199 178,-193 184,-193 184,-193 344,-193 344,-193 350,-193 356,-199 356,-205 356,-205 356,-249 356,-249 356,-255 350,-261 344,-261\"/>\r\n",
       "<text text-anchor=\"start\" x=\"224.5\" y=\"-245.8\" font-family=\"Helvetica,sans-Serif\" font-size=\"14.00\">legs ≤ 5.447</text>\r\n",
       "<text text-anchor=\"start\" x=\"226.5\" y=\"-230.8\" font-family=\"Helvetica,sans-Serif\" font-size=\"14.00\">gini = 0.284</text>\r\n",
       "<text text-anchor=\"start\" x=\"220.5\" y=\"-215.8\" font-family=\"Helvetica,sans-Serif\" font-size=\"14.00\">samples = 35</text>\r\n",
       "<text text-anchor=\"start\" x=\"180\" y=\"-200.8\" font-family=\"Helvetica,sans-Serif\" font-size=\"14.00\">value = [0, 0, 0, 0, 0, 6, 29]</text>\r\n",
       "</g>\r\n",
       "<!-- 2&#45;&gt;3 -->\r\n",
       "<g id=\"edge3\" class=\"edge\"><title>2&#45;&gt;3</title>\r\n",
       "<path fill=\"none\" stroke=\"black\" d=\"M398.39,-296.884C379.002,-286.946 357.59,-275.971 337.664,-265.757\"/>\r\n",
       "<polygon fill=\"black\" stroke=\"black\" points=\"339.121,-262.571 328.626,-261.125 335.928,-268.801 339.121,-262.571\"/>\r\n",
       "</g>\r\n",
       "<!-- 8 -->\r\n",
       "<g id=\"node9\" class=\"node\"><title>8</title>\r\n",
       "<path fill=\"#b139e5\" stroke=\"black\" d=\"M546,-253.5C546,-253.5 386,-253.5 386,-253.5 380,-253.5 374,-247.5 374,-241.5 374,-241.5 374,-212.5 374,-212.5 374,-206.5 380,-200.5 386,-200.5 386,-200.5 546,-200.5 546,-200.5 552,-200.5 558,-206.5 558,-212.5 558,-212.5 558,-241.5 558,-241.5 558,-247.5 552,-253.5 546,-253.5\"/>\r\n",
       "<text text-anchor=\"start\" x=\"437\" y=\"-238.3\" font-family=\"Helvetica,sans-Serif\" font-size=\"14.00\">gini = 0.0</text>\r\n",
       "<text text-anchor=\"start\" x=\"422.5\" y=\"-223.3\" font-family=\"Helvetica,sans-Serif\" font-size=\"14.00\">samples = 23</text>\r\n",
       "<text text-anchor=\"start\" x=\"382\" y=\"-208.3\" font-family=\"Helvetica,sans-Serif\" font-size=\"14.00\">value = [0, 0, 0, 0, 0, 23, 0]</text>\r\n",
       "</g>\r\n",
       "<!-- 2&#45;&gt;8 -->\r\n",
       "<g id=\"edge8\" class=\"edge\"><title>2&#45;&gt;8</title>\r\n",
       "<path fill=\"none\" stroke=\"black\" d=\"M463.974,-296.884C464.288,-286.216 464.637,-274.352 464.955,-263.519\"/>\r\n",
       "<polygon fill=\"black\" stroke=\"black\" points=\"468.454,-263.619 465.249,-253.52 461.457,-263.413 468.454,-263.619\"/>\r\n",
       "</g>\r\n",
       "<!-- 4 -->\r\n",
       "<g id=\"node5\" class=\"node\"><title>4</title>\r\n",
       "<path fill=\"#e53986\" stroke=\"black\" d=\"M172,-149.5C172,-149.5 12,-149.5 12,-149.5 6,-149.5 0,-143.5 0,-137.5 0,-137.5 0,-108.5 0,-108.5 0,-102.5 6,-96.5 12,-96.5 12,-96.5 172,-96.5 172,-96.5 178,-96.5 184,-102.5 184,-108.5 184,-108.5 184,-137.5 184,-137.5 184,-143.5 178,-149.5 172,-149.5\"/>\r\n",
       "<text text-anchor=\"start\" x=\"63\" y=\"-134.3\" font-family=\"Helvetica,sans-Serif\" font-size=\"14.00\">gini = 0.0</text>\r\n",
       "<text text-anchor=\"start\" x=\"48.5\" y=\"-119.3\" font-family=\"Helvetica,sans-Serif\" font-size=\"14.00\">samples = 20</text>\r\n",
       "<text text-anchor=\"start\" x=\"8\" y=\"-104.3\" font-family=\"Helvetica,sans-Serif\" font-size=\"14.00\">value = [0, 0, 0, 0, 0, 0, 20]</text>\r\n",
       "</g>\r\n",
       "<!-- 3&#45;&gt;4 -->\r\n",
       "<g id=\"edge4\" class=\"edge\"><title>3&#45;&gt;4</title>\r\n",
       "<path fill=\"none\" stroke=\"black\" d=\"M208.157,-192.884C187.478,-180.621 164.137,-166.779 143.831,-154.737\"/>\r\n",
       "<polygon fill=\"black\" stroke=\"black\" points=\"145.42,-151.61 135.034,-149.52 141.85,-157.631 145.42,-151.61\"/>\r\n",
       "</g>\r\n",
       "<!-- 5 -->\r\n",
       "<g id=\"node6\" class=\"node\"><title>5</title>\r\n",
       "<path fill=\"#f6bdd7\" stroke=\"black\" d=\"M366,-157C366,-157 214,-157 214,-157 208,-157 202,-151 202,-145 202,-145 202,-101 202,-101 202,-95 208,-89 214,-89 214,-89 366,-89 366,-89 372,-89 378,-95 378,-101 378,-101 378,-145 378,-145 378,-151 372,-157 366,-157\"/>\r\n",
       "<text text-anchor=\"start\" x=\"241.5\" y=\"-141.8\" font-family=\"Helvetica,sans-Serif\" font-size=\"14.00\">aquatic ≤ 0.094</text>\r\n",
       "<text text-anchor=\"start\" x=\"256.5\" y=\"-126.8\" font-family=\"Helvetica,sans-Serif\" font-size=\"14.00\">gini = 0.48</text>\r\n",
       "<text text-anchor=\"start\" x=\"246.5\" y=\"-111.8\" font-family=\"Helvetica,sans-Serif\" font-size=\"14.00\">samples = 15</text>\r\n",
       "<text text-anchor=\"start\" x=\"210\" y=\"-96.8\" font-family=\"Helvetica,sans-Serif\" font-size=\"14.00\">value = [0, 0, 0, 0, 0, 6, 9]</text>\r\n",
       "</g>\r\n",
       "<!-- 3&#45;&gt;5 -->\r\n",
       "<g id=\"edge5\" class=\"edge\"><title>3&#45;&gt;5</title>\r\n",
       "<path fill=\"none\" stroke=\"black\" d=\"M272.441,-192.884C274.53,-184.689 276.799,-175.789 278.99,-167.192\"/>\r\n",
       "<polygon fill=\"black\" stroke=\"black\" points=\"282.433,-167.854 281.512,-157.299 275.65,-166.125 282.433,-167.854\"/>\r\n",
       "</g>\r\n",
       "<!-- 6 -->\r\n",
       "<g id=\"node7\" class=\"node\"><title>6</title>\r\n",
       "<path fill=\"#b139e5\" stroke=\"black\" d=\"M198,-53C198,-53 46,-53 46,-53 40,-53 34,-47 34,-41 34,-41 34,-12 34,-12 34,-6 40,-0 46,-0 46,-0 198,-0 198,-0 204,-0 210,-6 210,-12 210,-12 210,-41 210,-41 210,-47 204,-53 198,-53\"/>\r\n",
       "<text text-anchor=\"start\" x=\"93\" y=\"-37.8\" font-family=\"Helvetica,sans-Serif\" font-size=\"14.00\">gini = 0.0</text>\r\n",
       "<text text-anchor=\"start\" x=\"82.5\" y=\"-22.8\" font-family=\"Helvetica,sans-Serif\" font-size=\"14.00\">samples = 6</text>\r\n",
       "<text text-anchor=\"start\" x=\"42\" y=\"-7.8\" font-family=\"Helvetica,sans-Serif\" font-size=\"14.00\">value = [0, 0, 0, 0, 0, 6, 0]</text>\r\n",
       "</g>\r\n",
       "<!-- 5&#45;&gt;6 -->\r\n",
       "<g id=\"edge6\" class=\"edge\"><title>5&#45;&gt;6</title>\r\n",
       "<path fill=\"none\" stroke=\"black\" d=\"M231.242,-88.9485C213.434,-78.9318 193.959,-67.9767 176.447,-58.1263\"/>\r\n",
       "<polygon fill=\"black\" stroke=\"black\" points=\"177.919,-54.9388 167.487,-53.0867 174.487,-61.0399 177.919,-54.9388\"/>\r\n",
       "</g>\r\n",
       "<!-- 7 -->\r\n",
       "<g id=\"node8\" class=\"node\"><title>7</title>\r\n",
       "<path fill=\"#e53986\" stroke=\"black\" d=\"M392,-53C392,-53 240,-53 240,-53 234,-53 228,-47 228,-41 228,-41 228,-12 228,-12 228,-6 234,-0 240,-0 240,-0 392,-0 392,-0 398,-0 404,-6 404,-12 404,-12 404,-41 404,-41 404,-47 398,-53 392,-53\"/>\r\n",
       "<text text-anchor=\"start\" x=\"287\" y=\"-37.8\" font-family=\"Helvetica,sans-Serif\" font-size=\"14.00\">gini = 0.0</text>\r\n",
       "<text text-anchor=\"start\" x=\"276.5\" y=\"-22.8\" font-family=\"Helvetica,sans-Serif\" font-size=\"14.00\">samples = 9</text>\r\n",
       "<text text-anchor=\"start\" x=\"236\" y=\"-7.8\" font-family=\"Helvetica,sans-Serif\" font-size=\"14.00\">value = [0, 0, 0, 0, 0, 0, 9]</text>\r\n",
       "</g>\r\n",
       "<!-- 5&#45;&gt;7 -->\r\n",
       "<g id=\"edge7\" class=\"edge\"><title>5&#45;&gt;7</title>\r\n",
       "<path fill=\"none\" stroke=\"black\" d=\"M299.094,-88.9485C301.409,-80.5323 303.907,-71.4536 306.254,-62.9243\"/>\r\n",
       "<polygon fill=\"black\" stroke=\"black\" points=\"309.641,-63.8069 308.919,-53.2367 302.892,-61.9499 309.641,-63.8069\"/>\r\n",
       "</g>\r\n",
       "<!-- 10 -->\r\n",
       "<g id=\"node11\" class=\"node\"><title>10</title>\r\n",
       "<path fill=\"#fcfffc\" stroke=\"black\" d=\"M768,-261C768,-261 592,-261 592,-261 586,-261 580,-255 580,-249 580,-249 580,-205 580,-205 580,-199 586,-193 592,-193 592,-193 768,-193 768,-193 774,-193 780,-199 780,-205 780,-205 780,-249 780,-249 780,-255 774,-261 768,-261\"/>\r\n",
       "<text text-anchor=\"start\" x=\"651\" y=\"-245.8\" font-family=\"Helvetica,sans-Serif\" font-size=\"14.00\">fins ≤ 0.5</text>\r\n",
       "<text text-anchor=\"start\" x=\"642.5\" y=\"-230.8\" font-family=\"Helvetica,sans-Serif\" font-size=\"14.00\">gini = 0.667</text>\r\n",
       "<text text-anchor=\"start\" x=\"636.5\" y=\"-215.8\" font-family=\"Helvetica,sans-Serif\" font-size=\"14.00\">samples = 85</text>\r\n",
       "<text text-anchor=\"start\" x=\"588\" y=\"-200.8\" font-family=\"Helvetica,sans-Serif\" font-size=\"14.00\">value = [0, 0, 29, 28, 28, 0, 0]</text>\r\n",
       "</g>\r\n",
       "<!-- 9&#45;&gt;10 -->\r\n",
       "<g id=\"edge10\" class=\"edge\"><title>9&#45;&gt;10</title>\r\n",
       "<path fill=\"none\" stroke=\"black\" d=\"M681.351,-296.884C681.192,-288.778 681.019,-279.982 680.852,-271.472\"/>\r\n",
       "<polygon fill=\"black\" stroke=\"black\" points=\"684.348,-271.229 680.653,-261.299 677.35,-271.366 684.348,-271.229\"/>\r\n",
       "</g>\r\n",
       "<!-- 15 -->\r\n",
       "<g id=\"node16\" class=\"node\"><title>15</title>\r\n",
       "<path fill=\"#e58139\" stroke=\"black\" d=\"M970,-253.5C970,-253.5 810,-253.5 810,-253.5 804,-253.5 798,-247.5 798,-241.5 798,-241.5 798,-212.5 798,-212.5 798,-206.5 804,-200.5 810,-200.5 810,-200.5 970,-200.5 970,-200.5 976,-200.5 982,-206.5 982,-212.5 982,-212.5 982,-241.5 982,-241.5 982,-247.5 976,-253.5 970,-253.5\"/>\r\n",
       "<text text-anchor=\"start\" x=\"861\" y=\"-238.3\" font-family=\"Helvetica,sans-Serif\" font-size=\"14.00\">gini = 0.0</text>\r\n",
       "<text text-anchor=\"start\" x=\"846.5\" y=\"-223.3\" font-family=\"Helvetica,sans-Serif\" font-size=\"14.00\">samples = 28</text>\r\n",
       "<text text-anchor=\"start\" x=\"806\" y=\"-208.3\" font-family=\"Helvetica,sans-Serif\" font-size=\"14.00\">value = [28, 0, 0, 0, 0, 0, 0]</text>\r\n",
       "</g>\r\n",
       "<!-- 9&#45;&gt;15 -->\r\n",
       "<g id=\"edge15\" class=\"edge\"><title>9&#45;&gt;15</title>\r\n",
       "<path fill=\"none\" stroke=\"black\" d=\"M749.532,-296.884C775.098,-284.346 804.032,-270.157 828.967,-257.93\"/>\r\n",
       "<polygon fill=\"black\" stroke=\"black\" points=\"830.522,-261.065 837.959,-253.52 827.44,-254.78 830.522,-261.065\"/>\r\n",
       "</g>\r\n",
       "<!-- 11 -->\r\n",
       "<g id=\"node12\" class=\"node\"><title>11</title>\r\n",
       "<path fill=\"#f8fef9\" stroke=\"black\" d=\"M758,-157C758,-157 590,-157 590,-157 584,-157 578,-151 578,-145 578,-145 578,-101 578,-101 578,-95 584,-89 590,-89 590,-89 758,-89 758,-89 764,-89 770,-95 770,-101 770,-101 770,-145 770,-145 770,-151 764,-157 758,-157\"/>\r\n",
       "<text text-anchor=\"start\" x=\"643.5\" y=\"-141.8\" font-family=\"Helvetica,sans-Serif\" font-size=\"14.00\">tail ≤ 0.86</text>\r\n",
       "<text text-anchor=\"start\" x=\"645\" y=\"-126.8\" font-family=\"Helvetica,sans-Serif\" font-size=\"14.00\">gini = 0.5</text>\r\n",
       "<text text-anchor=\"start\" x=\"630.5\" y=\"-111.8\" font-family=\"Helvetica,sans-Serif\" font-size=\"14.00\">samples = 57</text>\r\n",
       "<text text-anchor=\"start\" x=\"586\" y=\"-96.8\" font-family=\"Helvetica,sans-Serif\" font-size=\"14.00\">value = [0, 0, 29, 0, 28, 0, 0]</text>\r\n",
       "</g>\r\n",
       "<!-- 10&#45;&gt;11 -->\r\n",
       "<g id=\"edge11\" class=\"edge\"><title>10&#45;&gt;11</title>\r\n",
       "<path fill=\"none\" stroke=\"black\" d=\"M678.052,-192.884C677.575,-184.778 677.058,-175.982 676.557,-167.472\"/>\r\n",
       "<polygon fill=\"black\" stroke=\"black\" points=\"680.04,-167.077 675.959,-157.299 673.052,-167.488 680.04,-167.077\"/>\r\n",
       "</g>\r\n",
       "<!-- 14 -->\r\n",
       "<g id=\"node15\" class=\"node\"><title>14</title>\r\n",
       "<path fill=\"#39e5e2\" stroke=\"black\" d=\"M960,-149.5C960,-149.5 800,-149.5 800,-149.5 794,-149.5 788,-143.5 788,-137.5 788,-137.5 788,-108.5 788,-108.5 788,-102.5 794,-96.5 800,-96.5 800,-96.5 960,-96.5 960,-96.5 966,-96.5 972,-102.5 972,-108.5 972,-108.5 972,-137.5 972,-137.5 972,-143.5 966,-149.5 960,-149.5\"/>\r\n",
       "<text text-anchor=\"start\" x=\"851\" y=\"-134.3\" font-family=\"Helvetica,sans-Serif\" font-size=\"14.00\">gini = 0.0</text>\r\n",
       "<text text-anchor=\"start\" x=\"836.5\" y=\"-119.3\" font-family=\"Helvetica,sans-Serif\" font-size=\"14.00\">samples = 28</text>\r\n",
       "<text text-anchor=\"start\" x=\"796\" y=\"-104.3\" font-family=\"Helvetica,sans-Serif\" font-size=\"14.00\">value = [0, 0, 0, 28, 0, 0, 0]</text>\r\n",
       "</g>\r\n",
       "<!-- 10&#45;&gt;14 -->\r\n",
       "<g id=\"edge14\" class=\"edge\"><title>10&#45;&gt;14</title>\r\n",
       "<path fill=\"none\" stroke=\"black\" d=\"M744.934,-192.884C769.41,-180.401 797.095,-166.282 820.999,-154.091\"/>\r\n",
       "<polygon fill=\"black\" stroke=\"black\" points=\"822.643,-157.181 829.961,-149.52 819.462,-150.945 822.643,-157.181\"/>\r\n",
       "</g>\r\n",
       "<!-- 12 -->\r\n",
       "<g id=\"node13\" class=\"node\"><title>12</title>\r\n",
       "<path fill=\"#3956e5\" stroke=\"black\" d=\"M646,-53C646,-53 486,-53 486,-53 480,-53 474,-47 474,-41 474,-41 474,-12 474,-12 474,-6 480,-0 486,-0 486,-0 646,-0 646,-0 652,-0 658,-6 658,-12 658,-12 658,-41 658,-41 658,-47 652,-53 646,-53\"/>\r\n",
       "<text text-anchor=\"start\" x=\"537\" y=\"-37.8\" font-family=\"Helvetica,sans-Serif\" font-size=\"14.00\">gini = 0.0</text>\r\n",
       "<text text-anchor=\"start\" x=\"522.5\" y=\"-22.8\" font-family=\"Helvetica,sans-Serif\" font-size=\"14.00\">samples = 28</text>\r\n",
       "<text text-anchor=\"start\" x=\"482\" y=\"-7.8\" font-family=\"Helvetica,sans-Serif\" font-size=\"14.00\">value = [0, 0, 0, 0, 28, 0, 0]</text>\r\n",
       "</g>\r\n",
       "<!-- 11&#45;&gt;12 -->\r\n",
       "<g id=\"edge12\" class=\"edge\"><title>11&#45;&gt;12</title>\r\n",
       "<path fill=\"none\" stroke=\"black\" d=\"M636.227,-88.9485C625.458,-79.526 613.741,-69.2731 603.018,-59.8906\"/>\r\n",
       "<polygon fill=\"black\" stroke=\"black\" points=\"605.244,-57.1878 595.413,-53.2367 600.634,-62.4558 605.244,-57.1878\"/>\r\n",
       "</g>\r\n",
       "<!-- 13 -->\r\n",
       "<g id=\"node14\" class=\"node\"><title>13</title>\r\n",
       "<path fill=\"#39e54d\" stroke=\"black\" d=\"M848,-53C848,-53 688,-53 688,-53 682,-53 676,-47 676,-41 676,-41 676,-12 676,-12 676,-6 682,-0 688,-0 688,-0 848,-0 848,-0 854,-0 860,-6 860,-12 860,-12 860,-41 860,-41 860,-47 854,-53 848,-53\"/>\r\n",
       "<text text-anchor=\"start\" x=\"739\" y=\"-37.8\" font-family=\"Helvetica,sans-Serif\" font-size=\"14.00\">gini = 0.0</text>\r\n",
       "<text text-anchor=\"start\" x=\"724.5\" y=\"-22.8\" font-family=\"Helvetica,sans-Serif\" font-size=\"14.00\">samples = 29</text>\r\n",
       "<text text-anchor=\"start\" x=\"684\" y=\"-7.8\" font-family=\"Helvetica,sans-Serif\" font-size=\"14.00\">value = [0, 0, 29, 0, 0, 0, 0]</text>\r\n",
       "</g>\r\n",
       "<!-- 11&#45;&gt;13 -->\r\n",
       "<g id=\"edge13\" class=\"edge\"><title>11&#45;&gt;13</title>\r\n",
       "<path fill=\"none\" stroke=\"black\" d=\"M706.877,-88.9485C716.067,-79.709 726.052,-69.671 735.236,-60.4381\"/>\r\n",
       "<polygon fill=\"black\" stroke=\"black\" points=\"737.829,-62.7948 742.399,-53.2367 732.866,-57.8582 737.829,-62.7948\"/>\r\n",
       "</g>\r\n",
       "</g>\r\n",
       "</svg>\r\n"
      ],
      "text/plain": [
       "<graphviz.files.Source at 0x1fb3a4a4808>"
      ]
     },
     "execution_count": 21,
     "metadata": {},
     "output_type": "execute_result"
    }
   ],
   "source": [
    "# plot the tree\n",
    "# for graphing the tree\n",
    "import graphviz as gv\n",
    "from sklearn import tree\n",
    "\n",
    "dot_data = tree.export_graphviz(model, out_file=None, filled=True, rounded = True, special_characters = True\n",
    "                               , feature_names = column_names)\n",
    "graph = gv.Source(dot_data)\n",
    "graph"
   ]
  },
  {
   "cell_type": "code",
   "execution_count": null,
   "metadata": {},
   "outputs": [],
   "source": []
  }
 ],
 "metadata": {
  "kernelspec": {
   "display_name": "Python 3",
   "language": "python",
   "name": "python3"
  },
  "language_info": {
   "codemirror_mode": {
    "name": "ipython",
    "version": 3
   },
   "file_extension": ".py",
   "mimetype": "text/x-python",
   "name": "python",
   "nbconvert_exporter": "python",
   "pygments_lexer": "ipython3",
   "version": "3.7.4"
  }
 },
 "nbformat": 4,
 "nbformat_minor": 2
}
